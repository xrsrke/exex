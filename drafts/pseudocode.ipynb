{
 "cells": [
  {
   "cell_type": "code",
   "execution_count": null,
   "id": "a5185d75-89db-4d02-97f9-2c5f61e0d3f2",
   "metadata": {},
   "outputs": [],
   "source": []
  },
  {
   "cell_type": "code",
   "execution_count": null,
   "id": "7dbf7bbc-6285-4db1-9796-4df939796863",
   "metadata": {},
   "outputs": [],
   "source": [
    "H2 = Gas(formula='H2', state='g')"
   ]
  },
  {
   "cell_type": "code",
   "execution_count": null,
   "id": "fc44c668-9d47-4dcb-8006-98c24363b6ed",
   "metadata": {},
   "outputs": [],
   "source": [
    "Cl2 = Gas(formula='Cl2', state='g')"
   ]
  },
  {
   "cell_type": "code",
   "execution_count": null,
   "id": "5f7502ed-17c3-4b8b-bcbe-5349ecbef41c",
   "metadata": {},
   "outputs": [],
   "source": [
    "r = Reaction(reactants=[H2, Cl2], products=[], environment=OpenSystem)"
   ]
  },
  {
   "cell_type": "markdown",
   "id": "903cd8ea-944a-47dd-b4cd-59103c70ee5f",
   "metadata": {},
   "source": [
    "Set data"
   ]
  },
  {
   "cell_type": "code",
   "execution_count": null,
   "id": "741e460e-a905-4c96-b0df-287a0dde1883",
   "metadata": {},
   "outputs": [],
   "source": [
    "initial_time = r.set_time(1)"
   ]
  },
  {
   "cell_type": "code",
   "execution_count": null,
   "id": "91abd91f-a976-4ae5-afb1-688e04184a12",
   "metadata": {},
   "outputs": [],
   "source": [
    "initial_time.from_compound(H2).solve('ideal_gas_law', 'pressure')"
   ]
  },
  {
   "cell_type": "code",
   "execution_count": null,
   "id": "ff12a52d-06b3-4f47-b070-ad275fc8d847",
   "metadata": {},
   "outputs": [],
   "source": [
    "data = {\n",
    "    \"H2\": '0.2 g',\n",
    "    \"O2\": '3.24 Liter',\n",
    "}"
   ]
  },
  {
   "cell_type": "code",
   "execution_count": null,
   "id": "28bd3f74-6127-43d8-a0f1-c06857adfba0",
   "metadata": {},
   "outputs": [],
   "source": [
    "r.add_data(initial_conditions=)"
   ]
  },
  {
   "cell_type": "code",
   "execution_count": null,
   "id": "cfb11ad3-4278-4822-a70f-14dd30dd0ba9",
   "metadata": {},
   "outputs": [],
   "source": [
    "r.add_data(data=)"
   ]
  },
  {
   "cell_type": "code",
   "execution_count": null,
   "id": "e10c1bee-6003-40b4-b43e-5900b4bfd50e",
   "metadata": {},
   "outputs": [],
   "source": [
    "r.add_data(final_conditions=)"
   ]
  },
  {
   "cell_type": "code",
   "execution_count": null,
   "id": "29770611-d38d-49a1-b9df-2efe1525cd4f",
   "metadata": {},
   "outputs": [],
   "source": [
    "r.get_data(time=1)"
   ]
  }
 ],
 "metadata": {
  "kernelspec": {
   "display_name": "Python 3 (ipykernel)",
   "language": "python",
   "name": "python3"
  }
 },
 "nbformat": 4,
 "nbformat_minor": 5
}
