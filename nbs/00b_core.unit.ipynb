{
 "cells": [
  {
   "cell_type": "markdown",
   "id": "48cbc976-dda5-4b6d-9d76-6dd6d6d32633",
   "metadata": {},
   "source": [
    "# Units\n",
    "\n",
    "> Fill in a module description here"
   ]
  },
  {
   "cell_type": "code",
   "execution_count": null,
   "id": "8c96d054-c10a-4364-9218-7856b75a0f0e",
   "metadata": {},
   "outputs": [],
   "source": [
    "# | default_exp core.unit"
   ]
  },
  {
   "cell_type": "code",
   "execution_count": null,
   "id": "66bb6160-3ad8-419a-94bc-786f88b7de25",
   "metadata": {},
   "outputs": [],
   "source": [
    "# | hide\n",
    "from nbdev.showdoc import *"
   ]
  },
  {
   "cell_type": "code",
   "execution_count": null,
   "id": "24af191e-314b-4b0c-972e-198190586448",
   "metadata": {},
   "outputs": [],
   "source": [
    "# | hide\n",
    "import nbdev\n",
    "\n",
    "nbdev.nbdev_export()"
   ]
  },
  {
   "cell_type": "code",
   "execution_count": null,
   "id": "ade3a750-f00d-4ea0-bb11-55d9a1d620e4",
   "metadata": {},
   "outputs": [],
   "source": [
    "# | export\n",
    "from dataclasses import dataclass\n",
    "from abc import ABC, abstractmethod\n",
    "\n",
    "from exex.imports import *"
   ]
  },
  {
   "cell_type": "markdown",
   "id": "2c526c29-a880-4408-92f4-5a718f147c40",
   "metadata": {},
   "source": [
    "### Unit"
   ]
  },
  {
   "cell_type": "code",
   "execution_count": null,
   "id": "1a0e4d0c-4848-4111-9d65-1b3168f6c81a",
   "metadata": {},
   "outputs": [],
   "source": [
    "# #| export\n",
    "# @dataclass\n",
    "# class Unit:\n",
    "#     \"\"\"\n",
    "#     Default Units\n",
    "#     \"\"\"\n",
    "\n",
    "#     # SI Unit\n",
    "#     LENGTH = 'meter'\n",
    "#     MASS = 'kilogram'\n",
    "#     TIME = 'second'\n",
    "#     TEMPERATURE = 'kelvin'\n",
    "\n",
    "#     # Derived from SI Unit\n",
    "#     MOLAR_MASS = 'grams / mole'\n",
    "#     MOLE = 'mole'\n",
    "#     SPECIFIC_HEAT = 'joule / (kilogram kelvin)'\n",
    "#     PRESSURE = 'pascal'\n",
    "#     VOLUME = 'liter'"
   ]
  },
  {
   "cell_type": "code",
   "execution_count": null,
   "id": "074f23af-3c76-46ff-a635-5983c5b222f2",
   "metadata": {},
   "outputs": [],
   "source": [
    "# | export\n",
    "class Unit:\n",
    "    \"\"\"\n",
    "    Default SI Units\n",
    "    \"\"\"\n",
    "\n",
    "    LENGTH = u.meter\n",
    "    MASS = u.kilogram\n",
    "    TIME = u.second\n",
    "    TEMPERATURE = u.kelvin\n",
    "\n",
    "    \"\"\"\n",
    "    Derived from SI Units\n",
    "    \"\"\"\n",
    "    MOLAR_MASS = u.gram / u.mole\n",
    "    MOLE = u.mole\n",
    "    SPECIFIC_HEAT = u.joule / (u.kilogram * u.kelvin)\n",
    "    PRESSURE = u.pascal\n",
    "    VOLUME = u.liter"
   ]
  },
  {
   "cell_type": "code",
   "execution_count": null,
   "id": "a61452c4-7d7b-43f9-abcd-2860570fbacc",
   "metadata": {},
   "outputs": [],
   "source": [
    "# | export\n",
    "def unit2expr(unit):\n",
    "    pass"
   ]
  },
  {
   "cell_type": "code",
   "execution_count": null,
   "id": "11216a48-05ec-45f2-92b1-2a415a7482ee",
   "metadata": {},
   "outputs": [
    {
     "data": {
      "text/latex": [
       "$\\displaystyle \\text{kg}$"
      ],
      "text/plain": [
       "kilogram"
      ]
     },
     "execution_count": null,
     "metadata": {},
     "output_type": "execute_result"
    }
   ],
   "source": [
    "Unit.MASS"
   ]
  },
  {
   "cell_type": "code",
   "execution_count": null,
   "id": "165421cd-cfa9-48eb-9b93-b96467892154",
   "metadata": {},
   "outputs": [
    {
     "data": {
      "text/latex": [
       "$\\displaystyle \\frac{\\text{J}}{\\text{K} \\text{kg}}$"
      ],
      "text/plain": [
       "joule/(kelvin*kilogram)"
      ]
     },
     "execution_count": null,
     "metadata": {},
     "output_type": "execute_result"
    }
   ],
   "source": [
    "Unit.SPECIFIC_HEAT"
   ]
  },
  {
   "cell_type": "code",
   "execution_count": null,
   "id": "26160c58-f069-4813-87dd-68a950cbaeff",
   "metadata": {},
   "outputs": [],
   "source": [
    "# | hide\n",
    "test_eq(Unit.MASS, u.kilogram)\n",
    "test_eq(str(Unit.MASS), \"kilogram\")"
   ]
  },
  {
   "cell_type": "code",
   "execution_count": null,
   "id": "dbcd47d8-3f3a-4b9f-9b1c-b197545b7191",
   "metadata": {},
   "outputs": [],
   "source": [
    "# | export\n",
    "ureg = pint.UnitRegistry(system=\"SI\")\n",
    "Q = ureg.Quantity  # quantity"
   ]
  },
  {
   "cell_type": "code",
   "execution_count": null,
   "id": "da550a1c-8782-4bf0-a4bd-2cb231511da4",
   "metadata": {},
   "outputs": [],
   "source": [
    "@patch\n",
    "def to_standard(self: Q):\n",
    "    return 1"
   ]
  },
  {
   "cell_type": "code",
   "execution_count": null,
   "id": "deb5670b-0eeb-4d32-afa0-906783773db9",
   "metadata": {},
   "outputs": [],
   "source": [
    "# moles = Q(0.214, Unit.MOLE)"
   ]
  },
  {
   "cell_type": "code",
   "execution_count": null,
   "id": "22cf56af-715b-41c2-8999-1dd558c96a07",
   "metadata": {},
   "outputs": [],
   "source": [
    "# moles"
   ]
  },
  {
   "cell_type": "code",
   "execution_count": null,
   "id": "821a2ea9-a807-4bfb-8619-5077433ea363",
   "metadata": {},
   "outputs": [],
   "source": [
    "# moles.__dict__"
   ]
  },
  {
   "cell_type": "code",
   "execution_count": null,
   "id": "813a685e-f10b-43cf-94c8-5078810dac3d",
   "metadata": {},
   "outputs": [],
   "source": [
    "# moles.dimensionality"
   ]
  },
  {
   "cell_type": "code",
   "execution_count": null,
   "id": "a7bc86df-8fae-438c-958b-701b469d1306",
   "metadata": {},
   "outputs": [],
   "source": [
    "# #| hide\n",
    "# test_eq(moles.magnitude, 0.214)\n",
    "# test_eq(moles.units, \"mole\")"
   ]
  },
  {
   "cell_type": "code",
   "execution_count": null,
   "id": "11acd41f-d0e0-485c-8d3f-309d7b9a124b",
   "metadata": {},
   "outputs": [],
   "source": [
    "# specific_heat = Q(0.235, Unit.SPECIFIC_HEAT)"
   ]
  },
  {
   "cell_type": "code",
   "execution_count": null,
   "id": "4bd62e59-33d2-4c62-a3b6-8f344e83072d",
   "metadata": {},
   "outputs": [],
   "source": [
    "# specific_heat.ito_reduced_units()"
   ]
  },
  {
   "cell_type": "code",
   "execution_count": null,
   "id": "791a834f-05fd-4884-9f7d-9e7c854907f1",
   "metadata": {},
   "outputs": [],
   "source": [
    "# #| hide\n",
    "# test_eq(specific_heat.magnitude, 0.235)\n",
    "# test_eq(specific_heat.units, 'joule/(kelvin kilogram)')"
   ]
  },
  {
   "cell_type": "code",
   "execution_count": null,
   "id": "6e132c8c-7cfa-40cd-9d4e-924e663f6a84",
   "metadata": {},
   "outputs": [],
   "source": [
    "# m = Q('3.21 kilogram')"
   ]
  },
  {
   "cell_type": "code",
   "execution_count": null,
   "id": "4be96646-9f78-4987-9c51-f0e61abb781a",
   "metadata": {},
   "outputs": [],
   "source": [
    "# m"
   ]
  },
  {
   "cell_type": "code",
   "execution_count": null,
   "id": "6a85c231-704c-4193-b86a-ab951b1b29d2",
   "metadata": {},
   "outputs": [],
   "source": [
    "@ureg.check(\"[length]\")\n",
    "def foo(length):\n",
    "    return length"
   ]
  },
  {
   "cell_type": "code",
   "execution_count": null,
   "id": "ceddef7b-6d9a-47f3-9ce1-2a503826d1e7",
   "metadata": {},
   "outputs": [
    {
     "data": {
      "text/plain": [
       "'10 meter'"
      ]
     },
     "execution_count": null,
     "metadata": {},
     "output_type": "execute_result"
    }
   ],
   "source": [
    "foo(\"10 meter\")"
   ]
  },
  {
   "cell_type": "code",
   "execution_count": null,
   "id": "277ba4da-c001-4ebd-8a72-2ecea142706c",
   "metadata": {},
   "outputs": [],
   "source": [
    "@ureg.wraps((ureg.meter, ureg.gram), (ureg.meter, ureg.kilogram))\n",
    "def mypp(length, mass):\n",
    "    return length, mass"
   ]
  },
  {
   "cell_type": "code",
   "execution_count": null,
   "id": "979f2b14-6be3-4f0a-997a-1670f356d1aa",
   "metadata": {},
   "outputs": [
    {
     "data": {
      "text/plain": [
       "(10000.0 <Unit('meter')>, 1 <Unit('gram')>)"
      ]
     },
     "execution_count": null,
     "metadata": {},
     "output_type": "execute_result"
    }
   ],
   "source": [
    "mypp(\"10 kilometer\", \"1 kilogram\")"
   ]
  },
  {
   "cell_type": "code",
   "execution_count": null,
   "id": "21bace97-05d3-4f49-bd15-446e99822db9",
   "metadata": {},
   "outputs": [],
   "source": [
    "@ureg.check(\"[mass]\")\n",
    "@ureg.wraps(None, None)\n",
    "def set_mass(mass):\n",
    "    return mass"
   ]
  },
  {
   "cell_type": "code",
   "execution_count": null,
   "id": "06cb5ea8-1509-4021-af8e-fe431bae710b",
   "metadata": {},
   "outputs": [
    {
     "data": {
      "text/plain": [
       "'20 kilogram'"
      ]
     },
     "execution_count": null,
     "metadata": {},
     "output_type": "execute_result"
    }
   ],
   "source": [
    "set_mass(\"20 kilogram\")"
   ]
  },
  {
   "cell_type": "code",
   "execution_count": null,
   "id": "6a8273af-c852-476f-a800-0173d6f92f3d",
   "metadata": {},
   "outputs": [],
   "source": [
    "@ureg.check(\"[mass]\")\n",
    "@ureg.wraps(ureg.gram, ureg.kilogram)\n",
    "def set_mass(mass):\n",
    "    return mass"
   ]
  },
  {
   "cell_type": "code",
   "execution_count": null,
   "id": "ccb1b190-7f0d-4a89-8e04-329b88e3ac58",
   "metadata": {},
   "outputs": [
    {
     "data": {
      "text/html": [
       "20 gram"
      ],
      "text/latex": [
       "$20\\ \\mathrm{gram}$"
      ],
      "text/plain": [
       "20 <Unit('gram')>"
      ]
     },
     "execution_count": null,
     "metadata": {},
     "output_type": "execute_result"
    }
   ],
   "source": [
    "set_mass(\"20 kilogram\")"
   ]
  },
  {
   "cell_type": "code",
   "execution_count": null,
   "id": "30d26239-a927-4a7f-b05f-ac6f19ac23a1",
   "metadata": {},
   "outputs": [
    {
     "data": {
      "text/html": [
       "0.02 gram"
      ],
      "text/latex": [
       "$0.02\\ \\mathrm{gram}$"
      ],
      "text/plain": [
       "0.02 <Unit('gram')>"
      ]
     },
     "execution_count": null,
     "metadata": {},
     "output_type": "execute_result"
    }
   ],
   "source": [
    "set_mass(\"20 grams\")"
   ]
  }
 ],
 "metadata": {
  "kernelspec": {
   "display_name": "Python 3 (ipykernel)",
   "language": "python",
   "name": "python3"
  }
 },
 "nbformat": 4,
 "nbformat_minor": 5
}
