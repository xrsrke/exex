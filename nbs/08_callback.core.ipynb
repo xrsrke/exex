{
 "cells": [
  {
   "cell_type": "markdown",
   "id": "3a7f0fe1-10d5-4e16-be08-21484ee09093",
   "metadata": {},
   "source": [
    "# Callback\n",
    "\n",
    "> Fill in a module description here"
   ]
  },
  {
   "cell_type": "code",
   "execution_count": null,
   "id": "3b235467-f761-42a9-8e1d-8ba71ad77d73",
   "metadata": {},
   "outputs": [],
   "source": [
    "# | default_exp callback.core"
   ]
  },
  {
   "cell_type": "code",
   "execution_count": null,
   "id": "c89f7781-5f6d-4a98-824c-f39ee721b1dc",
   "metadata": {},
   "outputs": [],
   "source": [
    "# | hide\n",
    "from nbdev.showdoc import *"
   ]
  },
  {
   "cell_type": "code",
   "execution_count": null,
   "id": "b84e3acf-eae1-496f-ba89-ec60fdfa877d",
   "metadata": {},
   "outputs": [],
   "source": [
    "# | hide\n",
    "import nbdev\n",
    "\n",
    "nbdev.nbdev_export()"
   ]
  },
  {
   "cell_type": "code",
   "execution_count": null,
   "id": "43d04478-674b-469d-b32c-f266989d0804",
   "metadata": {},
   "outputs": [],
   "source": [
    "#| export\n",
    "from exex.imports import *"
   ]
  },
  {
   "cell_type": "code",
   "execution_count": null,
   "id": "28c110c9-1dfe-43ee-85d7-57711ff9376d",
   "metadata": {},
   "outputs": [],
   "source": [
    "#| export\n",
    "_events = L.split('before_create_unv after_create_unv \\\n",
    "                  before_create_env after_create_env \\\n",
    "                  before_create_cmp after_create_cmp \\\n",
    "                  before_get_prop after_get_prop before_change_prop after_change_prop \\\n",
    "                  before_get_law after_get_law before_change_law after_change_law')"
   ]
  },
  {
   "cell_type": "code",
   "execution_count": null,
   "id": "8b655886-e60e-4ee0-a020-c6b58104f8e6",
   "metadata": {},
   "outputs": [
    {
     "data": {
      "text/plain": [
       "(#14) ['before_create_unv','after_create_unv','before_create_env','after_create_env','before_create_cmp','after_create_cmp','before_get_prop','after_get_prop','before_change_prop','after_change_prop'...]"
      ]
     },
     "execution_count": null,
     "metadata": {},
     "output_type": "execute_result"
    }
   ],
   "source": [
    "_events"
   ]
  },
  {
   "cell_type": "code",
   "execution_count": null,
   "id": "dca3eafa-e1df-48c6-bb4b-c64fdd27d8ba",
   "metadata": {},
   "outputs": [],
   "source": [
    "#| export\n",
    "mk_class('event', **_events.map_dict(),\n",
    "         doc=\"All possible events as attributes to get tab-completion and typo-proofing\")"
   ]
  },
  {
   "cell_type": "code",
   "execution_count": null,
   "id": "477c98f2-a8ea-4896-a01d-c3bf59a5584f",
   "metadata": {},
   "outputs": [
    {
     "data": {
      "text/markdown": [
       "---\n",
       "\n",
       "### event\n",
       "\n",
       ">      event (*args, **kwargs)\n",
       "\n",
       "All possible events as attributes to get tab-completion and typo-proofing"
      ],
      "text/plain": [
       "---\n",
       "\n",
       "### event\n",
       "\n",
       ">      event (*args, **kwargs)\n",
       "\n",
       "All possible events as attributes to get tab-completion and typo-proofing"
      ]
     },
     "execution_count": null,
     "metadata": {},
     "output_type": "execute_result"
    }
   ],
   "source": [
    "show_doc(event, name='event', title_level=3)"
   ]
  },
  {
   "cell_type": "markdown",
   "id": "5ef827e5-2ae1-4084-a660-c8a80f7b9839",
   "metadata": {},
   "source": [
    "### Callback"
   ]
  },
  {
   "cell_type": "code",
   "execution_count": null,
   "id": "78716672-81a5-472d-a7c2-c8130296d336",
   "metadata": {},
   "outputs": [],
   "source": [
    "#| export\n",
    "@docs\n",
    "@funcs_kwargs(as_method=True)\n",
    "class Callback(Stateful, GetAttr):\n",
    "    _methods = _events\n",
    "    _docs = dict(cls_doc='basic class handling tweaks when interact wih properties, laws, compounds, reactants, environment and the universe')"
   ]
  },
  {
   "cell_type": "code",
   "execution_count": null,
   "id": "4d6533ae-5aff-4e0d-89bf-7e7c1f96c394",
   "metadata": {},
   "outputs": [],
   "source": [
    "#| export\n",
    "class ConservationCallback(Callback):\n",
    "    pass"
   ]
  },
  {
   "cell_type": "code",
   "execution_count": null,
   "id": "19a22569-e0c8-4abb-9074-a7a554be1a9e",
   "metadata": {},
   "outputs": [],
   "source": [
    "_c = ConservationCallback(before_get_prop = lambda x: 1)"
   ]
  },
  {
   "cell_type": "code",
   "execution_count": null,
   "id": "b2d4e120-5580-4c47-a53c-618d9e0ee212",
   "metadata": {},
   "outputs": [
    {
     "data": {
      "text/plain": [
       "1"
      ]
     },
     "execution_count": null,
     "metadata": {},
     "output_type": "execute_result"
    }
   ],
   "source": [
    "_c.before_get_prop()"
   ]
  },
  {
   "cell_type": "code",
   "execution_count": null,
   "id": "49d9fd13-7665-47cf-b20d-6ab70c564a58",
   "metadata": {},
   "outputs": [],
   "source": []
  }
 ],
 "metadata": {
  "kernelspec": {
   "display_name": "Python 3 (ipykernel)",
   "language": "python",
   "name": "python3"
  }
 },
 "nbformat": 4,
 "nbformat_minor": 5
}
