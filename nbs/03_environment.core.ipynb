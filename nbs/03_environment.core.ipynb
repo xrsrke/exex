{
 "cells": [
  {
   "cell_type": "markdown",
   "id": "5f843dde-5809-4a06-a2db-bef144f0d8ca",
   "metadata": {},
   "source": [
    "# environment\n",
    "\n",
    "> Fill in a module description here"
   ]
  },
  {
   "cell_type": "code",
   "execution_count": null,
   "id": "0218fa38-8845-4c53-9114-5e9b482deea1",
   "metadata": {},
   "outputs": [],
   "source": [
    "#| default_exp environment"
   ]
  },
  {
   "cell_type": "code",
   "execution_count": null,
   "id": "8a196e5f-29eb-473f-91e2-b719c2f2c954",
   "metadata": {},
   "outputs": [],
   "source": [
    "#| hide\n",
    "from nbdev.showdoc import *"
   ]
  },
  {
   "cell_type": "code",
   "execution_count": null,
   "id": "3ad54c5c-cbcd-4448-95ec-baa4eb915d8e",
   "metadata": {},
   "outputs": [],
   "source": [
    "#| hide\n",
    "import nbdev; nbdev.nbdev_export()"
   ]
  },
  {
   "cell_type": "code",
   "execution_count": null,
   "id": "2fb3078a-f902-4f3f-aac0-7274832d72be",
   "metadata": {},
   "outputs": [],
   "source": [
    "#| export\n",
    "class Environment:\n",
    "    def __init__(self):\n",
    "        self.properties = dict()"
   ]
  },
  {
   "cell_type": "markdown",
   "id": "880dbe5d-6c76-4dcf-a767-b4e64636481c",
   "metadata": {},
   "source": [
    "### Container"
   ]
  },
  {
   "cell_type": "code",
   "execution_count": null,
   "id": "3e4d7ad8-4529-43c4-938b-311c5a632ae9",
   "metadata": {},
   "outputs": [],
   "source": [
    "#| export\n",
    "class Container(Environment):\n",
    "    def __init__(self):\n",
    "        self.properties = dict()\n",
    "        self.laws = dict()"
   ]
  },
  {
   "cell_type": "code",
   "execution_count": null,
   "id": "4f4e36c5-ed6b-4a6b-971e-feaae646ece9",
   "metadata": {},
   "outputs": [],
   "source": [
    "#| export\n",
    "class OpenContainer(Container):\n",
    "    pass"
   ]
  },
  {
   "cell_type": "code",
   "execution_count": null,
   "id": "b67cd832-4ae9-4c53-a417-d8fc0d845e69",
   "metadata": {},
   "outputs": [],
   "source": [
    "#| export\n",
    "class ClosedContainer(Container):\n",
    "    pass"
   ]
  },
  {
   "cell_type": "code",
   "execution_count": null,
   "id": "a935ea11-a2c2-4fef-8c85-88e8edaccfa6",
   "metadata": {},
   "outputs": [],
   "source": [
    "open_container = OpenContainer()"
   ]
  },
  {
   "cell_type": "code",
   "execution_count": null,
   "id": "c8a19697-1078-4ece-bdeb-51d33c067614",
   "metadata": {},
   "outputs": [
    {
     "data": {
      "text/plain": [
       "{'properties': {}, 'laws': {}}"
      ]
     },
     "execution_count": null,
     "metadata": {},
     "output_type": "execute_result"
    }
   ],
   "source": [
    "open_container.__dict__"
   ]
  },
  {
   "cell_type": "code",
   "execution_count": null,
   "id": "5f625dc3-dbc4-4636-b063-ff36648ec0d8",
   "metadata": {},
   "outputs": [],
   "source": []
  }
 ],
 "metadata": {
  "kernelspec": {
   "display_name": "Python 3 (ipykernel)",
   "language": "python",
   "name": "python3"
  }
 },
 "nbformat": 4,
 "nbformat_minor": 5
}
