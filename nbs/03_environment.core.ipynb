{
 "cells": [
  {
   "cell_type": "code",
   "execution_count": null,
   "id": "9ebca759-40e3-4f57-aab2-94f4131abb4d",
   "metadata": {},
   "outputs": [],
   "source": []
  }
 ],
 "metadata": {
  "kernelspec": {
   "display_name": "Python 3 (ipykernel)",
   "language": "python",
   "name": "python3"
  }
 },
 "nbformat": 4,
 "nbformat_minor": 5
}
