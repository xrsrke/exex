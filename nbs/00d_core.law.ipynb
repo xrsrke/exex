{
 "cells": [
  {
   "cell_type": "markdown",
   "id": "163727f2-9ec0-4486-9f57-6afc64e040df",
   "metadata": {},
   "source": [
    "# Law\n",
    "\n",
    "> Fill in a module description here"
   ]
  },
  {
   "cell_type": "code",
   "execution_count": null,
   "id": "a1c9f749-9b93-45a9-a512-fe3cf5aa9f53",
   "metadata": {},
   "outputs": [],
   "source": [
    "# | default_exp core.law"
   ]
  },
  {
   "cell_type": "code",
   "execution_count": null,
   "id": "7e173beb-46bb-4eb8-ac0f-13e88e23a2aa",
   "metadata": {},
   "outputs": [],
   "source": [
    "# | hide\n",
    "from nbdev.showdoc import *"
   ]
  },
  {
   "cell_type": "code",
   "execution_count": null,
   "id": "38d87632-1986-4c34-bf68-af6691de48e7",
   "metadata": {},
   "outputs": [],
   "source": [
    "# | hide\n",
    "import nbdev\n",
    "\n",
    "nbdev.nbdev_export()"
   ]
  },
  {
   "cell_type": "code",
   "execution_count": null,
   "id": "31098848-0f8b-4d6b-8fbe-c5f81ee0a00c",
   "metadata": {},
   "outputs": [],
   "source": [
    "# | export\n",
    "from dataclasses import dataclass\n",
    "from abc import ABC, abstractmethod\n",
    "\n",
    "from exex.imports import *\n",
    "from exex.utils import camel_to_snake"
   ]
  },
  {
   "cell_type": "markdown",
   "id": "670559b5-cfb9-40e1-b4f8-bb8258703ed7",
   "metadata": {},
   "source": [
    "### Law"
   ]
  },
  {
   "cell_type": "code",
   "execution_count": null,
   "id": "613e0e7c-a496-49cc-9533-a73c44d04d8e",
   "metadata": {},
   "outputs": [],
   "source": [
    "# | export\n",
    "class BaseLaw(ABC):\n",
    "    \n",
    "    @property\n",
    "    def name(self) -> str:\n",
    "        return camel_to_snake(self.__class__.__name__)\n",
    "\n",
    "    @classmethod\n",
    "    @property\n",
    "    def snake_name(cls) -> str:  # return the snake style name\n",
    "        return camel_to_snake(cls.__name__)\n",
    "\n",
    "    def n_known_variables(self, timestep: int) -> int:  # the number of known variables\n",
    "        n_knowns = 0\n",
    "        for p in self.properties:\n",
    "            name = camel_to_snake(p[\"object\"].__name__)\n",
    "            if timestep in self.compound.properties[name]._data:\n",
    "                n_knowns += 1\n",
    "        return n_knowns\n",
    "\n",
    "    def is_solveable(self, timestep: int) -> bool:  # the timestep\n",
    "        n_unknowns = len(self.properties)\n",
    "        n_knowns = self.n_known_variables(timestep)\n",
    "        print(f\"n_unknowns={n_unknowns} and n_knowns={n_knowns}\")\n",
    "        return n_unknowns - n_knowns <= 1\n",
    "\n",
    "    def _run_config(self) -> None:  # run all configuration\n",
    "        self._config_properties()\n",
    "\n",
    "    def _config_properties(self) -> None:  # add law's properties to compound\n",
    "\n",
    "        for p in self.properties:\n",
    "            # name = camel_to_snake(p['object'].__name__)\n",
    "            name = p[\"object\"].snake_name\n",
    "\n",
    "            if not name in self.compound.properties:\n",
    "                self.compound.properties[name] = p[\"object\"](compound=self.compound)\n",
    "\n",
    "            self.compound.properties[name].add_law(self)\n",
    "\n",
    "    def solve(\n",
    "        self,\n",
    "        timestep: int,  # the time step of the unknown variable\n",
    "        unknown: str,  # the unknown variable that you want to solve\n",
    "    ):\n",
    "        unknown_symbol = self.compound.properties[unknown].symbol\n",
    "        return smp.solve(self.expression, unknown_symbol)\n",
    "\n",
    "    def __call__(self, *args, **kwargs):\n",
    "        return self.expr(*args, **kwargs)\n",
    "\n",
    "    @abstractmethod\n",
    "    def expr(self):\n",
    "        \"\"\"The symbolic expression of the law\"\"\"\n",
    "        pass\n",
    "\n",
    "    def __repr__(self):\n",
    "        return f\"Law({self.name})\""
   ]
  },
  {
   "cell_type": "code",
   "execution_count": null,
   "id": "ce046ff2-f72b-4320-ac0f-dc985cec4bb7",
   "metadata": {},
   "outputs": [],
   "source": [
    "# | export\n",
    "class Law(BaseLaw):\n",
    "    pass"
   ]
  },
  {
   "cell_type": "code",
   "execution_count": null,
   "id": "4866d125-ec9c-4e62-b3ba-72fe6c7a95b0",
   "metadata": {},
   "outputs": [],
   "source": []
  },
  {
   "cell_type": "code",
   "execution_count": null,
   "id": "ff816249-c8dc-4041-8e5c-4ebcd0597e1e",
   "metadata": {},
   "outputs": [],
   "source": []
  }
 ],
 "metadata": {
  "kernelspec": {
   "display_name": "Python 3 (ipykernel)",
   "language": "python",
   "name": "python3"
  }
 },
 "nbformat": 4,
 "nbformat_minor": 5
}
