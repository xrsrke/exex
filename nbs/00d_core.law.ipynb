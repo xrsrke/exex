{
 "cells": [
  {
   "cell_type": "markdown",
   "id": "163727f2-9ec0-4486-9f57-6afc64e040df",
   "metadata": {},
   "source": [
    "# Law\n",
    "\n",
    "> Fill in a module description here"
   ]
  },
  {
   "cell_type": "code",
   "execution_count": null,
   "id": "a1c9f749-9b93-45a9-a512-fe3cf5aa9f53",
   "metadata": {},
   "outputs": [],
   "source": [
    "# | default_exp core.law"
   ]
  },
  {
   "cell_type": "code",
   "execution_count": null,
   "id": "7e173beb-46bb-4eb8-ac0f-13e88e23a2aa",
   "metadata": {},
   "outputs": [],
   "source": [
    "# | hide\n",
    "from nbdev.showdoc import *"
   ]
  },
  {
   "cell_type": "code",
   "execution_count": null,
   "id": "38d87632-1986-4c34-bf68-af6691de48e7",
   "metadata": {},
   "outputs": [],
   "source": [
    "# | hide\n",
    "import nbdev\n",
    "\n",
    "nbdev.nbdev_export()"
   ]
  },
  {
   "cell_type": "code",
   "execution_count": null,
   "id": "31098848-0f8b-4d6b-8fbe-c5f81ee0a00c",
   "metadata": {},
   "outputs": [],
   "source": [
    "# | export\n",
    "from __future__ import annotations\n",
    "from dataclasses import dataclass\n",
    "from abc import ABC, abstractmethod\n",
    "from typing import (\n",
    "    List,\n",
    "    Dict,\n",
    "    Optional,\n",
    "    Any\n",
    ")\n",
    "\n",
    "from vipers.imports import *\n",
    "from vipers.core.property import Property\n",
    "from vipers.utils import camel_to_snake"
   ]
  },
  {
   "cell_type": "markdown",
   "id": "670559b5-cfb9-40e1-b4f8-bb8258703ed7",
   "metadata": {},
   "source": [
    "### Law"
   ]
  },
  {
   "cell_type": "code",
   "execution_count": null,
   "id": "613e0e7c-a496-49cc-9533-a73c44d04d8e",
   "metadata": {},
   "outputs": [],
   "source": [
    "# | export\n",
    "class _BaseLaw(ABC):\n",
    "    def __init__(self):\n",
    "        self._properties: Optional[Dict[str, Property]] = None\n",
    "    \n",
    "    @property\n",
    "    def name(self) -> str:\n",
    "        return camel_to_snake(self.__class__.__name__)\n",
    "\n",
    "    @classmethod\n",
    "    @property\n",
    "    def snake_name(cls) -> str:  # return the snake style name\n",
    "        return camel_to_snake(cls.__name__)\n",
    "    \n",
    "    @property\n",
    "    def properties(self) -> Optional[Dict[str, Property]]:\n",
    "        return self._properties\n",
    "\n",
    "    def n_known_variables(self, timestep: int) -> int:  # the number of known variables\n",
    "        n_knowns = 0\n",
    "        for p in self.properties:\n",
    "            name = camel_to_snake(p[\"object\"].__name__)\n",
    "            if timestep in self.compound.properties[name]._data:\n",
    "                n_knowns += 1\n",
    "        return n_knowns\n",
    "\n",
    "    def is_solveable(self, timestep: int) -> bool:  # the timestep\n",
    "        n_unknowns = len(self.properties)\n",
    "        n_knowns = self.n_known_variables(timestep)\n",
    "        print(f\"n_unknowns={n_unknowns} and n_knowns={n_knowns}\")\n",
    "        return n_unknowns - n_knowns <= 1\n",
    "\n",
    "    def _run_config(self) -> None:  # run all configuration\n",
    "        self._config_properties()\n",
    "\n",
    "    def _config_properties(self) -> None:  # add law's properties to compound\n",
    "\n",
    "        for p in self.properties:\n",
    "            # name = camel_to_snake(p['object'].__name__)\n",
    "            name = p[\"object\"].snake_name\n",
    "\n",
    "            if not name in self.compound.properties:\n",
    "                self.compound.properties[name] = p[\"object\"](compound=self.compound)\n",
    "\n",
    "            self.compound.properties[name].add_law(self)\n",
    "\n",
    "    def solve(\n",
    "        self,\n",
    "        timestep: int,  # the time step of the unknown variable\n",
    "        unknown: str,  # the unknown variable that you want to solve\n",
    "    ) -> smp.solve:\n",
    "        unknown_symbol = self.compound.properties[unknown].symbol\n",
    "        return smp.solve(self.expression, unknown_symbol)\n",
    "\n",
    "    def __call__(self, *args, **kwargs):\n",
    "        return self.expr(*args, **kwargs)\n",
    "\n",
    "    # @abstractmethod\n",
    "    # def expr(self):\n",
    "    #     \"\"\"The symbolic expression of the law\"\"\"\n",
    "    #     pass\n",
    "\n",
    "    def __repr__(self):\n",
    "        return f\"Law({self.name})\""
   ]
  },
  {
   "cell_type": "code",
   "execution_count": null,
   "id": "1fa8eab0-e4dc-4322-8039-3a4038af78e4",
   "metadata": {},
   "outputs": [],
   "source": [
    "b = _BaseLaw()"
   ]
  },
  {
   "cell_type": "code",
   "execution_count": null,
   "id": "71ae36db-03f8-463c-8d60-b64b08e388af",
   "metadata": {},
   "outputs": [],
   "source": [
    "b._properties"
   ]
  },
  {
   "cell_type": "code",
   "execution_count": null,
   "id": "ce046ff2-f72b-4320-ac0f-dc985cec4bb7",
   "metadata": {},
   "outputs": [],
   "source": [
    "# | export\n",
    "class Law(_BaseLaw):\n",
    "    pass"
   ]
  },
  {
   "cell_type": "code",
   "execution_count": null,
   "id": "f7291ab6-d047-4442-97fb-96bbd14adac7",
   "metadata": {},
   "outputs": [],
   "source": []
  }
 ],
 "metadata": {
  "kernelspec": {
   "display_name": "Python 3 (ipykernel)",
   "language": "python",
   "name": "python3"
  }
 },
 "nbformat": 4,
 "nbformat_minor": 5
}
