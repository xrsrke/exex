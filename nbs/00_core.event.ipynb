{
 "cells": [
  {
   "cell_type": "markdown",
   "id": "7dae431b-bcc7-4d98-b508-240bae86d42b",
   "metadata": {},
   "source": [
    "# event\n",
    "\n",
    "> Fill in a module description here"
   ]
  },
  {
   "cell_type": "code",
   "execution_count": null,
   "id": "af1d6e83-4e2a-492b-9e52-bb9a945dc59e",
   "metadata": {},
   "outputs": [],
   "source": [
    "# | default_exp core.event"
   ]
  },
  {
   "cell_type": "code",
   "execution_count": null,
   "id": "dcc084f8-15b9-490b-a349-4a86a3f9b605",
   "metadata": {},
   "outputs": [],
   "source": [
    "# | hide\n",
    "from nbdev.showdoc import *"
   ]
  },
  {
   "cell_type": "code",
   "execution_count": null,
   "id": "830340e7-c5fc-453e-bedf-3cbfde180a7e",
   "metadata": {},
   "outputs": [],
   "source": [
    "# | hide\n",
    "import nbdev\n",
    "\n",
    "nbdev.nbdev_export()"
   ]
  },
  {
   "cell_type": "markdown",
   "id": "8d43ca93-0ca7-4fed-b300-2070273de5d9",
   "metadata": {},
   "source": [
    "### Event"
   ]
  },
  {
   "cell_type": "code",
   "execution_count": null,
   "id": "d4f954a7-4040-4924-a270-ff7c3512f4c1",
   "metadata": {},
   "outputs": [],
   "source": [
    "# | export\n",
    "class Event(list):\n",
    "    def __call__(self, *args, **kwargs):\n",
    "        for item in self:\n",
    "            item(*args, **kwargs)"
   ]
  },
  {
   "cell_type": "code",
   "execution_count": null,
   "id": "21101be2-c691-4a13-bd67-d8dc69ce7971",
   "metadata": {},
   "outputs": [],
   "source": []
  }
 ],
 "metadata": {
  "kernelspec": {
   "display_name": "Python 3 (ipykernel)",
   "language": "python",
   "name": "python3"
  }
 },
 "nbformat": 4,
 "nbformat_minor": 5
}
