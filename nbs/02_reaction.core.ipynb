{
 "cells": [
  {
   "cell_type": "markdown",
   "id": "ce082fb4-70d2-4eb0-9664-68e422fffe67",
   "metadata": {},
   "source": [
    "# Reaction\n",
    "\n",
    "> Fill in a module description here"
   ]
  },
  {
   "cell_type": "code",
   "execution_count": null,
   "id": "2ac2f0f9-827b-4cd4-9a3a-d6105634bf6b",
   "metadata": {},
   "outputs": [],
   "source": [
    "#| default_exp reaction.core"
   ]
  },
  {
   "cell_type": "code",
   "execution_count": null,
   "id": "d2e688ee-9fb2-4e15-8bcd-b37ab0b475f2",
   "metadata": {},
   "outputs": [],
   "source": [
    "#| hide\n",
    "from nbdev.showdoc import *"
   ]
  },
  {
   "cell_type": "code",
   "execution_count": null,
   "id": "0bc2f9e4-f3b1-45e1-807d-e604948fed4b",
   "metadata": {},
   "outputs": [],
   "source": [
    "#| hide\n",
    "import nbdev; nbdev.nbdev_export()"
   ]
  },
  {
   "cell_type": "code",
   "execution_count": null,
   "id": "74ed2e6c-516d-46b5-9e94-b451343c6b70",
   "metadata": {},
   "outputs": [],
   "source": [
    "#| export\n",
    "import chemlib\n",
    "import pint\n",
    "import pandas as pd\n",
    "from fastcore.test import test_eq\n",
    "from fastcore.basics import GetAttr\n",
    "\n",
    "from exex.compound.gas import Gas\n",
    "from exex.compound.core import *"
   ]
  },
  {
   "cell_type": "code",
   "execution_count": null,
   "id": "ae358799-38cf-4ba2-a82c-88a9b6b3c555",
   "metadata": {},
   "outputs": [],
   "source": [
    "#| export\n",
    "class Reaction(GetAttr):\n",
    "    _default = 'reaction'\n",
    "    def __init__(\n",
    "        self,\n",
    "        reactants: list[Compound], # the list of reactants\n",
    "        products: list[Compound] # the list of products\n",
    "    ) -> None:\n",
    "        \n",
    "        self.reaction = chemlib.Reaction(reactants=reactants, products=products)\n",
    "        \n",
    "        #self.reactants = self.reaction.reactants\n",
    "        #self.products = self.reaction.products\n",
    "    \n",
    "    def total_property(\n",
    "        self,\n",
    "        name: str # the name of the property\n",
    "    ) -> list[float, float]: # the total property of reactants and products\n",
    "        \n",
    "        total_reactant = 0\n",
    "        for reactant in self.reactants:\n",
    "            if not name in reactant.properties: pass\n",
    "            #total_reactant += reactant.properties[name]\n",
    "            pass\n",
    "        \n",
    "        total_product = 0\n",
    "    \n",
    "        return total_reactant, total_product"
   ]
  },
  {
   "cell_type": "code",
   "execution_count": null,
   "id": "b0df373f-6c91-4cfc-a88a-e05eb2a28aee",
   "metadata": {},
   "outputs": [
    {
     "data": {
      "text/markdown": [
       "---\n",
       "\n",
       "[source](https://github.com/xrsrke/exex/blob/main/exex/reaction/core.py#L16){target=\"_blank\" style=\"float:right; font-size:smaller\"}\n",
       "\n",
       "### Reaction\n",
       "\n",
       ">      Reaction (reactants:list[exex.compound.core.Compound],\n",
       ">                products:list[exex.compound.core.Compound])\n",
       "\n",
       "Inherit from this to have all attr accesses in `self._xtra` passed down to `self.default`\n",
       "\n",
       "|    | **Type** | **Details** |\n",
       "| -- | -------- | ----------- |\n",
       "| reactants | list | the list of reactants |\n",
       "| products | list | the list of products |\n",
       "| **Returns** | **None** |  |"
      ],
      "text/plain": [
       "---\n",
       "\n",
       "[source](https://github.com/xrsrke/exex/blob/main/exex/reaction/core.py#L16){target=\"_blank\" style=\"float:right; font-size:smaller\"}\n",
       "\n",
       "### Reaction\n",
       "\n",
       ">      Reaction (reactants:list[exex.compound.core.Compound],\n",
       ">                products:list[exex.compound.core.Compound])\n",
       "\n",
       "Inherit from this to have all attr accesses in `self._xtra` passed down to `self.default`\n",
       "\n",
       "|    | **Type** | **Details** |\n",
       "| -- | -------- | ----------- |\n",
       "| reactants | list | the list of reactants |\n",
       "| products | list | the list of products |\n",
       "| **Returns** | **None** |  |"
      ]
     },
     "execution_count": null,
     "metadata": {},
     "output_type": "execute_result"
    }
   ],
   "source": [
    "show_doc(Reaction)"
   ]
  },
  {
   "cell_type": "code",
   "execution_count": null,
   "id": "69ecaeff-27de-4105-96ff-d03c00654fcb",
   "metadata": {},
   "outputs": [
    {
     "data": {
      "text/markdown": [
       "---\n",
       "\n",
       "[source](https://github.com/xrsrke/exex/blob/main/exex/reaction/core.py#L25){target=\"_blank\" style=\"float:right; font-size:smaller\"}\n",
       "\n",
       "### Reaction.total_property\n",
       "\n",
       ">      Reaction.total_property (name:str)\n",
       "\n",
       "|    | **Type** | **Details** |\n",
       "| -- | -------- | ----------- |\n",
       "| name | str | the name of the property |\n",
       "| **Returns** | **list** | **the total property of reactants and products** |"
      ],
      "text/plain": [
       "---\n",
       "\n",
       "[source](https://github.com/xrsrke/exex/blob/main/exex/reaction/core.py#L25){target=\"_blank\" style=\"float:right; font-size:smaller\"}\n",
       "\n",
       "### Reaction.total_property\n",
       "\n",
       ">      Reaction.total_property (name:str)\n",
       "\n",
       "|    | **Type** | **Details** |\n",
       "| -- | -------- | ----------- |\n",
       "| name | str | the name of the property |\n",
       "| **Returns** | **list** | **the total property of reactants and products** |"
      ]
     },
     "execution_count": null,
     "metadata": {},
     "output_type": "execute_result"
    }
   ],
   "source": [
    "show_doc(Reaction.total_property)"
   ]
  },
  {
   "cell_type": "code",
   "execution_count": null,
   "id": "651df65d-6e03-4e00-9a7c-86db91a8ab28",
   "metadata": {},
   "outputs": [],
   "source": [
    "H2O = Gas('H2O')"
   ]
  },
  {
   "cell_type": "code",
   "execution_count": null,
   "id": "7b3e7ee6-4d80-47ae-91e5-e0e640906871",
   "metadata": {},
   "outputs": [],
   "source": [
    "Cl2 = Gas('Cl2')"
   ]
  },
  {
   "cell_type": "code",
   "execution_count": null,
   "id": "9007252b-f50c-4384-8c4a-2d2478a62bea",
   "metadata": {},
   "outputs": [],
   "source": [
    "r = Reaction(reactants=[H2O, Cl2], products=[])"
   ]
  },
  {
   "cell_type": "code",
   "execution_count": null,
   "id": "8a292231-bffc-4d00-8f22-be6ca3c17ad6",
   "metadata": {},
   "outputs": [
    {
     "data": {
      "text/plain": [
       "{'reaction': <chemlib.chemistry.Reaction>}"
      ]
     },
     "execution_count": null,
     "metadata": {},
     "output_type": "execute_result"
    }
   ],
   "source": [
    "r.__dict__"
   ]
  },
  {
   "cell_type": "code",
   "execution_count": null,
   "id": "c73d662d-046e-42d6-a7e8-6de60c59d35b",
   "metadata": {},
   "outputs": [
    {
     "data": {
      "text/plain": [
       "(0, 0)"
      ]
     },
     "execution_count": null,
     "metadata": {},
     "output_type": "execute_result"
    }
   ],
   "source": [
    "r.total_property('mass')"
   ]
  },
  {
   "cell_type": "code",
   "execution_count": null,
   "id": "e0be1b15-6c9a-4c3a-84e8-0868a932a28f",
   "metadata": {},
   "outputs": [
    {
     "data": {
      "text/plain": [
       "{'reactants': [<exex.compound.gas.Gas>,\n",
       "  <exex.compound.gas.Gas>],\n",
       " 'products': [],\n",
       " 'compounds': [<exex.compound.gas.Gas>,\n",
       "  <exex.compound.gas.Gas>],\n",
       " 'reactant_formulas': ['H₂O₁', 'Cl₂'],\n",
       " 'product_formulas': [],\n",
       " 'formula': '1H₂O₁ + 1Cl₂ --> ',\n",
       " 'coefficients': {'H₂O₁': 1, 'Cl₂': 1},\n",
       " 'constituents': ['H₂O₁', 'Cl₂'],\n",
       " 'reactant_occurences': {'H': 2, 'O': 1, 'Cl': 2},\n",
       " 'product_occurences': {},\n",
       " 'is_balanced': False}"
      ]
     },
     "execution_count": null,
     "metadata": {},
     "output_type": "execute_result"
    }
   ],
   "source": [
    "r.reaction.__dict__"
   ]
  },
  {
   "cell_type": "code",
   "execution_count": null,
   "id": "2edd8f2c-169d-4f6d-b235-19f56be6a4d7",
   "metadata": {},
   "outputs": [
    {
     "data": {
      "text/plain": [
       "[<exex.compound.gas.Gas>,\n",
       " <exex.compound.gas.Gas>]"
      ]
     },
     "execution_count": null,
     "metadata": {},
     "output_type": "execute_result"
    }
   ],
   "source": [
    "r.reaction.compounds"
   ]
  },
  {
   "cell_type": "code",
   "execution_count": null,
   "id": "61ca1a93-2f98-4586-89a7-6398b4707bf6",
   "metadata": {},
   "outputs": [
    {
     "data": {
      "text/plain": [
       "{'reaction': <chemlib.chemistry.Reaction>}"
      ]
     },
     "execution_count": null,
     "metadata": {},
     "output_type": "execute_result"
    }
   ],
   "source": [
    "r.__dict__"
   ]
  },
  {
   "cell_type": "code",
   "execution_count": null,
   "id": "8d6a13a2-ddd7-46cd-af6e-8f7e45a4663a",
   "metadata": {},
   "outputs": [
    {
     "data": {
      "text/plain": [
       "<__main__.Reaction>"
      ]
     },
     "execution_count": null,
     "metadata": {},
     "output_type": "execute_result"
    }
   ],
   "source": [
    "r"
   ]
  },
  {
   "cell_type": "code",
   "execution_count": null,
   "id": "ddeb7fba-0192-44a6-b9e8-6ee7a79ad42c",
   "metadata": {},
   "outputs": [],
   "source": []
  }
 ],
 "metadata": {
  "kernelspec": {
   "display_name": "Python 3 (ipykernel)",
   "language": "python",
   "name": "python3"
  }
 },
 "nbformat": 4,
 "nbformat_minor": 5
}
