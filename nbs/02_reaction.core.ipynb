{
 "cells": [
  {
   "cell_type": "markdown",
   "id": "ce082fb4-70d2-4eb0-9664-68e422fffe67",
   "metadata": {},
   "source": [
    "# Reaction\n",
    "\n",
    "> Fill in a module description here"
   ]
  },
  {
   "cell_type": "code",
   "execution_count": null,
   "id": "2ac2f0f9-827b-4cd4-9a3a-d6105634bf6b",
   "metadata": {},
   "outputs": [],
   "source": [
    "#| default_exp reaction.core"
   ]
  },
  {
   "cell_type": "code",
   "execution_count": null,
   "id": "d2e688ee-9fb2-4e15-8bcd-b37ab0b475f2",
   "metadata": {},
   "outputs": [],
   "source": [
    "#| hide\n",
    "from nbdev.showdoc import *"
   ]
  },
  {
   "cell_type": "code",
   "execution_count": null,
   "id": "0bc2f9e4-f3b1-45e1-807d-e604948fed4b",
   "metadata": {},
   "outputs": [],
   "source": [
    "#| hide\n",
    "import nbdev; nbdev.nbdev_export()"
   ]
  },
  {
   "cell_type": "code",
   "execution_count": null,
   "id": "74ed2e6c-516d-46b5-9e94-b451343c6b70",
   "metadata": {},
   "outputs": [],
   "source": [
    "#| export\n",
    "from exex.imports import *\n",
    "from exex.compound.core import *\n",
    "from exex.system import System\n",
    "from exex.environment import Environment, OpenContainer\n",
    "from exex.utils import camel_to_snake"
   ]
  },
  {
   "cell_type": "code",
   "execution_count": null,
   "id": "ae358799-38cf-4ba2-a82c-88a9b6b3c555",
   "metadata": {},
   "outputs": [],
   "source": [
    "#| export\n",
    "class Reaction(GetAttr):\n",
    "    _default = 'reaction'\n",
    "    def __init__(\n",
    "        self,\n",
    "        reactants: list[Compound], # the list of reactants\n",
    "        products: list[Compound] = [], # the list of products\n",
    "        environment: Environment = OpenContainer() # the environment\n",
    "    ) -> None:\n",
    "        \n",
    "        self.reaction = chemlib.Reaction(reactants=reactants, products=products)\n",
    "        \n",
    "        self.reactants = self.reaction.reactants\n",
    "        self.products = self.reaction.products\n",
    "        self.formula = self.reaction.formula\n",
    "        self.system: System = System(reactions=[self])\n",
    "        self.environment: Environment = environment\n",
    "    \n",
    "    # @property\n",
    "    # def compounds(self): # the list of all reactants and products\n",
    "    #     return self.reaction.compounds\n",
    "    \n",
    "    def total_property(\n",
    "        self,\n",
    "        name: str # the name of the property\n",
    "    ) -> list[float, float]: # the total property of reactants and products\n",
    "        \n",
    "        total_reactant = 0\n",
    "        for reactant in self.reactants:\n",
    "            if not name in reactant.properties: pass\n",
    "            #total_reactant += reactant.properties[name]\n",
    "            pass\n",
    "        \n",
    "        total_product = 0\n",
    "    \n",
    "        return total_reactant, total_product\n",
    "    \n",
    "    __repr__ = basic_repr('formula')"
   ]
  },
  {
   "cell_type": "code",
   "execution_count": null,
   "id": "cdb251c1-e2a2-4706-ad47-f5dfa6bc3524",
   "metadata": {},
   "outputs": [],
   "source": [
    "#| export\n",
    "@patch(as_prop=True)\n",
    "def compounds(self: Reaction): # the list of all reactants and products\n",
    "    c = {}\n",
    "    for compound in [*self.reactants, *self.products]:\n",
    "        c[compound.snake_name] = compound\n",
    "    \n",
    "    return c"
   ]
  },
  {
   "cell_type": "code",
   "execution_count": null,
   "id": "b0df373f-6c91-4cfc-a88a-e05eb2a28aee",
   "metadata": {},
   "outputs": [
    {
     "data": {
      "text/markdown": [
       "---\n",
       "\n",
       "[source](https://github.com/xrsrke/exex/blob/main/exex/reaction/core.py#L14){target=\"_blank\" style=\"float:right; font-size:smaller\"}\n",
       "\n",
       "### Reaction\n",
       "\n",
       ">      Reaction (reactants:list[exex.compound.core.Compound],\n",
       ">                products:list[exex.compound.core.Compound]=[], environment:exex\n",
       ">                .environment.Environment=<exex.environment.OpenContainer object\n",
       ">                at 0x7fe218353370>)\n",
       "\n",
       "Inherit from this to have all attr accesses in `self._xtra` passed down to `self.default`\n",
       "\n",
       "|    | **Type** | **Default** | **Details** |\n",
       "| -- | -------- | ----------- | ----------- |\n",
       "| reactants | list |  | the list of reactants |\n",
       "| products | list | [] | the list of products |\n",
       "| environment | Environment | <exex.environment.OpenContainer object> | the environment |\n",
       "| **Returns** | **None** |  |  |"
      ],
      "text/plain": [
       "---\n",
       "\n",
       "[source](https://github.com/xrsrke/exex/blob/main/exex/reaction/core.py#L14){target=\"_blank\" style=\"float:right; font-size:smaller\"}\n",
       "\n",
       "### Reaction\n",
       "\n",
       ">      Reaction (reactants:list[exex.compound.core.Compound],\n",
       ">                products:list[exex.compound.core.Compound]=[], environment:exex\n",
       ">                .environment.Environment=<exex.environment.OpenContainer object\n",
       ">                at 0x7fe218353370>)\n",
       "\n",
       "Inherit from this to have all attr accesses in `self._xtra` passed down to `self.default`\n",
       "\n",
       "|    | **Type** | **Default** | **Details** |\n",
       "| -- | -------- | ----------- | ----------- |\n",
       "| reactants | list |  | the list of reactants |\n",
       "| products | list | [] | the list of products |\n",
       "| environment | Environment | <exex.environment.OpenContainer object> | the environment |\n",
       "| **Returns** | **None** |  |  |"
      ]
     },
     "execution_count": null,
     "metadata": {},
     "output_type": "execute_result"
    }
   ],
   "source": [
    "show_doc(Reaction)"
   ]
  },
  {
   "cell_type": "code",
   "execution_count": null,
   "id": "69ecaeff-27de-4105-96ff-d03c00654fcb",
   "metadata": {},
   "outputs": [
    {
     "data": {
      "text/markdown": [
       "---\n",
       "\n",
       "[source](https://github.com/xrsrke/exex/blob/main/exex/reaction/core.py#L35){target=\"_blank\" style=\"float:right; font-size:smaller\"}\n",
       "\n",
       "### Reaction.total_property\n",
       "\n",
       ">      Reaction.total_property (name:str)\n",
       "\n",
       "|    | **Type** | **Details** |\n",
       "| -- | -------- | ----------- |\n",
       "| name | str | the name of the property |\n",
       "| **Returns** | **list** | **the total property of reactants and products** |"
      ],
      "text/plain": [
       "---\n",
       "\n",
       "[source](https://github.com/xrsrke/exex/blob/main/exex/reaction/core.py#L35){target=\"_blank\" style=\"float:right; font-size:smaller\"}\n",
       "\n",
       "### Reaction.total_property\n",
       "\n",
       ">      Reaction.total_property (name:str)\n",
       "\n",
       "|    | **Type** | **Details** |\n",
       "| -- | -------- | ----------- |\n",
       "| name | str | the name of the property |\n",
       "| **Returns** | **list** | **the total property of reactants and products** |"
      ]
     },
     "execution_count": null,
     "metadata": {},
     "output_type": "execute_result"
    }
   ],
   "source": [
    "show_doc(Reaction.total_property)"
   ]
  },
  {
   "cell_type": "code",
   "execution_count": null,
   "id": "fb619b08-0070-4157-bd78-2f468674a8b6",
   "metadata": {},
   "outputs": [],
   "source": [
    "r = Reaction(reactants=[Compound('C2'), Compound('O2')], products=[Compound('CO2')])"
   ]
  },
  {
   "cell_type": "code",
   "execution_count": null,
   "id": "82f95ac8-eba3-4bde-b0b1-eef3be69d77d",
   "metadata": {},
   "outputs": [
    {
     "data": {
      "text/plain": [
       "__main__.Reaction(formula='1C₂ + 1O₂ --> 1C₁O₂')"
      ]
     },
     "execution_count": null,
     "metadata": {},
     "output_type": "execute_result"
    }
   ],
   "source": [
    "r"
   ]
  },
  {
   "cell_type": "code",
   "execution_count": null,
   "id": "517672b7-c003-4a14-aebd-b50d701135b4",
   "metadata": {},
   "outputs": [],
   "source": [
    "#| hide\n",
    "test_eq(len(r.compounds), 3)\n",
    "test_eq(r.compounds['C2'].snake_name, 'C2')\n",
    "test_eq(type(r.compounds), dict)"
   ]
  },
  {
   "cell_type": "code",
   "execution_count": null,
   "id": "67ce2cfb-f306-4071-af49-444e50137b30",
   "metadata": {},
   "outputs": [],
   "source": []
  }
 ],
 "metadata": {
  "kernelspec": {
   "display_name": "Python 3 (ipykernel)",
   "language": "python",
   "name": "python3"
  }
 },
 "nbformat": 4,
 "nbformat_minor": 5
}
