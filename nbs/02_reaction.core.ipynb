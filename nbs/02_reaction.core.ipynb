{
 "cells": [
  {
   "cell_type": "markdown",
   "id": "ce082fb4-70d2-4eb0-9664-68e422fffe67",
   "metadata": {},
   "source": [
    "# Reaction\n",
    "\n",
    "> Fill in a module description here"
   ]
  },
  {
   "cell_type": "code",
   "execution_count": null,
   "id": "2ac2f0f9-827b-4cd4-9a3a-d6105634bf6b",
   "metadata": {},
   "outputs": [],
   "source": [
    "#| default_exp reaction.core"
   ]
  },
  {
   "cell_type": "code",
   "execution_count": null,
   "id": "d2e688ee-9fb2-4e15-8bcd-b37ab0b475f2",
   "metadata": {},
   "outputs": [],
   "source": [
    "#| hide\n",
    "from nbdev.showdoc import *"
   ]
  },
  {
   "cell_type": "code",
   "execution_count": null,
   "id": "0bc2f9e4-f3b1-45e1-807d-e604948fed4b",
   "metadata": {},
   "outputs": [],
   "source": [
    "#| hide\n",
    "import nbdev; nbdev.nbdev_export()"
   ]
  },
  {
   "cell_type": "code",
   "execution_count": null,
   "id": "74ed2e6c-516d-46b5-9e94-b451343c6b70",
   "metadata": {},
   "outputs": [],
   "source": [
    "#| export\n",
    "import chemlib\n",
    "import pint\n",
    "import pandas as pd\n",
    "from fastcore.test import test_eq\n",
    "from fastcore.basics import GetAttr, basic_repr\n",
    "\n",
    "from exex.system import System\n",
    "from exex.compound.core import *\n",
    "from exex.environment import Environment, OpenContainer"
   ]
  },
  {
   "cell_type": "code",
   "execution_count": null,
   "id": "ae358799-38cf-4ba2-a82c-88a9b6b3c555",
   "metadata": {},
   "outputs": [],
   "source": [
    "#| export\n",
    "class Reaction(GetAttr):\n",
    "    _default = 'reaction'\n",
    "    def __init__(\n",
    "        self,\n",
    "        reactants: list[Compound], # the list of reactants\n",
    "        products: list[Compound] = [], # the list of products\n",
    "        environment: Environment = OpenContainer() # the environment\n",
    "    ) -> None:\n",
    "        \n",
    "        self.reaction = chemlib.Reaction(reactants=reactants, products=products)\n",
    "        \n",
    "        self.reactants = self.reaction.reactants\n",
    "        self.products = self.reaction.products\n",
    "        self.formula = self.reaction.formula\n",
    "        self.system: System = System(reactions=[self])\n",
    "        self.environment: Environment = environment\n",
    "    \n",
    "    def total_property(\n",
    "        self,\n",
    "        name: str # the name of the property\n",
    "    ) -> list[float, float]: # the total property of reactants and products\n",
    "        \n",
    "        total_reactant = 0\n",
    "        for reactant in self.reactants:\n",
    "            if not name in reactant.properties: pass\n",
    "            #total_reactant += reactant.properties[name]\n",
    "            pass\n",
    "        \n",
    "        total_product = 0\n",
    "    \n",
    "        return total_reactant, total_product\n",
    "    \n",
    "    __repr__ = basic_repr('formula')"
   ]
  },
  {
   "cell_type": "code",
   "execution_count": null,
   "id": "b0df373f-6c91-4cfc-a88a-e05eb2a28aee",
   "metadata": {},
   "outputs": [
    {
     "data": {
      "text/markdown": [
       "---\n",
       "\n",
       "[source](https://github.com/xrsrke/exex/blob/main/exex/reaction/core.py#L17){target=\"_blank\" style=\"float:right; font-size:smaller\"}\n",
       "\n",
       "### Reaction\n",
       "\n",
       ">      Reaction (reactants:list[exex.compound.core.Compound],\n",
       ">                products:list[exex.compound.core.Compound], environment)\n",
       "\n",
       "Inherit from this to have all attr accesses in `self._xtra` passed down to `self.default`\n",
       "\n",
       "|    | **Type** | **Details** |\n",
       "| -- | -------- | ----------- |\n",
       "| reactants | list | the list of reactants |\n",
       "| products | list | the list of products |\n",
       "| environment |  | the environment |\n",
       "| **Returns** | **None** |  |"
      ],
      "text/plain": [
       "---\n",
       "\n",
       "[source](https://github.com/xrsrke/exex/blob/main/exex/reaction/core.py#L17){target=\"_blank\" style=\"float:right; font-size:smaller\"}\n",
       "\n",
       "### Reaction\n",
       "\n",
       ">      Reaction (reactants:list[exex.compound.core.Compound],\n",
       ">                products:list[exex.compound.core.Compound], environment)\n",
       "\n",
       "Inherit from this to have all attr accesses in `self._xtra` passed down to `self.default`\n",
       "\n",
       "|    | **Type** | **Details** |\n",
       "| -- | -------- | ----------- |\n",
       "| reactants | list | the list of reactants |\n",
       "| products | list | the list of products |\n",
       "| environment |  | the environment |\n",
       "| **Returns** | **None** |  |"
      ]
     },
     "execution_count": null,
     "metadata": {},
     "output_type": "execute_result"
    }
   ],
   "source": [
    "show_doc(Reaction)"
   ]
  },
  {
   "cell_type": "code",
   "execution_count": null,
   "id": "69ecaeff-27de-4105-96ff-d03c00654fcb",
   "metadata": {},
   "outputs": [
    {
     "data": {
      "text/markdown": [
       "---\n",
       "\n",
       "[source](https://github.com/xrsrke/exex/blob/main/exex/reaction/core.py#L34){target=\"_blank\" style=\"float:right; font-size:smaller\"}\n",
       "\n",
       "### Reaction.total_property\n",
       "\n",
       ">      Reaction.total_property (name:str)\n",
       "\n",
       "|    | **Type** | **Details** |\n",
       "| -- | -------- | ----------- |\n",
       "| name | str | the name of the property |\n",
       "| **Returns** | **list** | **the total property of reactants and products** |"
      ],
      "text/plain": [
       "---\n",
       "\n",
       "[source](https://github.com/xrsrke/exex/blob/main/exex/reaction/core.py#L34){target=\"_blank\" style=\"float:right; font-size:smaller\"}\n",
       "\n",
       "### Reaction.total_property\n",
       "\n",
       ">      Reaction.total_property (name:str)\n",
       "\n",
       "|    | **Type** | **Details** |\n",
       "| -- | -------- | ----------- |\n",
       "| name | str | the name of the property |\n",
       "| **Returns** | **list** | **the total property of reactants and products** |"
      ]
     },
     "execution_count": null,
     "metadata": {},
     "output_type": "execute_result"
    }
   ],
   "source": [
    "show_doc(Reaction.total_property)"
   ]
  }
 ],
 "metadata": {
  "kernelspec": {
   "display_name": "Python 3 (ipykernel)",
   "language": "python",
   "name": "python3"
  }
 },
 "nbformat": 4,
 "nbformat_minor": 5
}
