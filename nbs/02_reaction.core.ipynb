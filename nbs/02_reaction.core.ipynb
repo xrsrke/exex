{
 "cells": [
  {
   "cell_type": "markdown",
   "id": "ce082fb4-70d2-4eb0-9664-68e422fffe67",
   "metadata": {},
   "source": [
    "# Reaction\n",
    "\n",
    "> Fill in a module description here"
   ]
  },
  {
   "cell_type": "code",
   "execution_count": null,
   "id": "2ac2f0f9-827b-4cd4-9a3a-d6105634bf6b",
   "metadata": {},
   "outputs": [],
   "source": [
    "#| default_exp reaction.core"
   ]
  },
  {
   "cell_type": "code",
   "execution_count": null,
   "id": "d2e688ee-9fb2-4e15-8bcd-b37ab0b475f2",
   "metadata": {},
   "outputs": [],
   "source": [
    "#| hide\n",
    "from nbdev.showdoc import *"
   ]
  },
  {
   "cell_type": "code",
   "execution_count": null,
   "id": "0bc2f9e4-f3b1-45e1-807d-e604948fed4b",
   "metadata": {},
   "outputs": [],
   "source": [
    "#| hide\n",
    "import nbdev; nbdev.nbdev_export()"
   ]
  },
  {
   "cell_type": "code",
   "execution_count": null,
   "id": "74ed2e6c-516d-46b5-9e94-b451343c6b70",
   "metadata": {},
   "outputs": [],
   "source": [
    "#| export\n",
    "from exex.imports import *\n",
    "from exex.core import *\n",
    "from exex.compound.core import *\n",
    "from exex.system import System\n",
    "from exex.environment import Environment, OpenContainer\n",
    "from exex.utils import camel_to_snake, fml2str, str2fml"
   ]
  },
  {
   "cell_type": "markdown",
   "id": "6e6c2996",
   "metadata": {},
   "source": [
    "### Laws"
   ]
  },
  {
   "cell_type": "markdown",
   "id": "56401098",
   "metadata": {},
   "source": [
    "Calculate the total mass, total"
   ]
  },
  {
   "cell_type": "markdown",
   "id": "68635579",
   "metadata": {},
   "source": [
    "A total property must mathematically equivalent to the sum of its properties.\n",
    "\n",
    "For example: $m_\\text{total, 2} = m_\\text{CO, 2} + m_\\text{O2, 2}$"
   ]
  },
  {
   "cell_type": "code",
   "execution_count": null,
   "id": "67c02908",
   "metadata": {},
   "outputs": [],
   "source": [
    "#| export\n",
    "def get_properties(\n",
    "    l: list # a list of reactants or products\n",
    "): # return a of properties from l\n",
    "    pass"
   ]
  },
  {
   "cell_type": "code",
   "execution_count": null,
   "id": "ecb073c1",
   "metadata": {},
   "outputs": [],
   "source": [
    "#| export\n",
    "@docs\n",
    "class TotalProperty(PropertyObservable):\n",
    "    def __init__(self):\n",
    "        super().__init__()\n",
    "    \n",
    "    _docs = dict(cls_doc='The total property of reactants, products in a chemical reaction')"
   ]
  },
  {
   "cell_type": "markdown",
   "id": "e49dc2f1",
   "metadata": {},
   "source": [
    "### Reaction"
   ]
  },
  {
   "cell_type": "code",
   "execution_count": null,
   "id": "ae358799-38cf-4ba2-a82c-88a9b6b3c555",
   "metadata": {},
   "outputs": [],
   "source": [
    "#| export\n",
    "@docs\n",
    "class Reaction(GetAttr):\n",
    "    _default = 'reaction'\n",
    "    def __init__(\n",
    "        self,\n",
    "        reactants: list[Compound], # the list of reactants\n",
    "        products: list[Compound] = [], # the list of products\n",
    "        environment: Environment = OpenContainer() # the environment\n",
    "    ) -> None:\n",
    "        \n",
    "        self.reaction = chemlib.Reaction(reactants=reactants, products=products)\n",
    "        \n",
    "        self._reactants = reactants\n",
    "        self._products = products\n",
    "        #self.formula = self.reaction.formula\n",
    "        #self.coefficients = self.reaction.coefficients\n",
    "        self.system: System = System(reactions=[self])\n",
    "        self.environment: Environment = environment\n",
    "    \n",
    "    def total_property(\n",
    "        self,\n",
    "        name: str # the name of the property\n",
    "    ) -> list[float, float]:\n",
    "        \n",
    "        total_reactant = 0\n",
    "        for reactant in self.reactants:\n",
    "            if not name in reactant.properties: pass\n",
    "            #total_reactant += reactant.properties[name]\n",
    "            pass\n",
    "        \n",
    "        total_product = 0\n",
    "    \n",
    "        return total_reactant, total_product\n",
    "    \n",
    "    def balance(self) -> None:\n",
    "        self.reaction.balance()\n",
    "    \n",
    "    def __repr__(self):\n",
    "        return f\"Reaction({self.formula})\"\n",
    "    _docs = dict(cls_doc='Chemical Reaction',\n",
    "                 balance='Balance chemical reaction',\n",
    "                 total_property='Calculate the total properties of reactants and products')"
   ]
  },
  {
   "cell_type": "code",
   "execution_count": null,
   "id": "a53b46ba",
   "metadata": {},
   "outputs": [],
   "source": [
    "#| export\n",
    "@patch(as_prop=True)\n",
    "def coeffs(self: Reaction):\n",
    "    coeffs = {}\n",
    "    for k, v in self.reaction.coefficients.items():\n",
    "        coeffs[fml2str(k)] = v\n",
    "    \n",
    "    return coeffs"
   ]
  },
  {
   "cell_type": "code",
   "execution_count": null,
   "id": "e4d78070",
   "metadata": {},
   "outputs": [],
   "source": [
    "#| export\n",
    "@patch\n",
    "def get_coeff(self: Reaction, cmp: str):\n",
    "    return self.coeffs[cmp]"
   ]
  },
  {
   "cell_type": "code",
   "execution_count": null,
   "id": "ba94faa0",
   "metadata": {},
   "outputs": [],
   "source": [
    "#| export\n",
    "@patch(as_prop=True)\n",
    "def reactants(self: Reaction):\n",
    "    return L(self._reactants)"
   ]
  },
  {
   "cell_type": "code",
   "execution_count": null,
   "id": "83ad6990",
   "metadata": {},
   "outputs": [],
   "source": [
    "#| export\n",
    "@patch(as_prop=True)\n",
    "def products(self: Reaction):\n",
    "    return L(self._products)"
   ]
  },
  {
   "cell_type": "code",
   "execution_count": null,
   "id": "cdb251c1-e2a2-4706-ad47-f5dfa6bc3524",
   "metadata": {},
   "outputs": [],
   "source": [
    "#| export\n",
    "@patch(as_prop=True)\n",
    "def compounds(self: Reaction): # the list of all reactants and products\n",
    "    c = {}\n",
    "    for compound in [*self.reactants, *self.products]:\n",
    "        c[compound.snake_name] = compound\n",
    "    \n",
    "    return c"
   ]
  },
  {
   "cell_type": "code",
   "execution_count": null,
   "id": "39c0440b-1aad-4b30-bfe6-31255df70e8c",
   "metadata": {},
   "outputs": [],
   "source": [
    "#| export\n",
    "@patch\n",
    "def initial_condition(self: Reaction, data):\n",
    "    pass"
   ]
  },
  {
   "cell_type": "code",
   "execution_count": null,
   "id": "5ad6e990-b374-4400-979a-7dc33d4153f8",
   "metadata": {},
   "outputs": [],
   "source": [
    "#| export\n",
    "@patch\n",
    "def final_conditon(self: Reaction, data):\n",
    "    pass"
   ]
  },
  {
   "cell_type": "code",
   "execution_count": null,
   "id": "b0df373f-6c91-4cfc-a88a-e05eb2a28aee",
   "metadata": {},
   "outputs": [
    {
     "data": {
      "text/markdown": [
       "---\n",
       "\n",
       "[source](https://github.com/xrsrke/exex/blob/main/exex/reaction/core.py#L30){target=\"_blank\" style=\"float:right; font-size:smaller\"}\n",
       "\n",
       "### Reaction\n",
       "\n",
       ">      Reaction (reactants:list[exex.compound.core.Compound],\n",
       ">                products:list[exex.compound.core.Compound]=[], environment:exex\n",
       ">                .environment.Environment=<exex.environment.OpenContainer object\n",
       ">                at 0x7fe68a0cd100>)\n",
       "\n",
       "Chemical Reaction\n",
       "\n",
       "|    | **Type** | **Default** | **Details** |\n",
       "| -- | -------- | ----------- | ----------- |\n",
       "| reactants | list |  | the list of reactants |\n",
       "| products | list | [] | the list of products |\n",
       "| environment | Environment | <exex.environment.OpenContainer object> | the environment |\n",
       "| **Returns** | **None** |  |  |"
      ],
      "text/plain": [
       "---\n",
       "\n",
       "[source](https://github.com/xrsrke/exex/blob/main/exex/reaction/core.py#L30){target=\"_blank\" style=\"float:right; font-size:smaller\"}\n",
       "\n",
       "### Reaction\n",
       "\n",
       ">      Reaction (reactants:list[exex.compound.core.Compound],\n",
       ">                products:list[exex.compound.core.Compound]=[], environment:exex\n",
       ">                .environment.Environment=<exex.environment.OpenContainer object\n",
       ">                at 0x7fe68a0cd100>)\n",
       "\n",
       "Chemical Reaction\n",
       "\n",
       "|    | **Type** | **Default** | **Details** |\n",
       "| -- | -------- | ----------- | ----------- |\n",
       "| reactants | list |  | the list of reactants |\n",
       "| products | list | [] | the list of products |\n",
       "| environment | Environment | <exex.environment.OpenContainer object> | the environment |\n",
       "| **Returns** | **None** |  |  |"
      ]
     },
     "execution_count": null,
     "metadata": {},
     "output_type": "execute_result"
    }
   ],
   "source": [
    "show_doc(Reaction)"
   ]
  },
  {
   "cell_type": "code",
   "execution_count": null,
   "id": "69ecaeff-27de-4105-96ff-d03c00654fcb",
   "metadata": {},
   "outputs": [
    {
     "data": {
      "text/markdown": [
       "---\n",
       "\n",
       "[source](https://github.com/xrsrke/exex/blob/main/exex/reaction/core.py#L48){target=\"_blank\" style=\"float:right; font-size:smaller\"}\n",
       "\n",
       "### Reaction.total_property\n",
       "\n",
       ">      Reaction.total_property (name:str)\n",
       "\n",
       "Calculate the total properties of reactants and products\n",
       "\n",
       "|    | **Type** | **Details** |\n",
       "| -- | -------- | ----------- |\n",
       "| name | str | the name of the property |\n",
       "| **Returns** | **list** |  |"
      ],
      "text/plain": [
       "---\n",
       "\n",
       "[source](https://github.com/xrsrke/exex/blob/main/exex/reaction/core.py#L48){target=\"_blank\" style=\"float:right; font-size:smaller\"}\n",
       "\n",
       "### Reaction.total_property\n",
       "\n",
       ">      Reaction.total_property (name:str)\n",
       "\n",
       "Calculate the total properties of reactants and products\n",
       "\n",
       "|    | **Type** | **Details** |\n",
       "| -- | -------- | ----------- |\n",
       "| name | str | the name of the property |\n",
       "| **Returns** | **list** |  |"
      ]
     },
     "execution_count": null,
     "metadata": {},
     "output_type": "execute_result"
    }
   ],
   "source": [
    "show_doc(Reaction.total_property)"
   ]
  },
  {
   "cell_type": "code",
   "execution_count": null,
   "id": "fb619b08-0070-4157-bd78-2f468674a8b6",
   "metadata": {},
   "outputs": [],
   "source": [
    "r = Reaction(reactants=[Compound('C2'), Compound('O2')], products=[Compound('CO2')])"
   ]
  },
  {
   "cell_type": "code",
   "execution_count": null,
   "id": "7eabcd73",
   "metadata": {},
   "outputs": [],
   "source": [
    "r.balance()"
   ]
  },
  {
   "cell_type": "code",
   "execution_count": null,
   "id": "43498ae6",
   "metadata": {},
   "outputs": [
    {
     "data": {
      "text/plain": [
       "(#2) [Compound(C₂),Compound(O₂)]"
      ]
     },
     "execution_count": null,
     "metadata": {},
     "output_type": "execute_result"
    }
   ],
   "source": [
    "r.reactants"
   ]
  },
  {
   "cell_type": "code",
   "execution_count": null,
   "id": "517672b7-c003-4a14-aebd-b50d701135b4",
   "metadata": {},
   "outputs": [],
   "source": [
    "#| hide\n",
    "test_eq(len(r.compounds), 3)\n",
    "test_eq(r.compounds['C2'].snake_name, 'C2')\n",
    "test_eq(type(r.compounds), dict)\n",
    "test_eq(len(r.reactants), 2)\n",
    "test_eq(len(r.products), 1)\n",
    "test_eq(len(r.compounds), 3)"
   ]
  },
  {
   "cell_type": "code",
   "execution_count": null,
   "id": "160ed776-3bf3-400d-bc93-6b91c9758589",
   "metadata": {},
   "outputs": [],
   "source": [
    "#| hide\n",
    "test_eq(r.get_coeff('O2'), 2)\n",
    "test_eq(r.get_coeff('C2'), 1)"
   ]
  },
  {
   "cell_type": "code",
   "execution_count": null,
   "id": "482551e9",
   "metadata": {},
   "outputs": [],
   "source": []
  },
  {
   "cell_type": "code",
   "execution_count": null,
   "id": "533ea67b",
   "metadata": {},
   "outputs": [],
   "source": []
  }
 ],
 "metadata": {
  "kernelspec": {
   "display_name": "Python 3 (ipykernel)",
   "language": "python",
   "name": "python3"
  }
 },
 "nbformat": 4,
 "nbformat_minor": 5
}
