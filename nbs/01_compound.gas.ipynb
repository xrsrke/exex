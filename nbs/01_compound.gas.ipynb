{
 "cells": [
  {
   "cell_type": "markdown",
   "id": "2bfae562-d509-4feb-9965-3d76bcde3c91",
   "metadata": {},
   "source": [
    "# Gas\n",
    "\n",
    "> Fill in a module description here"
   ]
  },
  {
   "cell_type": "code",
   "execution_count": null,
   "id": "f321f37b-1bff-4c99-8b8f-963a16f2be5d",
   "metadata": {},
   "outputs": [],
   "source": [
    "#| default_exp compound.gas"
   ]
  },
  {
   "cell_type": "code",
   "execution_count": null,
   "id": "e68eaa9a-c14c-430f-88ea-2f0d8a48cd6a",
   "metadata": {},
   "outputs": [],
   "source": [
    "#| hide\n",
    "from nbdev.showdoc import *"
   ]
  },
  {
   "cell_type": "code",
   "execution_count": null,
   "id": "a9ba7a8e-e91c-4e71-82f7-6bcb6701ffd2",
   "metadata": {},
   "outputs": [],
   "source": [
    "#| export\n",
    "import sympy as smp\n",
    "\n",
    "from exex.core import *\n",
    "from exex.compound.core import *"
   ]
  },
  {
   "cell_type": "markdown",
   "id": "84d6a1c3-e4c3-4b1f-aa64-33380c5bde06",
   "metadata": {},
   "source": [
    "### Laws"
   ]
  },
  {
   "cell_type": "code",
   "execution_count": null,
   "id": "4d5e215f-109e-4dde-bfac-79bbccab6b6e",
   "metadata": {},
   "outputs": [],
   "source": [
    "class MolarMass():\n",
    "    def __init__(self, compound):\n",
    "        pass"
   ]
  },
  {
   "cell_type": "code",
   "execution_count": null,
   "id": "1be906c7-585f-48cb-9f7c-b382941e4ab9",
   "metadata": {},
   "outputs": [],
   "source": [
    "#| export\n",
    "class MassMoleRatio(Law):\n",
    "    def __init__(self, compound):\n",
    "        super().__init__()\n",
    "        self.compound = compound\n",
    "        self._properties = [Mass, Mole]\n",
    "        self.init_properties()"
   ]
  },
  {
   "cell_type": "code",
   "execution_count": null,
   "id": "c0aaef8c-7709-4efb-8d18-bb3219b0ef7a",
   "metadata": {},
   "outputs": [],
   "source": [
    "# class B:\n",
    "#     def __init__(self, time):\n",
    "#         self.time = time\n",
    "#         print('done init')\n",
    "        \n",
    "#         for p in self._properties:\n",
    "#             if not p.__name__.lower() in self.compound._properties:\n",
    "#                 # self.compound._properties.append(\n",
    "#                 #     {f'{p.__name__.lower()}': p(compound=self.compound)}\n",
    "#                 name = p.__name__.lower()\n",
    "#                 self.compound._properties[name] = p(compound=self.compound)\n",
    "            \n",
    "#             #print(f'p={p.__name__.lower()}')\n",
    "    \n",
    "#     def __new__(cls, x):\n",
    "#         print('x')"
   ]
  },
  {
   "cell_type": "code",
   "execution_count": null,
   "id": "33cc126a-9c85-43f2-a30f-6c75093cff98",
   "metadata": {},
   "outputs": [],
   "source": [
    "# B(2)"
   ]
  },
  {
   "cell_type": "code",
   "execution_count": null,
   "id": "07d82364-94ca-447b-9315-5b0936858844",
   "metadata": {},
   "outputs": [],
   "source": [
    "#| export\n",
    "class IdealGasLaw(Law):\n",
    "    def __init__(self, compound = Compound()):\n",
    "        super().__init__()\n",
    "        self.compound = compound\n",
    "        self._properties = [Pressure, Volume, Mole, Temperature]\n",
    "        self.init_properties()\n",
    "    \n",
    "    @property\n",
    "    def expression(self):\n",
    "        compound = self.compound\n",
    "        left_side = compound._properties['pressure'].symbol * compound._properties['volume'].symbol\n",
    "        right_side = compound._properties['mole'].symbol * compound._properties['temperature'].symbol\n",
    "        return smp.Eq(left_side, right_side)\n",
    "    \n",
    "    def solve(self, time, unknown):\n",
    "        pass"
   ]
  },
  {
   "cell_type": "code",
   "execution_count": null,
   "id": "47586688-8012-48e0-82d9-8d34363fbaf1",
   "metadata": {},
   "outputs": [],
   "source": [
    "class Hello:\n",
    "    pass"
   ]
  },
  {
   "cell_type": "code",
   "execution_count": null,
   "id": "228af375-679d-40e6-8392-2d93e7e327fd",
   "metadata": {},
   "outputs": [
    {
     "name": "stdout",
     "output_type": "stream",
     "text": [
      "####### initialzing pressure #####\n",
      "add to <__main__.IdealGasLaw object>\n",
      "about to add law <__main__.IdealGasLaw object>\n",
      "####### initialzing volume #####\n",
      "add to <__main__.IdealGasLaw object>\n",
      "about to add law <__main__.IdealGasLaw object>\n",
      "####### initialzing mole #####\n",
      "add to <__main__.IdealGasLaw object>\n",
      "about to add law <__main__.IdealGasLaw object>\n",
      "####### initialzing temperature #####\n",
      "add to <__main__.IdealGasLaw object>\n",
      "about to add law <__main__.IdealGasLaw object>\n"
     ]
    },
    {
     "data": {
      "text/plain": [
       "{'compound': <exex.compound.core.Compound>,\n",
       " '_properties': [exex.core.Pressure,\n",
       "  exex.core.Volume,\n",
       "  exex.core.Mole,\n",
       "  exex.core.Temperature]}"
      ]
     },
     "execution_count": null,
     "metadata": {},
     "output_type": "execute_result"
    }
   ],
   "source": [
    "IdealGasLaw().__dict__"
   ]
  },
  {
   "cell_type": "markdown",
   "id": "da3a3d89-a42a-4553-be0b-2a6ac420ee50",
   "metadata": {},
   "source": [
    "### Gas Compound"
   ]
  },
  {
   "cell_type": "code",
   "execution_count": null,
   "id": "fb70a3f9-872e-461a-93b0-e88e266e4872",
   "metadata": {},
   "outputs": [],
   "source": [
    "#| export\n",
    "class Gas(Compound):\n",
    "    def __init__(self):\n",
    "        super().__init__()\n",
    "        \n",
    "        self.add_laws([MassMoleRatio, IdealGasLaw])"
   ]
  },
  {
   "cell_type": "code",
   "execution_count": null,
   "id": "1235213e-88b5-4fcf-8deb-92fd12cbd43d",
   "metadata": {},
   "outputs": [
    {
     "name": "stdout",
     "output_type": "stream",
     "text": [
      "####### initialzing mass #####\n",
      "add to <__main__.MassMoleRatio object>\n",
      "about to add law <__main__.MassMoleRatio object>\n",
      "####### initialzing mole #####\n",
      "add to <__main__.MassMoleRatio object>\n",
      "about to add law <__main__.MassMoleRatio object>\n",
      "####### initialzing pressure #####\n",
      "add to <__main__.IdealGasLaw object>\n",
      "about to add law <__main__.IdealGasLaw object>\n",
      "####### initialzing volume #####\n",
      "add to <__main__.IdealGasLaw object>\n",
      "about to add law <__main__.IdealGasLaw object>\n",
      "####### initialzing mole #####\n",
      "add to <__main__.IdealGasLaw object>\n",
      "about to add law <__main__.IdealGasLaw object>\n",
      "####### initialzing temperature #####\n",
      "add to <__main__.IdealGasLaw object>\n",
      "about to add law <__main__.IdealGasLaw object>\n"
     ]
    }
   ],
   "source": [
    "g = Gas()"
   ]
  },
  {
   "cell_type": "code",
   "execution_count": null,
   "id": "9a32dd0d-6254-4b54-9cf2-6f5bad92b404",
   "metadata": {},
   "outputs": [
    {
     "data": {
      "text/plain": [
       "{'mass': <exex.core.Mass>,\n",
       " 'mole': <exex.core.Mole>,\n",
       " 'pressure': <exex.core.Pressure>,\n",
       " 'volume': <exex.core.Volume>,\n",
       " 'temperature': <exex.core.Temperature>}"
      ]
     },
     "execution_count": null,
     "metadata": {},
     "output_type": "execute_result"
    }
   ],
   "source": [
    "g._properties"
   ]
  },
  {
   "cell_type": "code",
   "execution_count": null,
   "id": "e4d3434d-30a3-48c0-a867-110aee27ba17",
   "metadata": {},
   "outputs": [],
   "source": [
    "pressure = g._properties['pressure']"
   ]
  },
  {
   "cell_type": "code",
   "execution_count": null,
   "id": "5f963fd5-8a45-4a9f-b88e-e6ff60a0ba8a",
   "metadata": {},
   "outputs": [
    {
     "data": {
      "text/plain": [
       "{}"
      ]
     },
     "execution_count": null,
     "metadata": {},
     "output_type": "execute_result"
    }
   ],
   "source": [
    "pressure._data"
   ]
  },
  {
   "cell_type": "code",
   "execution_count": null,
   "id": "aae587ea-c613-481e-873e-9c725b955883",
   "metadata": {},
   "outputs": [],
   "source": [
    "mass = g._properties['mass']"
   ]
  },
  {
   "cell_type": "code",
   "execution_count": null,
   "id": "de6dd5b2-8286-42ff-b96e-1e7c2ce6f060",
   "metadata": {},
   "outputs": [
    {
     "data": {
      "text/latex": [
       "$\\displaystyle m$"
      ],
      "text/plain": [
       "m"
      ]
     },
     "execution_count": null,
     "metadata": {},
     "output_type": "execute_result"
    }
   ],
   "source": [
    "mass.symbol"
   ]
  },
  {
   "cell_type": "code",
   "execution_count": null,
   "id": "0981d951-980e-4d52-a03f-3f099e20f84e",
   "metadata": {},
   "outputs": [
    {
     "data": {
      "text/plain": [
       "{'abbreviate': 'm',\n",
       " '_data': {},\n",
       " 'compound': <__main__.Gas>,\n",
       " '_connections': [],\n",
       " '_laws': [<__main__.MassMoleRatio>],\n",
       " 'func_changed': [],\n",
       " 'symbol': m}"
      ]
     },
     "execution_count": null,
     "metadata": {},
     "output_type": "execute_result"
    }
   ],
   "source": [
    "mass.__dict__"
   ]
  },
  {
   "cell_type": "code",
   "execution_count": null,
   "id": "536192a0-6d6e-4a57-bbdc-aadd2dcb6689",
   "metadata": {},
   "outputs": [],
   "source": [
    "mass.add_data(time=2, value=2.231)"
   ]
  },
  {
   "cell_type": "code",
   "execution_count": null,
   "id": "4dca8d10-605b-4cc1-ba53-6f9c38fecd66",
   "metadata": {},
   "outputs": [
    {
     "data": {
      "text/plain": [
       "{2: {'value': 2.231}}"
      ]
     },
     "execution_count": null,
     "metadata": {},
     "output_type": "execute_result"
    }
   ],
   "source": [
    "mass._data"
   ]
  },
  {
   "cell_type": "code",
   "execution_count": null,
   "id": "a57dadbe-b87b-4489-bba7-00bc5f554065",
   "metadata": {},
   "outputs": [
    {
     "data": {
      "text/plain": [
       "{'_properties': {'mass': <exex.core.Mass>,\n",
       "  'mole': <exex.core.Mole>,\n",
       "  'pressure': <exex.core.Pressure>,\n",
       "  'volume': <exex.core.Volume>,\n",
       "  'temperature': <exex.core.Temperature>},\n",
       " '_laws': [<__main__.MassMoleRatio>,\n",
       "  <__main__.IdealGasLaw>]}"
      ]
     },
     "execution_count": null,
     "metadata": {},
     "output_type": "execute_result"
    }
   ],
   "source": [
    "g.__dict__"
   ]
  },
  {
   "cell_type": "code",
   "execution_count": null,
   "id": "d4a48543-0977-49df-86d5-c5e50c94ec02",
   "metadata": {},
   "outputs": [
    {
     "data": {
      "text/plain": [
       "[<__main__.MassMoleRatio>,\n",
       " <__main__.IdealGasLaw>]"
      ]
     },
     "execution_count": null,
     "metadata": {},
     "output_type": "execute_result"
    }
   ],
   "source": [
    "g._laws"
   ]
  },
  {
   "cell_type": "code",
   "execution_count": null,
   "id": "9c578326-6a5a-44d9-bf21-3e40da3d5526",
   "metadata": {},
   "outputs": [
    {
     "data": {
      "text/latex": [
       "$\\displaystyle n$"
      ],
      "text/plain": [
       "n"
      ]
     },
     "execution_count": null,
     "metadata": {},
     "output_type": "execute_result"
    }
   ],
   "source": [
    "g._properties['mole'].symbol"
   ]
  },
  {
   "cell_type": "code",
   "execution_count": null,
   "id": "b9aea8d2-6039-47a9-a925-52e4544be32c",
   "metadata": {},
   "outputs": [
    {
     "data": {
      "text/plain": [
       "[<__main__.MassMoleRatio>,\n",
       " <__main__.IdealGasLaw>]"
      ]
     },
     "execution_count": null,
     "metadata": {},
     "output_type": "execute_result"
    }
   ],
   "source": [
    "g._properties['mole']._laws"
   ]
  },
  {
   "cell_type": "code",
   "execution_count": null,
   "id": "9515f4ac-136d-483f-bcc3-6be51cd41b58",
   "metadata": {},
   "outputs": [],
   "source": [
    "eq = g._laws[1].expression"
   ]
  },
  {
   "cell_type": "code",
   "execution_count": null,
   "id": "0da03bdb-5b30-44e5-9123-54254c517eaf",
   "metadata": {},
   "outputs": [
    {
     "data": {
      "text/latex": [
       "$\\displaystyle P V = T n$"
      ],
      "text/plain": [
       "Eq(P*V, T*n)"
      ]
     },
     "execution_count": null,
     "metadata": {},
     "output_type": "execute_result"
    }
   ],
   "source": [
    "eq"
   ]
  },
  {
   "cell_type": "code",
   "execution_count": null,
   "id": "98401a6f-5d0a-4ab6-8ceb-1acc65635a84",
   "metadata": {},
   "outputs": [
    {
     "data": {
      "text/plain": [
       "[P*V/T]"
      ]
     },
     "execution_count": null,
     "metadata": {},
     "output_type": "execute_result"
    }
   ],
   "source": [
    "smp.solve((eq), g._properties['mole'].symbol)"
   ]
  }
 ],
 "metadata": {
  "kernelspec": {
   "display_name": "Python 3 (ipykernel)",
   "language": "python",
   "name": "python3"
  }
 },
 "nbformat": 4,
 "nbformat_minor": 5
}
