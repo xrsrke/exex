{
 "cells": [
  {
   "cell_type": "markdown",
   "id": "2bfae562-d509-4feb-9965-3d76bcde3c91",
   "metadata": {},
   "source": [
    "# Gas\n",
    "\n",
    "> Fill in a module description here"
   ]
  },
  {
   "cell_type": "code",
   "execution_count": null,
   "id": "f321f37b-1bff-4c99-8b8f-963a16f2be5d",
   "metadata": {},
   "outputs": [],
   "source": [
    "#| default_exp compound.gas"
   ]
  },
  {
   "cell_type": "code",
   "execution_count": null,
   "id": "a9ba7a8e-e91c-4e71-82f7-6bcb6701ffd2",
   "metadata": {},
   "outputs": [],
   "source": [
    "#| export\n",
    "import sympy as smp\n",
    "from fastcore.test import *\n",
    "\n",
    "from exex.core import *\n",
    "from exex.compound.core import *"
   ]
  },
  {
   "cell_type": "code",
   "execution_count": null,
   "id": "e68eaa9a-c14c-430f-88ea-2f0d8a48cd6a",
   "metadata": {},
   "outputs": [],
   "source": [
    "#| hide\n",
    "from nbdev.showdoc import *"
   ]
  },
  {
   "cell_type": "code",
   "execution_count": null,
   "id": "6b57c02e-36ab-4ff8-b137-572e3a80fb87",
   "metadata": {},
   "outputs": [],
   "source": [
    "#| hide\n",
    "import nbdev; nbdev.nbdev_export()"
   ]
  },
  {
   "cell_type": "markdown",
   "id": "102443a3-d893-47d8-9677-bd5942c911b6",
   "metadata": {},
   "source": [
    "### Properties\n"
   ]
  },
  {
   "cell_type": "code",
   "execution_count": null,
   "id": "92023600-b497-406b-80b5-db162745184c",
   "metadata": {},
   "outputs": [],
   "source": [
    "#| export\n",
    "class IsIdealGas(PropertyObservable):\n",
    "    def __init__(self, compound):\n",
    "        self.abbreviate = 'is_ideal_gas'\n",
    "        super().__init__(compound)\n",
    "    \n",
    "    def __bool__(self):\n",
    "        return False"
   ]
  },
  {
   "cell_type": "markdown",
   "id": "84d6a1c3-e4c3-4b1f-aa64-33380c5bde06",
   "metadata": {},
   "source": [
    "### Laws"
   ]
  },
  {
   "cell_type": "markdown",
   "id": "9d5030ef-5059-4a7a-bcee-b694ee151294",
   "metadata": {},
   "source": [
    "- mass mole ratio\n",
    "- mole volume ratio"
   ]
  },
  {
   "cell_type": "markdown",
   "id": "ef17e23a-b56a-438a-91ca-86f9f31b268b",
   "metadata": {},
   "source": [
    "##### The Simple Gas Law"
   ]
  },
  {
   "cell_type": "code",
   "execution_count": null,
   "id": "4778d1ad-7229-42c4-87c2-1d4a025d6f04",
   "metadata": {},
   "outputs": [],
   "source": [
    "#| export\n",
    "class BoyleLaw(Law):\n",
    "    def __init__(self, compound: Compound):\n",
    "        super().__init__()\n",
    "        self.compound = compound\n",
    "        self.properties = [Pressure, Volume]"
   ]
  },
  {
   "cell_type": "code",
   "execution_count": null,
   "id": "9bf325fc-5c43-4386-9d45-cd995c660b22",
   "metadata": {},
   "outputs": [],
   "source": [
    "#| export\n",
    "class CharlesLaw(Law):\n",
    "    def __init__(self, compound: Compound) -> None:\n",
    "        super().__init__()\n",
    "        self.compound = compound\n",
    "        self.properties = [Volume, Temperature]"
   ]
  },
  {
   "cell_type": "code",
   "execution_count": null,
   "id": "169d6b50-2dd3-4cc4-849a-86246272acf0",
   "metadata": {},
   "outputs": [],
   "source": [
    "#| export\n",
    "class AvogadroLaw(Law):\n",
    "    def __init__(self, compound: Compound) -> None:\n",
    "        super().__init__()\n",
    "        self.compound = compound\n",
    "        self.properties = [Volume, Mole]"
   ]
  },
  {
   "cell_type": "markdown",
   "id": "2e64ec1d-d940-4557-861f-7c8c13313d20",
   "metadata": {},
   "source": [
    "##### The Ideal Gas Law"
   ]
  },
  {
   "cell_type": "code",
   "execution_count": null,
   "id": "07d82364-94ca-447b-9315-5b0936858844",
   "metadata": {},
   "outputs": [],
   "source": [
    "#| export\n",
    "class IdealGasLaw(Law):\n",
    "    def __init__(self, compound: Compound) -> None:\n",
    "        super().__init__()\n",
    "        self.compound = compound\n",
    "        self.properties = [Pressure, Volume, Mole, Temperature, IsIdealGas]\n",
    "    \n",
    "    @property\n",
    "    def expression(self):\n",
    "        compound = self.compound\n",
    "        left_side = compound.properties['pressure'].symbol * compound.properties['volume'].symbol\n",
    "        right_side = compound.properties['mole'].symbol * compound.properties['temperature'].symbol\n",
    "        return smp.Eq(left_side, right_side)\n",
    "    \n",
    "    def solve(self, time, unknown):\n",
    "        pass"
   ]
  },
  {
   "cell_type": "markdown",
   "id": "d32b653a-ac3f-43c3-b0a0-29c955363d07",
   "metadata": {},
   "source": [
    "### States"
   ]
  },
  {
   "cell_type": "markdown",
   "id": "043f1c61-e591-4849-baa3-3edf071c396f",
   "metadata": {},
   "source": [
    "#### Ideal Gas State"
   ]
  },
  {
   "cell_type": "markdown",
   "id": "bc1d087c-3d54-48b3-a35d-bb16315a22aa",
   "metadata": {},
   "source": [
    "Return `True` if the ideal gas equation holds"
   ]
  },
  {
   "cell_type": "code",
   "execution_count": null,
   "id": "f3976255-68d5-45bf-be89-d7c19d294003",
   "metadata": {},
   "outputs": [],
   "source": [
    "#| export\n",
    "from abc import ABC, abstractmethod"
   ]
  },
  {
   "cell_type": "code",
   "execution_count": null,
   "id": "4113626e-f0e5-4d29-958d-077bcc82771f",
   "metadata": {},
   "outputs": [],
   "source": [
    "#| export\n",
    "class State(ABC):\n",
    "    def __init__(self, context):\n",
    "        self.context = context\n",
    "    \n",
    "    @abstractmethod\n",
    "    def __bool__(self, timestep):\n",
    "        pass"
   ]
  },
  {
   "cell_type": "markdown",
   "id": "da3a3d89-a42a-4553-be0b-2a6ac420ee50",
   "metadata": {},
   "source": [
    "### Gas Compound"
   ]
  },
  {
   "cell_type": "code",
   "execution_count": null,
   "id": "fb70a3f9-872e-461a-93b0-e88e266e4872",
   "metadata": {},
   "outputs": [],
   "source": [
    "#| export\n",
    "class Gas(Compound):\n",
    "    def __init__(self, formula):\n",
    "        super().__init__(formula)\n",
    "        \n",
    "        self._config_laws([BoyleLaw, CharlesLaw, AvogadroLaw, IdealGasLaw])"
   ]
  },
  {
   "cell_type": "markdown",
   "id": "71ac86fb-9aaa-4d29-a2e9-840c42020237",
   "metadata": {},
   "source": [
    "Sarin gas is developed by Nazi during WWII"
   ]
  },
  {
   "cell_type": "code",
   "execution_count": null,
   "id": "1235213e-88b5-4fcf-8deb-92fd12cbd43d",
   "metadata": {},
   "outputs": [],
   "source": [
    "C4H10FO2P = Gas('C4H10FO2P')"
   ]
  },
  {
   "cell_type": "code",
   "execution_count": null,
   "id": "48bacd94-c514-4d17-9b52-ef993859716c",
   "metadata": {},
   "outputs": [],
   "source": [
    "#| hide\n",
    "# test a properties\n",
    "test_eq(C4H10FO2P.properties['mass'].abbreviate, 'm')\n",
    "test_eq_type(type(C4H10FO2P.properties['mass'].symbol), smp.core.symbol.Symbol)\n",
    "\n",
    "\n",
    "# test a list of properties\n",
    "test_eq(bool(C4H10FO2P.properties['is_ideal_gas']), False)"
   ]
  },
  {
   "cell_type": "code",
   "execution_count": null,
   "id": "725752dc-f603-4ab6-b559-90daaebef0b0",
   "metadata": {},
   "outputs": [
    {
     "data": {
      "text/plain": [
       "{'properties': {'mass': <exex.core.Mass>,\n",
       "  'mole': <exex.core.Mole>,\n",
       "  'pressure': <exex.core.Pressure>,\n",
       "  'volume': <exex.core.Volume>,\n",
       "  'temperature': <exex.core.Temperature>,\n",
       "  'is_ideal_gas': <__main__.IsIdealGas>},\n",
       " 'laws': {'mass_mole_ratio': <exex.compound.core.MassMoleRatio>,\n",
       "  'boyle_law': <__main__.BoyleLaw>,\n",
       "  'charles_law': <__main__.CharlesLaw>,\n",
       "  'avogadro_law': <__main__.AvogadroLaw>,\n",
       "  'ideal_gas_law': <__main__.IdealGasLaw>},\n",
       " 'elements': [<chemlib.chemistry.Element>,\n",
       "  <chemlib.chemistry.Element>,\n",
       "  <chemlib.chemistry.Element>,\n",
       "  <chemlib.chemistry.Element>,\n",
       "  <chemlib.chemistry.Element>,\n",
       "  <chemlib.chemistry.Element>,\n",
       "  <chemlib.chemistry.Element>,\n",
       "  <chemlib.chemistry.Element>,\n",
       "  <chemlib.chemistry.Element>,\n",
       "  <chemlib.chemistry.Element>,\n",
       "  <chemlib.chemistry.Element>,\n",
       "  <chemlib.chemistry.Element>,\n",
       "  <chemlib.chemistry.Element>,\n",
       "  <chemlib.chemistry.Element>,\n",
       "  <chemlib.chemistry.Element>,\n",
       "  <chemlib.chemistry.Element>,\n",
       "  <chemlib.chemistry.Element>,\n",
       "  <chemlib.chemistry.Element>],\n",
       " 'formula': 'C₄H₁₀F₁O₂P₁',\n",
       " 'coefficient': 1,\n",
       " 'occurences': {'C': 4, 'H': 10, 'F': 1, 'O': 2, 'P': 1}}"
      ]
     },
     "execution_count": null,
     "metadata": {},
     "output_type": "execute_result"
    }
   ],
   "source": [
    "C4H10FO2P.__dict__"
   ]
  },
  {
   "cell_type": "code",
   "execution_count": null,
   "id": "9a32dd0d-6254-4b54-9cf2-6f5bad92b404",
   "metadata": {},
   "outputs": [
    {
     "data": {
      "text/plain": [
       "{'mass': <exex.core.Mass>,\n",
       " 'mole': <exex.core.Mole>,\n",
       " 'pressure': <exex.core.Pressure>,\n",
       " 'volume': <exex.core.Volume>,\n",
       " 'temperature': <exex.core.Temperature>,\n",
       " 'is_ideal_gas': <__main__.IsIdealGas>}"
      ]
     },
     "execution_count": null,
     "metadata": {},
     "output_type": "execute_result"
    }
   ],
   "source": [
    "C4H10FO2P.properties"
   ]
  },
  {
   "cell_type": "code",
   "execution_count": null,
   "id": "0f05c6ea-6636-4f4d-a0ac-fd2d09db5bb3",
   "metadata": {},
   "outputs": [],
   "source": []
  },
  {
   "cell_type": "code",
   "execution_count": null,
   "id": "eaa85c23-19b9-454d-ab66-3891af2d5101",
   "metadata": {},
   "outputs": [],
   "source": []
  }
 ],
 "metadata": {
  "kernelspec": {
   "display_name": "Python 3 (ipykernel)",
   "language": "python",
   "name": "python3"
  }
 },
 "nbformat": 4,
 "nbformat_minor": 5
}
