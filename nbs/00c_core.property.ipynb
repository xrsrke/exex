{
 "cells": [
  {
   "cell_type": "markdown",
   "id": "17150fcc-cc15-4b31-80f7-78f22b12f2b5",
   "metadata": {},
   "source": [
    "# Property\n",
    "\n",
    "> Fill in a module description here"
   ]
  },
  {
   "cell_type": "code",
   "execution_count": null,
   "id": "191883bd-6c08-4c7b-9285-a1bc73e16443",
   "metadata": {},
   "outputs": [],
   "source": [
    "# | default_exp core.property"
   ]
  },
  {
   "cell_type": "code",
   "execution_count": null,
   "id": "71ecfcac-6d0b-4154-85a3-98bbe9f5528c",
   "metadata": {},
   "outputs": [],
   "source": [
    "# | hide\n",
    "from nbdev.showdoc import *"
   ]
  },
  {
   "cell_type": "code",
   "execution_count": null,
   "id": "d6f7596a-05d8-4209-9562-0c8b5f488769",
   "metadata": {},
   "outputs": [],
   "source": [
    "# | hide\n",
    "import nbdev\n",
    "\n",
    "nbdev.nbdev_export()"
   ]
  },
  {
   "cell_type": "code",
   "execution_count": null,
   "id": "b36291dc-2a5e-4e10-aaf3-7814a2c0df57",
   "metadata": {},
   "outputs": [],
   "source": [
    "# | export\n",
    "from dataclasses import dataclass\n",
    "from abc import ABC, abstractmethod\n",
    "\n",
    "from exex.imports import *\n",
    "from exex.core.event import *\n",
    "from exex.core.unit import *\n",
    "from exex.utils import camel_to_snake"
   ]
  },
  {
   "cell_type": "markdown",
   "id": "15270feb-03d1-4e30-b699-bc0187814218",
   "metadata": {},
   "source": [
    "### Data"
   ]
  },
  {
   "cell_type": "code",
   "execution_count": null,
   "id": "9c044743-5bf0-4689-bef0-0cd26cf2c5bb",
   "metadata": {},
   "outputs": [],
   "source": [
    "# | export\n",
    "class Object:\n",
    "    pass"
   ]
  },
  {
   "cell_type": "code",
   "execution_count": null,
   "id": "d4dc159e-f319-4496-bbf0-c7709067d122",
   "metadata": {},
   "outputs": [],
   "source": [
    "# | export\n",
    "class PropertyData(dict):\n",
    "    pass"
   ]
  },
  {
   "cell_type": "code",
   "execution_count": null,
   "id": "4ed54814-0f3a-468c-aca7-a5258834949f",
   "metadata": {},
   "outputs": [],
   "source": [
    "c = PropertyData({\"0\": {\"mass\": 2, \"object\": Object()}})"
   ]
  },
  {
   "cell_type": "code",
   "execution_count": null,
   "id": "6d779a7b-3b94-42e7-a7a6-31f3dba4e986",
   "metadata": {},
   "outputs": [
    {
     "data": {
      "text/plain": [
       "{'mass': 2, 'object': <__main__.Object>}"
      ]
     },
     "execution_count": null,
     "metadata": {},
     "output_type": "execute_result"
    }
   ],
   "source": [
    "c[\"0\"]"
   ]
  },
  {
   "cell_type": "code",
   "execution_count": null,
   "id": "7703665a-860d-4830-a873-579a13797f3b",
   "metadata": {},
   "outputs": [],
   "source": [
    "c[\"1\"] = {\"mass\": 2.1, \"object\": \"XXX\"}"
   ]
  },
  {
   "cell_type": "markdown",
   "id": "34a0259c-4bb8-462a-812c-1c769ebb4d4c",
   "metadata": {},
   "source": [
    "### Proprety"
   ]
  },
  {
   "cell_type": "code",
   "execution_count": null,
   "id": "9db3a0c7-9ee7-48b5-a835-45e12ab1d6f0",
   "metadata": {},
   "outputs": [],
   "source": [
    "# | export\n",
    "@docs\n",
    "class BaseProperty:\n",
    "    def __init__(self, cmp):  # chemical substance\n",
    "        self.is_constant: bool = False\n",
    "        self.compound = cmp\n",
    "        self.cmp = cmp\n",
    "        self._data = PropertyData()\n",
    "\n",
    "        self._connections = []\n",
    "        self.laws = dict()\n",
    "        self.func_changed = Event()\n",
    "\n",
    "    @property\n",
    "    def name(self) -> str:\n",
    "        return camel_to_snake(self.__class__.__name__)\n",
    "\n",
    "    @classmethod\n",
    "    @property\n",
    "    def snake_name(cls) -> str:  # return the snake style name\n",
    "        return camel_to_snake(cls.__name__)\n",
    "\n",
    "    def expr(self, t: int):  # time\n",
    "        return self.symbol(t)\n",
    "\n",
    "    def __call__(self, t: int, eval: bool = False, **kwargs):  # time\n",
    "        self.t = t\n",
    "        self.kwargs = {**kwargs, \"eval\": eval}\n",
    "\n",
    "        expr = self.expr(t)\n",
    "\n",
    "        if eval == True:\n",
    "            return self.eval(expr, t)\n",
    "        else:\n",
    "            return expr\n",
    "\n",
    "    def add_law(self, law):\n",
    "        if not law in self.laws:\n",
    "            self.laws[camel_to_snake(law.__class__.__name__)] = law\n",
    "\n",
    "    _docs = dict(cls_doc=\"Property\", add_law=\"\", expr=\"Symbolic expression\")"
   ]
  },
  {
   "cell_type": "code",
   "execution_count": null,
   "id": "b095c8e0-06ce-4602-9049-60c34aecafbc",
   "metadata": {},
   "outputs": [],
   "source": [
    "# | export\n",
    "@patch\n",
    "def symbol(self: BaseProperty, t):  # symbolic expression of the property\n",
    "    \"\"\"Rewrite this method if you want to modify\"\"\"\n",
    "    return smp.symbols(f\"{self.abbrv}_{self.cmp.snake_name}-{t}\", real=True)"
   ]
  },
  {
   "cell_type": "code",
   "execution_count": null,
   "id": "7c6e82b6-5f4d-4f0c-9479-d3dfbd0c0ddb",
   "metadata": {},
   "outputs": [],
   "source": [
    "# | export\n",
    "@patch\n",
    "def set_val(self: BaseProperty, val: str, t: int):\n",
    "    self._data[t] = {\"val\": val}"
   ]
  },
  {
   "cell_type": "code",
   "execution_count": null,
   "id": "6aef00ae-972e-4c93-baf1-77449c5a87f3",
   "metadata": {},
   "outputs": [],
   "source": [
    "# | export\n",
    "@patch\n",
    "def get_val(self: BaseProperty, t: int):  # time\n",
    "    if self.is_constant is True:\n",
    "        return self.compute()\n",
    "    else:\n",
    "        return self._data[t][\"val\"] if t in self._data else self.symbol(t)"
   ]
  },
  {
   "cell_type": "code",
   "execution_count": null,
   "id": "6d14fd2f-5b66-468c-a4cb-eea48106cc20",
   "metadata": {},
   "outputs": [],
   "source": [
    "# | export\n",
    "@patch\n",
    "def eval(self: BaseProperty, expr, t: int):  # express  # time\n",
    "    return expr.xreplace({expr: self.get_val(t=t)})"
   ]
  },
  {
   "cell_type": "code",
   "execution_count": null,
   "id": "e69409fc-cb8f-4ec5-97c6-e0f119ce6f4c",
   "metadata": {},
   "outputs": [],
   "source": [
    "# | export\n",
    "@patch\n",
    "def is_empty(self: BaseProperty, t):\n",
    "    return type(self.get_val(t))\n",
    "    # return True if isinstance(type(self.get_val(t)), sympy.core.symbol.Symbol) else False"
   ]
  },
  {
   "cell_type": "code",
   "execution_count": null,
   "id": "f55fd08e-2835-4d82-8659-27bd5491e405",
   "metadata": {},
   "outputs": [],
   "source": [
    "# | export\n",
    "@docs\n",
    "class Property(BaseProperty):\n",
    "    _docs = dict(cls_doc=\"Property that varies in time\")"
   ]
  },
  {
   "cell_type": "markdown",
   "id": "72e9f190-38d4-427b-8a87-00103a5e752a",
   "metadata": {},
   "source": [
    "#### Constant Property"
   ]
  },
  {
   "cell_type": "code",
   "execution_count": null,
   "id": "61731f42-e768-424f-90ed-4ba75c8764a7",
   "metadata": {},
   "outputs": [],
   "source": [
    "# | export\n",
    "@docs\n",
    "class ConstantProperty(BaseProperty):\n",
    "    @abstractmethod\n",
    "    def compute(self):\n",
    "        pass\n",
    "\n",
    "    _docs = dict(\n",
    "        cls_doc=\"Property that invariant in time\", compute=\"Calculate the value\"\n",
    "    )"
   ]
  },
  {
   "cell_type": "markdown",
   "id": "d1620b9d-aab6-4e78-a12c-08677d2fd565",
   "metadata": {},
   "source": [
    "##### Property"
   ]
  },
  {
   "cell_type": "code",
   "execution_count": null,
   "id": "f8dd8fe4-4409-4b76-a73c-b0f5bb793be9",
   "metadata": {},
   "outputs": [],
   "source": [
    "# | export\n",
    "class Property(BaseProperty):\n",
    "    pass"
   ]
  },
  {
   "cell_type": "code",
   "execution_count": null,
   "id": "8c3554b2-9b26-4e8b-a37a-7eb27e86352a",
   "metadata": {},
   "outputs": [],
   "source": [
    "# | export\n",
    "class PropertyObservable(Property):\n",
    "    pass"
   ]
  },
  {
   "cell_type": "markdown",
   "id": "1505f49e-cc7c-4129-a4e7-db6fda162b3e",
   "metadata": {},
   "source": [
    "##### Molar Mass"
   ]
  },
  {
   "cell_type": "markdown",
   "id": "12cedd76-9a1d-41c7-80ef-35f3b7224037",
   "metadata": {},
   "source": [
    "Molar Mass is"
   ]
  },
  {
   "cell_type": "code",
   "execution_count": null,
   "id": "6212b18a-0259-4e61-be6c-1e5e09270ea2",
   "metadata": {},
   "outputs": [],
   "source": [
    "# # | export\n",
    "# class Mass(Property):\n",
    "#     def __init__(self, compound):\n",
    "#         super().__init__(compound)\n",
    "#         self.abbrv = \"m\"\n",
    "#         self.unit = Unit.MASS"
   ]
  },
  {
   "cell_type": "code",
   "execution_count": null,
   "id": "371da66e-5f4f-4fbb-a268-97e9dd7a9d25",
   "metadata": {},
   "outputs": [],
   "source": [
    "# # | export\n",
    "# class MolarMass(ConstantProperty):\n",
    "#     def __init__(self, compound):\n",
    "#         self.abbrv = \"M\"\n",
    "#         self.unit = Unit.MOLAR_MASS\n",
    "#         super().__init__(compound)\n",
    "#         self.is_constant = True\n",
    "\n",
    "#     def compute(self):\n",
    "#         mass = 0\n",
    "#         for element in self.compound.elements:\n",
    "#             mass += element.AtomicMass\n",
    "\n",
    "#         return mass * self.unit"
   ]
  },
  {
   "cell_type": "code",
   "execution_count": null,
   "id": "c0729e19-2247-4fae-b594-75a5e4b1b868",
   "metadata": {},
   "outputs": [],
   "source": [
    "# # | export\n",
    "# class Mole(Property):\n",
    "#     def __init__(self, compound):\n",
    "#         super().__init__(compound)\n",
    "#         self.abbrv = \"n\"\n",
    "#         self.unit = Unit.MOLE"
   ]
  },
  {
   "cell_type": "code",
   "execution_count": null,
   "id": "caa72dd7-0152-4c42-8af5-6c5e1bc28757",
   "metadata": {},
   "outputs": [],
   "source": [
    "# # | export\n",
    "# class Pressure(Property):\n",
    "#     def __init__(self, compound):\n",
    "#         super().__init__(compound)\n",
    "#         self.abbrv = \"P\"\n",
    "#         self.unit = Unit.PRESSURE"
   ]
  },
  {
   "cell_type": "code",
   "execution_count": null,
   "id": "787a3136-371a-487a-81b6-6fd59aea936f",
   "metadata": {},
   "outputs": [],
   "source": [
    "# # | export\n",
    "# class Volume(Property):\n",
    "#     def __init__(self, compound):\n",
    "#         super().__init__(compound)\n",
    "#         self.abbrv = \"V\"\n",
    "#         self.unit = Unit.VOLUME"
   ]
  },
  {
   "cell_type": "code",
   "execution_count": null,
   "id": "2149002b-af31-4685-b960-15d0297b651a",
   "metadata": {},
   "outputs": [],
   "source": [
    "# # | export\n",
    "# class Temperature(Property):\n",
    "#     def __init__(self, compound):\n",
    "#         super().__init__(compound)\n",
    "#         self.abbrv = \"T\"\n",
    "#         self.unit = Unit.TEMPERATURE"
   ]
  },
  {
   "cell_type": "code",
   "execution_count": null,
   "id": "8c7b4df0-d1fa-43d8-a2c6-7e1a6c86dcca",
   "metadata": {},
   "outputs": [],
   "source": []
  },
  {
   "cell_type": "code",
   "execution_count": null,
   "id": "0483268c-e4ab-46c0-bd58-39293e24d6bb",
   "metadata": {},
   "outputs": [],
   "source": []
  }
 ],
 "metadata": {
  "kernelspec": {
   "display_name": "Python 3 (ipykernel)",
   "language": "python",
   "name": "python3"
  }
 },
 "nbformat": 4,
 "nbformat_minor": 5
}
