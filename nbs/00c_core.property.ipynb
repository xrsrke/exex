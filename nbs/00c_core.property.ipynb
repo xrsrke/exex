{
 "cells": [
  {
   "cell_type": "code",
   "execution_count": null,
   "id": "30df04bd-000d-4fe3-8665-7dd6fdd403b4",
   "metadata": {},
   "outputs": [
    {
     "name": "stderr",
     "output_type": "stream",
     "text": [
      "Version 1.0.4\n"
     ]
    }
   ],
   "source": [
    "%load_ext nb_mypy"
   ]
  },
  {
   "cell_type": "markdown",
   "id": "17150fcc-cc15-4b31-80f7-78f22b12f2b5",
   "metadata": {},
   "source": [
    "# Property\n",
    "\n",
    "> Fill in a module description here"
   ]
  },
  {
   "cell_type": "code",
   "execution_count": null,
   "id": "191883bd-6c08-4c7b-9285-a1bc73e16443",
   "metadata": {},
   "outputs": [],
   "source": [
    "# | default_exp core.property"
   ]
  },
  {
   "cell_type": "code",
   "execution_count": null,
   "id": "71ecfcac-6d0b-4154-85a3-98bbe9f5528c",
   "metadata": {},
   "outputs": [],
   "source": [
    "# | hide\n",
    "from nbdev.showdoc import *"
   ]
  },
  {
   "cell_type": "code",
   "execution_count": null,
   "id": "d6f7596a-05d8-4209-9562-0c8b5f488769",
   "metadata": {},
   "outputs": [],
   "source": [
    "# | hide\n",
    "import nbdev\n",
    "\n",
    "nbdev.nbdev_export()"
   ]
  },
  {
   "cell_type": "code",
   "execution_count": null,
   "id": "b36291dc-2a5e-4e10-aaf3-7814a2c0df57",
   "metadata": {},
   "outputs": [],
   "source": [
    "# | export\n",
    "from abc import abstractmethod\n",
    "from typing import Dict, List, Optional\n",
    "\n",
    "from vipers.imports import *\n",
    "from vipers.core.event import *\n",
    "from vipers.core.unit import *\n",
    "from vipers.utils import camel_to_snake"
   ]
  },
  {
   "cell_type": "markdown",
   "id": "15270feb-03d1-4e30-b699-bc0187814218",
   "metadata": {},
   "source": [
    "### Data"
   ]
  },
  {
   "cell_type": "code",
   "execution_count": null,
   "id": "9c044743-5bf0-4689-bef0-0cd26cf2c5bb",
   "metadata": {},
   "outputs": [],
   "source": [
    "# | export\n",
    "class Object:\n",
    "    pass"
   ]
  },
  {
   "cell_type": "code",
   "execution_count": null,
   "id": "d4dc159e-f319-4496-bbf0-c7709067d122",
   "metadata": {},
   "outputs": [],
   "source": [
    "# | export\n",
    "class PropertyData(dict):\n",
    "    pass"
   ]
  },
  {
   "cell_type": "code",
   "execution_count": null,
   "id": "4ed54814-0f3a-468c-aca7-a5258834949f",
   "metadata": {},
   "outputs": [],
   "source": [
    "c = PropertyData({\"0\": {\"mass\": 2, \"object\": Object()}})"
   ]
  },
  {
   "cell_type": "code",
   "execution_count": null,
   "id": "6d779a7b-3b94-42e7-a7a6-31f3dba4e986",
   "metadata": {},
   "outputs": [
    {
     "data": {
      "text/plain": [
       "{'mass': 2, 'object': <__main__.Object>}"
      ]
     },
     "execution_count": null,
     "metadata": {},
     "output_type": "execute_result"
    }
   ],
   "source": [
    "c[\"0\"]"
   ]
  },
  {
   "cell_type": "code",
   "execution_count": null,
   "id": "7703665a-860d-4830-a873-579a13797f3b",
   "metadata": {},
   "outputs": [],
   "source": [
    "c[\"1\"] = {\"mass\": 2.1, \"object\": \"XXX\"}"
   ]
  },
  {
   "cell_type": "markdown",
   "id": "34a0259c-4bb8-462a-812c-1c769ebb4d4c",
   "metadata": {},
   "source": [
    "### Proprety"
   ]
  },
  {
   "cell_type": "code",
   "execution_count": null,
   "id": "0bf1854e-69e9-485e-afde-eac8f9fb917c",
   "metadata": {},
   "outputs": [],
   "source": [
    "#| export\n",
    "class _BaseProperty:\n",
    "    def __init__(self):\n",
    "        self._data: Dict[str, Any] = dict()\n",
    "        self._laws: Dict[str, Any] = dict()\n",
    "        # self._stat"
   ]
  },
  {
   "cell_type": "code",
   "execution_count": null,
   "id": "9db3a0c7-9ee7-48b5-a835-45e12ab1d6f0",
   "metadata": {},
   "outputs": [],
   "source": [
    "# | export\n",
    "@docs\n",
    "class _BaseProperty:\n",
    "    def __init__(self, cmp):  # chemical substance\n",
    "        self.is_constant: bool = False\n",
    "        self._cmp = cmp\n",
    "        self._data = PropertyData()\n",
    "\n",
    "        self._laws = dict()\n",
    "        \n",
    "        #self._connections = []\n",
    "        #self.func_changed = Event()\n",
    "    \n",
    "    def __call__(self, t: int, eval: bool = False, **kwargs):  # time\n",
    "        self.t = t\n",
    "        self.kwargs = {**kwargs, \"eval\": eval}\n",
    "\n",
    "        expr = self.expr(t)\n",
    "\n",
    "        if eval == True:\n",
    "            return self.eval(expr, t)\n",
    "        else:\n",
    "            return expr\n",
    "\n",
    "    @property\n",
    "    def name(self) -> str:\n",
    "        return camel_to_snake(self.__class__.__name__)\n",
    "\n",
    "    @classmethod\n",
    "    @property\n",
    "    def snake_name(cls) -> str:  # return the snake style name\n",
    "        return camel_to_snake(cls.__name__)\n",
    "    \n",
    "    @property\n",
    "    def compound(self):\n",
    "        return self.cmp\n",
    "    \n",
    "    @property\n",
    "    def cmp(self):\n",
    "        return self._cmp\n",
    "    \n",
    "    @cmp.setter\n",
    "    def cmp(self, cmp):\n",
    "        self._cmp = cmp\n",
    "    \n",
    "    @property\n",
    "    def data(self):\n",
    "        return self._data\n",
    "    \n",
    "    @property\n",
    "    def laws(self): # get a list of laws that asscoiated to this property\n",
    "        return self._laws\n",
    "    \n",
    "    @laws.setter\n",
    "    def laws(self, laws):\n",
    "        return self._laws\n",
    "    \n",
    "    def expr(self, t: int):  # time\n",
    "        return self.symbol(t)\n",
    "\n",
    "    def add_law(self, law):\n",
    "        if not law in self.laws:\n",
    "            self.laws[camel_to_snake(law.__class__.__name__)] = law\n",
    "    \n",
    "    def remove_law(self, law): pass\n",
    "\n",
    "    _docs = dict(cls_doc=\"Property\",\n",
    "                 add_law=\"\",\n",
    "                 remove_law=\"\",\n",
    "                 expr=\"Symbolic expression\")"
   ]
  },
  {
   "cell_type": "code",
   "execution_count": null,
   "id": "b095c8e0-06ce-4602-9049-60c34aecafbc",
   "metadata": {},
   "outputs": [],
   "source": [
    "# | export\n",
    "@patch\n",
    "def symbol(self: _BaseProperty, t):  # symbolic expression of the property\n",
    "    \"\"\"Rewrite this method if you want to modify\"\"\"\n",
    "    return smp.symbols(f\"{self.abbrv}_{self.cmp.snake_name}-{t}\", real=True)"
   ]
  },
  {
   "cell_type": "code",
   "execution_count": null,
   "id": "7c6e82b6-5f4d-4f0c-9479-d3dfbd0c0ddb",
   "metadata": {},
   "outputs": [],
   "source": [
    "# | export\n",
    "@patch\n",
    "def set_val(self: _BaseProperty, val: str, t: int):\n",
    "    self._data[t] = {\"val\": val}"
   ]
  },
  {
   "cell_type": "code",
   "execution_count": null,
   "id": "6aef00ae-972e-4c93-baf1-77449c5a87f3",
   "metadata": {},
   "outputs": [],
   "source": [
    "# | export\n",
    "@patch\n",
    "def get_val(self: _BaseProperty, t: int):  # time\n",
    "    if self.is_constant is True:\n",
    "        return self.compute()\n",
    "    else:\n",
    "        return self._data[t][\"val\"] if t in self._data else self.symbol(t)"
   ]
  },
  {
   "cell_type": "code",
   "execution_count": null,
   "id": "6d14fd2f-5b66-468c-a4cb-eea48106cc20",
   "metadata": {},
   "outputs": [],
   "source": [
    "# | export\n",
    "@patch\n",
    "def eval(self: _BaseProperty, expr, t: int):  # express  # time\n",
    "    return expr.xreplace({expr: self.get_val(t=t)})"
   ]
  },
  {
   "cell_type": "code",
   "execution_count": null,
   "id": "e69409fc-cb8f-4ec5-97c6-e0f119ce6f4c",
   "metadata": {},
   "outputs": [],
   "source": [
    "# | export\n",
    "@patch\n",
    "def is_empty(self: _BaseProperty, t):\n",
    "    return type(self.get_val(t))\n",
    "    # return True if isinstance(type(self.get_val(t)), sympy.core.symbol.Symbol) else False"
   ]
  },
  {
   "cell_type": "code",
   "execution_count": null,
   "id": "ac046600-7217-4bcf-a738-2a9d611389e1",
   "metadata": {},
   "outputs": [],
   "source": []
  },
  {
   "cell_type": "markdown",
   "id": "d7e9c997-16c7-45b0-894f-3bdb4cf1b958",
   "metadata": {},
   "source": [
    "### Property"
   ]
  },
  {
   "cell_type": "code",
   "execution_count": null,
   "id": "f55fd08e-2835-4d82-8659-27bd5491e405",
   "metadata": {},
   "outputs": [],
   "source": [
    "# | export\n",
    "@docs\n",
    "class Property(_BaseProperty):\n",
    "    _docs = dict(cls_doc=\"Property that varies in time\")"
   ]
  },
  {
   "cell_type": "markdown",
   "id": "72e9f190-38d4-427b-8a87-00103a5e752a",
   "metadata": {},
   "source": [
    "#### Constant Property"
   ]
  },
  {
   "cell_type": "code",
   "execution_count": null,
   "id": "61731f42-e768-424f-90ed-4ba75c8764a7",
   "metadata": {},
   "outputs": [],
   "source": [
    "# | export\n",
    "@docs\n",
    "class ConstantProperty(Property):\n",
    "    @abstractmethod\n",
    "    def compute(self):\n",
    "        pass\n",
    "\n",
    "    _docs = dict(\n",
    "        cls_doc=\"Property that invariant in time\", compute=\"Calculate the value\"\n",
    "    )"
   ]
  },
  {
   "cell_type": "markdown",
   "id": "d1620b9d-aab6-4e78-a12c-08677d2fd565",
   "metadata": {},
   "source": [
    "##### Property"
   ]
  },
  {
   "cell_type": "code",
   "execution_count": null,
   "id": "8c3554b2-9b26-4e8b-a37a-7eb27e86352a",
   "metadata": {},
   "outputs": [],
   "source": [
    "# | export\n",
    "class PropertyObservable(Property):\n",
    "    pass"
   ]
  },
  {
   "cell_type": "code",
   "execution_count": null,
   "id": "6ac1c9f8-0bf3-429b-a693-5620301d7ed8",
   "metadata": {},
   "outputs": [],
   "source": []
  }
 ],
 "metadata": {
  "kernelspec": {
   "display_name": "Python 3 (ipykernel)",
   "language": "python",
   "name": "python3"
  }
 },
 "nbformat": 4,
 "nbformat_minor": 5
}
