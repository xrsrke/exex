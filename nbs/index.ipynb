{
 "cells": [
  {
   "cell_type": "code",
   "execution_count": null,
   "metadata": {},
   "outputs": [],
   "source": [
    "# | hide\n",
    "from exex.gas.all import *"
   ]
  },
  {
   "cell_type": "markdown",
   "metadata": {},
   "source": [
    "# exex\n",
    "\n",
    "> Experiment codebase for chemchem package"
   ]
  },
  {
   "cell_type": "markdown",
   "metadata": {},
   "source": [
    "This file will become your README and also the index of your documentation."
   ]
  },
  {
   "cell_type": "markdown",
   "metadata": {},
   "source": [
    "## Install"
   ]
  },
  {
   "cell_type": "markdown",
   "metadata": {},
   "source": [
    "```sh\n",
    "pip install exex\n",
    "```"
   ]
  },
  {
   "cell_type": "code",
   "execution_count": null,
   "metadata": {},
   "outputs": [],
   "source": [
    "C2 = Gas(\"C2\")"
   ]
  },
  {
   "cell_type": "code",
   "execution_count": null,
   "metadata": {},
   "outputs": [],
   "source": [
    "O2 = Gas(\"O2\")"
   ]
  },
  {
   "cell_type": "code",
   "execution_count": null,
   "metadata": {},
   "outputs": [],
   "source": [
    "CO2 = Gas(\"CO2\")"
   ]
  },
  {
   "cell_type": "code",
   "execution_count": null,
   "metadata": {},
   "outputs": [],
   "source": [
    "r = Reaction(reactants=[Gas(\"C2\"), Gas(\"O2\")], products=[Gas(\"CO2\")])"
   ]
  },
  {
   "cell_type": "code",
   "execution_count": null,
   "metadata": {},
   "outputs": [
    {
     "data": {
      "text/plain": [
       "{'reaction': <chemlib.chemistry.Reaction>,\n",
       " 'reactants': [exex.gas.core.Gas(formula='C₂'),\n",
       "  exex.gas.core.Gas(formula='O₂')],\n",
       " 'products': [exex.gas.core.Gas(formula='C₁O₂')],\n",
       " 'formula': '1C₂ + 1O₂ --> 1C₁O₂',\n",
       " 'system': <exex.system.System>,\n",
       " 'environment': <exex.environment.OpenContainer>}"
      ]
     },
     "execution_count": null,
     "metadata": {},
     "output_type": "execute_result"
    }
   ],
   "source": [
    "r.__dict__"
   ]
  },
  {
   "cell_type": "code",
   "execution_count": null,
   "metadata": {},
   "outputs": [
    {
     "data": {
      "text/plain": [
       "<exex.system.System>"
      ]
     },
     "execution_count": null,
     "metadata": {},
     "output_type": "execute_result"
    }
   ],
   "source": [
    "CO2.get_system()"
   ]
  },
  {
   "cell_type": "code",
   "execution_count": null,
   "metadata": {},
   "outputs": [
    {
     "data": {
      "text/plain": [
       "{'universe': None,\n",
       " 'current_time': None,\n",
       " 'highest_time': None,\n",
       " 'reactions': [exex.reaction.core.Reaction(formula='1C₂ + 1O₂ --> 1C₁O₂')],\n",
       " '_subscribers': {},\n",
       " 'idx_reaction': None}"
      ]
     },
     "execution_count": null,
     "metadata": {},
     "output_type": "execute_result"
    }
   ],
   "source": [
    "r.system.__dict__"
   ]
  },
  {
   "cell_type": "code",
   "execution_count": null,
   "metadata": {},
   "outputs": [
    {
     "data": {
      "text/plain": [
       "exex.reaction.core.Reaction(formula='1C₂ + 1O₂ --> 1C₁O₂')"
      ]
     },
     "execution_count": null,
     "metadata": {},
     "output_type": "execute_result"
    }
   ],
   "source": [
    "r"
   ]
  },
  {
   "cell_type": "code",
   "execution_count": null,
   "metadata": {},
   "outputs": [
    {
     "data": {
      "text/plain": [
       "{'mass': <exex.core.Mass>,\n",
       " 'mole': <exex.core.Mole>,\n",
       " 'pressure': <exex.core.Pressure>,\n",
       " 'volume': <exex.core.Volume>,\n",
       " 'temperature': <exex.core.Temperature>,\n",
       " 'ideal_gas_constant': <exex.gas.core.IdealGasConstant>,\n",
       " 'is_ideal_gas': <exex.gas.core.IsIdealGas>}"
      ]
     },
     "execution_count": null,
     "metadata": {},
     "output_type": "execute_result"
    }
   ],
   "source": [
    "CO2.properties"
   ]
  },
  {
   "cell_type": "code",
   "execution_count": null,
   "metadata": {},
   "outputs": [
    {
     "data": {
      "text/plain": [
       "{'compound': exex.gas.core.Gas(formula='C₁O₂'),\n",
       " 'properties': [{'object': exex.core.Mass}, {'object': exex.core.Mole}]}"
      ]
     },
     "execution_count": null,
     "metadata": {},
     "output_type": "execute_result"
    }
   ],
   "source": [
    "CO2.laws[\"mass_mole_ratio\"].__dict__"
   ]
  },
  {
   "cell_type": "code",
   "execution_count": null,
   "metadata": {},
   "outputs": [],
   "source": [
    "from exex.utils import camel_to_snake"
   ]
  },
  {
   "cell_type": "code",
   "execution_count": null,
   "metadata": {},
   "outputs": [
    {
     "data": {
      "text/plain": [
       "'gas'"
      ]
     },
     "execution_count": null,
     "metadata": {},
     "output_type": "execute_result"
    }
   ],
   "source": [
    "camel2snake(CO2.__class__.__name__)"
   ]
  },
  {
   "cell_type": "code",
   "execution_count": null,
   "metadata": {},
   "outputs": [
    {
     "data": {
      "text/plain": [
       "'C2'"
      ]
     },
     "execution_count": null,
     "metadata": {},
     "output_type": "execute_result"
    }
   ],
   "source": [
    "C2.snake_name"
   ]
  },
  {
   "cell_type": "code",
   "execution_count": null,
   "metadata": {},
   "outputs": [],
   "source": [
    "reactants = [C2, O2]"
   ]
  },
  {
   "cell_type": "code",
   "execution_count": null,
   "metadata": {},
   "outputs": [],
   "source": [
    "dic = {}"
   ]
  },
  {
   "cell_type": "code",
   "execution_count": null,
   "metadata": {},
   "outputs": [
    {
     "data": {
      "text/plain": [
       "'C₂'"
      ]
     },
     "execution_count": null,
     "metadata": {},
     "output_type": "execute_result"
    }
   ],
   "source": [
    "C2.formula"
   ]
  },
  {
   "cell_type": "code",
   "execution_count": null,
   "metadata": {},
   "outputs": [],
   "source": [
    "for reactant in reactants:\n",
    "    dic[reactant.snake_name] = reactant"
   ]
  },
  {
   "cell_type": "code",
   "execution_count": null,
   "metadata": {},
   "outputs": [],
   "source": []
  },
  {
   "cell_type": "code",
   "execution_count": null,
   "metadata": {},
   "outputs": [
    {
     "data": {
      "text/plain": [
       "{'C2': exex.gas.core.Gas(formula='C₂'), 'O2': exex.gas.core.Gas(formula='O₂')}"
      ]
     },
     "execution_count": null,
     "metadata": {},
     "output_type": "execute_result"
    }
   ],
   "source": [
    "dic"
   ]
  },
  {
   "cell_type": "code",
   "execution_count": null,
   "metadata": {},
   "outputs": [
    {
     "data": {
      "text/plain": [
       "exex.gas.core.Gas(formula='C₂')"
      ]
     },
     "execution_count": null,
     "metadata": {},
     "output_type": "execute_result"
    }
   ],
   "source": [
    "C2"
   ]
  },
  {
   "cell_type": "code",
   "execution_count": null,
   "metadata": {},
   "outputs": [
    {
     "data": {
      "text/plain": [
       "{'properties': {'mass': <exex.core.Mass>,\n",
       "  'mole': <exex.core.Mole>,\n",
       "  'pressure': <exex.core.Pressure>,\n",
       "  'volume': <exex.core.Volume>,\n",
       "  'temperature': <exex.core.Temperature>,\n",
       "  'ideal_gas_constant': <exex.gas.core.IdealGasConstant>,\n",
       "  'is_ideal_gas': <exex.gas.core.IsIdealGas>},\n",
       " 'laws': {'mass_mole_ratio': <exex.compound.core.MassMoleRatio>,\n",
       "  'boyle_law': <exex.gas.core.BoyleLaw>,\n",
       "  'charles_law': <exex.gas.core.CharlesLaw>,\n",
       "  'avogadro_law': <exex.gas.core.AvogadroLaw>,\n",
       "  'ideal_gas_law': <exex.gas.core.IdealGasLaw>},\n",
       " 'time': None,\n",
       " 'system': <exex.system.System>,\n",
       " 'elements': [<chemlib.chemistry.Element>,\n",
       "  <chemlib.chemistry.Element>],\n",
       " 'formula': 'C₂',\n",
       " 'coefficient': 1,\n",
       " 'occurences': {'C': 2}}"
      ]
     },
     "execution_count": null,
     "metadata": {},
     "output_type": "execute_result"
    }
   ],
   "source": [
    "C2.__dict__"
   ]
  },
  {
   "cell_type": "code",
   "execution_count": null,
   "metadata": {},
   "outputs": [
    {
     "data": {
      "text/plain": [
       "'C₂'"
      ]
     },
     "execution_count": null,
     "metadata": {},
     "output_type": "execute_result"
    }
   ],
   "source": [
    "C2.formula"
   ]
  },
  {
   "cell_type": "code",
   "execution_count": null,
   "metadata": {},
   "outputs": [
    {
     "data": {
      "text/plain": [
       "{'reactants': [exex.gas.core.Gas(formula='C₂'),\n",
       "  exex.gas.core.Gas(formula='O₂')],\n",
       " 'products': [exex.gas.core.Gas(formula='C₁O₂')],\n",
       " 'compounds': [exex.gas.core.Gas(formula='C₂'),\n",
       "  exex.gas.core.Gas(formula='O₂'),\n",
       "  exex.gas.core.Gas(formula='C₁O₂')],\n",
       " 'reactant_formulas': ['C₂', 'O₂'],\n",
       " 'product_formulas': ['C₁O₂'],\n",
       " 'formula': '1C₂ + 1O₂ --> 1C₁O₂',\n",
       " 'coefficients': {'C₂': 1, 'O₂': 1, 'C₁O₂': 1},\n",
       " 'constituents': ['C₂', 'O₂', 'C₁O₂'],\n",
       " 'reactant_occurences': {'C': 2, 'O': 2},\n",
       " 'product_occurences': {'C': 1, 'O': 2},\n",
       " 'is_balanced': False}"
      ]
     },
     "execution_count": null,
     "metadata": {},
     "output_type": "execute_result"
    }
   ],
   "source": [
    "r.reaction.__dict__"
   ]
  },
  {
   "cell_type": "code",
   "execution_count": null,
   "metadata": {},
   "outputs": [],
   "source": [
    "from chemlib import Reaction, Compound"
   ]
  },
  {
   "cell_type": "code",
   "execution_count": null,
   "metadata": {},
   "outputs": [
    {
     "data": {
      "text/plain": [
       "{'reactants': [<chemlib.chemistry.Compound>],\n",
       " 'products': [],\n",
       " 'compounds': [<chemlib.chemistry.Compound>],\n",
       " 'reactant_formulas': ['C₁O₂'],\n",
       " 'product_formulas': [],\n",
       " 'formula': '1C₁O₂ --> ',\n",
       " 'coefficients': {'C₁O₂': 1},\n",
       " 'constituents': ['C₁O₂'],\n",
       " 'reactant_occurences': {'C': 1, 'O': 2},\n",
       " 'product_occurences': {},\n",
       " 'is_balanced': False}"
      ]
     },
     "execution_count": null,
     "metadata": {},
     "output_type": "execute_result"
    }
   ],
   "source": [
    "Reaction(reactants=[Compound(\"CO2\")], products=[]).__dict__"
   ]
  },
  {
   "cell_type": "code",
   "execution_count": null,
   "metadata": {},
   "outputs": [],
   "source": []
  }
 ],
 "metadata": {
  "kernelspec": {
   "display_name": "Python 3 (ipykernel)",
   "language": "python",
   "name": "python3"
  }
 },
 "nbformat": 4,
 "nbformat_minor": 4
}
