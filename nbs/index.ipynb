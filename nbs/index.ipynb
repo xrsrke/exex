{
 "cells": [
  {
   "cell_type": "code",
   "execution_count": null,
   "metadata": {},
   "outputs": [],
   "source": [
    "#| hide\n",
    "from exex.core import *\n",
    "from exex.compound.gas import *\n",
    "from exex.reaction.core import *"
   ]
  },
  {
   "cell_type": "markdown",
   "metadata": {},
   "source": [
    "# exex\n",
    "\n",
    "> Experiment codebase for chemchem package"
   ]
  },
  {
   "cell_type": "markdown",
   "metadata": {},
   "source": [
    "This file will become your README and also the index of your documentation."
   ]
  },
  {
   "cell_type": "markdown",
   "metadata": {},
   "source": [
    "## Install"
   ]
  },
  {
   "cell_type": "markdown",
   "metadata": {},
   "source": [
    "```sh\n",
    "pip install exex\n",
    "```"
   ]
  },
  {
   "cell_type": "code",
   "execution_count": null,
   "metadata": {},
   "outputs": [],
   "source": [
    "H2 = Gas('H2')"
   ]
  },
  {
   "cell_type": "code",
   "execution_count": null,
   "metadata": {},
   "outputs": [],
   "source": [
    "CO2 = Gas('CO2')"
   ]
  },
  {
   "cell_type": "code",
   "execution_count": null,
   "metadata": {},
   "outputs": [],
   "source": [
    "CH4 = Gas('CH4')"
   ]
  },
  {
   "cell_type": "code",
   "execution_count": null,
   "metadata": {},
   "outputs": [],
   "source": [
    "O2 = Gas('O2')"
   ]
  },
  {
   "cell_type": "code",
   "execution_count": null,
   "metadata": {},
   "outputs": [],
   "source": [
    "CO = Gas('CO')"
   ]
  },
  {
   "cell_type": "code",
   "execution_count": null,
   "metadata": {},
   "outputs": [],
   "source": [
    "r = Reaction(reactants=[H2, CO2], products=[CH4, O2, CO])"
   ]
  },
  {
   "cell_type": "code",
   "execution_count": null,
   "metadata": {},
   "outputs": [
    {
     "data": {
      "text/plain": [
       "{'reaction': <chemlib.chemistry.Reaction>}"
      ]
     },
     "execution_count": null,
     "metadata": {},
     "output_type": "execute_result"
    }
   ],
   "source": [
    "r.__dict__"
   ]
  },
  {
   "cell_type": "code",
   "execution_count": null,
   "metadata": {},
   "outputs": [
    {
     "data": {
      "text/plain": [
       "{'reactants': [<exex.compound.gas.Gas>,\n",
       "  <exex.compound.gas.Gas>],\n",
       " 'products': [<exex.compound.gas.Gas>,\n",
       "  <exex.compound.gas.Gas>,\n",
       "  <exex.compound.gas.Gas>],\n",
       " 'compounds': [<exex.compound.gas.Gas>,\n",
       "  <exex.compound.gas.Gas>,\n",
       "  <exex.compound.gas.Gas>,\n",
       "  <exex.compound.gas.Gas>,\n",
       "  <exex.compound.gas.Gas>],\n",
       " 'reactant_formulas': ['H₂', 'C₁O₂'],\n",
       " 'product_formulas': ['C₁H₄', 'O₂', 'C₁O₁'],\n",
       " 'formula': '1H₂ + 1C₁O₂ --> 1C₁H₄ + 1O₂ + 1C₁O₁',\n",
       " 'coefficients': {'H₂': 1, 'C₁O₂': 1, 'C₁H₄': 1, 'O₂': 1, 'C₁O₁': 1},\n",
       " 'constituents': ['H₂', 'C₁O₂', 'C₁H₄', 'O₂', 'C₁O₁'],\n",
       " 'reactant_occurences': {'H': 2, 'C': 1, 'O': 2},\n",
       " 'product_occurences': {'C': 2, 'H': 4, 'O': 3},\n",
       " 'is_balanced': False}"
      ]
     },
     "execution_count": null,
     "metadata": {},
     "output_type": "execute_result"
    }
   ],
   "source": [
    "r.reaction.__dict__"
   ]
  },
  {
   "cell_type": "code",
   "execution_count": null,
   "metadata": {},
   "outputs": [],
   "source": [
    "system = System()"
   ]
  },
  {
   "cell_type": "code",
   "execution_count": null,
   "metadata": {},
   "outputs": [],
   "source": [
    "system.reactions['r'] = r"
   ]
  },
  {
   "cell_type": "code",
   "execution_count": null,
   "metadata": {},
   "outputs": [
    {
     "data": {
      "text/plain": [
       "<exex.reaction.core.Reaction>"
      ]
     },
     "execution_count": null,
     "metadata": {},
     "output_type": "execute_result"
    }
   ],
   "source": [
    "system.reactions['r']"
   ]
  },
  {
   "cell_type": "code",
   "execution_count": null,
   "metadata": {},
   "outputs": [],
   "source": []
  }
 ],
 "metadata": {
  "kernelspec": {
   "display_name": "Python 3 (ipykernel)",
   "language": "python",
   "name": "python3"
  }
 },
 "nbformat": 4,
 "nbformat_minor": 4
}
