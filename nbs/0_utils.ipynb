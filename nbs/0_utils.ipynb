{
 "cells": [
  {
   "cell_type": "markdown",
   "id": "143105f9-0cf2-47ee-87f9-8d3517b62d24",
   "metadata": {},
   "source": [
    "# utils\n",
    "\n",
    "> Fill in a module description here"
   ]
  },
  {
   "cell_type": "code",
   "execution_count": null,
   "id": "8f6d1f33-0f4b-49e6-a109-f45c4118e193",
   "metadata": {},
   "outputs": [],
   "source": [
    "#| default_exp utils"
   ]
  },
  {
   "cell_type": "code",
   "execution_count": null,
   "id": "cc8460c7-9883-4472-8552-e61c0ebe828a",
   "metadata": {},
   "outputs": [],
   "source": [
    "#| hide\n",
    "from nbdev.showdoc import *"
   ]
  },
  {
   "cell_type": "code",
   "execution_count": null,
   "id": "85ecb3c6-d9fb-4ceb-af2a-d12ba66a13dd",
   "metadata": {},
   "outputs": [],
   "source": [
    "#| hide\n",
    "import nbdev; nbdev.nbdev_export()"
   ]
  },
  {
   "cell_type": "code",
   "execution_count": null,
   "id": "728a693f-4d54-43bf-a0c9-81bf91e2c73c",
   "metadata": {},
   "outputs": [],
   "source": [
    "#| export\n",
    "import re\n",
    "\n",
    "from fastcore.test import test_eq"
   ]
  },
  {
   "cell_type": "markdown",
   "id": "32855f27-06f9-4223-b0b3-0d2a673183cd",
   "metadata": {},
   "source": [
    "##### Camel Case"
   ]
  },
  {
   "cell_type": "code",
   "execution_count": null,
   "id": "8057acc2-2297-47d6-95aa-8000cc87c3d5",
   "metadata": {},
   "outputs": [],
   "source": [
    "#| export\n",
    "def camel_to_snake(\n",
    "    name: str # the string that you want to convert\n",
    "    ) -> str: # converted string\n",
    "    name = re.sub('(.)([A-Z][a-z]+)', r'\\1_\\2', name)\n",
    "    return re.sub('([a-z0-9])([A-Z])', r'\\1_\\2', name).lower()"
   ]
  },
  {
   "cell_type": "code",
   "execution_count": null,
   "id": "e39ae3fc-e0b6-45e9-b5bf-90bca130daf7",
   "metadata": {},
   "outputs": [
    {
     "data": {
      "text/markdown": [
       "---\n",
       "\n",
       "[source](https://github.com/xrsrke/exex/blob/main/exex/utils.py#L12){target=\"_blank\" style=\"float:right; font-size:smaller\"}\n",
       "\n",
       "### camel_to_snake\n",
       "\n",
       ">      camel_to_snake (name:str)\n",
       "\n",
       "|    | **Type** | **Details** |\n",
       "| -- | -------- | ----------- |\n",
       "| name | str | the string that you want to convert |\n",
       "| **Returns** | **str** | **converted string** |"
      ],
      "text/plain": [
       "---\n",
       "\n",
       "[source](https://github.com/xrsrke/exex/blob/main/exex/utils.py#L12){target=\"_blank\" style=\"float:right; font-size:smaller\"}\n",
       "\n",
       "### camel_to_snake\n",
       "\n",
       ">      camel_to_snake (name:str)\n",
       "\n",
       "|    | **Type** | **Details** |\n",
       "| -- | -------- | ----------- |\n",
       "| name | str | the string that you want to convert |\n",
       "| **Returns** | **str** | **converted string** |"
      ]
     },
     "execution_count": null,
     "metadata": {},
     "output_type": "execute_result"
    }
   ],
   "source": [
    "show_doc(camel_to_snake)"
   ]
  },
  {
   "cell_type": "code",
   "execution_count": null,
   "id": "6f1e1493-cf63-456a-84a8-b064f253a2bf",
   "metadata": {},
   "outputs": [],
   "source": [
    "converted_str = camel_to_snake('IdealGasLaw')"
   ]
  },
  {
   "cell_type": "code",
   "execution_count": null,
   "id": "eb076cd0-300c-4738-a041-730085ad9b78",
   "metadata": {},
   "outputs": [
    {
     "data": {
      "text/plain": [
       "'ideal_gas_law'"
      ]
     },
     "execution_count": null,
     "metadata": {},
     "output_type": "execute_result"
    }
   ],
   "source": [
    "converted_str"
   ]
  },
  {
   "cell_type": "code",
   "execution_count": null,
   "id": "4b534be2-3cc4-4493-9637-e7673678a6e8",
   "metadata": {},
   "outputs": [],
   "source": [
    "#| hide\n",
    "test_eq(converted_str, 'ideal_gas_law')"
   ]
  },
  {
   "cell_type": "code",
   "execution_count": null,
   "id": "4a9b8f83-2e95-4cc8-b6ae-9113d02dfe8f",
   "metadata": {},
   "outputs": [],
   "source": []
  }
 ],
 "metadata": {
  "kernelspec": {
   "display_name": "Python 3 (ipykernel)",
   "language": "python",
   "name": "python3"
  }
 },
 "nbformat": 4,
 "nbformat_minor": 5
}
