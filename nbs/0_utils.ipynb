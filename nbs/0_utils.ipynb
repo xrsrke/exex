{
 "cells": [
  {
   "cell_type": "markdown",
   "id": "143105f9-0cf2-47ee-87f9-8d3517b62d24",
   "metadata": {},
   "source": [
    "# utils\n",
    "\n",
    "> Fill in a module description here"
   ]
  },
  {
   "cell_type": "code",
   "execution_count": null,
   "id": "8f6d1f33-0f4b-49e6-a109-f45c4118e193",
   "metadata": {},
   "outputs": [],
   "source": [
    "#| default_exp utils"
   ]
  },
  {
   "cell_type": "code",
   "execution_count": null,
   "id": "cc8460c7-9883-4472-8552-e61c0ebe828a",
   "metadata": {},
   "outputs": [],
   "source": [
    "#| hide\n",
    "from nbdev.showdoc import *"
   ]
  },
  {
   "cell_type": "code",
   "execution_count": null,
   "id": "85ecb3c6-d9fb-4ceb-af2a-d12ba66a13dd",
   "metadata": {},
   "outputs": [],
   "source": [
    "#| hide\n",
    "import nbdev; nbdev.nbdev_export()"
   ]
  },
  {
   "cell_type": "code",
   "execution_count": null,
   "id": "728a693f-4d54-43bf-a0c9-81bf91e2c73c",
   "metadata": {},
   "outputs": [],
   "source": [
    "#| export\n",
    "import re\n",
    "\n",
    "from fastcore.test import test_eq"
   ]
  },
  {
   "cell_type": "markdown",
   "id": "32855f27-06f9-4223-b0b3-0d2a673183cd",
   "metadata": {},
   "source": [
    "##### Camel Case"
   ]
  },
  {
   "cell_type": "code",
   "execution_count": null,
   "id": "8057acc2-2297-47d6-95aa-8000cc87c3d5",
   "metadata": {},
   "outputs": [],
   "source": [
    "#| export\n",
    "def camel_to_snake(\n",
    "    name: str # the string that you want to convert\n",
    "    ) -> str: # converted string\n",
    "    name = re.sub('(.)([A-Z][a-z]+)', r'\\1_\\2', name)\n",
    "    return re.sub('([a-z0-9])([A-Z])', r'\\1_\\2', name).lower()"
   ]
  },
  {
   "cell_type": "code",
   "execution_count": null,
   "id": "e39ae3fc-e0b6-45e9-b5bf-90bca130daf7",
   "metadata": {},
   "outputs": [
    {
     "data": {
      "text/markdown": [
       "---\n",
       "\n",
       "[source](https://github.com/xrsrke/exex/blob/main/exex/utils.py#L12){target=\"_blank\" style=\"float:right; font-size:smaller\"}\n",
       "\n",
       "### camel_to_snake\n",
       "\n",
       ">      camel_to_snake (name:str)\n",
       "\n",
       "|    | **Type** | **Details** |\n",
       "| -- | -------- | ----------- |\n",
       "| name | str | the string that you want to convert |\n",
       "| **Returns** | **str** | **converted string** |"
      ],
      "text/plain": [
       "---\n",
       "\n",
       "[source](https://github.com/xrsrke/exex/blob/main/exex/utils.py#L12){target=\"_blank\" style=\"float:right; font-size:smaller\"}\n",
       "\n",
       "### camel_to_snake\n",
       "\n",
       ">      camel_to_snake (name:str)\n",
       "\n",
       "|    | **Type** | **Details** |\n",
       "| -- | -------- | ----------- |\n",
       "| name | str | the string that you want to convert |\n",
       "| **Returns** | **str** | **converted string** |"
      ]
     },
     "execution_count": null,
     "metadata": {},
     "output_type": "execute_result"
    }
   ],
   "source": [
    "show_doc(camel_to_snake)"
   ]
  },
  {
   "cell_type": "code",
   "execution_count": null,
   "id": "6f1e1493-cf63-456a-84a8-b064f253a2bf",
   "metadata": {},
   "outputs": [],
   "source": [
    "converted_str = camel_to_snake('IdealGasLaw')"
   ]
  },
  {
   "cell_type": "code",
   "execution_count": null,
   "id": "eb076cd0-300c-4738-a041-730085ad9b78",
   "metadata": {},
   "outputs": [
    {
     "data": {
      "text/plain": [
       "'ideal_gas_law'"
      ]
     },
     "execution_count": null,
     "metadata": {},
     "output_type": "execute_result"
    }
   ],
   "source": [
    "converted_str"
   ]
  },
  {
   "cell_type": "code",
   "execution_count": null,
   "id": "4b534be2-3cc4-4493-9637-e7673678a6e8",
   "metadata": {},
   "outputs": [],
   "source": [
    "#| hide\n",
    "test_eq(converted_str, 'ideal_gas_law')"
   ]
  },
  {
   "cell_type": "code",
   "execution_count": null,
   "id": "4a9b8f83-2e95-4cc8-b6ae-9113d02dfe8f",
   "metadata": {},
   "outputs": [],
   "source": [
    "#| export\n",
    "def snake_name(x) -> str: # return the snake name style\n",
    "    \"Get the snake style name of an instance\"\n",
    "    \n",
    "    if type(x) == type: return camel_to_snake(x.__name__)\n",
    "    return camel_to_snake(x.__class__.__name__)"
   ]
  },
  {
   "cell_type": "code",
   "execution_count": null,
   "id": "74518c32-f82f-4c26-89e7-fb8a9ea348db",
   "metadata": {},
   "outputs": [
    {
     "data": {
      "text/markdown": [
       "---\n",
       "\n",
       "[source](https://github.com/xrsrke/exex/blob/main/exex/utils.py#L19){target=\"_blank\" style=\"float:right; font-size:smaller\"}\n",
       "\n",
       "### snake_name\n",
       "\n",
       ">      snake_name (x)\n",
       "\n",
       "Get the snake style name of an instance\n",
       "\n",
       "|    | **Type** | **Details** |\n",
       "| -- | -------- | ----------- |\n",
       "| x |  |  |\n",
       "| **Returns** | **str** | **return the snake name style** |"
      ],
      "text/plain": [
       "---\n",
       "\n",
       "[source](https://github.com/xrsrke/exex/blob/main/exex/utils.py#L19){target=\"_blank\" style=\"float:right; font-size:smaller\"}\n",
       "\n",
       "### snake_name\n",
       "\n",
       ">      snake_name (x)\n",
       "\n",
       "Get the snake style name of an instance\n",
       "\n",
       "|    | **Type** | **Details** |\n",
       "| -- | -------- | ----------- |\n",
       "| x |  |  |\n",
       "| **Returns** | **str** | **return the snake name style** |"
      ]
     },
     "execution_count": null,
     "metadata": {},
     "output_type": "execute_result"
    }
   ],
   "source": [
    "show_doc(snake_name)"
   ]
  },
  {
   "cell_type": "code",
   "execution_count": null,
   "id": "55411926-7389-4114-b831-494abe3dcbcf",
   "metadata": {},
   "outputs": [],
   "source": [
    "class AtomicOrbital(): pass"
   ]
  },
  {
   "cell_type": "code",
   "execution_count": null,
   "id": "227ce00d-5957-4530-a9b3-37f484ef20e3",
   "metadata": {},
   "outputs": [
    {
     "data": {
      "text/plain": [
       "__main__.AtomicOrbital"
      ]
     },
     "execution_count": null,
     "metadata": {},
     "output_type": "execute_result"
    }
   ],
   "source": [
    "AtomicOrbital"
   ]
  },
  {
   "cell_type": "code",
   "execution_count": null,
   "id": "3f9f3728-b6ca-49f7-b6bc-f42ad2764cb2",
   "metadata": {},
   "outputs": [],
   "source": [
    "name = snake_name(AtomicOrbital())"
   ]
  },
  {
   "cell_type": "code",
   "execution_count": null,
   "id": "7a2c1f1e-4252-4428-937b-b37336746550",
   "metadata": {},
   "outputs": [
    {
     "data": {
      "text/plain": [
       "'atomic_orbital'"
      ]
     },
     "execution_count": null,
     "metadata": {},
     "output_type": "execute_result"
    }
   ],
   "source": [
    "snake_name(AtomicOrbital())"
   ]
  },
  {
   "cell_type": "code",
   "execution_count": null,
   "id": "225e2b0c-104c-4884-8f0b-2e598aee2f40",
   "metadata": {},
   "outputs": [
    {
     "data": {
      "text/plain": [
       "'atomic_orbital'"
      ]
     },
     "execution_count": null,
     "metadata": {},
     "output_type": "execute_result"
    }
   ],
   "source": [
    "snake_name(AtomicOrbital)"
   ]
  },
  {
   "cell_type": "code",
   "execution_count": null,
   "id": "72bc2357-ba16-4264-9b14-b0757fc02f01",
   "metadata": {},
   "outputs": [
    {
     "data": {
      "text/plain": [
       "'atomic_orbital'"
      ]
     },
     "execution_count": null,
     "metadata": {},
     "output_type": "execute_result"
    }
   ],
   "source": [
    "name"
   ]
  },
  {
   "cell_type": "code",
   "execution_count": null,
   "id": "64fe24aa-dade-4909-85c0-e9813d022550",
   "metadata": {},
   "outputs": [],
   "source": [
    "#| hide\n",
    "test_eq(name, 'atomic_orbital')"
   ]
  },
  {
   "cell_type": "markdown",
   "id": "1b4fd1ec-3345-474a-954c-ad7dd3c546f3",
   "metadata": {},
   "source": [
    "##### String to Formula"
   ]
  },
  {
   "cell_type": "code",
   "execution_count": null,
   "id": "a6aaa47c-955e-4b6e-9d24-7c57ecc55e05",
   "metadata": {},
   "outputs": [],
   "source": [
    "#| export\n",
    "SUB = str.maketrans(\"0123456789\", \"₀₁₂₃₄₅₆₇₈₉\")\n",
    "REV_SUB = str.maketrans(\"₀₁₂₃₄₅₆₇₈₉\", \"0123456789\")"
   ]
  },
  {
   "cell_type": "code",
   "execution_count": null,
   "id": "f92c83f8",
   "metadata": {},
   "outputs": [],
   "source": [
    "# TODO: fix C1O2 to CO2 (remove coefficient 1)"
   ]
  },
  {
   "cell_type": "code",
   "execution_count": null,
   "id": "5bf82da8-f7d0-4673-bf74-3db644c40628",
   "metadata": {},
   "outputs": [],
   "source": [
    "#| export\n",
    "def str2fml(x: str) -> str:\n",
    "    return x.translate(SUB)"
   ]
  },
  {
   "cell_type": "code",
   "execution_count": null,
   "id": "662696f9-e369-4579-a941-eec62f899857",
   "metadata": {},
   "outputs": [],
   "source": [
    "H2O = str2fml('H2O')"
   ]
  },
  {
   "cell_type": "code",
   "execution_count": null,
   "id": "d47ba087-657e-46ea-ad44-647d8ed41b04",
   "metadata": {},
   "outputs": [
    {
     "data": {
      "text/plain": [
       "'H₂O'"
      ]
     },
     "execution_count": null,
     "metadata": {},
     "output_type": "execute_result"
    }
   ],
   "source": [
    "H2O"
   ]
  },
  {
   "cell_type": "code",
   "execution_count": null,
   "id": "a96c76bd-a443-4a17-9f4f-f77e134425f4",
   "metadata": {},
   "outputs": [],
   "source": [
    "#| hide\n",
    "test_eq(H2O, 'H₂O')"
   ]
  },
  {
   "cell_type": "markdown",
   "id": "7a7c04d9-9324-43a5-b713-48c771ab867e",
   "metadata": {},
   "source": [
    "##### Formula to string"
   ]
  },
  {
   "cell_type": "code",
   "execution_count": null,
   "id": "a5c43aab-4325-473c-aad8-01498c5710a2",
   "metadata": {},
   "outputs": [],
   "source": [
    "#| export\n",
    "def fml2str(x: str) -> str:\n",
    "    return x.translate(REV_SUB)"
   ]
  },
  {
   "cell_type": "code",
   "execution_count": null,
   "id": "1823a343-a408-428f-96fd-3e346ad1bd01",
   "metadata": {},
   "outputs": [],
   "source": [
    "H2O = fml2str('H₂O')"
   ]
  },
  {
   "cell_type": "code",
   "execution_count": null,
   "id": "f7ece96e-f0cc-4e16-b213-bdbe61711e39",
   "metadata": {},
   "outputs": [
    {
     "data": {
      "text/plain": [
       "'H2O'"
      ]
     },
     "execution_count": null,
     "metadata": {},
     "output_type": "execute_result"
    }
   ],
   "source": [
    "H2O"
   ]
  },
  {
   "cell_type": "code",
   "execution_count": null,
   "id": "a6588548-3320-4b12-b579-c7bb4077d071",
   "metadata": {},
   "outputs": [],
   "source": [
    "#| hide\n",
    "test_eq(H2O, 'H2O')"
   ]
  }
 ],
 "metadata": {
  "kernelspec": {
   "display_name": "Python 3 (ipykernel)",
   "language": "python",
   "name": "python3"
  }
 },
 "nbformat": 4,
 "nbformat_minor": 5
}
