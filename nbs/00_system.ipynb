{
 "cells": [
  {
   "cell_type": "markdown",
   "id": "cc0c83c1-0dbc-478a-88e3-30e825b13cb5",
   "metadata": {},
   "source": [
    "# system\n",
    "\n",
    "> Fill in a module description here"
   ]
  },
  {
   "cell_type": "code",
   "execution_count": null,
   "id": "b5370ba3-29e9-4cec-a286-f7ae9c02209e",
   "metadata": {},
   "outputs": [],
   "source": [
    "#| default_exp system"
   ]
  },
  {
   "cell_type": "code",
   "execution_count": null,
   "id": "11cc983b-274f-4d6d-8ca6-f7d38489954f",
   "metadata": {},
   "outputs": [],
   "source": [
    "#| hide\n",
    "from nbdev.showdoc import *"
   ]
  },
  {
   "cell_type": "code",
   "execution_count": null,
   "id": "dd2b3dcc-5ff3-405b-b64c-baa6636e7b4b",
   "metadata": {},
   "outputs": [],
   "source": [
    "#| hide\n",
    "import nbdev; nbdev.nbdev_export()"
   ]
  },
  {
   "cell_type": "code",
   "execution_count": null,
   "id": "af297ee7-35cf-4b71-9443-1daca38db4e2",
   "metadata": {},
   "outputs": [],
   "source": [
    "#| export\n",
    "from exex.imports import *\n",
    "from exex.core import *"
   ]
  },
  {
   "cell_type": "code",
   "execution_count": null,
   "id": "f74cc35d-109b-4d13-ab83-9708abff9059",
   "metadata": {},
   "outputs": [],
   "source": [
    "#| export\n",
    "@docs\n",
    "class System(metaclass=PrePostInitMeta):\n",
    "    def __init__(\n",
    "        self,\n",
    "        reactions = [] # list of reactions\n",
    "    ):\n",
    "        self.universe = None\n",
    "        self.current_time: int = None\n",
    "        self.highest_time: int = None\n",
    "        self.reactions: list = reactions\n",
    "        self._subscribers = dict()\n",
    "        self.idx_reaction: int = None\n",
    "    \n",
    "    def __post_init__(self, *args, **kwargs):\n",
    "        self._setup_reaction()\n",
    "    \n",
    "    def _setup_reaction(self) -> None:\n",
    "        if len(self.reactions) < 1: return\n",
    "        for name, compound in self.reactions[0].compounds.items():\n",
    "            compound._set_system(self)\n",
    "\n",
    "    def reaction(\n",
    "        self,\n",
    "        idx: int # the index of the reaction\n",
    "    ): # the reaction\n",
    "        \n",
    "        if idx > len(self.reactions): return 'Sorry. idx too big'\n",
    "        \n",
    "        self.idx_reaction = idx\n",
    "        return self\n",
    "    \n",
    "    _docs = dict(cls_doc='A container that acts as a mediator help compound, reaction and universe communicate to each other',\n",
    "                 reaction='',)"
   ]
  },
  {
   "cell_type": "code",
   "execution_count": null,
   "id": "88794308-921a-49ac-96b8-f7b8caf36dd7",
   "metadata": {},
   "outputs": [],
   "source": [
    "#| export\n",
    "_msg = dict(\n",
    "    no_property = \"Can't find the property\"\n",
    ")"
   ]
  },
  {
   "cell_type": "code",
   "execution_count": null,
   "id": "0f3705c1-df57-4fc9-aa4c-18c2392d4c0d",
   "metadata": {},
   "outputs": [],
   "source": [
    "@patch\n",
    "def check_property(self: System, instance, name):\n",
    "    if name not in instance.properties:\n",
    "        raise ValueError(_msg['no_property'])"
   ]
  },
  {
   "cell_type": "code",
   "execution_count": null,
   "id": "a9657bf0-ae14-4ed8-bc81-bdce52086a1d",
   "metadata": {},
   "outputs": [],
   "source": [
    "#| export\n",
    "@patch\n",
    "def get_prop(self: System, name: str, t: int, instance, **kwargs):\n",
    "    return instance.properties[name](t, **kwargs)"
   ]
  },
  {
   "cell_type": "code",
   "execution_count": null,
   "id": "ed3378de-471f-4fd3-90b6-929c87aa96d3",
   "metadata": {},
   "outputs": [],
   "source": [
    "#| export\n",
    "@patch\n",
    "def set_prop(self: System, name, val, t, instance, **kwargs):        \n",
    "    return instance.properties[name].set_val(val, t, **kwargs)"
   ]
  },
  {
   "cell_type": "code",
   "execution_count": null,
   "id": "b38ccd00-f755-422d-a2c0-44b118fe71fb",
   "metadata": {},
   "outputs": [
    {
     "data": {
      "text/markdown": [
       "---\n",
       "\n",
       "[source](https://github.com/xrsrke/exex/blob/main/exex/system.py#L12){target=\"_blank\" style=\"float:right; font-size:smaller\"}\n",
       "\n",
       "### System\n",
       "\n",
       ">      System (reactions=[])\n",
       "\n",
       "A container that acts as a mediator help compound, reaction and universe communicate to each other\n",
       "\n",
       "|    | **Type** | **Default** | **Details** |\n",
       "| -- | -------- | ----------- | ----------- |\n",
       "| reactions | list | [] | list of reactions |"
      ],
      "text/plain": [
       "---\n",
       "\n",
       "[source](https://github.com/xrsrke/exex/blob/main/exex/system.py#L12){target=\"_blank\" style=\"float:right; font-size:smaller\"}\n",
       "\n",
       "### System\n",
       "\n",
       ">      System (reactions=[])\n",
       "\n",
       "A container that acts as a mediator help compound, reaction and universe communicate to each other\n",
       "\n",
       "|    | **Type** | **Default** | **Details** |\n",
       "| -- | -------- | ----------- | ----------- |\n",
       "| reactions | list | [] | list of reactions |"
      ]
     },
     "execution_count": null,
     "metadata": {},
     "output_type": "execute_result"
    }
   ],
   "source": [
    "show_doc(System)"
   ]
  },
  {
   "cell_type": "code",
   "execution_count": null,
   "id": "d9257eb4-97a8-49db-bc4f-7078f1f1574d",
   "metadata": {},
   "outputs": [],
   "source": [
    "class Compound(): pass"
   ]
  },
  {
   "cell_type": "code",
   "execution_count": null,
   "id": "5a0ae45c-a3cb-4cb2-8024-15146fdd465c",
   "metadata": {},
   "outputs": [],
   "source": [
    "H2O, CO2, NO3 = Compound(), Compound(), Compound()"
   ]
  },
  {
   "cell_type": "code",
   "execution_count": null,
   "id": "abdfb628-c976-414f-b9d6-784eb65dadf0",
   "metadata": {},
   "outputs": [],
   "source": [
    "our_universe = 1"
   ]
  },
  {
   "cell_type": "code",
   "execution_count": null,
   "id": "ea0fc338-b6d2-4395-803c-f3c59243e327",
   "metadata": {},
   "outputs": [],
   "source": [
    "reaction1 = 1"
   ]
  },
  {
   "cell_type": "code",
   "execution_count": null,
   "id": "4ab3491b-5ff6-4af0-93c4-2fc5f8c8a625",
   "metadata": {},
   "outputs": [],
   "source": [
    "subscribers = dict(\n",
    "    our_universe = {\n",
    "        \"mass\": lambda x:1,\n",
    "        \"reactions\": {\n",
    "            reaction1: {\n",
    "                H2O: [max, max, max],\n",
    "                CO2: [max, max, max],\n",
    "                NO3: [max, max, max],\n",
    "            },\n",
    "            'reaction2': None\n",
    "        }\n",
    "    }\n",
    ")"
   ]
  },
  {
   "cell_type": "code",
   "execution_count": null,
   "id": "76c2ed78-e0f2-4053-85e7-c1ecf3480ccb",
   "metadata": {},
   "outputs": [
    {
     "data": {
      "text/plain": [
       "{'our_universe': {'mass': <function __main__.<lambda>(x)>,\n",
       "  'reactions': {1: {<__main__.Compound>: [<function max>,\n",
       "     <function max>,\n",
       "     <function max>],\n",
       "    <__main__.Compound>: [<function max>,\n",
       "     <function max>,\n",
       "     <function max>],\n",
       "    <__main__.Compound>: [<function max>,\n",
       "     <function max>,\n",
       "     <function max>]},\n",
       "   'reaction2': None}}}"
      ]
     },
     "execution_count": null,
     "metadata": {},
     "output_type": "execute_result"
    }
   ],
   "source": [
    "subscribers"
   ]
  },
  {
   "cell_type": "code",
   "execution_count": null,
   "id": "f8139867-576a-42d3-8c62-b328179f4f7a",
   "metadata": {},
   "outputs": [
    {
     "data": {
      "text/plain": [
       "(#1) ['our_universe']"
      ]
     },
     "execution_count": null,
     "metadata": {},
     "output_type": "execute_result"
    }
   ],
   "source": [
    "L(subscribers)"
   ]
  },
  {
   "cell_type": "code",
   "execution_count": null,
   "id": "fca80416-6861-4def-bd4a-9ce96add92a9",
   "metadata": {},
   "outputs": [],
   "source": []
  }
 ],
 "metadata": {
  "kernelspec": {
   "display_name": "Python 3 (ipykernel)",
   "language": "python",
   "name": "python3"
  }
 },
 "nbformat": 4,
 "nbformat_minor": 5
}
