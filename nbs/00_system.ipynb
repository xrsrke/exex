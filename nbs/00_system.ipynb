{
 "cells": [
  {
   "cell_type": "markdown",
   "id": "cc0c83c1-0dbc-478a-88e3-30e825b13cb5",
   "metadata": {},
   "source": [
    "# system\n",
    "\n",
    "> Fill in a module description here"
   ]
  },
  {
   "cell_type": "code",
   "execution_count": null,
   "id": "b5370ba3-29e9-4cec-a286-f7ae9c02209e",
   "metadata": {},
   "outputs": [],
   "source": [
    "#| default_exp system"
   ]
  },
  {
   "cell_type": "code",
   "execution_count": null,
   "id": "11cc983b-274f-4d6d-8ca6-f7d38489954f",
   "metadata": {},
   "outputs": [],
   "source": [
    "#| hide\n",
    "from nbdev.showdoc import *"
   ]
  },
  {
   "cell_type": "code",
   "execution_count": null,
   "id": "dd2b3dcc-5ff3-405b-b64c-baa6636e7b4b",
   "metadata": {},
   "outputs": [],
   "source": [
    "#| hide\n",
    "import nbdev; nbdev.nbdev_export()"
   ]
  },
  {
   "cell_type": "code",
   "execution_count": null,
   "id": "af297ee7-35cf-4b71-9443-1daca38db4e2",
   "metadata": {},
   "outputs": [],
   "source": [
    "#| export\n",
    "from exex.core import *"
   ]
  },
  {
   "cell_type": "code",
   "execution_count": null,
   "id": "f74cc35d-109b-4d13-ab83-9708abff9059",
   "metadata": {},
   "outputs": [],
   "source": [
    "#| export\n",
    "class System:\n",
    "    def __init__(self, reactions = []):\n",
    "        self.universe = None\n",
    "        self.current_time: int = None\n",
    "        self.highest_time: int = None\n",
    "        self.reactions: list = reactions\n",
    "        self._subscribers = dict()\n",
    "        self.idx_reaction: int = None\n",
    "    \n",
    "    def add_reaction(\n",
    "        self,\n",
    "        reactions # the list of chemical reactions\n",
    "    ): # return the list of all reactions\n",
    "        #if not isinstance(reaction, Reaction):\n",
    "            \n",
    "        for r in reactions:\n",
    "            self.reactions.append(r)\n",
    "        \n",
    "        return self.reactions\n",
    "\n",
    "    def reaction(\n",
    "        self,\n",
    "        idx: int # the index of the reaction\n",
    "    ): # the reaction\n",
    "        \n",
    "        if idx > len(self.reactions): return 'Sorry. idx too big'\n",
    "        \n",
    "        self.idx_reaction = idx\n",
    "        return self\n",
    "    \n",
    "    # def property(\n",
    "    #     self,\n",
    "    #     name # the name of the property that you want to access\n",
    "    # ):\n",
    "    #     return self\n",
    "    \n",
    "    def _config_reaction(self, reaction):\n",
    "        pass\n",
    "    \n",
    "    def compound(self, compound):\n",
    "        pass\n",
    "    \n",
    "    def set_data(\n",
    "        self,\n",
    "        name: str, # property name\n",
    "        data: list\n",
    "    ):\n",
    "        return self\n",
    "    \n",
    "    def get_data(\n",
    "        self,\n",
    "        name: str, # property name\n",
    "        times: list[int]\n",
    "    ):\n",
    "        return self\n",
    "    \n",
    "    def remove_data(\n",
    "        self,\n",
    "        name: str, # property name\n",
    "        times: list[int]\n",
    "    ):\n",
    "        return self"
   ]
  },
  {
   "cell_type": "code",
   "execution_count": null,
   "id": "b38ccd00-f755-422d-a2c0-44b118fe71fb",
   "metadata": {},
   "outputs": [
    {
     "data": {
      "text/markdown": [
       "---\n",
       "\n",
       "[source](https://github.com/xrsrke/exex/blob/main/exex/system.py#L11){target=\"_blank\" style=\"float:right; font-size:smaller\"}\n",
       "\n",
       "### System\n",
       "\n",
       ">      System ()\n",
       "\n",
       "Initialize self.  See help(type(self)) for accurate signature."
      ],
      "text/plain": [
       "---\n",
       "\n",
       "[source](https://github.com/xrsrke/exex/blob/main/exex/system.py#L11){target=\"_blank\" style=\"float:right; font-size:smaller\"}\n",
       "\n",
       "### System\n",
       "\n",
       ">      System ()\n",
       "\n",
       "Initialize self.  See help(type(self)) for accurate signature."
      ]
     },
     "execution_count": null,
     "metadata": {},
     "output_type": "execute_result"
    }
   ],
   "source": [
    "show_doc(System)"
   ]
  }
 ],
 "metadata": {
  "kernelspec": {
   "display_name": "Python 3 (ipykernel)",
   "language": "python",
   "name": "python3"
  }
 },
 "nbformat": 4,
 "nbformat_minor": 5
}
