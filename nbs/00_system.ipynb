{
 "cells": [
  {
   "cell_type": "markdown",
   "id": "cc0c83c1-0dbc-478a-88e3-30e825b13cb5",
   "metadata": {},
   "source": [
    "# system\n",
    "\n",
    "> Fill in a module description here"
   ]
  },
  {
   "cell_type": "code",
   "execution_count": null,
   "id": "b5370ba3-29e9-4cec-a286-f7ae9c02209e",
   "metadata": {},
   "outputs": [],
   "source": [
    "#| default_exp system"
   ]
  },
  {
   "cell_type": "code",
   "execution_count": null,
   "id": "11cc983b-274f-4d6d-8ca6-f7d38489954f",
   "metadata": {},
   "outputs": [],
   "source": [
    "#| hide\n",
    "from nbdev.showdoc import *"
   ]
  },
  {
   "cell_type": "code",
   "execution_count": null,
   "id": "dd2b3dcc-5ff3-405b-b64c-baa6636e7b4b",
   "metadata": {},
   "outputs": [],
   "source": [
    "#| hide\n",
    "import nbdev; nbdev.nbdev_export()"
   ]
  },
  {
   "cell_type": "code",
   "execution_count": null,
   "id": "f74cc35d-109b-4d13-ab83-9708abff9059",
   "metadata": {},
   "outputs": [],
   "source": [
    "#| export\n",
    "class System:\n",
    "    def __init__(self):\n",
    "        self._current_timestep = 0\n",
    "        self.reactions = []\n",
    "        self.universe = None"
   ]
  },
  {
   "cell_type": "code",
   "execution_count": null,
   "id": "c09597d2-0a34-4b29-a734-091837f978bd",
   "metadata": {},
   "outputs": [],
   "source": []
  },
  {
   "cell_type": "code",
   "execution_count": null,
   "id": "54cabbfb-89e4-4031-8d68-3d0448bb9cfc",
   "metadata": {},
   "outputs": [],
   "source": []
  }
 ],
 "metadata": {
  "kernelspec": {
   "display_name": "Python 3 (ipykernel)",
   "language": "python",
   "name": "python3"
  }
 },
 "nbformat": 4,
 "nbformat_minor": 5
}
