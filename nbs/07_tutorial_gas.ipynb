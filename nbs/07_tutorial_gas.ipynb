{
 "cells": [
  {
   "cell_type": "markdown",
   "id": "772cb927-33d2-435b-a821-59c7bfa2bf33",
   "metadata": {},
   "source": [
    "# Tutorials for Gas"
   ]
  },
  {
   "cell_type": "code",
   "execution_count": null,
   "id": "6a37b108-b419-4111-af25-c5753ed3a451",
   "metadata": {},
   "outputs": [],
   "source": [
    "from exex.gas.all import *"
   ]
  },
  {
   "cell_type": "markdown",
   "id": "f376d958-9c73-45ed-957f-5e7452f73f34",
   "metadata": {},
   "source": [
    "##### Example 1"
   ]
  },
  {
   "cell_type": "code",
   "execution_count": null,
   "id": "e44a0d84-fa08-443a-a183-d603b49f7d0b",
   "metadata": {},
   "outputs": [],
   "source": [
    "H2 = Gas(\"H2\")"
   ]
  },
  {
   "cell_type": "code",
   "execution_count": null,
   "id": "7284d524-6491-4945-ac2a-8e5d62b07c9b",
   "metadata": {},
   "outputs": [],
   "source": [
    "Cl2 = Gas(\"Cl2\")"
   ]
  },
  {
   "cell_type": "code",
   "execution_count": null,
   "id": "f611fd78-b062-4695-9d79-6151f01b043f",
   "metadata": {},
   "outputs": [],
   "source": [
    "r = Reaction(reactants=[H2, Cl2])"
   ]
  },
  {
   "cell_type": "code",
   "execution_count": null,
   "id": "d2992ab1-4bcd-4b8e-b656-9a47b3311925",
   "metadata": {},
   "outputs": [
    {
     "data": {
      "text/plain": [
       "{'reaction': <chemlib.chemistry.Reaction>,\n",
       " '_reactants': [Compound(H₂), Compound(Cl₂)],\n",
       " '_products': [],\n",
       " 'system': <exex.core.system.System>,\n",
       " 'environment': <exex.environment.OpenContainer>}"
      ]
     },
     "execution_count": null,
     "metadata": {},
     "output_type": "execute_result"
    }
   ],
   "source": [
    "r.__dict__"
   ]
  },
  {
   "cell_type": "code",
   "execution_count": null,
   "id": "315ac8fa-95fa-4b9d-9b9c-b321e3964ab1",
   "metadata": {},
   "outputs": [
    {
     "data": {
      "text/plain": [
       "<exex.core.system.System>"
      ]
     },
     "execution_count": null,
     "metadata": {},
     "output_type": "execute_result"
    }
   ],
   "source": [
    "r.system"
   ]
  },
  {
   "cell_type": "code",
   "execution_count": null,
   "id": "1629e9b4-f278-4c52-84c1-3c8a353ef75e",
   "metadata": {},
   "outputs": [
    {
     "data": {
      "text/plain": [
       "<exex.core.system.System>"
      ]
     },
     "execution_count": null,
     "metadata": {},
     "output_type": "execute_result"
    }
   ],
   "source": [
    "H2.system"
   ]
  },
  {
   "cell_type": "code",
   "execution_count": null,
   "id": "3099c2f4-2b47-4893-a831-76179a00d994",
   "metadata": {},
   "outputs": [],
   "source": []
  },
  {
   "cell_type": "code",
   "execution_count": null,
   "id": "1389d688-9c0e-4515-bd71-223914257b18",
   "metadata": {},
   "outputs": [],
   "source": []
  }
 ],
 "metadata": {
  "kernelspec": {
   "display_name": "Python 3 (ipykernel)",
   "language": "python",
   "name": "python3"
  }
 },
 "nbformat": 4,
 "nbformat_minor": 5
}
