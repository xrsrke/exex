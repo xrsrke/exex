{
 "cells": [
  {
   "cell_type": "markdown",
   "id": "d2bac2f6-e0f6-4c58-b484-2d7fdebdbdf5",
   "metadata": {},
   "source": [
    "# Gas Reaction\n",
    "\n",
    "> Fill in a module description here"
   ]
  },
  {
   "cell_type": "code",
   "execution_count": null,
   "id": "961625c9-4072-40bd-b27b-518fe055f4c6",
   "metadata": {},
   "outputs": [],
   "source": [
    "#| default_exp gas.reaction"
   ]
  },
  {
   "cell_type": "code",
   "execution_count": null,
   "id": "8d65a82b-ee40-40f8-a8d7-8ec9b174a578",
   "metadata": {},
   "outputs": [],
   "source": [
    "#| hide\n",
    "from nbdev.showdoc import *"
   ]
  },
  {
   "cell_type": "code",
   "execution_count": null,
   "id": "18199874-d621-410d-b2ca-0ebe891a3bd0",
   "metadata": {},
   "outputs": [],
   "source": [
    "#| hide\n",
    "import nbdev; nbdev.nbdev_export()"
   ]
  },
  {
   "cell_type": "code",
   "execution_count": null,
   "id": "f85aea91-8958-42ff-9dd3-203e37607027",
   "metadata": {},
   "outputs": [],
   "source": [
    "#| export\n",
    "from exex.basics import *"
   ]
  },
  {
   "cell_type": "code",
   "execution_count": null,
   "id": "fb8eda9d-b204-425f-a7d1-a44d8e1f0b37",
   "metadata": {},
   "outputs": [],
   "source": [
    "#| export\n",
    "class GasReaction:\n",
    "    pass"
   ]
  }
 ],
 "metadata": {
  "kernelspec": {
   "display_name": "Python 3 (ipykernel)",
   "language": "python",
   "name": "python3"
  }
 },
 "nbformat": 4,
 "nbformat_minor": 5
}
