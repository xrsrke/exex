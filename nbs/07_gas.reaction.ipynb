{
 "cells": [
  {
   "cell_type": "markdown",
   "id": "d2bac2f6-e0f6-4c58-b484-2d7fdebdbdf5",
   "metadata": {},
   "source": [
    "# Gas Reaction\n",
    "\n",
    "> Fill in a module description here"
   ]
  },
  {
   "cell_type": "code",
   "execution_count": null,
   "id": "961625c9-4072-40bd-b27b-518fe055f4c6",
   "metadata": {},
   "outputs": [],
   "source": [
    "#| default_exp gas.reaction"
   ]
  },
  {
   "cell_type": "code",
   "execution_count": null,
   "id": "fb8eda9d-b204-425f-a7d1-a44d8e1f0b37",
   "metadata": {},
   "outputs": [],
   "source": [
    "#| export\n",
    "class GasReaction:\n",
    "    pass"
   ]
  },
  {
   "cell_type": "code",
   "execution_count": null,
   "id": "e1ca8e4a-be49-4f7e-beaa-b94f48a36b18",
   "metadata": {},
   "outputs": [],
   "source": []
  }
 ],
 "metadata": {
  "kernelspec": {
   "display_name": "Python 3 (ipykernel)",
   "language": "python",
   "name": "python3"
  }
 },
 "nbformat": 4,
 "nbformat_minor": 5
}
