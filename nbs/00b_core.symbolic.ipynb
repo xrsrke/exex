{
 "cells": [
  {
   "cell_type": "markdown",
   "id": "965459b7-132c-484a-b5a6-4f8ac72153de",
   "metadata": {},
   "source": [
    "# core\n",
    "\n",
    "> Fill in a module description here"
   ]
  },
  {
   "cell_type": "code",
   "execution_count": null,
   "id": "bc5bbbcc-dd30-4217-a815-03052cb616f7",
   "metadata": {},
   "outputs": [],
   "source": [
    "# | default_exp core.symbolic"
   ]
  },
  {
   "cell_type": "code",
   "execution_count": null,
   "id": "8a3cf122-3a2a-408e-b1e2-ad064684c543",
   "metadata": {},
   "outputs": [],
   "source": [
    "# | hide\n",
    "from nbdev.showdoc import *"
   ]
  },
  {
   "cell_type": "code",
   "execution_count": null,
   "id": "cb71c835-d025-4373-a58c-b0660ba667b2",
   "metadata": {},
   "outputs": [],
   "source": [
    "# | hide\n",
    "import nbdev\n",
    "\n",
    "nbdev.nbdev_export()"
   ]
  },
  {
   "cell_type": "code",
   "execution_count": null,
   "id": "7cf89896-9347-4042-b5de-b005c57e4c4b",
   "metadata": {},
   "outputs": [],
   "source": [
    "# | export\n",
    "from exex.imports import *"
   ]
  },
  {
   "cell_type": "markdown",
   "id": "0686f251-6d22-4b77-8cbc-364ba9e8843c",
   "metadata": {},
   "source": [
    "### Symbol"
   ]
  },
  {
   "cell_type": "code",
   "execution_count": null,
   "id": "248a0c93",
   "metadata": {},
   "outputs": [],
   "source": [
    "# | export\n",
    "@docs\n",
    "class Symbol(sympy.core.symbol.Symbol):\n",
    "    def __new__(cls, name):\n",
    "        _obj = sympy.core.symbol.Symbol.__new__(cls, name)\n",
    "        return _obj\n",
    "\n",
    "    def set_data(self, data):\n",
    "        self._data = data\n",
    "\n",
    "    @property\n",
    "    def data(self):\n",
    "        return self._data\n",
    "\n",
    "    _docs = dict(cls_doc=\"The symbol\", set_data=\"Set data\", data=\"Set data\")"
   ]
  },
  {
   "cell_type": "code",
   "execution_count": null,
   "id": "0d9bb79f-67e2-40be-a9d5-81325ef605e2",
   "metadata": {},
   "outputs": [],
   "source": [
    "#| export\n",
    "@patch(as_prop=True)\n",
    "def is_evaled(self: Symbol): # Check whether the symbol is evaluated\n",
    "    pass"
   ]
  },
  {
   "cell_type": "code",
   "execution_count": null,
   "id": "3dc4fed4-eb22-4f8c-abe3-2654daa1ab36",
   "metadata": {},
   "outputs": [],
   "source": [
    "x = Symbol(\"x\")"
   ]
  },
  {
   "cell_type": "code",
   "execution_count": null,
   "id": "31c60ed3-0b82-4d25-a55c-c93fda5d091e",
   "metadata": {},
   "outputs": [
    {
     "data": {
      "text/plain": [
       "__main__.Symbol"
      ]
     },
     "execution_count": null,
     "metadata": {},
     "output_type": "execute_result"
    }
   ],
   "source": [
    "type(x)"
   ]
  },
  {
   "cell_type": "code",
   "execution_count": null,
   "id": "cf1caac1-632f-4d38-9463-2c093c015c4f",
   "metadata": {},
   "outputs": [
    {
     "data": {
      "text/plain": [
       "True"
      ]
     },
     "execution_count": null,
     "metadata": {},
     "output_type": "execute_result"
    }
   ],
   "source": [
    "str(x) == 'x'"
   ]
  },
  {
   "cell_type": "code",
   "execution_count": null,
   "id": "48be9bb0-e6b4-43c3-a8a7-1b1b250dbaed",
   "metadata": {},
   "outputs": [],
   "source": [
    "x.set_data({\"t\": 3})"
   ]
  },
  {
   "cell_type": "code",
   "execution_count": null,
   "id": "5102b299-3714-4192-a081-b11ad7e5aa86",
   "metadata": {},
   "outputs": [
    {
     "data": {
      "text/plain": [
       "{'t': 3}"
      ]
     },
     "execution_count": null,
     "metadata": {},
     "output_type": "execute_result"
    }
   ],
   "source": [
    "x.data"
   ]
  },
  {
   "cell_type": "code",
   "execution_count": null,
   "id": "c4cf3079-6014-4795-a095-3c693311d73c",
   "metadata": {},
   "outputs": [],
   "source": [
    "# | hide\n",
    "test_eq(str(x), 'x')\n",
    "test_eq(2 * x / x, 2)"
   ]
  },
  {
   "cell_type": "markdown",
   "id": "147c187d-2a1e-45d4-8d1b-ac3f94b7133b",
   "metadata": {},
   "source": [
    "### Function "
   ]
  },
  {
   "cell_type": "code",
   "execution_count": null,
   "id": "81676484-b5ad-4680-864a-826aed461f12",
   "metadata": {},
   "outputs": [
    {
     "data": {
      "text/plain": [
       "Function"
      ]
     },
     "execution_count": null,
     "metadata": {},
     "output_type": "execute_result"
    }
   ],
   "source": [
    "sympy.core.function.Function"
   ]
  },
  {
   "cell_type": "code",
   "execution_count": null,
   "id": "89e9b1c2-1766-4e65-9786-e985539a9145",
   "metadata": {},
   "outputs": [
    {
     "data": {
      "text/plain": [
       "f"
      ]
     },
     "execution_count": null,
     "metadata": {},
     "output_type": "execute_result"
    }
   ],
   "source": [
    "smp.Function(\"f\")"
   ]
  },
  {
   "cell_type": "code",
   "execution_count": null,
   "id": "7a12d70e-e1f1-4af8-87f9-624d1f4e453a",
   "metadata": {},
   "outputs": [],
   "source": [
    "g = smp.Function(\"g\")(x)"
   ]
  },
  {
   "cell_type": "code",
   "execution_count": null,
   "id": "4e113149-3635-4981-b00e-2eec56fe011e",
   "metadata": {},
   "outputs": [
    {
     "data": {
      "text/latex": [
       "$\\displaystyle g{\\left(x \\right)}$"
      ],
      "text/plain": [
       "g(x)"
      ]
     },
     "execution_count": null,
     "metadata": {},
     "output_type": "execute_result"
    }
   ],
   "source": [
    "g"
   ]
  },
  {
   "cell_type": "code",
   "execution_count": null,
   "id": "7c9df502-84e6-40ac-a3d1-4e6ebc124343",
   "metadata": {},
   "outputs": [
    {
     "data": {
      "text/plain": [
       "g"
      ]
     },
     "execution_count": null,
     "metadata": {},
     "output_type": "execute_result"
    }
   ],
   "source": [
    "type(g)"
   ]
  },
  {
   "cell_type": "code",
   "execution_count": null,
   "id": "915312ce-f767-438c-8b9c-5a751bcbc1b7",
   "metadata": {},
   "outputs": [],
   "source": [
    "# | export\n",
    "class Function(sympy.core.function.Function):\n",
    "    def __new__(cls, name):\n",
    "        _obj = sympy.core.function.Function.__new__(cls, name)\n",
    "        return _obj"
   ]
  },
  {
   "cell_type": "code",
   "execution_count": null,
   "id": "c39c6eb8-2392-4ef1-acf2-00acc04780a2",
   "metadata": {},
   "outputs": [],
   "source": [
    "# Function('k')"
   ]
  },
  {
   "cell_type": "markdown",
   "id": "c6b8cddd-0d1e-4dbb-9ba0-45a0b59a87ac",
   "metadata": {},
   "source": [
    "### Equation"
   ]
  },
  {
   "cell_type": "code",
   "execution_count": null,
   "id": "fccc84b3-0c47-4570-baaa-b90e75ae89a7",
   "metadata": {},
   "outputs": [
    {
     "data": {
      "text/plain": [
       "sympy.core.relational.Equality"
      ]
     },
     "execution_count": null,
     "metadata": {},
     "output_type": "execute_result"
    }
   ],
   "source": [
    "type(smp.Eq(x, 2 * x))"
   ]
  },
  {
   "cell_type": "code",
   "execution_count": null,
   "id": "b742f384-3813-4a18-ae31-3fd4cd43805c",
   "metadata": {},
   "outputs": [],
   "source": [
    "# | export\n",
    "class Equation:\n",
    "    ..."
   ]
  },
  {
   "cell_type": "code",
   "execution_count": null,
   "id": "e2de43d6-ac13-4ea0-b0ea-49d5f6b4a9a5",
   "metadata": {},
   "outputs": [],
   "source": []
  },
  {
   "cell_type": "code",
   "execution_count": null,
   "id": "87d6a0ba-a11b-457d-9c92-df30dbf5a433",
   "metadata": {},
   "outputs": [],
   "source": []
  }
 ],
 "metadata": {
  "kernelspec": {
   "display_name": "Python 3 (ipykernel)",
   "language": "python",
   "name": "python3"
  }
 },
 "nbformat": 4,
 "nbformat_minor": 5
}
