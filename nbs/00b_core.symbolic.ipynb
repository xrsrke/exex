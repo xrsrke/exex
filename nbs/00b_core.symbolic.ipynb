{
 "cells": [
  {
   "cell_type": "markdown",
   "id": "965459b7-132c-484a-b5a6-4f8ac72153de",
   "metadata": {},
   "source": [
    "# core\n",
    "\n",
    "> Fill in a module description here"
   ]
  },
  {
   "cell_type": "code",
   "execution_count": null,
   "id": "bc5bbbcc-dd30-4217-a815-03052cb616f7",
   "metadata": {},
   "outputs": [],
   "source": [
    "# | default_exp core.symbolic"
   ]
  },
  {
   "cell_type": "code",
   "execution_count": null,
   "id": "8a3cf122-3a2a-408e-b1e2-ad064684c543",
   "metadata": {},
   "outputs": [],
   "source": [
    "# | hide\n",
    "from nbdev.showdoc import *"
   ]
  },
  {
   "cell_type": "code",
   "execution_count": null,
   "id": "cb71c835-d025-4373-a58c-b0660ba667b2",
   "metadata": {},
   "outputs": [],
   "source": [
    "# | hide\n",
    "import nbdev\n",
    "\n",
    "nbdev.nbdev_export()"
   ]
  },
  {
   "cell_type": "code",
   "execution_count": null,
   "id": "12a03a8d-584f-4eea-a2e9-c3c5ee67b004",
   "metadata": {},
   "outputs": [],
   "source": [
    "# | export\n",
    "from vipers.imports import *\n",
    "from typing import Any"
   ]
  },
  {
   "cell_type": "markdown",
   "id": "0686f251-6d22-4b77-8cbc-364ba9e8843c",
   "metadata": {},
   "source": [
    "### Symbol"
   ]
  },
  {
   "cell_type": "code",
   "execution_count": null,
   "id": "11db4675-3633-4678-aa14-cbb48a8e38df",
   "metadata": {},
   "outputs": [],
   "source": [
    "# | export\n",
    "@docs\n",
    "class _BaseSymbol(sympy.core.symbol.Symbol):\n",
    "    def __init__(self, *args, **kwargs):\n",
    "        self._states = dict()\n",
    "    \n",
    "    def __new__(cls, name: str, *args, **kwargs):\n",
    "        _obj = sympy.core.symbol.Symbol.__new__(cls, name)\n",
    "        return _obj\n",
    "\n",
    "    def add_state(self, name: str, value: Any) -> None:\n",
    "        self._states[name] = value\n",
    "        \n",
    "    def get_state(self, name: str) -> Any:\n",
    "        return self._states.get(name)\n",
    "\n",
    "    @property\n",
    "    def states(self) -> dict[str, Any]:\n",
    "        return self._states\n",
    "\n",
    "    _docs = dict(cls_doc=\"The symbol\",\n",
    "                 add_state=\"Set data\",\n",
    "                 get_state=\"Get the attribute value\",\n",
    "                 states=\"Set data\")"
   ]
  },
  {
   "cell_type": "code",
   "execution_count": null,
   "id": "0d9bb79f-67e2-40be-a9d5-81325ef605e2",
   "metadata": {},
   "outputs": [],
   "source": [
    "#| export\n",
    "@patch(as_prop=True)\n",
    "def is_evaled(self: _BaseSymbol): # Check whether the symbol is evaluated\n",
    "    pass"
   ]
  },
  {
   "cell_type": "code",
   "execution_count": null,
   "id": "ffa5e307-4815-4c31-913d-273181473d43",
   "metadata": {},
   "outputs": [],
   "source": [
    "#| export\n",
    "class Symbol(_BaseSymbol): pass"
   ]
  },
  {
   "cell_type": "code",
   "execution_count": null,
   "id": "3dc4fed4-eb22-4f8c-abe3-2654daa1ab36",
   "metadata": {},
   "outputs": [],
   "source": [
    "x = Symbol(\"x\")"
   ]
  },
  {
   "cell_type": "code",
   "execution_count": null,
   "id": "5eb66753-9bb3-4373-b206-2f733511eeac",
   "metadata": {},
   "outputs": [
    {
     "data": {
      "text/latex": [
       "$\\displaystyle x$"
      ],
      "text/plain": [
       "x"
      ]
     },
     "execution_count": null,
     "metadata": {},
     "output_type": "execute_result"
    }
   ],
   "source": [
    "x"
   ]
  },
  {
   "cell_type": "code",
   "execution_count": null,
   "id": "ebf2b0a8-2015-46f0-9222-06aa9e7452c4",
   "metadata": {},
   "outputs": [],
   "source": [
    "x.add_state('t', 4.1)"
   ]
  },
  {
   "cell_type": "code",
   "execution_count": null,
   "id": "637c21d2-274d-46e2-84d2-17dd5c3d1e5e",
   "metadata": {},
   "outputs": [
    {
     "data": {
      "text/plain": [
       "4.1"
      ]
     },
     "execution_count": null,
     "metadata": {},
     "output_type": "execute_result"
    }
   ],
   "source": [
    "x.get_state('t')"
   ]
  },
  {
   "cell_type": "code",
   "execution_count": null,
   "id": "c4cf3079-6014-4795-a095-3c693311d73c",
   "metadata": {},
   "outputs": [],
   "source": [
    "# | hide\n",
    "test_eq(str(x), 'x')\n",
    "test_eq(2 * x / x, 2)\n",
    "test_eq(str(Symbol('volume')), 'volume')"
   ]
  },
  {
   "cell_type": "code",
   "execution_count": null,
   "id": "35d6b271-0a0d-4865-aa51-13e3131665c0",
   "metadata": {},
   "outputs": [],
   "source": [
    "#| hide\n",
    "test_eq(x.get_state('t'), 4.1)"
   ]
  },
  {
   "cell_type": "markdown",
   "id": "147c187d-2a1e-45d4-8d1b-ac3f94b7133b",
   "metadata": {},
   "source": [
    "### Function "
   ]
  },
  {
   "cell_type": "code",
   "execution_count": null,
   "id": "81676484-b5ad-4680-864a-826aed461f12",
   "metadata": {},
   "outputs": [
    {
     "data": {
      "text/plain": [
       "Function"
      ]
     },
     "execution_count": null,
     "metadata": {},
     "output_type": "execute_result"
    }
   ],
   "source": [
    "sympy.core.function.Function"
   ]
  },
  {
   "cell_type": "code",
   "execution_count": null,
   "id": "89e9b1c2-1766-4e65-9786-e985539a9145",
   "metadata": {},
   "outputs": [
    {
     "data": {
      "text/plain": [
       "f"
      ]
     },
     "execution_count": null,
     "metadata": {},
     "output_type": "execute_result"
    }
   ],
   "source": [
    "smp.Function(\"f\")"
   ]
  },
  {
   "cell_type": "code",
   "execution_count": null,
   "id": "7a12d70e-e1f1-4af8-87f9-624d1f4e453a",
   "metadata": {},
   "outputs": [],
   "source": [
    "g = smp.Function(\"g\")(x)"
   ]
  },
  {
   "cell_type": "code",
   "execution_count": null,
   "id": "4e113149-3635-4981-b00e-2eec56fe011e",
   "metadata": {},
   "outputs": [
    {
     "data": {
      "text/latex": [
       "$\\displaystyle g{\\left(x \\right)}$"
      ],
      "text/plain": [
       "g(x)"
      ]
     },
     "execution_count": null,
     "metadata": {},
     "output_type": "execute_result"
    }
   ],
   "source": [
    "g"
   ]
  },
  {
   "cell_type": "code",
   "execution_count": null,
   "id": "7c9df502-84e6-40ac-a3d1-4e6ebc124343",
   "metadata": {},
   "outputs": [
    {
     "data": {
      "text/plain": [
       "g"
      ]
     },
     "execution_count": null,
     "metadata": {},
     "output_type": "execute_result"
    }
   ],
   "source": [
    "type(g)"
   ]
  },
  {
   "cell_type": "code",
   "execution_count": null,
   "id": "915312ce-f767-438c-8b9c-5a751bcbc1b7",
   "metadata": {},
   "outputs": [],
   "source": [
    "# | export\n",
    "class _BaseFunction(sympy.core.function.Function):\n",
    "    def __new__(cls, name):\n",
    "        _obj = sympy.core.function.Function.__new__(cls, name)\n",
    "        return _obj"
   ]
  },
  {
   "cell_type": "markdown",
   "id": "c6b8cddd-0d1e-4dbb-9ba0-45a0b59a87ac",
   "metadata": {},
   "source": [
    "### Equation"
   ]
  },
  {
   "cell_type": "code",
   "execution_count": null,
   "id": "fccc84b3-0c47-4570-baaa-b90e75ae89a7",
   "metadata": {},
   "outputs": [
    {
     "data": {
      "text/plain": [
       "sympy.core.relational.Equality"
      ]
     },
     "execution_count": null,
     "metadata": {},
     "output_type": "execute_result"
    }
   ],
   "source": [
    "type(smp.Eq(x, 2 * x))"
   ]
  },
  {
   "cell_type": "code",
   "execution_count": null,
   "id": "b742f384-3813-4a18-ae31-3fd4cd43805c",
   "metadata": {},
   "outputs": [],
   "source": [
    "# | export\n",
    "class Equation:\n",
    "    ..."
   ]
  },
  {
   "cell_type": "code",
   "execution_count": null,
   "id": "87d6a0ba-a11b-457d-9c92-df30dbf5a433",
   "metadata": {},
   "outputs": [],
   "source": []
  },
  {
   "cell_type": "code",
   "execution_count": null,
   "id": "4532011f-285a-4923-9dd7-e4cd24e2682f",
   "metadata": {},
   "outputs": [],
   "source": []
  },
  {
   "cell_type": "code",
   "execution_count": null,
   "id": "3ea0def9-a225-44c5-8ae5-322f1d2f02d9",
   "metadata": {},
   "outputs": [],
   "source": []
  }
 ],
 "metadata": {
  "kernelspec": {
   "display_name": "Python 3 (ipykernel)",
   "language": "python",
   "name": "python3"
  }
 },
 "nbformat": 4,
 "nbformat_minor": 5
}
