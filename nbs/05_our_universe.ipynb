{
 "cells": [
  {
   "cell_type": "markdown",
   "id": "bf78cd9b-73b5-46d7-b604-fc557d09aa1d",
   "metadata": {},
   "source": [
    "# Universe\n",
    "\n",
    "> Fill in a module description here"
   ]
  },
  {
   "cell_type": "code",
   "execution_count": null,
   "id": "d0204a53-bf6c-4f26-a6d9-62603c643153",
   "metadata": {},
   "outputs": [],
   "source": [
    "# | default_exp our_universe"
   ]
  },
  {
   "cell_type": "code",
   "execution_count": null,
   "id": "c4c247e3-95cf-4aca-b79c-37d4ca375581",
   "metadata": {},
   "outputs": [],
   "source": [
    "# | hide\n",
    "from nbdev.showdoc import *"
   ]
  },
  {
   "cell_type": "code",
   "execution_count": null,
   "id": "72bc783f-2696-4696-af56-22b77433db7c",
   "metadata": {},
   "outputs": [],
   "source": [
    "# | hide\n",
    "import nbdev\n",
    "\n",
    "nbdev.nbdev_export()"
   ]
  },
  {
   "cell_type": "code",
   "execution_count": null,
   "id": "c558c6a0-3bc2-4dcb-9245-d993ce37486f",
   "metadata": {},
   "outputs": [
    {
     "name": "stdout",
     "output_type": "stream",
     "text": [
      "Unexpected exception formatting exception. Falling back to standard exception\n"
     ]
    },
    {
     "name": "stderr",
     "output_type": "stream",
     "text": [
      "Traceback (most recent call last):\n",
      "  File \"/opt/anaconda3/envs/chemchem/lib/python3.9/site-packages/IPython/core/interactiveshell.py\", line 3398, in run_code\n",
      "    exec(code_obj, self.user_global_ns, self.user_ns)\n",
      "  File \"/var/folders/qg/0sfc2v8d71jcfr2mk24wj2w80000gp/T/ipykernel_8841/2931176398.py\", line 5, in <cell line: 5>\n",
      "    from exex.core.all import *\n",
      "  File \"/Users/study/DATA/projects/chemistry/exex/exex/core/all.py\", line 7, in <module>\n",
      "    from .matter import Matter\n",
      "  File \"/Users/study/DATA/projects/chemistry/exex/exex/core/matter.py\", line 10, in <module>\n",
      "    from ..system import System\n",
      "  File \"/Users/study/DATA/projects/chemistry/exex/exex/system.py\", line 12, in <module>\n",
      "    class System(metaclass=PrePostInitMeta):\n",
      "  File \"/Users/study/DATA/projects/chemistry/exex/exex/system.py\", line 31, in System\n",
      "    def universe(self):\n",
      "TypeError: 'module' object is not callable\n",
      "\n",
      "During handling of the above exception, another exception occurred:\n",
      "\n",
      "Traceback (most recent call last):\n",
      "  File \"/opt/anaconda3/envs/chemchem/lib/python3.9/site-packages/IPython/core/interactiveshell.py\", line 1993, in showtraceback\n",
      "    stb = self.InteractiveTB.structured_traceback(\n",
      "  File \"/opt/anaconda3/envs/chemchem/lib/python3.9/site-packages/IPython/core/ultratb.py\", line 1118, in structured_traceback\n",
      "    return FormattedTB.structured_traceback(\n",
      "  File \"/opt/anaconda3/envs/chemchem/lib/python3.9/site-packages/IPython/core/ultratb.py\", line 1012, in structured_traceback\n",
      "    return VerboseTB.structured_traceback(\n",
      "  File \"/opt/anaconda3/envs/chemchem/lib/python3.9/site-packages/IPython/core/ultratb.py\", line 865, in structured_traceback\n",
      "    formatted_exception = self.format_exception_as_a_whole(etype, evalue, etb, number_of_lines_of_context,\n",
      "  File \"/opt/anaconda3/envs/chemchem/lib/python3.9/site-packages/IPython/core/ultratb.py\", line 818, in format_exception_as_a_whole\n",
      "    frames.append(self.format_record(r))\n",
      "  File \"/opt/anaconda3/envs/chemchem/lib/python3.9/site-packages/IPython/core/ultratb.py\", line 736, in format_record\n",
      "    result += ''.join(_format_traceback_lines(frame_info.lines, Colors, self.has_colors, lvals))\n",
      "  File \"/opt/anaconda3/envs/chemchem/lib/python3.9/site-packages/stack_data/utils.py\", line 145, in cached_property_wrapper\n",
      "    value = obj.__dict__[self.func.__name__] = self.func(obj)\n",
      "  File \"/opt/anaconda3/envs/chemchem/lib/python3.9/site-packages/stack_data/core.py\", line 698, in lines\n",
      "    pieces = self.included_pieces\n",
      "  File \"/opt/anaconda3/envs/chemchem/lib/python3.9/site-packages/stack_data/utils.py\", line 145, in cached_property_wrapper\n",
      "    value = obj.__dict__[self.func.__name__] = self.func(obj)\n",
      "  File \"/opt/anaconda3/envs/chemchem/lib/python3.9/site-packages/stack_data/core.py\", line 649, in included_pieces\n",
      "    pos = scope_pieces.index(self.executing_piece)\n",
      "  File \"/opt/anaconda3/envs/chemchem/lib/python3.9/site-packages/stack_data/utils.py\", line 145, in cached_property_wrapper\n",
      "    value = obj.__dict__[self.func.__name__] = self.func(obj)\n",
      "  File \"/opt/anaconda3/envs/chemchem/lib/python3.9/site-packages/stack_data/core.py\", line 628, in executing_piece\n",
      "    return only(\n",
      "  File \"/opt/anaconda3/envs/chemchem/lib/python3.9/site-packages/executing/executing.py\", line 164, in only\n",
      "    raise NotOneValueFound('Expected one value, found 0')\n",
      "executing.executing.NotOneValueFound: Expected one value, found 0\n"
     ]
    }
   ],
   "source": [
    "# | export\n",
    "from abc import ABC, abstractmethod\n",
    "\n",
    "from exex.imports import *\n",
    "from exex.core.all import *"
   ]
  },
  {
   "cell_type": "code",
   "execution_count": null,
   "id": "cbaf5b34-7169-43dd-92da-6579c56ca463",
   "metadata": {},
   "outputs": [
    {
     "ename": "NameError",
     "evalue": "name 'Universe' is not defined",
     "output_type": "error",
     "traceback": [
      "\u001b[0;31m---------------------------------------------------------------------------\u001b[0m",
      "\u001b[0;31mNameError\u001b[0m                                 Traceback (most recent call last)",
      "Input \u001b[0;32mIn [9]\u001b[0m, in \u001b[0;36m<cell line: 2>\u001b[0;34m()\u001b[0m\n\u001b[1;32m      1\u001b[0m \u001b[38;5;66;03m# | export\u001b[39;00m\n\u001b[1;32m      2\u001b[0m \u001b[38;5;129m@docs\u001b[39m\n\u001b[0;32m----> 3\u001b[0m \u001b[38;5;28;01mclass\u001b[39;00m \u001b[38;5;21;01mOurUniverse\u001b[39;00m(\u001b[43mUniverse\u001b[49m):\n\u001b[1;32m      4\u001b[0m     _docs \u001b[38;5;241m=\u001b[39m \u001b[38;5;28mdict\u001b[39m(\n\u001b[1;32m      5\u001b[0m         cls_doc\u001b[38;5;241m=\u001b[39m\u001b[38;5;124m\"\u001b[39m\u001b[38;5;124mThe universe that has the law of physics from our universe (yeah you and me)\u001b[39m\u001b[38;5;124m\"\u001b[39m\n\u001b[1;32m      6\u001b[0m     )\n",
      "\u001b[0;31mNameError\u001b[0m: name 'Universe' is not defined"
     ]
    }
   ],
   "source": [
    "# | export\n",
    "@docs\n",
    "class OurUniverse(Universe):\n",
    "    _docs = dict(\n",
    "        cls_doc=\"The universe that has the law of physics from our universe (yeah you and me)\"\n",
    "    )"
   ]
  },
  {
   "cell_type": "code",
   "execution_count": null,
   "id": "9f3d04a5-1a97-4ded-a9a9-53645721e901",
   "metadata": {},
   "outputs": [
    {
     "data": {
      "text/markdown": [
       "---\n",
       "\n",
       "[source](https://github.com/xrsrke/exex/blob/main/exex/our_universe.py#L14){target=\"_blank\" style=\"float:right; font-size:smaller\"}\n",
       "\n",
       "### OurUniverse\n",
       "\n",
       ">      OurUniverse ()\n",
       "\n",
       "The universe that has the law of physics from our universe (yeah you and me)"
      ],
      "text/plain": [
       "---\n",
       "\n",
       "[source](https://github.com/xrsrke/exex/blob/main/exex/our_universe.py#L14){target=\"_blank\" style=\"float:right; font-size:smaller\"}\n",
       "\n",
       "### OurUniverse\n",
       "\n",
       ">      OurUniverse ()\n",
       "\n",
       "The universe that has the law of physics from our universe (yeah you and me)"
      ]
     },
     "execution_count": null,
     "metadata": {},
     "output_type": "execute_result"
    }
   ],
   "source": [
    "show_doc(OurUniverse)"
   ]
  },
  {
   "cell_type": "markdown",
   "id": "8c3e74e9-6d7c-4c1c-90de-ea7e52a5b532",
   "metadata": {},
   "source": [
    "### Universal Law in Our Universe"
   ]
  },
  {
   "cell_type": "markdown",
   "id": "1b998f64",
   "metadata": {},
   "source": [
    "According to our universe and the best of our knowledge, mass can't create or destroy"
   ]
  },
  {
   "cell_type": "code",
   "execution_count": null,
   "id": "621db4c5-bee1-40c8-8997-474235f106cc",
   "metadata": {},
   "outputs": [],
   "source": [
    "# | export\n",
    "@docs\n",
    "class ConservationOfMass(Law):\n",
    "    def __init__(self):\n",
    "        pass\n",
    "\n",
    "    def __bool__(self):\n",
    "        pass\n",
    "\n",
    "    _docs = dict(cls_doc=\"The sum of all masses in the universe\")"
   ]
  },
  {
   "cell_type": "code",
   "execution_count": null,
   "id": "b6e58cf2-d5c4-4a43-9290-81a1890167f9",
   "metadata": {},
   "outputs": [],
   "source": [
    "# | export\n",
    "@docs\n",
    "class ConservationOfEnergy:\n",
    "    _docs = dict(cls_doc=\"The sum of all energies in the universe\")"
   ]
  },
  {
   "cell_type": "code",
   "execution_count": null,
   "id": "aca3cbd5-ab91-4b51-8fd7-d396c2f33a40",
   "metadata": {},
   "outputs": [],
   "source": [
    "# | export\n",
    "@docs\n",
    "class ConservationOfElectricCharge:\n",
    "    _docs = dict(cls_doc=\"The sum of all electric charges in the universe\")"
   ]
  },
  {
   "cell_type": "code",
   "execution_count": null,
   "id": "37a14b25-7b4a-40ab-b390-51ef7d39a351",
   "metadata": {},
   "outputs": [
    {
     "data": {
      "text/markdown": [
       "---\n",
       "\n",
       "[source](https://github.com/xrsrke/exex/blob/main/exex/our_universe.py#L37){target=\"_blank\" style=\"float:right; font-size:smaller\"}\n",
       "\n",
       "### ConservationOfElectricCharge\n",
       "\n",
       ">      ConservationOfElectricCharge ()\n",
       "\n",
       "The sum of all electric charges in the universe"
      ],
      "text/plain": [
       "---\n",
       "\n",
       "[source](https://github.com/xrsrke/exex/blob/main/exex/our_universe.py#L37){target=\"_blank\" style=\"float:right; font-size:smaller\"}\n",
       "\n",
       "### ConservationOfElectricCharge\n",
       "\n",
       ">      ConservationOfElectricCharge ()\n",
       "\n",
       "The sum of all electric charges in the universe"
      ]
     },
     "execution_count": null,
     "metadata": {},
     "output_type": "execute_result"
    }
   ],
   "source": [
    "show_doc(ConservationOfElectricCharge)"
   ]
  },
  {
   "cell_type": "code",
   "execution_count": null,
   "id": "a5b0b4a1-5afb-4c22-85c0-4def2f780a64",
   "metadata": {},
   "outputs": [],
   "source": []
  },
  {
   "cell_type": "code",
   "execution_count": null,
   "id": "a244f351-38e9-4a41-90e7-226812fb1654",
   "metadata": {},
   "outputs": [],
   "source": []
  },
  {
   "cell_type": "code",
   "execution_count": null,
   "id": "eff9dde9-7a26-477e-87f8-8635a7423936",
   "metadata": {},
   "outputs": [],
   "source": []
  }
 ],
 "metadata": {
  "kernelspec": {
   "display_name": "Python 3 (ipykernel)",
   "language": "python",
   "name": "python3"
  }
 },
 "nbformat": 4,
 "nbformat_minor": 5
}
