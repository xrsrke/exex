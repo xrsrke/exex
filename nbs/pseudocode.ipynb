{
 "cells": [
  {
   "cell_type": "markdown",
   "id": "2087b54f-06c9-4f1f-bb2f-6a0ee2aaba9d",
   "metadata": {},
   "source": [
    "## Pseudo code"
   ]
  },
  {
   "cell_type": "markdown",
   "id": "3b833f52-31ac-473e-aa36-12eee0cb8c05",
   "metadata": {},
   "source": [
    "Problems\n",
    "- If store value of a property inside the object\n",
    "- One property can belong to two different laws. So if that property change, which law need to be change?"
   ]
  },
  {
   "cell_type": "markdown",
   "id": "1e3db812-f0bb-4904-b977-f3b0dec7bfdf",
   "metadata": {},
   "source": [
    "##### Example 11: What volume of $\\mathrm{CO}_2$ is generated from $1.0 \\mathrm{g}$ $\\mathrm{C}_{6}\\mathrm{H}_{12} \\mathrm{O}_6$ reacting at $293 \\mathrm{k}$ and $0.984 \\mathrm{~atm}$ ?\n",
    "\n",
    "$\\mathrm{C}_6 \\mathrm{H}_{12} \\mathrm{O}_6 (\\mathrm{s}) \\rightarrow 2 \\mathrm{C}_2 \\mathrm{H}_{6} \\mathrm{O}(l)+2 \\mathrm{CO}_2(\\mathrm{~g})$"
   ]
  },
  {
   "cell_type": "code",
   "execution_count": null,
   "id": "d36c45b7-896b-4fba-ac99-13505766e7f8",
   "metadata": {},
   "outputs": [],
   "source": [
    "# from universe import our_universe"
   ]
  },
  {
   "cell_type": "code",
   "execution_count": null,
   "id": "7b254b8a-1665-4d1e-b42d-7c4c1a82a2c4",
   "metadata": {},
   "outputs": [],
   "source": [
    "# system = System()"
   ]
  },
  {
   "cell_type": "code",
   "execution_count": null,
   "id": "de225480-ae55-4958-b8a3-6b57528ce816",
   "metadata": {},
   "outputs": [],
   "source": [
    "# C6H12O6 = Compound('C6H12O6', 'solid')"
   ]
  },
  {
   "cell_type": "code",
   "execution_count": null,
   "id": "5b94f26b-8b39-4809-9c11-10c00e61d7ed",
   "metadata": {},
   "outputs": [],
   "source": [
    "# C2H6O = Compound('C2H6O', 'liquid')"
   ]
  },
  {
   "cell_type": "code",
   "execution_count": null,
   "id": "b3d6343f-b49f-4bd5-b57a-2e80c8f05ca3",
   "metadata": {},
   "outputs": [],
   "source": [
    "# CO2 = Compound('CO2', 'gas')"
   ]
  },
  {
   "cell_type": "code",
   "execution_count": null,
   "id": "4397723f-1939-43cf-b9cf-6ff69e83aa6d",
   "metadata": {},
   "outputs": [],
   "source": [
    "# open_container = OpenContainer()"
   ]
  },
  {
   "cell_type": "code",
   "execution_count": null,
   "id": "403a4d10-a5a4-4772-bd84-42c9d28d0f79",
   "metadata": {},
   "outputs": [],
   "source": [
    "# r = Reaction(reactants=[C6H12O6], product=[C2H6O, CO2],\n",
    "#              catalyst=[],\n",
    "#              environment=open_container, system=system)"
   ]
  },
  {
   "cell_type": "markdown",
   "id": "d0625212-7bfc-4f0d-84d1-61e09bed2208",
   "metadata": {},
   "source": [
    "The current timestep is None"
   ]
  },
  {
   "cell_type": "code",
   "execution_count": null,
   "id": "372a5ecf-87b0-4685-b4f8-4d21e52c4bbc",
   "metadata": {},
   "outputs": [],
   "source": [
    "# final_state = system.set_time(-1)"
   ]
  },
  {
   "cell_type": "markdown",
   "id": "b5f11206-1262-4465-9413-a02413f234e5",
   "metadata": {},
   "source": [
    "After set mass, the system auto generated all properties of other component at that timestep"
   ]
  },
  {
   "cell_type": "code",
   "execution_count": null,
   "id": "cc400ba4-b32f-4e2b-9a5b-cd18316e32f5",
   "metadata": {},
   "outputs": [],
   "source": [
    "# final_state.compound(C6H12O6).setMass('1.0 g')"
   ]
  },
  {
   "cell_type": "code",
   "execution_count": null,
   "id": "57e6b1b4-1f26-43c1-9634-5061cf72ace6",
   "metadata": {},
   "outputs": [],
   "source": [
    "# initial_state = system.set_time(1)"
   ]
  },
  {
   "cell_type": "code",
   "execution_count": null,
   "id": "cdf85c3a-b6c2-43f0-aed1-c01d00ff5dd7",
   "metadata": {},
   "outputs": [],
   "source": [
    "# initial_state.compound(CO2).getVolume()"
   ]
  }
 ],
 "metadata": {
  "kernelspec": {
   "display_name": "Python 3 (ipykernel)",
   "language": "python",
   "name": "python3"
  }
 },
 "nbformat": 4,
 "nbformat_minor": 5
}
