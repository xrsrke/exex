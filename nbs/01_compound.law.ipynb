{
 "cells": [
  {
   "cell_type": "markdown",
   "id": "45ca54da-fb8e-409f-8dfb-4997af341854",
   "metadata": {},
   "source": [
    "# Law\n",
    "\n",
    "> Fill in a module description here"
   ]
  },
  {
   "cell_type": "code",
   "execution_count": null,
   "id": "31ed0f17-a4bd-4a2b-9c2f-27a9911de515",
   "metadata": {},
   "outputs": [],
   "source": [
    "# | default_exp compound.law"
   ]
  },
  {
   "cell_type": "code",
   "execution_count": null,
   "id": "e10d205d-7444-43a3-bd9f-787c0aaf9742",
   "metadata": {},
   "outputs": [],
   "source": [
    "# | hide\n",
    "from nbdev.showdoc import *"
   ]
  },
  {
   "cell_type": "code",
   "execution_count": null,
   "id": "b923239c-787c-4932-8dda-590026eb5b80",
   "metadata": {},
   "outputs": [],
   "source": [
    "# | hide\n",
    "import nbdev\n",
    "\n",
    "nbdev.nbdev_export()"
   ]
  },
  {
   "cell_type": "code",
   "execution_count": null,
   "id": "1c5a4672-8496-41b9-bc42-ce61567e61b5",
   "metadata": {},
   "outputs": [],
   "source": [
    "# | export\n",
    "from exex.imports import *\n",
    "from exex.core.law import Law\n",
    "from exex.compound.property import *"
   ]
  },
  {
   "cell_type": "markdown",
   "id": "507b4326-957c-4aba-b7db-511636e74fc2",
   "metadata": {},
   "source": [
    "#### Laws"
   ]
  },
  {
   "cell_type": "code",
   "execution_count": null,
   "id": "4a9c93f8-84a1-4e5c-96c8-6c7e48bf735c",
   "metadata": {},
   "outputs": [],
   "source": [
    "# | export\n",
    "class MassMoleRatio(Law):\n",
    "    def __init__(self, compound):\n",
    "        super().__init__()\n",
    "        self.compound = compound\n",
    "        # self.properties = [Mass, Mole, MolarMass]\n",
    "        self.properties = [{\"object\": Mass}, {\"object\": Mole}, {\"object\": MolarMass}]\n",
    "\n",
    "    def expr(self, t, **kwargs):\n",
    "        cmp = self.compound\n",
    "        params = {\"t\": t, **kwargs}\n",
    "        lhs = cmp.get_prop(\"molar_mass\", **params) * cmp.get_prop(\"mole\", **params)\n",
    "        rhs = cmp.get_prop(\"mass\", **params)\n",
    "        return smp.Eq(lhs, rhs)"
   ]
  },
  {
   "cell_type": "code",
   "execution_count": null,
   "id": "dbb73c27-7a17-4981-bbf7-ca3c0d4f21e2",
   "metadata": {},
   "outputs": [],
   "source": []
  },
  {
   "cell_type": "code",
   "execution_count": null,
   "id": "4105b3d8-ae06-4499-87b2-578426c43c82",
   "metadata": {},
   "outputs": [],
   "source": []
  },
  {
   "cell_type": "code",
   "execution_count": null,
   "id": "783701f5-dd37-4280-8c52-86a7a1513f1d",
   "metadata": {},
   "outputs": [],
   "source": []
  }
 ],
 "metadata": {
  "kernelspec": {
   "display_name": "Python 3 (ipykernel)",
   "language": "python",
   "name": "python3"
  }
 },
 "nbformat": 4,
 "nbformat_minor": 5
}
