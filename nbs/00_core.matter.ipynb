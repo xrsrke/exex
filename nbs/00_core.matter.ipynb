{
 "cells": [
  {
   "cell_type": "markdown",
   "id": "da952df7-5e1c-4f9b-b96a-bf003134aef3",
   "metadata": {},
   "source": [
    "# Matter\n",
    "\n",
    "> Fill in a module description here"
   ]
  },
  {
   "cell_type": "code",
   "execution_count": null,
   "id": "824742a1-2652-4248-9136-8cc44f6d273f",
   "metadata": {},
   "outputs": [],
   "source": [
    "# | default_exp core.matter"
   ]
  },
  {
   "cell_type": "code",
   "execution_count": null,
   "id": "44b3b567-4b9e-4384-88e9-309c65d45790",
   "metadata": {},
   "outputs": [],
   "source": [
    "# | hide\n",
    "from nbdev.showdoc import *"
   ]
  },
  {
   "cell_type": "code",
   "execution_count": null,
   "id": "f9f29960-2c8e-4e10-8ae9-357b72c98419",
   "metadata": {},
   "outputs": [],
   "source": [
    "# | hide\n",
    "import nbdev\n",
    "\n",
    "nbdev.nbdev_export()"
   ]
  },
  {
   "cell_type": "code",
   "execution_count": null,
   "id": "ed6acce5-3ff7-4cc0-84cd-a2b131ff61e9",
   "metadata": {},
   "outputs": [],
   "source": [
    "#| export\n",
    "from dataclasses import dataclass\n",
    "from exex.imports import *\n",
    "from exex.core.law import Law\n",
    "from exex.system import System"
   ]
  },
  {
   "cell_type": "markdown",
   "id": "564d700a-1b72-42cb-be94-ebebe79e6782",
   "metadata": {},
   "source": [
    "### States"
   ]
  },
  {
   "cell_type": "code",
   "execution_count": null,
   "id": "0dd921bb-0b9a-465d-bffa-307b7dab873e",
   "metadata": {},
   "outputs": [],
   "source": [
    "# | export\n",
    "@dataclass\n",
    "class State:\n",
    "    SOLID = \"solid\"\n",
    "    LIQUID = \"liquid\"\n",
    "    GAS = \"gas\""
   ]
  },
  {
   "cell_type": "markdown",
   "id": "bb366844-1f73-4791-9bd0-94141e6930e9",
   "metadata": {},
   "source": [
    "### Matter"
   ]
  },
  {
   "cell_type": "code",
   "execution_count": null,
   "id": "6cd3972b-cac3-4ccc-ab51-f173aa3cc36a",
   "metadata": {},
   "outputs": [],
   "source": [
    "# | export\n",
    "class Matter(metaclass=PrePostInitMeta):\n",
    "    def __init__(self):\n",
    "        self.properties = dict()\n",
    "        self.laws = dict()\n",
    "        self.time: int = None\n",
    "        self.system = System()\n",
    "\n",
    "    def __post_init__(self, *args, **kwargs):\n",
    "        self._setup()\n",
    "\n",
    "    def _setup_laws(\n",
    "        self, laws: list[Law]\n",
    "    ) -> None:  # add laws from `self.add_laws` to compound\n",
    "\n",
    "        for law in laws:\n",
    "            name = law.snake_name\n",
    "\n",
    "            if not name in self.laws:\n",
    "                law = law(compound=self)\n",
    "                law._run_config()\n",
    "                self.laws[name] = law\n",
    "\n",
    "    def _setup(self) -> None:\n",
    "        self._setup_laws(self.add_laws)\n",
    "\n",
    "    def _set_system(self, system: System) -> None:  # the system\n",
    "        self.system = system\n",
    "\n",
    "    def get_system(self):\n",
    "        return self.system\n",
    "\n",
    "    def set_time(self, time: int):  # time\n",
    "        self.time = time\n",
    "        return self"
   ]
  },
  {
   "cell_type": "markdown",
   "id": "d70f181c-e2a6-418f-829c-51fe47c2d180",
   "metadata": {},
   "source": [
    "All properties that a compound has always being governed by some laws."
   ]
  },
  {
   "cell_type": "code",
   "execution_count": null,
   "id": "a5d33fef-d33d-484a-ae6a-74f9b6df7a38",
   "metadata": {},
   "outputs": [],
   "source": [
    "@patch(as_prop=True)\n",
    "def property_exists(self: Matter, name):\n",
    "    return self.name in self.properties"
   ]
  },
  {
   "cell_type": "code",
   "execution_count": null,
   "id": "18d5d858-f3ac-495b-80f4-342cee1375ed",
   "metadata": {},
   "outputs": [],
   "source": [
    "# | export\n",
    "@patch\n",
    "@use_kwargs_dict(unit=None)\n",
    "def get_prop(self: Matter, name: str, t: int, **kwargs):  # name  # time\n",
    "    # if self.property_exists(args['name'])\n",
    "    return self.system.get_prop(name, t, instance=self, **kwargs)"
   ]
  },
  {
   "cell_type": "code",
   "execution_count": null,
   "id": "ab8b6cbb-4ecc-418f-afc8-5ad0a7882e11",
   "metadata": {},
   "outputs": [],
   "source": [
    "# | export\n",
    "@patch\n",
    "@use_kwargs_dict(unit=None)\n",
    "def set_prop(self: Matter, name, val, t, **kwargs):\n",
    "    return self.system.set_prop(name, val, t, instance=self, **kwargs)"
   ]
  },
  {
   "cell_type": "code",
   "execution_count": null,
   "id": "18097008-23a7-4076-bb67-f84bc15e67cd",
   "metadata": {},
   "outputs": [],
   "source": [
    "# | export\n",
    "@patch\n",
    "def get_law(self: Matter, name, t, **kwargs):\n",
    "    return self.system.get_law(name, t, instance=self, **kwargs)"
   ]
  },
  {
   "cell_type": "code",
   "execution_count": null,
   "id": "554e48c0-14ae-45c2-a5ce-503adaac9fa7",
   "metadata": {},
   "outputs": [],
   "source": []
  },
  {
   "cell_type": "code",
   "execution_count": null,
   "id": "80d7056e-42b9-4db7-90ba-e62e09a6625e",
   "metadata": {},
   "outputs": [],
   "source": []
  }
 ],
 "metadata": {
  "kernelspec": {
   "display_name": "Python 3 (ipykernel)",
   "language": "python",
   "name": "python3"
  }
 },
 "nbformat": 4,
 "nbformat_minor": 5
}
