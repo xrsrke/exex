{
 "cells": [
  {
   "cell_type": "markdown",
   "id": "d3401610-33bc-47cc-a7aa-3db44a1c2cdf",
   "metadata": {},
   "source": [
    "# Universe\n",
    "\n",
    "> Fill in a module description here"
   ]
  },
  {
   "cell_type": "code",
   "execution_count": null,
   "id": "c9f8421d-157f-4643-8038-9622557310df",
   "metadata": {},
   "outputs": [],
   "source": [
    "# | default_exp core.universe"
   ]
  },
  {
   "cell_type": "code",
   "execution_count": null,
   "id": "850abfb6-1e27-469d-b5fa-c644c12e0820",
   "metadata": {},
   "outputs": [],
   "source": [
    "# | hide\n",
    "from nbdev.showdoc import *"
   ]
  },
  {
   "cell_type": "code",
   "execution_count": null,
   "id": "90d4d714-d3c8-4d1e-893b-f2652dd64191",
   "metadata": {},
   "outputs": [],
   "source": [
    "# | hide\n",
    "import nbdev\n",
    "\n",
    "nbdev.nbdev_export()"
   ]
  },
  {
   "cell_type": "code",
   "execution_count": null,
   "id": "5fff04d7-e6d2-4755-aa24-5915bef83ce3",
   "metadata": {},
   "outputs": [],
   "source": [
    "# | export\n",
    "from abc import ABC, abstractmethod\n",
    "\n",
    "from exex.imports import *\n",
    "from exex.core.all import *"
   ]
  },
  {
   "cell_type": "code",
   "execution_count": null,
   "id": "9688644b-6260-45d4-8503-ea5de324a907",
   "metadata": {},
   "outputs": [],
   "source": [
    "# | export\n",
    "@docs\n",
    "class Universe(ABC):\n",
    "    def __init__(self):\n",
    "        self._laws: list[Law] = L([])\n",
    "\n",
    "    _docs = dict(cls_doc=\"An abstract base class for create a new universe\")"
   ]
  },
  {
   "cell_type": "code",
   "execution_count": null,
   "id": "f7cb9ea7-7339-4039-9972-578c5d23c47c",
   "metadata": {},
   "outputs": [],
   "source": []
  }
 ],
 "metadata": {
  "kernelspec": {
   "display_name": "Python 3 (ipykernel)",
   "language": "python",
   "name": "python3"
  }
 },
 "nbformat": 4,
 "nbformat_minor": 5
}
