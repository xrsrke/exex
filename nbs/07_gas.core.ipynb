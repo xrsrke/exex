{
 "cells": [
  {
   "cell_type": "markdown",
   "id": "2bfae562-d509-4feb-9965-3d76bcde3c91",
   "metadata": {},
   "source": [
    "# Gas\n",
    "\n",
    "> Fill in a module description here"
   ]
  },
  {
   "cell_type": "code",
   "execution_count": null,
   "id": "f321f37b-1bff-4c99-8b8f-963a16f2be5d",
   "metadata": {},
   "outputs": [],
   "source": [
    "# | default_exp gas.core"
   ]
  },
  {
   "cell_type": "code",
   "execution_count": null,
   "id": "e68eaa9a-c14c-430f-88ea-2f0d8a48cd6a",
   "metadata": {},
   "outputs": [],
   "source": [
    "# | hide\n",
    "from nbdev.showdoc import *"
   ]
  },
  {
   "cell_type": "code",
   "execution_count": null,
   "id": "6b57c02e-36ab-4ff8-b137-572e3a80fb87",
   "metadata": {},
   "outputs": [],
   "source": [
    "# | hide\n",
    "import nbdev\n",
    "\n",
    "nbdev.nbdev_export()"
   ]
  },
  {
   "cell_type": "code",
   "execution_count": null,
   "id": "a9ba7a8e-e91c-4e71-82f7-6bcb6701ffd2",
   "metadata": {},
   "outputs": [],
   "source": [
    "# | export\n",
    "from exex.basics import *"
   ]
  },
  {
   "cell_type": "markdown",
   "id": "102443a3-d893-47d8-9677-bd5942c911b6",
   "metadata": {},
   "source": [
    "### Properties\n"
   ]
  },
  {
   "cell_type": "code",
   "execution_count": null,
   "id": "a0d73eb0-dedc-479e-98be-d40ecfadea01",
   "metadata": {},
   "outputs": [],
   "source": [
    "# | export\n",
    "class IdealGasConstant(PropertyObservable):\n",
    "    def __init__(self, compound):\n",
    "        super().__init__(compound)\n",
    "        self.abbrv = \"R\""
   ]
  },
  {
   "cell_type": "code",
   "execution_count": null,
   "id": "92023600-b497-406b-80b5-db162745184c",
   "metadata": {},
   "outputs": [],
   "source": [
    "# | export\n",
    "class IsIdealGas(PropertyObservable):\n",
    "    def __init__(self, compound):\n",
    "        super().__init__(compound)\n",
    "        self.abbrv = \"is_ideal_gas\"\n",
    "        self.unit = None\n",
    "\n",
    "    def __bool__(self):\n",
    "        return False"
   ]
  },
  {
   "cell_type": "markdown",
   "id": "534e461b",
   "metadata": {},
   "source": [
    "#### Mixture of Gases and Partial Pressure"
   ]
  },
  {
   "cell_type": "markdown",
   "id": "c7f0dc18",
   "metadata": {},
   "source": [
    "The number of mole of a component in a mixture is called mole fraction.\n",
    "$$\\chi_{\\mathrm{a}}=\\frac{n_{\\mathrm{a}}}{n_{\\mathrm{total}}}$$"
   ]
  },
  {
   "cell_type": "code",
   "execution_count": null,
   "id": "5048ce55",
   "metadata": {},
   "outputs": [],
   "source": [
    "# | export\n",
    "class MoleFraction(PropertyObservable):\n",
    "    def __init__(self, cmp):\n",
    "        super().__init__(cmp)\n",
    "        pass"
   ]
  },
  {
   "cell_type": "code",
   "execution_count": null,
   "id": "5a1ae2d2",
   "metadata": {},
   "outputs": [],
   "source": [
    "# | export\n",
    "class PartialPressure(PropertyObservable):\n",
    "    def __init__(self, compound):\n",
    "        super().__init__(compound)"
   ]
  },
  {
   "cell_type": "markdown",
   "id": "84d6a1c3-e4c3-4b1f-aa64-33380c5bde06",
   "metadata": {},
   "source": [
    "### Laws"
   ]
  },
  {
   "cell_type": "markdown",
   "id": "9d5030ef-5059-4a7a-bcee-b694ee151294",
   "metadata": {},
   "source": [
    "- mass mole ratio\n",
    "- mole volume ratio"
   ]
  },
  {
   "cell_type": "markdown",
   "id": "ef17e23a-b56a-438a-91ca-86f9f31b268b",
   "metadata": {},
   "source": [
    "##### The Simple Gas Law"
   ]
  },
  {
   "cell_type": "code",
   "execution_count": null,
   "id": "4778d1ad-7229-42c4-87c2-1d4a025d6f04",
   "metadata": {},
   "outputs": [],
   "source": [
    "# | export\n",
    "class BoyleLaw(Law):\n",
    "    def __init__(self, compound: Compound):\n",
    "        super().__init__()\n",
    "        self.compound = compound\n",
    "        # self.properties = [Pressure, Volume]\n",
    "        self.properties = [{\"object\": Pressure}, {\"object\": Volume}]\n",
    "\n",
    "    def expr(self):\n",
    "        pass"
   ]
  },
  {
   "cell_type": "code",
   "execution_count": null,
   "id": "9bf325fc-5c43-4386-9d45-cd995c660b22",
   "metadata": {},
   "outputs": [],
   "source": [
    "# | export\n",
    "class CharlesLaw(Law):\n",
    "    def __init__(self, compound: Compound) -> None:\n",
    "        super().__init__()\n",
    "        self.compound = compound\n",
    "        # self.properties = [Volume, Temperature]\n",
    "        self.properties = [{\"object\": Volume}, {\"object\": Temperature}]\n",
    "\n",
    "    def expr(self):\n",
    "        pass"
   ]
  },
  {
   "cell_type": "code",
   "execution_count": null,
   "id": "169d6b50-2dd3-4cc4-849a-86246272acf0",
   "metadata": {},
   "outputs": [],
   "source": [
    "# | export\n",
    "class AvogadroLaw(Law):\n",
    "    def __init__(self, compound: Compound) -> None:\n",
    "        super().__init__()\n",
    "        self.compound = compound\n",
    "        # self.properties = [Volume, Mole]\n",
    "        self.properties = [{\"object\": Volume}, {\"object\": Mole}]\n",
    "\n",
    "    def expr(self):\n",
    "        pass"
   ]
  },
  {
   "cell_type": "markdown",
   "id": "2e64ec1d-d940-4557-861f-7c8c13313d20",
   "metadata": {},
   "source": [
    "##### The Ideal Gas Law"
   ]
  },
  {
   "cell_type": "code",
   "execution_count": null,
   "id": "869e793e-3c4f-42c9-ae3b-9a033adb4dcc",
   "metadata": {},
   "outputs": [],
   "source": [
    "pressure = {\n",
    "    \"pressure\": {\"unit\": \"pascal\", \"property\": Pressure},\n",
    "    \"x\": {\"unit\": \"pascal\", \"property\": Pressure},\n",
    "}"
   ]
  },
  {
   "cell_type": "code",
   "execution_count": null,
   "id": "07d82364-94ca-447b-9315-5b0936858844",
   "metadata": {},
   "outputs": [],
   "source": [
    "# | export\n",
    "class IdealGasLaw(Law):\n",
    "    def __init__(self, compound: Compound) -> None:\n",
    "        # super().__init__()\n",
    "        self.compound = compound\n",
    "        # self.properties = [Pressure, Volume, Mole, Temperature, IsIdealGas]\n",
    "        self.properties = [\n",
    "            {\"object\": Pressure, \"unit\": \"atm\"},\n",
    "            {\"object\": Volume},\n",
    "            {\"object\": Mole},\n",
    "            {\"object\": Temperature},\n",
    "            {\"object\": IdealGasConstant},\n",
    "            {\"object\": IsIdealGas},\n",
    "        ]\n",
    "\n",
    "    def expr(self, t, **kwargs):\n",
    "\n",
    "        cmp = self.compound\n",
    "        params = {\"t\": t}\n",
    "\n",
    "        left_side = cmp.get_prop(\"pressure\", *params) * cmp.get_prop(\"volume\", *params)\n",
    "        right_side = (\n",
    "            cmp.get_prop(\"mole\", *params)\n",
    "            * cmp.get_prop(\"ideal_gas_constant\", *params)\n",
    "            * cmp.get_prop(\"temperature\", *params)\n",
    "        )\n",
    "\n",
    "        return smp.Eq(left_side, right_side)"
   ]
  },
  {
   "cell_type": "markdown",
   "id": "d32b653a-ac3f-43c3-b0a0-29c955363d07",
   "metadata": {},
   "source": [
    "### States"
   ]
  },
  {
   "cell_type": "markdown",
   "id": "043f1c61-e591-4849-baa3-3edf071c396f",
   "metadata": {},
   "source": [
    "#### Ideal Gas State"
   ]
  },
  {
   "cell_type": "markdown",
   "id": "bc1d087c-3d54-48b3-a35d-bb16315a22aa",
   "metadata": {},
   "source": [
    "Return `True` if the ideal gas equation holds"
   ]
  },
  {
   "cell_type": "code",
   "execution_count": null,
   "id": "f3976255-68d5-45bf-be89-d7c19d294003",
   "metadata": {},
   "outputs": [],
   "source": [
    "# | export\n",
    "from abc import ABC, abstractmethod"
   ]
  },
  {
   "cell_type": "code",
   "execution_count": null,
   "id": "4113626e-f0e5-4d29-958d-077bcc82771f",
   "metadata": {},
   "outputs": [],
   "source": [
    "# | export\n",
    "class State(ABC):\n",
    "    def __init__(self, context):\n",
    "        self.context = context\n",
    "\n",
    "    @abstractmethod\n",
    "    def __bool__(self, timestep):\n",
    "        pass"
   ]
  },
  {
   "cell_type": "markdown",
   "id": "da3a3d89-a42a-4553-be0b-2a6ac420ee50",
   "metadata": {},
   "source": [
    "### Gas Compound"
   ]
  },
  {
   "cell_type": "markdown",
   "id": "6e995c98-7289-49a9-9caa-cb83b34a6066",
   "metadata": {},
   "source": [
    "Gas -> `self._config_laws` -> `init law` -> `law._config_properties`"
   ]
  },
  {
   "cell_type": "code",
   "execution_count": null,
   "id": "fb70a3f9-872e-461a-93b0-e88e266e4872",
   "metadata": {},
   "outputs": [],
   "source": [
    "# | export\n",
    "class Gas(Compound):\n",
    "    def __init__(self, formula: str) -> None:  # the chemical formula\n",
    "        super().__init__(formula)\n",
    "\n",
    "        # self._laws = [BoyleLaw, CharlesLaw, AvogadroLaw, IdealGasLaw]\n",
    "        # self._config_laws()\n",
    "\n",
    "        self.add_laws = [BoyleLaw, CharlesLaw, AvogadroLaw, IdealGasLaw, MassMoleRatio]"
   ]
  },
  {
   "cell_type": "markdown",
   "id": "71ac86fb-9aaa-4d29-a2e9-840c42020237",
   "metadata": {},
   "source": [
    "Sarin gas is developed by Nazi during WWII"
   ]
  },
  {
   "cell_type": "code",
   "execution_count": null,
   "id": "1235213e-88b5-4fcf-8deb-92fd12cbd43d",
   "metadata": {},
   "outputs": [
    {
     "ename": "NameError",
     "evalue": "name 'MassMoleRatio' is not defined",
     "output_type": "error",
     "traceback": [
      "\u001b[0;31m---------------------------------------------------------------------------\u001b[0m",
      "\u001b[0;31mNameError\u001b[0m                                 Traceback (most recent call last)",
      "Input \u001b[0;32mIn [17]\u001b[0m, in \u001b[0;36m<cell line: 1>\u001b[0;34m()\u001b[0m\n\u001b[0;32m----> 1\u001b[0m C4H10FO2P \u001b[38;5;241m=\u001b[39m \u001b[43mGas\u001b[49m\u001b[43m(\u001b[49m\u001b[38;5;124;43m\"\u001b[39;49m\u001b[38;5;124;43mC4H10FO2P\u001b[39;49m\u001b[38;5;124;43m\"\u001b[39;49m\u001b[43m)\u001b[49m\n",
      "File \u001b[0;32m/opt/anaconda3/envs/chemchem/lib/python3.9/site-packages/fastcore/meta.py:40\u001b[0m, in \u001b[0;36mPrePostInitMeta.__call__\u001b[0;34m(cls, *args, **kwargs)\u001b[0m\n\u001b[1;32m     38\u001b[0m \u001b[38;5;28;01mif\u001b[39;00m \u001b[38;5;28mtype\u001b[39m(res)\u001b[38;5;241m==\u001b[39m\u001b[38;5;28mcls\u001b[39m:\n\u001b[1;32m     39\u001b[0m     \u001b[38;5;28;01mif\u001b[39;00m \u001b[38;5;28mhasattr\u001b[39m(res,\u001b[38;5;124m'\u001b[39m\u001b[38;5;124m__pre_init__\u001b[39m\u001b[38;5;124m'\u001b[39m): res\u001b[38;5;241m.\u001b[39m__pre_init__(\u001b[38;5;241m*\u001b[39margs,\u001b[38;5;241m*\u001b[39m\u001b[38;5;241m*\u001b[39mkwargs)\n\u001b[0;32m---> 40\u001b[0m     \u001b[43mres\u001b[49m\u001b[38;5;241;43m.\u001b[39;49m\u001b[38;5;21;43m__init__\u001b[39;49m\u001b[43m(\u001b[49m\u001b[38;5;241;43m*\u001b[39;49m\u001b[43margs\u001b[49m\u001b[43m,\u001b[49m\u001b[38;5;241;43m*\u001b[39;49m\u001b[38;5;241;43m*\u001b[39;49m\u001b[43mkwargs\u001b[49m\u001b[43m)\u001b[49m\n\u001b[1;32m     41\u001b[0m     \u001b[38;5;28;01mif\u001b[39;00m \u001b[38;5;28mhasattr\u001b[39m(res,\u001b[38;5;124m'\u001b[39m\u001b[38;5;124m__post_init__\u001b[39m\u001b[38;5;124m'\u001b[39m): res\u001b[38;5;241m.\u001b[39m__post_init__(\u001b[38;5;241m*\u001b[39margs,\u001b[38;5;241m*\u001b[39m\u001b[38;5;241m*\u001b[39mkwargs)\n\u001b[1;32m     42\u001b[0m \u001b[38;5;28;01mreturn\u001b[39;00m res\n",
      "Input \u001b[0;32mIn [16]\u001b[0m, in \u001b[0;36mGas.__init__\u001b[0;34m(self, formula)\u001b[0m\n\u001b[1;32m      4\u001b[0m \u001b[38;5;28msuper\u001b[39m()\u001b[38;5;241m.\u001b[39m\u001b[38;5;21m__init__\u001b[39m(formula)\n\u001b[1;32m      6\u001b[0m \u001b[38;5;66;03m# self._laws = [BoyleLaw, CharlesLaw, AvogadroLaw, IdealGasLaw]\u001b[39;00m\n\u001b[1;32m      7\u001b[0m \u001b[38;5;66;03m# self._config_laws()\u001b[39;00m\n\u001b[0;32m----> 9\u001b[0m \u001b[38;5;28mself\u001b[39m\u001b[38;5;241m.\u001b[39madd_laws \u001b[38;5;241m=\u001b[39m [BoyleLaw, CharlesLaw, AvogadroLaw, IdealGasLaw, \u001b[43mMassMoleRatio\u001b[49m]\n",
      "\u001b[0;31mNameError\u001b[0m: name 'MassMoleRatio' is not defined"
     ]
    }
   ],
   "source": [
    "C4H10FO2P = Gas(\"C4H10FO2P\")"
   ]
  },
  {
   "cell_type": "code",
   "execution_count": null,
   "id": "91aa3f56-e0d2-46b8-8c0f-2783e2b4d4ce",
   "metadata": {},
   "outputs": [],
   "source": [
    "C4H10FO2P"
   ]
  },
  {
   "cell_type": "code",
   "execution_count": null,
   "id": "d6cc7d87-5a6c-41ae-ade1-2f33d16d11ef",
   "metadata": {},
   "outputs": [],
   "source": [
    "C4H10FO2P.properties"
   ]
  },
  {
   "cell_type": "code",
   "execution_count": null,
   "id": "d7eb3dfe-a742-41f0-bda2-a35c55beb84e",
   "metadata": {},
   "outputs": [
    {
     "ename": "NameError",
     "evalue": "name 'C4H10FO2P' is not defined",
     "output_type": "error",
     "traceback": [
      "\u001b[0;31m---------------------------------------------------------------------------\u001b[0m",
      "\u001b[0;31mNameError\u001b[0m                                 Traceback (most recent call last)",
      "Input \u001b[0;32mIn [18]\u001b[0m, in \u001b[0;36m<cell line: 1>\u001b[0;34m()\u001b[0m\n\u001b[0;32m----> 1\u001b[0m \u001b[43mC4H10FO2P\u001b[49m\u001b[38;5;241m.\u001b[39mlaws[\u001b[38;5;124m\"\u001b[39m\u001b[38;5;124mcharles_law\u001b[39m\u001b[38;5;124m\"\u001b[39m]\n",
      "\u001b[0;31mNameError\u001b[0m: name 'C4H10FO2P' is not defined"
     ]
    }
   ],
   "source": [
    "C4H10FO2P.laws[\"charles_law\"]"
   ]
  },
  {
   "cell_type": "code",
   "execution_count": null,
   "id": "a5f15a5e-d1fe-4766-9e72-4bb3e43bc16e",
   "metadata": {},
   "outputs": [
    {
     "ename": "NameError",
     "evalue": "name 'C4H10FO2P' is not defined",
     "output_type": "error",
     "traceback": [
      "\u001b[0;31m---------------------------------------------------------------------------\u001b[0m",
      "\u001b[0;31mNameError\u001b[0m                                 Traceback (most recent call last)",
      "Input \u001b[0;32mIn [19]\u001b[0m, in \u001b[0;36m<cell line: 1>\u001b[0;34m()\u001b[0m\n\u001b[0;32m----> 1\u001b[0m \u001b[43mC4H10FO2P\u001b[49m\u001b[38;5;241m.\u001b[39mlaws[\u001b[38;5;124m\"\u001b[39m\u001b[38;5;124mideal_gas_law\u001b[39m\u001b[38;5;124m\"\u001b[39m](t\u001b[38;5;241m=\u001b[39m\u001b[38;5;241m2\u001b[39m)\n",
      "\u001b[0;31mNameError\u001b[0m: name 'C4H10FO2P' is not defined"
     ]
    }
   ],
   "source": [
    "C4H10FO2P.laws[\"ideal_gas_law\"](t=2)"
   ]
  },
  {
   "cell_type": "code",
   "execution_count": null,
   "id": "4ad3c561-fb1a-442e-affb-f5036c51c2ab",
   "metadata": {},
   "outputs": [],
   "source": [
    "# | hide\n",
    "# test laws\n",
    "test_eq(\n",
    "    L(C4H10FO2P.laws),\n",
    "    [\"mass_mole_ratio\", \"boyle_law\", \"charles_law\", \"avogadro_law\", \"ideal_gas_law\"],\n",
    ")"
   ]
  },
  {
   "cell_type": "code",
   "execution_count": null,
   "id": "48bacd94-c514-4d17-9b52-ef993859716c",
   "metadata": {},
   "outputs": [],
   "source": [
    "# | hide\n",
    "# test a properties\n",
    "test_eq(C4H10FO2P.properties[\"mass\"].abbrv, \"m\")\n",
    "test_eq_type(type(C4H10FO2P.get_prop(\"mass\", t=2)), smp.core.symbol.Symbol)"
   ]
  },
  {
   "cell_type": "code",
   "execution_count": null,
   "id": "e86f86eb-bbc5-4cbf-9886-1a73532e25fd",
   "metadata": {},
   "outputs": [],
   "source": [
    "# | hide\n",
    "# test a list of properties\n",
    "test_eq(\n",
    "    L(C4H10FO2P.properties),\n",
    "    [\n",
    "        \"mass\",\n",
    "        \"mole\",\n",
    "        \"molar_mass\",\n",
    "        \"pressure\",\n",
    "        \"volume\",\n",
    "        \"temperature\",\n",
    "        \"ideal_gas_constant\",\n",
    "        \"is_ideal_gas\",\n",
    "    ],\n",
    ")"
   ]
  },
  {
   "cell_type": "code",
   "execution_count": null,
   "id": "994e62f9",
   "metadata": {},
   "outputs": [],
   "source": []
  }
 ],
 "metadata": {
  "kernelspec": {
   "display_name": "Python 3 (ipykernel)",
   "language": "python",
   "name": "python3"
  }
 },
 "nbformat": 4,
 "nbformat_minor": 5
}
