{
 "cells": [
  {
   "cell_type": "code",
   "execution_count": null,
   "id": "8f83c703-1621-4af3-a901-341066106205",
   "metadata": {},
   "outputs": [],
   "source": [
    "#|hide\n",
    "from nbdev.showdoc import show_doc"
   ]
  },
  {
   "cell_type": "code",
   "execution_count": null,
   "id": "9467dbd2-8bf4-41f3-8b0e-b7ec2ea89f1d",
   "metadata": {},
   "outputs": [],
   "source": [
    "from exex.basics import *"
   ]
  },
  {
   "cell_type": "markdown",
   "id": "27d726a5-afcb-4134-b412-74a63e3f6103",
   "metadata": {},
   "source": [
    "### Example 1: Photosynthesis"
   ]
  },
  {
   "cell_type": "markdown",
   "id": "a07368c9-cf28-4c0b-af84-89b829ef24d3",
   "metadata": {},
   "source": [
    "*Page 297 from Nivaldo J. Tro's Chemistry*"
   ]
  },
  {
   "cell_type": "markdown",
   "id": "d67c43b8-8f6b-4a93-9162-ecef18e06882",
   "metadata": {},
   "source": [
    "In photosynthesis, plants convert carbon dioxide and water into glucose $\\left(\\mathrm{C}_6 \\mathrm{H}_{12} \\mathrm{O}_6\\right)$ according to the reaction:\n",
    "$$\n",
    "6 \\mathrm{CO}_2(g)+6 \\mathrm{H}_2 \\mathrm{O}(l) \\stackrel{\\text { sunlight }}{\\longrightarrow} 6 \\mathrm{O}_2(g)+\\mathrm{C}_6 \\mathrm{H}_{12} \\mathrm{O}_6(a q)\n",
    "$$\n",
    "Suppose you determine that a particular plant consumes $37.8 \\mathrm{~g}$ of $\\mathrm{CO}_2$ in one week. Assuming that there is more than enough water present to react with all of the $\\mathrm{CO}_2$, what mass of glucose (in grams) can the plant synthesize from the $\\mathrm{CO}_2$ ?"
   ]
  },
  {
   "cell_type": "code",
   "execution_count": null,
   "id": "a271cee8-f580-4d55-a359-ae048d026799",
   "metadata": {},
   "outputs": [],
   "source": [
    "CO2 = Compound('CO2')"
   ]
  },
  {
   "cell_type": "code",
   "execution_count": null,
   "id": "73555a6a-8ef7-4839-998e-e4f9479f3a1d",
   "metadata": {},
   "outputs": [],
   "source": [
    "H2O = Compound('H2O')"
   ]
  },
  {
   "cell_type": "code",
   "execution_count": null,
   "id": "9471f367-79e0-401b-b8de-18ffb65fe22d",
   "metadata": {},
   "outputs": [],
   "source": [
    "O2 = Compound('O2')"
   ]
  },
  {
   "cell_type": "code",
   "execution_count": null,
   "id": "bf8b8931-0a20-4c6c-9acb-c0e4405c872c",
   "metadata": {},
   "outputs": [],
   "source": [
    "C6H12O6 = Compound('C6H1206')"
   ]
  },
  {
   "cell_type": "code",
   "execution_count": null,
   "id": "7003f5b9-d4b2-46d5-80f5-1a41d699e191",
   "metadata": {},
   "outputs": [],
   "source": [
    "r = Reaction(reactants=[CO2, H2O], products=[O2, C6H12O6])"
   ]
  },
  {
   "cell_type": "code",
   "execution_count": null,
   "id": "2ce7365e-76ee-4f89-92ff-06754e75e2b7",
   "metadata": {},
   "outputs": [
    {
     "data": {
      "text/plain": [
       "exex.reaction.core.Reaction(formula='1C₁O₂ + 1H₂O₁ --> 1O₂ + 1C₆H₁₂₀₆', is_balanced=False)"
      ]
     },
     "execution_count": null,
     "metadata": {},
     "output_type": "execute_result"
    }
   ],
   "source": [
    "r"
   ]
  },
  {
   "cell_type": "code",
   "execution_count": null,
   "id": "d32f0085-9d81-4b10-9eee-345005b5117d",
   "metadata": {},
   "outputs": [],
   "source": [
    "r.balance()"
   ]
  },
  {
   "cell_type": "code",
   "execution_count": null,
   "id": "a33bd300-e023-407c-9df7-946a5f009fc7",
   "metadata": {},
   "outputs": [
    {
     "data": {
      "text/plain": [
       "'12C₁O₂ + 1206H₂O₁ --> 615O₂ + 2C₆H₁₂₀₆'"
      ]
     },
     "execution_count": null,
     "metadata": {},
     "output_type": "execute_result"
    }
   ],
   "source": [
    "r.formula"
   ]
  },
  {
   "cell_type": "code",
   "execution_count": null,
   "id": "b7d4b7ee-f98d-4de3-a22a-0c4b13ea6468",
   "metadata": {},
   "outputs": [],
   "source": [
    "data = dict(\n",
    "    CO2 = {'mass': '23.1 g', 'temperature': '23 celsius'},\n",
    "    C6H1206 = {'mass': '31.3 kilogram', 'volume': '31.3 milliliter'},\n",
    "    Environment = {'pressure': '22 atm'},\n",
    "    Reaction={'total_mass': '141.3 kg'}\n",
    ")"
   ]
  },
  {
   "cell_type": "code",
   "execution_count": null,
   "id": "af03fd46-b7f3-4bc0-a2a7-fdc526b7a58f",
   "metadata": {},
   "outputs": [
    {
     "data": {
      "text/plain": [
       "{'CO2': {'mass': '23.1 g', 'temperature': '23 celsius'},\n",
       " 'C6H1206': {'mass': '31.3 kilogram', 'volume': '31.3 milliliter'},\n",
       " 'Environment': {'pressure': '22 atm'},\n",
       " 'Reaction': {'total_mass': '141.3 kg'}}"
      ]
     },
     "execution_count": null,
     "metadata": {},
     "output_type": "execute_result"
    }
   ],
   "source": [
    "data"
   ]
  },
  {
   "cell_type": "code",
   "execution_count": null,
   "id": "ff99ea3d-947d-4ae4-b95a-fc83bbfa3d7f",
   "metadata": {},
   "outputs": [
    {
     "data": {
      "text/plain": [
       "(#4) ['CO2','C6H1206','Environment','Reaction']"
      ]
     },
     "execution_count": null,
     "metadata": {},
     "output_type": "execute_result"
    }
   ],
   "source": [
    "L(data)"
   ]
  },
  {
   "cell_type": "code",
   "execution_count": null,
   "id": "e52c67e0-272d-4402-bd50-6c2154c86991",
   "metadata": {},
   "outputs": [
    {
     "data": {
      "text/plain": [
       "dict_items([('CO2', {'mass': '23.1 g', 'temperature': '23 celsius'}), ('C6H1206', {'mass': '31.3 kilogram', 'volume': '31.3 milliliter'}), ('Environment', {'pressure': '22 atm'}), ('Reaction', {'total_mass': '141.3 kg'})])"
      ]
     },
     "execution_count": null,
     "metadata": {},
     "output_type": "execute_result"
    }
   ],
   "source": [
    "data.items()"
   ]
  },
  {
   "cell_type": "code",
   "execution_count": null,
   "id": "417398eb-8668-4dc1-a68d-8063d5b861d6",
   "metadata": {},
   "outputs": [],
   "source": [
    "data['Reaction'] = None"
   ]
  },
  {
   "cell_type": "code",
   "execution_count": null,
   "id": "aba484cc-06b5-4d1e-a278-736a1a8d9433",
   "metadata": {},
   "outputs": [
    {
     "data": {
      "text/plain": [
       "{'CO2': {'mass': '23.1 g', 'temperature': '23 celsius'},\n",
       " 'C6H1206': {'mass': '31.3 kilogram', 'volume': '31.3 milliliter'},\n",
       " 'Environment': {'pressure': '22 atm'},\n",
       " 'Reaction': None}"
      ]
     },
     "execution_count": null,
     "metadata": {},
     "output_type": "execute_result"
    }
   ],
   "source": [
    "data"
   ]
  },
  {
   "cell_type": "code",
   "execution_count": null,
   "id": "b63bc6f1-219c-449d-9793-22adf0676a12",
   "metadata": {},
   "outputs": [],
   "source": [
    "def is_chemical_formulas(x: str) -> bool:\n",
    "    pass"
   ]
  },
  {
   "cell_type": "code",
   "execution_count": null,
   "id": "3c3847c3-cbe3-4d5c-bdbd-43981b9d2da3",
   "metadata": {},
   "outputs": [],
   "source": [
    "import re"
   ]
  },
  {
   "cell_type": "code",
   "execution_count": null,
   "id": "660a8097-8e37-423a-a301-e0197d411722",
   "metadata": {},
   "outputs": [],
   "source": [
    "txt = 'hello'"
   ]
  },
  {
   "cell_type": "code",
   "execution_count": null,
   "id": "43bf90f8-fd8e-4fe9-94fb-34cb0d8b415d",
   "metadata": {},
   "outputs": [],
   "source": [
    "x = re.search(\"([A-Z][a-z]?)(\\d*(?:(?:[\\.|\\,])\\d+(?:\\%)?)?)|(?:[\\(|\\[])([^()]*(?:(?:[\\(|\\[]).*(?:[\\)|\\]]))?[^()]*)(?:[\\)|\\]])(\\d*(?:(?:[\\.|\\,]?)\\d+(?:\\%)?))\", txt)"
   ]
  },
  {
   "cell_type": "code",
   "execution_count": null,
   "id": "44c489d5-764f-4e2f-adc6-00442eff0edc",
   "metadata": {},
   "outputs": [],
   "source": [
    "def extract_data(x):\n",
    "    reaction = x['Reaction'] if 'Reaction' in x else None\n",
    "    environment = x['Environment'] if 'Environment' in x else None"
   ]
  },
  {
   "cell_type": "code",
   "execution_count": null,
   "id": "d47318f3-1954-4463-bc0e-d3153e57e0c8",
   "metadata": {},
   "outputs": [
    {
     "data": {
      "text/plain": [
       "{'CO2': {'mass': '23.1 g', 'temperature': '23 celsius'},\n",
       " 'C6H1206': {'mass': '31.3 kilogram', 'volume': '31.3 milliliter'},\n",
       " 'Environment': {'pressure': '22 atm'},\n",
       " 'Reaction': None}"
      ]
     },
     "execution_count": null,
     "metadata": {},
     "output_type": "execute_result"
    }
   ],
   "source": [
    "extract_data(data)"
   ]
  },
  {
   "cell_type": "code",
   "execution_count": null,
   "id": "d44e5ebb-6541-432e-8215-c6f1ca3314e6",
   "metadata": {},
   "outputs": [
    {
     "name": "stdout",
     "output_type": "stream",
     "text": [
      "CO2 {'mass': '23.1 g', 'temperature': '23 celsius'}\n",
      "C6H1206 {'mass': '31.3 kilogram', 'volume': '31.3 milliliter'}\n",
      "Environment {'pressure': '22 atm'}\n",
      "Reaction {'total_mass': '141.3 kg'}\n"
     ]
    }
   ],
   "source": [
    "for k, v in data.items():\n",
    "    print(k, v)"
   ]
  },
  {
   "cell_type": "code",
   "execution_count": null,
   "id": "17f106bc-fb01-425a-8bd9-85bc7eba3ddf",
   "metadata": {},
   "outputs": [],
   "source": [
    "#L(data).get"
   ]
  },
  {
   "cell_type": "code",
   "execution_count": null,
   "id": "d6f18123-a111-4562-b2f5-2c3af121bce7",
   "metadata": {},
   "outputs": [],
   "source": [
    "#L(data).attrgot()"
   ]
  },
  {
   "cell_type": "code",
   "execution_count": null,
   "id": "26d3bff3-9522-4fc4-9f12-4613dfc31850",
   "metadata": {},
   "outputs": [],
   "source": [
    "r.initial_condition(data)"
   ]
  },
  {
   "cell_type": "code",
   "execution_count": null,
   "id": "000de5e0-2c74-4817-81f3-1d0d2b5b8ae4",
   "metadata": {},
   "outputs": [],
   "source": [
    "#| hide\n",
    "test_eq(r.is_balanced, True)\n",
    "test_eq(r.formula, '12C₁O₂ + 1206H₂O₁ --> 615O₂ + 2C₆H₁₂₀₆')"
   ]
  }
 ],
 "metadata": {
  "kernelspec": {
   "display_name": "Python 3 (ipykernel)",
   "language": "python",
   "name": "python3"
  }
 },
 "nbformat": 4,
 "nbformat_minor": 5
}
