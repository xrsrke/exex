{
 "cells": [
  {
   "cell_type": "markdown",
   "id": "bf78cd9b-73b5-46d7-b604-fc557d09aa1d",
   "metadata": {},
   "source": [
    "# Universe\n",
    "\n",
    "> Fill in a module description here"
   ]
  },
  {
   "cell_type": "code",
   "execution_count": null,
   "id": "d0204a53-bf6c-4f26-a6d9-62603c643153",
   "metadata": {},
   "outputs": [],
   "source": [
    "#| default_exp universe"
   ]
  },
  {
   "cell_type": "code",
   "execution_count": null,
   "id": "c4c247e3-95cf-4aca-b79c-37d4ca375581",
   "metadata": {},
   "outputs": [],
   "source": [
    "#| hide\n",
    "from nbdev.showdoc import *"
   ]
  },
  {
   "cell_type": "code",
   "execution_count": null,
   "id": "72bc783f-2696-4696-af56-22b77433db7c",
   "metadata": {},
   "outputs": [],
   "source": [
    "#| hide\n",
    "import nbdev; nbdev.nbdev_export()"
   ]
  },
  {
   "cell_type": "code",
   "execution_count": null,
   "id": "d639f114-66d7-4a76-970c-b024aaaaf3e4",
   "metadata": {},
   "outputs": [],
   "source": [
    "#| export\n",
    "class Universe:\n",
    "    pass"
   ]
  },
  {
   "cell_type": "code",
   "execution_count": null,
   "id": "a270a631-9d46-47d2-a610-765902f84c7f",
   "metadata": {},
   "outputs": [],
   "source": []
  }
 ],
 "metadata": {
  "kernelspec": {
   "display_name": "Python 3 (ipykernel)",
   "language": "python",
   "name": "python3"
  }
 },
 "nbformat": 4,
 "nbformat_minor": 5
}
