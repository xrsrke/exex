{
 "cells": [
  {
   "cell_type": "markdown",
   "id": "bf78cd9b-73b5-46d7-b604-fc557d09aa1d",
   "metadata": {},
   "source": [
    "# Universe\n",
    "\n",
    "> Fill in a module description here"
   ]
  },
  {
   "cell_type": "code",
   "execution_count": null,
   "id": "d0204a53-bf6c-4f26-a6d9-62603c643153",
   "metadata": {},
   "outputs": [],
   "source": [
    "#| default_exp universe"
   ]
  },
  {
   "cell_type": "code",
   "execution_count": null,
   "id": "c4c247e3-95cf-4aca-b79c-37d4ca375581",
   "metadata": {},
   "outputs": [],
   "source": [
    "#| hide\n",
    "from nbdev.showdoc import *"
   ]
  },
  {
   "cell_type": "code",
   "execution_count": null,
   "id": "72bc783f-2696-4696-af56-22b77433db7c",
   "metadata": {},
   "outputs": [],
   "source": [
    "#| hide\n",
    "import nbdev; nbdev.nbdev_export()"
   ]
  },
  {
   "cell_type": "code",
   "execution_count": null,
   "id": "c558c6a0-3bc2-4dcb-9245-d993ce37486f",
   "metadata": {},
   "outputs": [],
   "source": [
    "#| export\n",
    "from abc import ABC, abstractmethod\n",
    "\n",
    "from exex.imports import *\n",
    "from exex.core import *"
   ]
  },
  {
   "cell_type": "code",
   "execution_count": null,
   "id": "d639f114-66d7-4a76-970c-b024aaaaf3e4",
   "metadata": {},
   "outputs": [],
   "source": [
    "#| export\n",
    "@docs\n",
    "class Universe(ABC):\n",
    "    def __init__(self):\n",
    "        self._laws: list[Law] = L([])\n",
    "    \n",
    "    _docs = dict(cls_doc='An abstract base class for create a new universe')"
   ]
  },
  {
   "cell_type": "code",
   "execution_count": null,
   "id": "cbaf5b34-7169-43dd-92da-6579c56ca463",
   "metadata": {},
   "outputs": [],
   "source": [
    "#| export\n",
    "@docs\n",
    "class OurUniverse(Universe):\n",
    "    _docs = dict(cls_doc='The universe that has the law of physics from our universe (yeah you and me)')"
   ]
  },
  {
   "cell_type": "code",
   "execution_count": null,
   "id": "9f3d04a5-1a97-4ded-a9a9-53645721e901",
   "metadata": {},
   "outputs": [
    {
     "data": {
      "text/markdown": [
       "---\n",
       "\n",
       "### OurUniverse\n",
       "\n",
       ">      OurUniverse ()\n",
       "\n",
       "The universe that has the law of physics from our universe (yeah you and me)"
      ],
      "text/plain": [
       "---\n",
       "\n",
       "### OurUniverse\n",
       "\n",
       ">      OurUniverse ()\n",
       "\n",
       "The universe that has the law of physics from our universe (yeah you and me)"
      ]
     },
     "execution_count": null,
     "metadata": {},
     "output_type": "execute_result"
    }
   ],
   "source": [
    "show_doc(OurUniverse)"
   ]
  },
  {
   "cell_type": "markdown",
   "id": "8c3e74e9-6d7c-4c1c-90de-ea7e52a5b532",
   "metadata": {},
   "source": [
    "### Laws"
   ]
  },
  {
   "cell_type": "code",
   "execution_count": null,
   "id": "621db4c5-bee1-40c8-8997-474235f106cc",
   "metadata": {},
   "outputs": [],
   "source": [
    "#| export\n",
    "@docs\n",
    "class ConservationOfMass:\n",
    "    _docs = dict(cls_doc='The sum of all masses in the universe')"
   ]
  },
  {
   "cell_type": "code",
   "execution_count": null,
   "id": "b6e58cf2-d5c4-4a43-9290-81a1890167f9",
   "metadata": {},
   "outputs": [],
   "source": [
    "#| export\n",
    "@docs\n",
    "class ConservationOfEnergy:\n",
    "    _docs = dict(cls_doc='The sum of all energies in the universe')"
   ]
  },
  {
   "cell_type": "code",
   "execution_count": null,
   "id": "aca3cbd5-ab91-4b51-8fd7-d396c2f33a40",
   "metadata": {},
   "outputs": [],
   "source": [
    "#| export\n",
    "@docs\n",
    "class ConservationOfElectricCharge:\n",
    "    _docs = dict(cls_doc='The sum of all electric charges in the universe')"
   ]
  },
  {
   "cell_type": "code",
   "execution_count": null,
   "id": "37a14b25-7b4a-40ab-b390-51ef7d39a351",
   "metadata": {},
   "outputs": [
    {
     "data": {
      "text/markdown": [
       "---\n",
       "\n",
       "[source](https://github.com/xrsrke/exex/blob/main/exex/universe.py#L24){target=\"_blank\" style=\"float:right; font-size:smaller\"}\n",
       "\n",
       "### ConservationOfElectricCharge\n",
       "\n",
       ">      ConservationOfElectricCharge ()\n",
       "\n",
       "The sum of all electric charges in the universe"
      ],
      "text/plain": [
       "---\n",
       "\n",
       "[source](https://github.com/xrsrke/exex/blob/main/exex/universe.py#L24){target=\"_blank\" style=\"float:right; font-size:smaller\"}\n",
       "\n",
       "### ConservationOfElectricCharge\n",
       "\n",
       ">      ConservationOfElectricCharge ()\n",
       "\n",
       "The sum of all electric charges in the universe"
      ]
     },
     "execution_count": null,
     "metadata": {},
     "output_type": "execute_result"
    }
   ],
   "source": [
    "show_doc(ConservationOfElectricCharge)"
   ]
  },
  {
   "cell_type": "code",
   "execution_count": null,
   "id": "a5b0b4a1-5afb-4c22-85c0-4def2f780a64",
   "metadata": {},
   "outputs": [],
   "source": []
  },
  {
   "cell_type": "code",
   "execution_count": null,
   "id": "a244f351-38e9-4a41-90e7-226812fb1654",
   "metadata": {},
   "outputs": [],
   "source": []
  }
 ],
 "metadata": {
  "kernelspec": {
   "display_name": "Python 3 (ipykernel)",
   "language": "python",
   "name": "python3"
  }
 },
 "nbformat": 4,
 "nbformat_minor": 5
}
