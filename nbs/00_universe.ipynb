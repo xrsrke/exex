{
 "cells": [
  {
   "cell_type": "markdown",
   "id": "bf78cd9b-73b5-46d7-b604-fc557d09aa1d",
   "metadata": {},
   "source": [
    "# Universe\n",
    "\n",
    "> Fill in a module description here"
   ]
  },
  {
   "cell_type": "code",
   "execution_count": null,
   "id": "d0204a53-bf6c-4f26-a6d9-62603c643153",
   "metadata": {},
   "outputs": [],
   "source": [
    "# | default_exp universe"
   ]
  },
  {
   "cell_type": "code",
   "execution_count": null,
   "id": "c4c247e3-95cf-4aca-b79c-37d4ca375581",
   "metadata": {},
   "outputs": [],
   "source": [
    "# | hide\n",
    "from nbdev.showdoc import *"
   ]
  },
  {
   "cell_type": "code",
   "execution_count": null,
   "id": "72bc783f-2696-4696-af56-22b77433db7c",
   "metadata": {},
   "outputs": [],
   "source": [
    "# | hide\n",
    "import nbdev\n",
    "\n",
    "nbdev.nbdev_export()"
   ]
  },
  {
   "cell_type": "code",
   "execution_count": null,
   "id": "c558c6a0-3bc2-4dcb-9245-d993ce37486f",
   "metadata": {},
   "outputs": [],
   "source": [
    "# | export\n",
    "from abc import ABC, abstractmethod\n",
    "\n",
    "from exex.imports import *\n",
    "from exex.core.all import *"
   ]
  },
  {
   "cell_type": "code",
   "execution_count": null,
   "id": "d639f114-66d7-4a76-970c-b024aaaaf3e4",
   "metadata": {},
   "outputs": [],
   "source": [
    "# | export\n",
    "@docs\n",
    "class Universe(ABC):\n",
    "    def __init__(self):\n",
    "        self._laws: list[Law] = L([])\n",
    "\n",
    "    _docs = dict(cls_doc=\"An abstract base class for create a new universe\")"
   ]
  },
  {
   "cell_type": "code",
   "execution_count": null,
   "id": "cbaf5b34-7169-43dd-92da-6579c56ca463",
   "metadata": {},
   "outputs": [],
   "source": [
    "# | export\n",
    "@docs\n",
    "class OurUniverse(Universe):\n",
    "    _docs = dict(\n",
    "        cls_doc=\"The universe that has the law of physics from our universe (yeah you and me)\"\n",
    "    )"
   ]
  },
  {
   "cell_type": "code",
   "execution_count": null,
   "id": "9f3d04a5-1a97-4ded-a9a9-53645721e901",
   "metadata": {},
   "outputs": [
    {
     "data": {
      "text/markdown": [
       "---\n",
       "\n",
       "[source](https://github.com/xrsrke/exex/blob/main/exex/universe.py#L22){target=\"_blank\" style=\"float:right; font-size:smaller\"}\n",
       "\n",
       "### OurUniverse\n",
       "\n",
       ">      OurUniverse ()\n",
       "\n",
       "The universe that has the law of physics from our universe (yeah you and me)"
      ],
      "text/plain": [
       "---\n",
       "\n",
       "[source](https://github.com/xrsrke/exex/blob/main/exex/universe.py#L22){target=\"_blank\" style=\"float:right; font-size:smaller\"}\n",
       "\n",
       "### OurUniverse\n",
       "\n",
       ">      OurUniverse ()\n",
       "\n",
       "The universe that has the law of physics from our universe (yeah you and me)"
      ]
     },
     "execution_count": null,
     "metadata": {},
     "output_type": "execute_result"
    }
   ],
   "source": [
    "show_doc(OurUniverse)"
   ]
  },
  {
   "cell_type": "markdown",
   "id": "8c3e74e9-6d7c-4c1c-90de-ea7e52a5b532",
   "metadata": {},
   "source": [
    "### Universal Law in Our Universe"
   ]
  },
  {
   "cell_type": "markdown",
   "id": "1b998f64",
   "metadata": {},
   "source": [
    "According to our universe and the best of our knowledge, mass can't create or destroy"
   ]
  },
  {
   "cell_type": "code",
   "execution_count": null,
   "id": "621db4c5-bee1-40c8-8997-474235f106cc",
   "metadata": {},
   "outputs": [
    {
     "ename": "NameError",
     "evalue": "name 'Law' is not defined",
     "output_type": "error",
     "traceback": [
      "\u001b[0;31m---------------------------------------------------------------------------\u001b[0m",
      "\u001b[0;31mNameError\u001b[0m                                 Traceback (most recent call last)",
      "Input \u001b[0;32mIn [16]\u001b[0m, in \u001b[0;36m<cell line: 2>\u001b[0;34m()\u001b[0m\n\u001b[1;32m      1\u001b[0m \u001b[38;5;66;03m# | export\u001b[39;00m\n\u001b[1;32m      2\u001b[0m \u001b[38;5;129m@docs\u001b[39m\n\u001b[0;32m----> 3\u001b[0m \u001b[38;5;28;01mclass\u001b[39;00m \u001b[38;5;21;01mConservationOfMass\u001b[39;00m(\u001b[43mLaw\u001b[49m):\n\u001b[1;32m      4\u001b[0m     \u001b[38;5;28;01mdef\u001b[39;00m \u001b[38;5;21m__init__\u001b[39m(\u001b[38;5;28mself\u001b[39m):\n\u001b[1;32m      5\u001b[0m         \u001b[38;5;28;01mpass\u001b[39;00m\n",
      "\u001b[0;31mNameError\u001b[0m: name 'Law' is not defined"
     ]
    }
   ],
   "source": [
    "# | export\n",
    "@docs\n",
    "class ConservationOfMass(Law):\n",
    "    def __init__(self):\n",
    "        pass\n",
    "\n",
    "    def __bool__(self):\n",
    "        pass\n",
    "\n",
    "    _docs = dict(cls_doc=\"The sum of all masses in the universe\")"
   ]
  },
  {
   "cell_type": "code",
   "execution_count": null,
   "id": "b6e58cf2-d5c4-4a43-9290-81a1890167f9",
   "metadata": {},
   "outputs": [],
   "source": [
    "# | export\n",
    "@docs\n",
    "class ConservationOfEnergy:\n",
    "    _docs = dict(cls_doc=\"The sum of all energies in the universe\")"
   ]
  },
  {
   "cell_type": "code",
   "execution_count": null,
   "id": "aca3cbd5-ab91-4b51-8fd7-d396c2f33a40",
   "metadata": {},
   "outputs": [],
   "source": [
    "# | export\n",
    "@docs\n",
    "class ConservationOfElectricCharge:\n",
    "    _docs = dict(cls_doc=\"The sum of all electric charges in the universe\")"
   ]
  },
  {
   "cell_type": "code",
   "execution_count": null,
   "id": "37a14b25-7b4a-40ab-b390-51ef7d39a351",
   "metadata": {},
   "outputs": [
    {
     "data": {
      "text/markdown": [
       "---\n",
       "\n",
       "[source](https://github.com/xrsrke/exex/blob/main/exex/universe.py#L45){target=\"_blank\" style=\"float:right; font-size:smaller\"}\n",
       "\n",
       "### ConservationOfElectricCharge\n",
       "\n",
       ">      ConservationOfElectricCharge ()\n",
       "\n",
       "The sum of all electric charges in the universe"
      ],
      "text/plain": [
       "---\n",
       "\n",
       "[source](https://github.com/xrsrke/exex/blob/main/exex/universe.py#L45){target=\"_blank\" style=\"float:right; font-size:smaller\"}\n",
       "\n",
       "### ConservationOfElectricCharge\n",
       "\n",
       ">      ConservationOfElectricCharge ()\n",
       "\n",
       "The sum of all electric charges in the universe"
      ]
     },
     "execution_count": null,
     "metadata": {},
     "output_type": "execute_result"
    }
   ],
   "source": [
    "show_doc(ConservationOfElectricCharge)"
   ]
  },
  {
   "cell_type": "code",
   "execution_count": null,
   "id": "a5b0b4a1-5afb-4c22-85c0-4def2f780a64",
   "metadata": {},
   "outputs": [],
   "source": []
  },
  {
   "cell_type": "code",
   "execution_count": null,
   "id": "a244f351-38e9-4a41-90e7-226812fb1654",
   "metadata": {},
   "outputs": [],
   "source": []
  },
  {
   "cell_type": "code",
   "execution_count": null,
   "id": "eff9dde9-7a26-477e-87f8-8635a7423936",
   "metadata": {},
   "outputs": [],
   "source": []
  }
 ],
 "metadata": {
  "kernelspec": {
   "display_name": "Python 3 (ipykernel)",
   "language": "python",
   "name": "python3"
  }
 },
 "nbformat": 4,
 "nbformat_minor": 5
}
