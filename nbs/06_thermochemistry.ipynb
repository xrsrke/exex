{
 "cells": [
  {
   "cell_type": "markdown",
   "id": "03468ac0-5a79-4ac9-abf6-b99c584ad93b",
   "metadata": {},
   "source": [
    "# Thermochemistry\n",
    "\n",
    "> Fill in a module description here"
   ]
  },
  {
   "cell_type": "code",
   "execution_count": null,
   "id": "3eba070a-1b10-456d-9a97-9c58e713ada6",
   "metadata": {},
   "outputs": [],
   "source": [
    "#| default_exp environment"
   ]
  },
  {
   "cell_type": "code",
   "execution_count": null,
   "id": "03fb896d-3ae3-4ce8-95ac-5bc080302b17",
   "metadata": {},
   "outputs": [],
   "source": [
    "#| hide\n",
    "from nbdev.showdoc import *"
   ]
  },
  {
   "cell_type": "code",
   "execution_count": null,
   "id": "3b8ce0a4-a354-49f7-9959-1f0edd506c71",
   "metadata": {},
   "outputs": [],
   "source": [
    "#| hide\n",
    "import nbdev; nbdev.nbdev_export()"
   ]
  },
  {
   "cell_type": "code",
   "execution_count": null,
   "id": "9c31eb5a-c505-4cf7-a61f-8856e7ce67de",
   "metadata": {},
   "outputs": [],
   "source": []
  }
 ],
 "metadata": {
  "kernelspec": {
   "display_name": "Python 3 (ipykernel)",
   "language": "python",
   "name": "python3"
  }
 },
 "nbformat": 4,
 "nbformat_minor": 5
}
