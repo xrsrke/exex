{
 "cells": [
  {
   "cell_type": "code",
   "execution_count": null,
   "id": "38519850-805f-4b56-8fa9-1c4ee09e9fa0",
   "metadata": {},
   "outputs": [],
   "source": [
    "from fastcore.basics import *"
   ]
  },
  {
   "cell_type": "code",
   "execution_count": null,
   "id": "af070aec-e5f5-4cd6-8a05-4bdb933b981a",
   "metadata": {},
   "outputs": [],
   "source": [
    "class Property:\n",
    "    def __init__(self):\n",
    "        self._cmp = [1, 2, 3]\n",
    "\n",
    "    @property\n",
    "    def cmp(self): return self._cmp"
   ]
  },
  {
   "cell_type": "code",
   "execution_count": null,
   "id": "85e2ab7c",
   "metadata": {},
   "outputs": [],
   "source": [
    "p = Property()"
   ]
  },
  {
   "cell_type": "code",
   "execution_count": null,
   "id": "b6ed7449",
   "metadata": {},
   "outputs": [
    {
     "data": {
      "text/plain": [
       "3"
      ]
     },
     "execution_count": null,
     "metadata": {},
     "output_type": "execute_result"
    }
   ],
   "source": [
    "len(p.cmp)"
   ]
  },
  {
   "cell_type": "code",
   "execution_count": null,
   "id": "e7901482-04f1-4939-ab57-cadcc2ba5194",
   "metadata": {},
   "outputs": [],
   "source": [
    "@patch(as_prop=True)\n",
    "def cmp(self: Property): return self._cmp"
   ]
  },
  {
   "cell_type": "code",
   "execution_count": null,
   "id": "e64a1751-de1d-4cbf-9ff5-0e67c3142afe",
   "metadata": {},
   "outputs": [
    {
     "ename": "AttributeError",
     "evalue": "'NoneType' object has no attribute 'setter'",
     "output_type": "error",
     "traceback": [
      "\u001b[0;31m---------------------------------------------------------------------------\u001b[0m",
      "\u001b[0;31mAttributeError\u001b[0m                            Traceback (most recent call last)",
      "Input \u001b[0;32mIn [21]\u001b[0m, in \u001b[0;36m<cell line: 1>\u001b[0;34m()\u001b[0m\n\u001b[1;32m      1\u001b[0m \u001b[38;5;129m@patch\u001b[39m\n\u001b[0;32m----> 2\u001b[0m \u001b[38;5;129m@cmp\u001b[39m\u001b[38;5;241;43m.\u001b[39;49m\u001b[43msetter\u001b[49m\n\u001b[1;32m      3\u001b[0m \u001b[38;5;28;01mdef\u001b[39;00m \u001b[38;5;21mcmp\u001b[39m(\u001b[38;5;28mself\u001b[39m: Property, v): \u001b[38;5;28mself\u001b[39m\u001b[38;5;241m.\u001b[39m_cmp \u001b[38;5;241m=\u001b[39m v\n",
      "\u001b[0;31mAttributeError\u001b[0m: 'NoneType' object has no attribute 'setter'"
     ]
    }
   ],
   "source": [
    "@patch\n",
    "@cmp.setter\n",
    "def cmp(self: Property, v): self._cmp = v"
   ]
  },
  {
   "cell_type": "code",
   "execution_count": null,
   "id": "ec5ce74b-b718-4947-a530-d24341a73d5b",
   "metadata": {},
   "outputs": [],
   "source": [
    "p = Property()"
   ]
  },
  {
   "cell_type": "code",
   "execution_count": null,
   "id": "f584a301-dfdf-469c-9ae9-5fb4412b37de",
   "metadata": {},
   "outputs": [
    {
     "ename": "AttributeError",
     "evalue": "can't set attribute",
     "output_type": "error",
     "traceback": [
      "\u001b[0;31m---------------------------------------------------------------------------\u001b[0m",
      "\u001b[0;31mAttributeError\u001b[0m                            Traceback (most recent call last)",
      "Input \u001b[0;32mIn [23]\u001b[0m, in \u001b[0;36m<cell line: 1>\u001b[0;34m()\u001b[0m\n\u001b[0;32m----> 1\u001b[0m p\u001b[38;5;241m.\u001b[39mcmp \u001b[38;5;241m=\u001b[39m \u001b[38;5;241m2\u001b[39m\n",
      "\u001b[0;31mAttributeError\u001b[0m: can't set attribute"
     ]
    }
   ],
   "source": [
    "p.cmp = 2"
   ]
  },
  {
   "cell_type": "code",
   "execution_count": null,
   "id": "1d5e4bab-c8c2-4e29-abd8-b2f96f8f7cce",
   "metadata": {},
   "outputs": [],
   "source": []
  }
 ],
 "metadata": {
  "kernelspec": {
   "display_name": "Python 3 (ipykernel)",
   "language": "python",
   "name": "python3"
  }
 },
 "nbformat": 4,
 "nbformat_minor": 5
}
