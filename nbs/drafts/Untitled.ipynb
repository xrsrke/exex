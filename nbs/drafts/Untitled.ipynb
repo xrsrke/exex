{
 "cells": [
  {
   "cell_type": "code",
   "execution_count": null,
   "id": "6c51b0b6-c8de-4334-ab0b-e7104d2625e1",
   "metadata": {},
   "outputs": [],
   "source": []
  },
  {
   "cell_type": "code",
   "execution_count": null,
   "id": "6f0061e7-c78a-463c-a025-926c7fb514ee",
   "metadata": {},
   "outputs": [],
   "source": []
  },
  {
   "cell_type": "code",
   "execution_count": null,
   "id": "2b5a69be-f166-4bae-8335-b7f042f70c12",
   "metadata": {},
   "outputs": [],
   "source": []
  }
 ],
 "metadata": {
  "kernelspec": {
   "display_name": "Python 3 (ipykernel)",
   "language": "python",
   "name": "python3"
  }
 },
 "nbformat": 4,
 "nbformat_minor": 5
}
