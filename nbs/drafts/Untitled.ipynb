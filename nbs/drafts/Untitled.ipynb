{
 "cells": [
  {
   "cell_type": "code",
   "execution_count": null,
   "id": "fac2b295-70c5-47c6-94c4-0f4d40f7b31a",
   "metadata": {},
   "outputs": [
    {
     "ename": "TypeError",
     "evalue": "'module' object is not callable",
     "output_type": "error",
     "traceback": [
      "\u001b[0;31m---------------------------------------------------------------------------\u001b[0m",
      "\u001b[0;31mTypeError\u001b[0m                                 Traceback (most recent call last)",
      "Input \u001b[0;32mIn [1]\u001b[0m, in \u001b[0;36m<cell line: 1>\u001b[0;34m()\u001b[0m\n\u001b[0;32m----> 1\u001b[0m \u001b[38;5;28;01mfrom\u001b[39;00m \u001b[38;5;21;01mexex\u001b[39;00m\u001b[38;5;21;01m.\u001b[39;00m\u001b[38;5;21;01mcore\u001b[39;00m\u001b[38;5;21;01m.\u001b[39;00m\u001b[38;5;21;01mall\u001b[39;00m \u001b[38;5;28;01mimport\u001b[39;00m \u001b[38;5;241m*\u001b[39m\n",
      "File \u001b[0;32m~/DATA/projects/chemistry/exex/exex/core/all.py:7\u001b[0m, in \u001b[0;36m<module>\u001b[0;34m\u001b[0m\n\u001b[1;32m      5\u001b[0m \u001b[38;5;28;01mfrom\u001b[39;00m \u001b[38;5;21;01m.\u001b[39;00m\u001b[38;5;21;01mlaw\u001b[39;00m \u001b[38;5;28;01mimport\u001b[39;00m \u001b[38;5;241m*\u001b[39m\n\u001b[1;32m      6\u001b[0m \u001b[38;5;28;01mfrom\u001b[39;00m \u001b[38;5;21;01m.\u001b[39;00m\u001b[38;5;21;01muniverse\u001b[39;00m \u001b[38;5;28;01mimport\u001b[39;00m Universe\n\u001b[0;32m----> 7\u001b[0m \u001b[38;5;28;01mfrom\u001b[39;00m \u001b[38;5;21;01m.\u001b[39;00m\u001b[38;5;21;01mmatter\u001b[39;00m \u001b[38;5;28;01mimport\u001b[39;00m Matter\n",
      "File \u001b[0;32m~/DATA/projects/chemistry/exex/exex/core/matter.py:10\u001b[0m, in \u001b[0;36m<module>\u001b[0;34m\u001b[0m\n\u001b[1;32m      8\u001b[0m \u001b[38;5;28;01mfrom\u001b[39;00m \u001b[38;5;21;01m.\u001b[39;00m\u001b[38;5;21;01m.\u001b[39;00m\u001b[38;5;21;01mimports\u001b[39;00m \u001b[38;5;28;01mimport\u001b[39;00m \u001b[38;5;241m*\u001b[39m\n\u001b[1;32m      9\u001b[0m \u001b[38;5;28;01mfrom\u001b[39;00m \u001b[38;5;21;01m.\u001b[39;00m\u001b[38;5;21;01mlaw\u001b[39;00m \u001b[38;5;28;01mimport\u001b[39;00m Law\n\u001b[0;32m---> 10\u001b[0m \u001b[38;5;28;01mfrom\u001b[39;00m \u001b[38;5;21;01m.\u001b[39;00m\u001b[38;5;21;01m.\u001b[39;00m\u001b[38;5;21;01msystem\u001b[39;00m \u001b[38;5;28;01mimport\u001b[39;00m System\n\u001b[1;32m     12\u001b[0m \u001b[38;5;66;03m# %% ../../nbs/00_core.matter.ipynb 6\u001b[39;00m\n\u001b[1;32m     13\u001b[0m \u001b[38;5;129m@dataclass\u001b[39m\n\u001b[1;32m     14\u001b[0m \u001b[38;5;28;01mclass\u001b[39;00m \u001b[38;5;21;01mState\u001b[39;00m:\n",
      "File \u001b[0;32m~/DATA/projects/chemistry/exex/exex/system.py:12\u001b[0m, in \u001b[0;36m<module>\u001b[0;34m\u001b[0m\n\u001b[1;32m      8\u001b[0m \u001b[38;5;28;01mfrom\u001b[39;00m \u001b[38;5;21;01m.\u001b[39;00m\u001b[38;5;21;01mcore\u001b[39;00m \u001b[38;5;28;01mimport\u001b[39;00m \u001b[38;5;241m*\u001b[39m\n\u001b[1;32m     10\u001b[0m \u001b[38;5;66;03m# %% ../nbs/00_system.ipynb 6\u001b[39;00m\n\u001b[1;32m     11\u001b[0m \u001b[38;5;129m@docs\u001b[39m\n\u001b[0;32m---> 12\u001b[0m \u001b[38;5;28;01mclass\u001b[39;00m \u001b[38;5;21;01mSystem\u001b[39;00m(metaclass\u001b[38;5;241m=\u001b[39mPrePostInitMeta):\n\u001b[1;32m     13\u001b[0m     \u001b[38;5;28;01mdef\u001b[39;00m \u001b[38;5;21m__init__\u001b[39m(\u001b[38;5;28mself\u001b[39m, reactions\u001b[38;5;241m=\u001b[39m[]):  \u001b[38;5;66;03m# list of reactions\u001b[39;00m\n\u001b[1;32m     14\u001b[0m         \u001b[38;5;28mself\u001b[39m\u001b[38;5;241m.\u001b[39m_universe \u001b[38;5;241m=\u001b[39m \u001b[38;5;28;01mNone\u001b[39;00m\n",
      "File \u001b[0;32m~/DATA/projects/chemistry/exex/exex/system.py:31\u001b[0m, in \u001b[0;36mSystem\u001b[0;34m()\u001b[0m\n\u001b[1;32m     27\u001b[0m     \u001b[38;5;28;01mfor\u001b[39;00m name, compound \u001b[38;5;129;01min\u001b[39;00m \u001b[38;5;28mself\u001b[39m\u001b[38;5;241m.\u001b[39mreactions[\u001b[38;5;241m0\u001b[39m]\u001b[38;5;241m.\u001b[39mcompounds\u001b[38;5;241m.\u001b[39mitems():\n\u001b[1;32m     28\u001b[0m         compound\u001b[38;5;241m.\u001b[39m_set_system(\u001b[38;5;28mself\u001b[39m)\n\u001b[1;32m     30\u001b[0m \u001b[43m\u001b[49m\u001b[38;5;129;43m@property\u001b[39;49m\n\u001b[0;32m---> 31\u001b[0m \u001b[43m\u001b[49m\u001b[38;5;28;43;01mdef\u001b[39;49;00m\u001b[43m \u001b[49m\u001b[38;5;21;43muniverse\u001b[39;49m\u001b[43m(\u001b[49m\u001b[38;5;28;43mself\u001b[39;49m\u001b[43m)\u001b[49m\u001b[43m:\u001b[49m\n\u001b[1;32m     32\u001b[0m \u001b[43m    \u001b[49m\u001b[38;5;28;43;01mpass\u001b[39;49;00m\n\u001b[1;32m     33\u001b[0m     \u001b[38;5;66;03m#return self._universe\u001b[39;00m\n",
      "\u001b[0;31mTypeError\u001b[0m: 'module' object is not callable"
     ]
    }
   ],
   "source": [
    "from exex.core.all import *"
   ]
  },
  {
   "cell_type": "code",
   "execution_count": null,
   "id": "f86f4e42-2e83-4393-a94a-fd3aede33a8d",
   "metadata": {},
   "outputs": [
    {
     "data": {
      "text/plain": [
       "Compound(H₂O₁)"
      ]
     },
     "execution_count": null,
     "metadata": {},
     "output_type": "execute_result"
    }
   ],
   "source": [
    "Compound(\"H2O\")"
   ]
  },
  {
   "cell_type": "code",
   "execution_count": null,
   "id": "6f0061e7-c78a-463c-a025-926c7fb514ee",
   "metadata": {},
   "outputs": [],
   "source": [
    "s = System()"
   ]
  },
  {
   "cell_type": "code",
   "execution_count": null,
   "id": "2b5a69be-f166-4bae-8335-b7f042f70c12",
   "metadata": {},
   "outputs": [
    {
     "data": {
      "text/plain": [
       "{'_universe': None,\n",
       " '_current_time': None,\n",
       " '_highest_time': None,\n",
       " '_reactions': [],\n",
       " '_subscribers': {},\n",
       " '_idx_reaction': None}"
      ]
     },
     "execution_count": null,
     "metadata": {},
     "output_type": "execute_result"
    }
   ],
   "source": [
    "s.__dict__"
   ]
  },
  {
   "cell_type": "code",
   "execution_count": null,
   "id": "812ea0be-b023-4094-b428-5452bbdee650",
   "metadata": {},
   "outputs": [
    {
     "data": {
      "text/plain": [
       "[]"
      ]
     },
     "execution_count": null,
     "metadata": {},
     "output_type": "execute_result"
    }
   ],
   "source": [
    "s.rxns"
   ]
  },
  {
   "cell_type": "code",
   "execution_count": null,
   "id": "90151fb6-8d3c-41e0-9303-af888cfebc6c",
   "metadata": {},
   "outputs": [],
   "source": []
  },
  {
   "cell_type": "code",
   "execution_count": null,
   "id": "13384440-caec-4235-9a17-6d1ce799fc21",
   "metadata": {},
   "outputs": [],
   "source": [
    "class Computer:\n",
    "    def __init__(self):\n",
    "        self._ram = 111\n",
    "    \n",
    "    @property\n",
    "    def ram(self): return self._ram\n",
    "\n",
    "    def method(self):\n",
    "        return self.ram"
   ]
  },
  {
   "cell_type": "code",
   "execution_count": null,
   "id": "b5f46bc0-01d7-42dc-99ac-b7a1037fe2fd",
   "metadata": {},
   "outputs": [],
   "source": [
    "c = Computer()"
   ]
  },
  {
   "cell_type": "code",
   "execution_count": null,
   "id": "83d695c8-b9b4-44b4-9752-13728a6a4ab9",
   "metadata": {},
   "outputs": [
    {
     "data": {
      "text/plain": [
       "111"
      ]
     },
     "execution_count": null,
     "metadata": {},
     "output_type": "execute_result"
    }
   ],
   "source": [
    "c.method()"
   ]
  }
 ],
 "metadata": {
  "kernelspec": {
   "display_name": "Python 3 (ipykernel)",
   "language": "python",
   "name": "python3"
  }
 },
 "nbformat": 4,
 "nbformat_minor": 5
}
