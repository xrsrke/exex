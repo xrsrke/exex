{
 "cells": [
  {
   "cell_type": "code",
   "execution_count": null,
   "id": "cddaf4ee-37f9-42d5-9b64-c0d6fd628394",
   "metadata": {},
   "outputs": [
    {
     "ename": "AssertionError",
     "evalue": "wrong",
     "output_type": "error",
     "traceback": [
      "\u001b[0;31m---------------------------------------------------------------------------\u001b[0m",
      "\u001b[0;31mAssertionError\u001b[0m                            Traceback (most recent call last)",
      "Cell \u001b[0;32mIn [3], line 1\u001b[0m\n\u001b[0;32m----> 1\u001b[0m \u001b[38;5;28;01massert\u001b[39;00m \u001b[38;5;28misinstance\u001b[39m(\u001b[38;5;241m1\u001b[39m, \u001b[38;5;28mstr\u001b[39m), \u001b[38;5;124mf\u001b[39m\u001b[38;5;124m\"\u001b[39m\u001b[38;5;124mwrong\u001b[39m\u001b[38;5;124m\"\u001b[39m\n",
      "\u001b[0;31mAssertionError\u001b[0m: wrong"
     ]
    }
   ],
   "source": [
    "assert isinstance(1, str), f\"wrong\""
   ]
  },
  {
   "cell_type": "code",
   "execution_count": null,
   "id": "eff8c7d4-5e1d-42b8-9f86-51fdf5a197a4",
   "metadata": {},
   "outputs": [
    {
     "name": "stdout",
     "output_type": "stream",
     "text": [
      "1\n"
     ]
    }
   ],
   "source": [
    "if 'a' in {'a': 1, 'b': 2}:\n",
    "    print(1)"
   ]
  },
  {
   "cell_type": "markdown",
   "id": "13f35e75-74cb-409e-8f9a-f20bcec6248d",
   "metadata": {},
   "source": [
    "$\\text{Amount of Food} = \\frac{\\text{Food Available}}{\\text{Number of Chickens}}$"
   ]
  },
  {
   "cell_type": "markdown",
   "id": "8b5fea6f-9a94-49a8-b137-6ea67f35da42",
   "metadata": {},
   "source": [
    "$\\text{Food Available} = \\text{Market Price } \\times 0.1$"
   ]
  },
  {
   "cell_type": "markdown",
   "id": "f55cb020-be09-4236-9dfe-403e3268d8c1",
   "metadata": {},
   "source": [
    "So the `Market Price` indirectly determines the `Amount of Food`"
   ]
  },
  {
   "cell_type": "code",
   "execution_count": null,
   "id": "9f41d811-6be6-4a23-b08a-5aba4e698a75",
   "metadata": {},
   "outputs": [],
   "source": [
    "class MarketPrice:\n",
    "    def __init__(self):\n",
    "        self.is_constant = False\n",
    "        self.value = 1000"
   ]
  },
  {
   "cell_type": "code",
   "execution_count": null,
   "id": "73077c1e-b3f6-4bb6-a36d-22479e18d7f1",
   "metadata": {},
   "outputs": [],
   "source": [
    "class FoodAvailable:\n",
    "    def __init__(self):\n",
    "        self.is_constant = False\n",
    "\n",
    "    def compute(self):\n",
    "        return MarketPrice().value * 0.1"
   ]
  },
  {
   "cell_type": "code",
   "execution_count": null,
   "id": "9f55b9ea-1c33-45c7-a703-0d51398caa8c",
   "metadata": {},
   "outputs": [],
   "source": [
    "class NumberOfChickens:\n",
    "    def __init__(self):\n",
    "        self.is_constant = True\n",
    "        self.value = 5"
   ]
  },
  {
   "cell_type": "code",
   "execution_count": null,
   "id": "4e64fcc2-a2b8-4775-a596-c5109715f185",
   "metadata": {},
   "outputs": [],
   "source": [
    "class AmountOfFood:\n",
    "    def __init__(self):\n",
    "        self.is_constant = False\n",
    "\n",
    "    def compute(self):\n",
    "        return FoodAvailable().compute() / NumberOfChickens().value"
   ]
  },
  {
   "cell_type": "markdown",
   "id": "d3cd0173-6fa6-4910-ac44-b2d08517bdef",
   "metadata": {},
   "source": [
    "Suppose as bellow"
   ]
  },
  {
   "cell_type": "code",
   "execution_count": null,
   "id": "5cdf0416-ef58-4baf-b906-bcf0154c7ab6",
   "metadata": {},
   "outputs": [
    {
     "data": {
      "text/plain": [
       "20.0"
      ]
     },
     "execution_count": null,
     "metadata": {},
     "output_type": "execute_result"
    }
   ],
   "source": [
    "AmountOfFood().compute()"
   ]
  },
  {
   "cell_type": "code",
   "execution_count": null,
   "id": "8f82d16f-0c1e-4a95-8373-aac391be59df",
   "metadata": {},
   "outputs": [],
   "source": []
  }
 ],
 "metadata": {
  "kernelspec": {
   "display_name": "Python 3 (ipykernel)",
   "language": "python",
   "name": "python3"
  }
 },
 "nbformat": 4,
 "nbformat_minor": 5
}
