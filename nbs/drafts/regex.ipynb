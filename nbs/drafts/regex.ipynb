{
 "cells": [
  {
   "cell_type": "code",
   "execution_count": null,
   "id": "a29c656f-8fa6-41dd-91bf-47d609283b90",
   "metadata": {},
   "outputs": [],
   "source": [
    "import re\n",
    "\n",
    "FORMULA_PARENS = re.compile(r\"\\((.*?)\\)(\\d*)\")\n",
    "FORMULA_REGULAR = re.compile(r\"(\\(?)([A-Z][a-z]?)(\\d*)(\\)?)\")\n",
    "\n",
    "\n",
    "def parse_formula(formula: str) -> dict:\n",
    "    def multiply(form: dict, mul: int) -> None:\n",
    "        for key in form:\n",
    "            form[key] *= mul\n",
    "\n",
    "    formDict = {}\n",
    "    # PARENS\n",
    "    for match in FORMULA_PARENS.finditer(formula):\n",
    "        parens = parse_formula(match.group(1))\n",
    "        mul = match.group(2)\n",
    "        if not mul:\n",
    "            mul = 1\n",
    "        multiply(parens, int(mul))\n",
    "        formDict.update(parens)\n",
    "    # REST\n",
    "    for match in FORMULA_REGULAR.finditer(formula):\n",
    "        left, elem, mul, right = match.groups()\n",
    "        if left or right:\n",
    "            continue\n",
    "        if not mul:\n",
    "            mul = 1\n",
    "        if elem in formDict:\n",
    "            formDict[elem] += int(mul)\n",
    "        else:\n",
    "            formDict[elem] = int(mul)\n",
    "\n",
    "    return formDict"
   ]
  },
  {
   "cell_type": "code",
   "execution_count": null,
   "id": "d14fd594-1285-44c4-b03a-47afdaa201c8",
   "metadata": {},
   "outputs": [],
   "source": [
    "import re"
   ]
  },
  {
   "cell_type": "code",
   "execution_count": null,
   "id": "0156312d-30a6-41af-9b43-7c65343f2aa2",
   "metadata": {},
   "outputs": [],
   "source": [
    "formula1 = \"C6H12O6\""
   ]
  },
  {
   "cell_type": "code",
   "execution_count": null,
   "id": "97143388-ae9d-479b-b8aa-d0fef1e85eda",
   "metadata": {},
   "outputs": [],
   "source": [
    "formula2 = \"HNO3(C6H12O6)2\""
   ]
  },
  {
   "cell_type": "code",
   "execution_count": null,
   "id": "23ace21d-5d38-4e9a-a2ea-21f24ba092de",
   "metadata": {},
   "outputs": [],
   "source": [
    "formula3 = \"CO2 + H2O\""
   ]
  },
  {
   "cell_type": "code",
   "execution_count": null,
   "id": "b358f4fa-8f57-459f-a349-c9c10eaa1d31",
   "metadata": {},
   "outputs": [],
   "source": [
    "matches = FORMULA_REGULAR.finditer(formula3)"
   ]
  },
  {
   "cell_type": "code",
   "execution_count": null,
   "id": "39247451-d2a2-41a3-ac19-0661fdf467ba",
   "metadata": {},
   "outputs": [
    {
     "name": "stdout",
     "output_type": "stream",
     "text": [
      "<re.Match object; span=(0, 1), match='C'>\n",
      "<re.Match object; span=(1, 3), match='O2'>\n",
      "<re.Match object; span=(6, 8), match='H2'>\n",
      "<re.Match object; span=(8, 9), match='O'>\n"
     ]
    }
   ],
   "source": [
    "for match in matches:\n",
    "    print(match)"
   ]
  },
  {
   "cell_type": "code",
   "execution_count": null,
   "id": "2abc5902-5337-455c-97e7-0ca89cbce7e4",
   "metadata": {},
   "outputs": [
    {
     "data": {
      "text/plain": [
       "{'C': 6, 'H': 12, 'O': 6}"
      ]
     },
     "execution_count": null,
     "metadata": {},
     "output_type": "execute_result"
    }
   ],
   "source": [
    "parse_formula(\"C6H12O6\")"
   ]
  },
  {
   "cell_type": "code",
   "execution_count": null,
   "id": "2165f996-062a-438c-82bc-ca1818034676",
   "metadata": {},
   "outputs": [],
   "source": [
    "from pyvalem.reaction import Reaction"
   ]
  },
  {
   "cell_type": "code",
   "execution_count": null,
   "id": "c81ff9d0-27ac-409f-a34e-8b460e543b3e",
   "metadata": {},
   "outputs": [],
   "source": [
    "eq1 = \"CO2 + H2O -> O2 + C6H12O6\""
   ]
  },
  {
   "cell_type": "code",
   "execution_count": null,
   "id": "9195c769-fa7a-4477-905e-76a27c8e441c",
   "metadata": {},
   "outputs": [],
   "source": [
    "eq2 = \"CO2 (g) + H2O (l) -> O2 (g) + C6H12O6 (s)\""
   ]
  },
  {
   "cell_type": "code",
   "execution_count": null,
   "id": "6e2e23d9-2584-4655-849f-ddb07112a0e6",
   "metadata": {},
   "outputs": [],
   "source": [
    "eq2 = \"CO2 + H2O -> O2 + C6H12O6 -> H2O\""
   ]
  },
  {
   "cell_type": "code",
   "execution_count": null,
   "id": "d7521f3e-15f7-4e85-b742-4304ab176d7e",
   "metadata": {},
   "outputs": [
    {
     "ename": "ReactionStoichiometryError",
     "evalue": "Stoichiometry not preserved for reaction: CO2 + H2O -> O2 + C6H12O6",
     "output_type": "error",
     "traceback": [
      "\u001b[0;31m---------------------------------------------------------------------------\u001b[0m",
      "\u001b[0;31mReactionStoichiometryError\u001b[0m                Traceback (most recent call last)",
      "Input \u001b[0;32mIn [17]\u001b[0m, in \u001b[0;36m<cell line: 1>\u001b[0;34m()\u001b[0m\n\u001b[0;32m----> 1\u001b[0m reaction \u001b[38;5;241m=\u001b[39m \u001b[43mReaction\u001b[49m\u001b[43m(\u001b[49m\u001b[43meq1\u001b[49m\u001b[43m)\u001b[49m\n",
      "File \u001b[0;32m/opt/anaconda3/envs/chemchem/lib/python3.9/site-packages/pyvalem/reaction.py:202\u001b[0m, in \u001b[0;36mReaction.__init__\u001b[0;34m(self, r_str, strict)\u001b[0m\n\u001b[1;32m    200\u001b[0m \u001b[38;5;66;03m# validate charge and stoichiometry conservation:\u001b[39;00m\n\u001b[1;32m    201\u001b[0m \u001b[38;5;28;01mif\u001b[39;00m strict \u001b[38;5;129;01mand\u001b[39;00m \u001b[38;5;129;01mnot\u001b[39;00m \u001b[38;5;28mself\u001b[39m\u001b[38;5;241m.\u001b[39mstoichiometry_conserved():\n\u001b[0;32m--> 202\u001b[0m     \u001b[38;5;28;01mraise\u001b[39;00m ReactionStoichiometryError(\n\u001b[1;32m    203\u001b[0m         \u001b[38;5;124m\"\u001b[39m\u001b[38;5;124mStoichiometry not preserved for \u001b[39m\u001b[38;5;124m\"\u001b[39m \u001b[38;5;124m\"\u001b[39m\u001b[38;5;124mreaction: \u001b[39m\u001b[38;5;132;01m{}\u001b[39;00m\u001b[38;5;124m\"\u001b[39m\u001b[38;5;241m.\u001b[39mformat(r_str)\n\u001b[1;32m    204\u001b[0m     )\n\u001b[1;32m    205\u001b[0m \u001b[38;5;28;01mif\u001b[39;00m strict \u001b[38;5;129;01mand\u001b[39;00m \u001b[38;5;129;01mnot\u001b[39;00m \u001b[38;5;28mself\u001b[39m\u001b[38;5;241m.\u001b[39mcharge_conserved():\n\u001b[1;32m    206\u001b[0m     \u001b[38;5;28;01mraise\u001b[39;00m ReactionChargeError(\n\u001b[1;32m    207\u001b[0m         \u001b[38;5;124m\"\u001b[39m\u001b[38;5;124mCharge not preserved for \u001b[39m\u001b[38;5;124m\"\u001b[39m \u001b[38;5;124m\"\u001b[39m\u001b[38;5;124mreaction: \u001b[39m\u001b[38;5;132;01m{}\u001b[39;00m\u001b[38;5;124m\"\u001b[39m\u001b[38;5;241m.\u001b[39mformat(r_str)\n\u001b[1;32m    208\u001b[0m     )\n",
      "\u001b[0;31mReactionStoichiometryError\u001b[0m: Stoichiometry not preserved for reaction: CO2 + H2O -> O2 + C6H12O6"
     ]
    }
   ],
   "source": [
    "reaction = Reaction(eq1)"
   ]
  },
  {
   "cell_type": "code",
   "execution_count": null,
   "id": "a7fac403-86db-49ce-a1ab-8c05c69bc1b9",
   "metadata": {},
   "outputs": [
    {
     "data": {
      "text/plain": [
       "CO2 + CO2 + CO2 + CO2 + CO2 + CO2 + H2O + H2O + H2O + H2O + H2O + H2O → O2 + O2 + O2 + O2 + O2 + O2 + C6H12O6"
      ]
     },
     "execution_count": null,
     "metadata": {},
     "output_type": "execute_result"
    }
   ],
   "source": [
    "reaction"
   ]
  },
  {
   "cell_type": "code",
   "execution_count": null,
   "id": "3677adf9-3024-4bfc-807a-49c34d1da192",
   "metadata": {},
   "outputs": [],
   "source": []
  }
 ],
 "metadata": {
  "kernelspec": {
   "display_name": "Python 3 (ipykernel)",
   "language": "python",
   "name": "python3"
  }
 },
 "nbformat": 4,
 "nbformat_minor": 5
}
