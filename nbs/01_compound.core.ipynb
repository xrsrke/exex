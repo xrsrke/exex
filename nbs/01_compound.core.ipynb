{
 "cells": [
  {
   "cell_type": "markdown",
   "id": "292fb7ca-5520-4d5c-a7b9-d55eb8524a6e",
   "metadata": {},
   "source": [
    "# Compound\n",
    "\n",
    "> Fill in a module description here"
   ]
  },
  {
   "cell_type": "code",
   "execution_count": null,
   "id": "5d987c82-99c4-44d6-ae4d-620c5d73d8d2",
   "metadata": {},
   "outputs": [],
   "source": [
    "# | default_exp compound.core"
   ]
  },
  {
   "cell_type": "code",
   "execution_count": null,
   "id": "23487991-d9ec-47af-94b3-f82653bbdb74",
   "metadata": {},
   "outputs": [],
   "source": [
    "# | hide\n",
    "from nbdev.showdoc import *"
   ]
  },
  {
   "cell_type": "code",
   "execution_count": null,
   "id": "49300d3d-d93d-4a45-ad0c-bc6211e6f18f",
   "metadata": {},
   "outputs": [],
   "source": [
    "# | hide\n",
    "import nbdev\n",
    "\n",
    "nbdev.nbdev_export()"
   ]
  },
  {
   "cell_type": "code",
   "execution_count": null,
   "id": "64885bf1-2deb-457d-9f32-71545e5294bd",
   "metadata": {},
   "outputs": [],
   "source": [
    "# | export\n",
    "from dataclasses import dataclass\n",
    "import chemlib\n",
    "\n",
    "from exex.imports import *\n",
    "from exex.core.all import *\n",
    "from exex.utils import *\n",
    "from exex.compound.law import *"
   ]
  },
  {
   "cell_type": "markdown",
   "id": "ec32dab6-12e7-4995-82ed-2c53ef363cd9",
   "metadata": {},
   "source": [
    "### Compound"
   ]
  },
  {
   "cell_type": "code",
   "execution_count": null,
   "id": "0a63b3c3-34fa-4145-96cc-df5364ed4391",
   "metadata": {},
   "outputs": [],
   "source": [
    "# | export\n",
    "@docs\n",
    "class Compound(Matter):\n",
    "\n",
    "    LAWS = [MassMoleRatio]\n",
    "\n",
    "    def __init__(self, formula: str) -> None:  # the chemical formula\n",
    "        super().__init__()\n",
    "\n",
    "        compound = chemlib.Compound(formula)\n",
    "        self.add_laws = [MassMoleRatio]\n",
    "    \n",
    "        self.set_elements(compound.elements)\n",
    "\n",
    "        self.formula = compound.formula\n",
    "        self.str_formula = formula\n",
    "        \n",
    "        self.coefficient = compound.coefficient\n",
    "        self.occurences = compound.occurences\n",
    "\n",
    "        self._setup_laws([MassMoleRatio])\n",
    "    \n",
    "    @property\n",
    "    def formula(self) -> str:\n",
    "        return self._unicode_formula\n",
    "    \n",
    "    @formula.setter\n",
    "    def formula(self, formula: str) -> None:\n",
    "        self._unicode_formula = formula\n",
    "    \n",
    "    @property\n",
    "    def snake_name(self) -> str:  # return the snake name style\n",
    "        return self.str_formula\n",
    "    \n",
    "    @property\n",
    "\n",
    "    def get_data(self, time: int, name: str):  # the time  # the property name\n",
    "        if not name in self.properties:\n",
    "            return \"The property don't exist\"\n",
    "        pass\n",
    "\n",
    "    def __repr__(self):\n",
    "        return f\"Compound({self.formula})\"\n",
    "\n",
    "    _docs = dict(cls_doc=\"Compound\",\n",
    "                 get_data=\"\",\n",
    "                 snake_name=\"the snake name style\"\n",
    "                )"
   ]
  },
  {
   "cell_type": "code",
   "execution_count": null,
   "id": "1d40c7d8",
   "metadata": {},
   "outputs": [],
   "source": [
    "#| export\n",
    "@patch(as_prop=True)\n",
    "def elements(self: Matter): # return elements of the compound\n",
    "    return self._elements"
   ]
  },
  {
   "cell_type": "code",
   "execution_count": null,
   "id": "52e3b597",
   "metadata": {},
   "outputs": [],
   "source": [
    "#| export\n",
    "@patch\n",
    "def set_elements(self: Matter, elements):\n",
    "    self._elements = elements"
   ]
  },
  {
   "cell_type": "code",
   "execution_count": null,
   "id": "e3e4b7d5",
   "metadata": {},
   "outputs": [],
   "source": [
    "# @patch(as_prop=True)\n",
    "# def formula(self: Matter):\n",
    "#     return self._unicode_formula"
   ]
  },
  {
   "cell_type": "code",
   "execution_count": null,
   "id": "22335f39",
   "metadata": {},
   "outputs": [],
   "source": [
    "#| export\n",
    "@patch(as_prop=True)\n",
    "def coeffs(self: Compound):\n",
    "    return self._coeffs"
   ]
  },
  {
   "cell_type": "code",
   "execution_count": null,
   "id": "51bb83c1",
   "metadata": {},
   "outputs": [],
   "source": [
    "#| export\n",
    "@patch\n",
    "def info(self: Compound, **kwargs): # the info\n",
    "    dta = {}\n",
    "\n",
    "    for k, v in self.properties.items():\n",
    "        # data_point = {}\n",
    "        # print(v._data)\n",
    "        key = k\n",
    "        # if v.unit:\n",
    "        #     key += f' ({v.unit})'\n",
    "\n",
    "        dta[key] = v._data\n",
    "\n",
    "    df = pd.DataFrame(data=dta, **kwargs)\n",
    "    df.index.name = \"Time\"\n",
    "    return df.sort_index()"
   ]
  },
  {
   "cell_type": "code",
   "execution_count": null,
   "id": "3e512869-c4f6-434c-b325-07029e978d99",
   "metadata": {},
   "outputs": [],
   "source": [
    "class A:\n",
    "    COMPOUNDS = [10, 20, 30]\n",
    "\n",
    "    def __init__(self):\n",
    "        self.compounds = [1, 2, 3]"
   ]
  },
  {
   "cell_type": "code",
   "execution_count": null,
   "id": "f9efa0e7-7499-45b8-9bb1-f9f426887c66",
   "metadata": {},
   "outputs": [],
   "source": [
    "class B(A):\n",
    "    COMPOUNDS = [40, 50, 60]\n",
    "\n",
    "    def __init__(self):\n",
    "        super().__init__()\n",
    "        self.compounds = [4, 5, 6]\n",
    "\n",
    "    @classmethod\n",
    "    def base(cls):\n",
    "        return cls.__bases__"
   ]
  },
  {
   "cell_type": "code",
   "execution_count": null,
   "id": "baddf32f-30ea-4206-88d2-8151bfaaaecf",
   "metadata": {},
   "outputs": [],
   "source": [
    "b = B()"
   ]
  },
  {
   "cell_type": "code",
   "execution_count": null,
   "id": "c24faf11-5c37-47de-89b5-c4c74493c0c0",
   "metadata": {},
   "outputs": [
    {
     "data": {
      "text/plain": [
       "(__main__.A,)"
      ]
     },
     "execution_count": null,
     "metadata": {},
     "output_type": "execute_result"
    }
   ],
   "source": [
    "b.base()"
   ]
  },
  {
   "cell_type": "code",
   "execution_count": null,
   "id": "ed86a406-722f-4086-a214-556853fbc655",
   "metadata": {},
   "outputs": [
    {
     "data": {
      "text/plain": [
       "(object,)"
      ]
     },
     "execution_count": null,
     "metadata": {},
     "output_type": "execute_result"
    }
   ],
   "source": [
    "A.__bases__"
   ]
  },
  {
   "cell_type": "code",
   "execution_count": null,
   "id": "4cf023a1-3b1e-4a85-97ae-fef8c5d8f36b",
   "metadata": {},
   "outputs": [
    {
     "data": {
      "text/plain": [
       "(__main__.A,)"
      ]
     },
     "execution_count": null,
     "metadata": {},
     "output_type": "execute_result"
    }
   ],
   "source": [
    "B.__bases__"
   ]
  },
  {
   "cell_type": "code",
   "execution_count": null,
   "id": "a5cb08fd-ded0-4064-82d2-260378b3367c",
   "metadata": {},
   "outputs": [
    {
     "data": {
      "text/plain": [
       "{'compounds': [4, 5, 6]}"
      ]
     },
     "execution_count": null,
     "metadata": {},
     "output_type": "execute_result"
    }
   ],
   "source": [
    "b.__dict__"
   ]
  },
  {
   "cell_type": "code",
   "execution_count": null,
   "id": "6722732a-cc0a-439b-ad7f-9e2466a60e83",
   "metadata": {},
   "outputs": [],
   "source": [
    "H2O = Compound(\"H2O\")"
   ]
  },
  {
   "cell_type": "code",
   "execution_count": null,
   "id": "630a85f5",
   "metadata": {},
   "outputs": [
    {
     "data": {
      "text/plain": [
       "Compound(H₂O₁)"
      ]
     },
     "execution_count": null,
     "metadata": {},
     "output_type": "execute_result"
    }
   ],
   "source": [
    "H2O"
   ]
  },
  {
   "cell_type": "code",
   "execution_count": null,
   "id": "0d012538",
   "metadata": {},
   "outputs": [
    {
     "data": {
      "text/plain": [
       "'H₂O₁'"
      ]
     },
     "execution_count": null,
     "metadata": {},
     "output_type": "execute_result"
    }
   ],
   "source": [
    "H2O.formula"
   ]
  },
  {
   "cell_type": "code",
   "execution_count": null,
   "id": "b146b92c-a94f-4302-9870-28053b01a821",
   "metadata": {},
   "outputs": [
    {
     "data": {
      "text/latex": [
       "$\\displaystyle M_{H2O-2} n_{H2O-2} = m_{H2O-2}$"
      ],
      "text/plain": [
       "Eq(M_H2O-2*n_H2O-2, m_H2O-2)"
      ]
     },
     "execution_count": null,
     "metadata": {},
     "output_type": "execute_result"
    }
   ],
   "source": [
    "H2O.get_law(\"mass_mole_ratio\", t=2)"
   ]
  },
  {
   "cell_type": "code",
   "execution_count": null,
   "id": "9de18555",
   "metadata": {},
   "outputs": [
    {
     "data": {
      "text/plain": [
       "'H2O'"
      ]
     },
     "execution_count": null,
     "metadata": {},
     "output_type": "execute_result"
    }
   ],
   "source": [
    "H2O.snake_name"
   ]
  },
  {
   "cell_type": "code",
   "execution_count": null,
   "id": "adf40fb8-5f48-4211-84d5-c7b3f46b7963",
   "metadata": {},
   "outputs": [],
   "source": [
    "# | hide\n",
    "test_eq(H2O.occurences[\"H\"], 2)\n",
    "test_eq(len(H2O.elements), 3)\n",
    "test_eq(H2O.snake_name, \"H2O\")"
   ]
  },
  {
   "cell_type": "code",
   "execution_count": null,
   "id": "875eb0c7-b83a-488b-8510-df45714754f2",
   "metadata": {},
   "outputs": [],
   "source": [
    "# | hide\n",
    "test_eq(H2O.properties[\"mass\"].unit, Unit.MASS)\n",
    "test_eq(H2O.properties[\"mole\"].unit, Unit.MOLE)"
   ]
  },
  {
   "cell_type": "code",
   "execution_count": null,
   "id": "23236b8f-2ee6-4201-bb35-5915c5b38220",
   "metadata": {},
   "outputs": [],
   "source": []
  },
  {
   "cell_type": "code",
   "execution_count": null,
   "id": "36658ffe",
   "metadata": {},
   "outputs": [],
   "source": []
  }
 ],
 "metadata": {
  "kernelspec": {
   "display_name": "Python 3 (ipykernel)",
   "language": "python",
   "name": "python3"
  }
 },
 "nbformat": 4,
 "nbformat_minor": 5
}
