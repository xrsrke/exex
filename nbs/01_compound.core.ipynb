{
 "cells": [
  {
   "cell_type": "markdown",
   "id": "292fb7ca-5520-4d5c-a7b9-d55eb8524a6e",
   "metadata": {},
   "source": [
    "# Compound\n",
    "\n",
    "> Fill in a module description here"
   ]
  },
  {
   "cell_type": "code",
   "execution_count": null,
   "id": "5d987c82-99c4-44d6-ae4d-620c5d73d8d2",
   "metadata": {},
   "outputs": [],
   "source": [
    "#| default_exp compound.core"
   ]
  },
  {
   "cell_type": "code",
   "execution_count": null,
   "id": "23487991-d9ec-47af-94b3-f82653bbdb74",
   "metadata": {},
   "outputs": [],
   "source": [
    "#| hide\n",
    "from nbdev.showdoc import *"
   ]
  },
  {
   "cell_type": "code",
   "execution_count": null,
   "id": "64885bf1-2deb-457d-9f32-71545e5294bd",
   "metadata": {},
   "outputs": [],
   "source": [
    "#| export\n",
    "import chemlib\n",
    "from fastcore.test import test_eq\n",
    "\n",
    "from exex.core import *\n",
    "from exex.utils import *"
   ]
  },
  {
   "cell_type": "code",
   "execution_count": null,
   "id": "6cd3972b-cac3-4ccc-ab51-f173aa3cc36a",
   "metadata": {},
   "outputs": [],
   "source": [
    "#| export\n",
    "class Matter:\n",
    "    def __init__(self):\n",
    "        self.properties = dict()\n",
    "        self.laws = dict()\n",
    "    \n",
    "    def _config_laws(self, laws: list[Law]) -> None:\n",
    "        for law in laws:\n",
    "            name = camel_to_snake(law.__name__)\n",
    "            if not name in self.laws:\n",
    "                law = law(compound=self)\n",
    "                law._run_config()\n",
    "                self.laws[name] = law\n",
    "    \n",
    "    def _config(self):\n",
    "        pass"
   ]
  },
  {
   "cell_type": "markdown",
   "id": "963ad52c-1926-4d7e-9933-713462a7f0f5",
   "metadata": {},
   "source": [
    "All properties that a compound has always being governed by some laws."
   ]
  },
  {
   "cell_type": "markdown",
   "id": "22863801-806d-400c-92f0-a916c7eb050d",
   "metadata": {},
   "source": [
    "#### Laws"
   ]
  },
  {
   "cell_type": "code",
   "execution_count": null,
   "id": "4a9c93f8-84a1-4e5c-96c8-6c7e48bf735c",
   "metadata": {},
   "outputs": [],
   "source": [
    "#| export\n",
    "class MassMoleRatio(Law):\n",
    "    def __init__(self, compound):\n",
    "        super().__init__()\n",
    "        self.compound = compound\n",
    "        self.properties = [Mass, Mole]"
   ]
  },
  {
   "cell_type": "markdown",
   "id": "ec32dab6-12e7-4995-82ed-2c53ef363cd9",
   "metadata": {},
   "source": [
    "### Laws"
   ]
  },
  {
   "cell_type": "code",
   "execution_count": null,
   "id": "0a63b3c3-34fa-4145-96cc-df5364ed4391",
   "metadata": {},
   "outputs": [],
   "source": [
    "#| export\n",
    "class Compound(Matter):\n",
    "    def __init__(\n",
    "        self,\n",
    "        formula: str # the chemical formula\n",
    "    ) -> None:\n",
    "        super().__init__()\n",
    "        \n",
    "        self._config_laws([MassMoleRatio])\n",
    "        \n",
    "        compound = chemlib.Compound(formula)\n",
    "        self.elements = compound.elements\n",
    "        self.formula = compound.formula\n",
    "        self.coefficient = compound.coefficient\n",
    "        self.occurences = compound.occurences\n",
    "    \n",
    "    def info(self):\n",
    "        pass"
   ]
  },
  {
   "cell_type": "code",
   "execution_count": null,
   "id": "6722732a-cc0a-439b-ad7f-9e2466a60e83",
   "metadata": {},
   "outputs": [],
   "source": [
    "H2O = Compound('H2O')"
   ]
  },
  {
   "cell_type": "code",
   "execution_count": null,
   "id": "adf40fb8-5f48-4211-84d5-c7b3f46b7963",
   "metadata": {},
   "outputs": [],
   "source": [
    "#| hide\n",
    "test_eq(H2O.occurences['H'], 2)\n",
    "test_eq(len(H2O.elements), 3)"
   ]
  },
  {
   "cell_type": "code",
   "execution_count": null,
   "id": "18e131ad-d991-410b-b992-91c89129e61d",
   "metadata": {},
   "outputs": [],
   "source": []
  }
 ],
 "metadata": {
  "kernelspec": {
   "display_name": "Python 3 (ipykernel)",
   "language": "python",
   "name": "python3"
  }
 },
 "nbformat": 4,
 "nbformat_minor": 5
}
