{
 "cells": [
  {
   "cell_type": "markdown",
   "id": "292fb7ca-5520-4d5c-a7b9-d55eb8524a6e",
   "metadata": {},
   "source": [
    "# Compound\n",
    "\n",
    "> Fill in a module description here"
   ]
  },
  {
   "cell_type": "code",
   "execution_count": null,
   "id": "5d987c82-99c4-44d6-ae4d-620c5d73d8d2",
   "metadata": {},
   "outputs": [],
   "source": [
    "#| default_exp compound.core"
   ]
  },
  {
   "cell_type": "code",
   "execution_count": null,
   "id": "23487991-d9ec-47af-94b3-f82653bbdb74",
   "metadata": {},
   "outputs": [],
   "source": [
    "#| hide\n",
    "from nbdev.showdoc import *"
   ]
  },
  {
   "cell_type": "code",
   "execution_count": null,
   "id": "49300d3d-d93d-4a45-ad0c-bc6211e6f18f",
   "metadata": {},
   "outputs": [],
   "source": [
    "#| hide\n",
    "import nbdev; nbdev.nbdev_export()"
   ]
  },
  {
   "cell_type": "code",
   "execution_count": null,
   "id": "64885bf1-2deb-457d-9f32-71545e5294bd",
   "metadata": {},
   "outputs": [],
   "source": [
    "#| export\n",
    "from dataclasses import dataclass\n",
    "\n",
    "import chemlib\n",
    "import pandas as pd\n",
    "from fastcore.test import test_eq\n",
    "from fastcore.basics import basic_repr\n",
    "\n",
    "from exex.core import *\n",
    "from exex.utils import *"
   ]
  },
  {
   "cell_type": "markdown",
   "id": "19a1783c-3107-4f52-8f21-5ab1adfceee4",
   "metadata": {},
   "source": [
    "### States"
   ]
  },
  {
   "cell_type": "code",
   "execution_count": null,
   "id": "0dd921bb-0b9a-465d-bffa-307b7dab873e",
   "metadata": {},
   "outputs": [],
   "source": [
    "#| export\n",
    "@dataclass\n",
    "class State:\n",
    "    SOLID = 'solid'\n",
    "    LIQUID = 'liquid'\n",
    "    GAS = 'gas'"
   ]
  },
  {
   "cell_type": "markdown",
   "id": "bf68aea3-3c5c-41b6-a126-4aff62348869",
   "metadata": {},
   "source": [
    "### Matter"
   ]
  },
  {
   "cell_type": "code",
   "execution_count": null,
   "id": "6cd3972b-cac3-4ccc-ab51-f173aa3cc36a",
   "metadata": {},
   "outputs": [],
   "source": [
    "#| export\n",
    "class Matter:\n",
    "    def __init__(self):\n",
    "        self.properties = dict()\n",
    "        self.laws = dict()\n",
    "        self.time: int = None\n",
    "        self.system = None\n",
    "    \n",
    "    def set_time(\n",
    "        self,\n",
    "        time: int # time\n",
    "    ):\n",
    "        self.time = time\n",
    "        return self\n",
    "    \n",
    "    def _config_laws(self, laws: list[Law]) -> None:\n",
    "        for law in laws:\n",
    "            name = camel_to_snake(law.__name__)\n",
    "            if not name in self.laws:\n",
    "                law = law(compound=self)\n",
    "                law._run_config()\n",
    "                self.laws[name] = law\n",
    "    \n",
    "    def _config(self):\n",
    "        pass"
   ]
  },
  {
   "cell_type": "markdown",
   "id": "963ad52c-1926-4d7e-9933-713462a7f0f5",
   "metadata": {},
   "source": [
    "All properties that a compound has always being governed by some laws."
   ]
  },
  {
   "cell_type": "markdown",
   "id": "22863801-806d-400c-92f0-a916c7eb050d",
   "metadata": {},
   "source": [
    "#### Laws"
   ]
  },
  {
   "cell_type": "code",
   "execution_count": null,
   "id": "4a9c93f8-84a1-4e5c-96c8-6c7e48bf735c",
   "metadata": {},
   "outputs": [],
   "source": [
    "#| export\n",
    "class MassMoleRatio(Law):\n",
    "    def __init__(self, compound):\n",
    "        super().__init__()\n",
    "        self.compound = compound\n",
    "        #self.properties = [Mass, Mole]\n",
    "        self.properties = [\n",
    "            {\"object\": Mass},\n",
    "            {\"object\": Mole},\n",
    "        ]"
   ]
  },
  {
   "cell_type": "markdown",
   "id": "ec32dab6-12e7-4995-82ed-2c53ef363cd9",
   "metadata": {},
   "source": [
    "### Laws"
   ]
  },
  {
   "cell_type": "code",
   "execution_count": null,
   "id": "0a63b3c3-34fa-4145-96cc-df5364ed4391",
   "metadata": {},
   "outputs": [],
   "source": [
    "#| export\n",
    "class Compound(Matter):\n",
    "    def __init__(\n",
    "        self,\n",
    "        formula: str # the chemical formula\n",
    "    ) -> None:\n",
    "        super().__init__()\n",
    "        \n",
    "        compound = chemlib.Compound(formula)\n",
    "        self.elements = compound.elements\n",
    "        self.formula = compound.formula\n",
    "        self.coefficient = compound.coefficient\n",
    "        self.occurences = compound.occurences\n",
    "        \n",
    "        self._config_laws([MassMoleRatio])\n",
    "    \n",
    "    def info(self, **kwargs):\n",
    "        dta = {}\n",
    "        \n",
    "        for k, v in self.properties.items():\n",
    "            # data_point = {}\n",
    "            # print(v._data)\n",
    "            key = k\n",
    "            # if v.unit:\n",
    "            #     key += f' ({v.unit})'\n",
    "        \n",
    "            dta[key] = v._data\n",
    "        \n",
    "        df = pd.DataFrame(data=dta, **kwargs)\n",
    "        df.index.name = \"Time\"\n",
    "        return df.sort_index()\n",
    "    \n",
    "    def get_data(\n",
    "        self,\n",
    "        time: int, # the time\n",
    "        name: str # the property name\n",
    "    ):\n",
    "        if not name in self.properties:\n",
    "            return \"The property don't exist\"\n",
    "        pass\n",
    "\n",
    "    __repr__ = basic_repr('formula')"
   ]
  },
  {
   "cell_type": "code",
   "execution_count": null,
   "id": "6722732a-cc0a-439b-ad7f-9e2466a60e83",
   "metadata": {},
   "outputs": [],
   "source": [
    "H2O = Compound('H2O')"
   ]
  },
  {
   "cell_type": "code",
   "execution_count": null,
   "id": "efa361e0-a43d-4652-9b63-1da422428f6d",
   "metadata": {},
   "outputs": [
    {
     "data": {
      "text/plain": [
       "{'properties': {'mass': <exex.core.Mass>,\n",
       "  'mole': <exex.core.Mole>},\n",
       " 'laws': {'mass_mole_ratio': <__main__.MassMoleRatio>},\n",
       " 'time': None,\n",
       " 'elements': [<chemlib.chemistry.Element>,\n",
       "  <chemlib.chemistry.Element>,\n",
       "  <chemlib.chemistry.Element>],\n",
       " 'formula': 'H₂O₁',\n",
       " 'coefficient': 1,\n",
       " 'occurences': {'H': 2, 'O': 1}}"
      ]
     },
     "execution_count": null,
     "metadata": {},
     "output_type": "execute_result"
    }
   ],
   "source": [
    "H2O.__dict__"
   ]
  },
  {
   "cell_type": "code",
   "execution_count": null,
   "id": "c9d527e9-d356-4d33-8770-7682d948467a",
   "metadata": {},
   "outputs": [
    {
     "data": {
      "text/plain": [
       "{}"
      ]
     },
     "execution_count": null,
     "metadata": {},
     "output_type": "execute_result"
    }
   ],
   "source": [
    "H2O.properties['mass']._data"
   ]
  },
  {
   "cell_type": "code",
   "execution_count": null,
   "id": "adf40fb8-5f48-4211-84d5-c7b3f46b7963",
   "metadata": {},
   "outputs": [],
   "source": [
    "#| hide\n",
    "test_eq(H2O.occurences['H'], 2)\n",
    "test_eq(len(H2O.elements), 3)"
   ]
  },
  {
   "cell_type": "code",
   "execution_count": null,
   "id": "7fae469e-f6c5-4910-96e1-a45f7c28199d",
   "metadata": {},
   "outputs": [],
   "source": []
  },
  {
   "cell_type": "code",
   "execution_count": null,
   "id": "18e131ad-d991-410b-b992-91c89129e61d",
   "metadata": {},
   "outputs": [],
   "source": []
  }
 ],
 "metadata": {
  "kernelspec": {
   "display_name": "Python 3 (ipykernel)",
   "language": "python",
   "name": "python3"
  }
 },
 "nbformat": 4,
 "nbformat_minor": 5
}
