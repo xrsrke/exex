{
 "cells": [
  {
   "cell_type": "markdown",
   "id": "292fb7ca-5520-4d5c-a7b9-d55eb8524a6e",
   "metadata": {},
   "source": [
    "# Compound\n",
    "\n",
    "> Fill in a module description here"
   ]
  },
  {
   "cell_type": "code",
   "execution_count": null,
   "id": "5d987c82-99c4-44d6-ae4d-620c5d73d8d2",
   "metadata": {},
   "outputs": [],
   "source": [
    "#| default_exp compound.core"
   ]
  },
  {
   "cell_type": "code",
   "execution_count": null,
   "id": "23487991-d9ec-47af-94b3-f82653bbdb74",
   "metadata": {},
   "outputs": [],
   "source": [
    "#| hide\n",
    "from nbdev.showdoc import *"
   ]
  },
  {
   "cell_type": "code",
   "execution_count": null,
   "id": "49300d3d-d93d-4a45-ad0c-bc6211e6f18f",
   "metadata": {},
   "outputs": [],
   "source": [
    "#| hide\n",
    "import nbdev; nbdev.nbdev_export()"
   ]
  },
  {
   "cell_type": "code",
   "execution_count": null,
   "id": "64885bf1-2deb-457d-9f32-71545e5294bd",
   "metadata": {},
   "outputs": [],
   "source": [
    "#| export\n",
    "from dataclasses import dataclass\n",
    "\n",
    "from exex.imports import *\n",
    "from exex.core import *\n",
    "from exex.system import *\n",
    "from exex.utils import *"
   ]
  },
  {
   "cell_type": "markdown",
   "id": "19a1783c-3107-4f52-8f21-5ab1adfceee4",
   "metadata": {},
   "source": [
    "### States"
   ]
  },
  {
   "cell_type": "code",
   "execution_count": null,
   "id": "0dd921bb-0b9a-465d-bffa-307b7dab873e",
   "metadata": {},
   "outputs": [],
   "source": [
    "#| export\n",
    "@dataclass\n",
    "class State:\n",
    "    SOLID = 'solid'\n",
    "    LIQUID = 'liquid'\n",
    "    GAS = 'gas'"
   ]
  },
  {
   "cell_type": "markdown",
   "id": "bf68aea3-3c5c-41b6-a126-4aff62348869",
   "metadata": {},
   "source": [
    "### Matter"
   ]
  },
  {
   "cell_type": "code",
   "execution_count": null,
   "id": "6cd3972b-cac3-4ccc-ab51-f173aa3cc36a",
   "metadata": {},
   "outputs": [],
   "source": [
    "#| export\n",
    "class Matter(metaclass=PrePostInitMeta):\n",
    "    def __init__(self):\n",
    "        self.properties = dict()\n",
    "        self.laws = dict()\n",
    "        self.time: int = None\n",
    "        self.system = System()\n",
    "    \n",
    "    def __post_init__(self, *args, **kwargs): \n",
    "        self._setup()\n",
    "\n",
    "    def _setup_laws(self, laws: list[Law]) -> None: # add laws from `self.add_laws` to compound\n",
    "        \n",
    "        for law in laws:\n",
    "            name = law.snake_name\n",
    "            \n",
    "            if not name in self.laws:\n",
    "                law = law(compound=self)\n",
    "                law._run_config()\n",
    "                self.laws[name] = law\n",
    "    \n",
    "    def _setup(self) -> None:\n",
    "        self._setup_laws(self.add_laws)\n",
    "    \n",
    "    def _set_system(\n",
    "        self,\n",
    "        system: System # the system\n",
    "    ) -> None:\n",
    "        self.system = system\n",
    "    \n",
    "    def get_system(self):\n",
    "        return self.system\n",
    "    \n",
    "    def set_time(\n",
    "        self,\n",
    "        time: int # time\n",
    "    ):\n",
    "        self.time = time\n",
    "        return self"
   ]
  },
  {
   "cell_type": "markdown",
   "id": "963ad52c-1926-4d7e-9933-713462a7f0f5",
   "metadata": {},
   "source": [
    "All properties that a compound has always being governed by some laws."
   ]
  },
  {
   "cell_type": "code",
   "execution_count": null,
   "id": "a5d33fef-d33d-484a-ae6a-74f9b6df7a38",
   "metadata": {},
   "outputs": [],
   "source": [
    "@patch(as_prop=True)\n",
    "def property_exists(self: Matter, name):\n",
    "    return self.name in self.properties"
   ]
  },
  {
   "cell_type": "code",
   "execution_count": null,
   "id": "18d5d858-f3ac-495b-80f4-342cee1375ed",
   "metadata": {},
   "outputs": [],
   "source": [
    "#| export\n",
    "@patch\n",
    "@use_kwargs_dict(unit=None)\n",
    "def get_prop(\n",
    "    self: Matter,\n",
    "    name: str, # name\n",
    "    t: int, # time\n",
    "    **kwargs\n",
    "):\n",
    "    #if self.property_exists(args['name'])\n",
    "    return self.system.get_prop(name, t, instance=self, **kwargs)"
   ]
  },
  {
   "cell_type": "code",
   "execution_count": null,
   "id": "ab8b6cbb-4ecc-418f-afc8-5ad0a7882e11",
   "metadata": {},
   "outputs": [],
   "source": [
    "#| export\n",
    "@patch\n",
    "@use_kwargs_dict(unit=None, eval=False)\n",
    "def set_prop(self: Matter, name, val, t, **kwargs):\n",
    "    return self.system.set_prop(name, val, t, instance=self, **kwargs)"
   ]
  },
  {
   "cell_type": "markdown",
   "id": "22863801-806d-400c-92f0-a916c7eb050d",
   "metadata": {},
   "source": [
    "#### Laws"
   ]
  },
  {
   "cell_type": "code",
   "execution_count": null,
   "id": "4a9c93f8-84a1-4e5c-96c8-6c7e48bf735c",
   "metadata": {},
   "outputs": [],
   "source": [
    "#| export\n",
    "class MassMoleRatio(Law):\n",
    "    def __init__(self, compound):\n",
    "        super().__init__()\n",
    "        self.compound = compound\n",
    "        #self.properties = [Mass, Mole, MolarMass]\n",
    "        self.properties = [\n",
    "            {\"object\": Mass},\n",
    "            {\"object\": Mole},\n",
    "        ]\n",
    "    \n",
    "    def expr(self):\n",
    "        return self.compound.get_properties('mass')"
   ]
  },
  {
   "cell_type": "markdown",
   "id": "ec32dab6-12e7-4995-82ed-2c53ef363cd9",
   "metadata": {},
   "source": [
    "### Compound"
   ]
  },
  {
   "cell_type": "code",
   "execution_count": null,
   "id": "0a63b3c3-34fa-4145-96cc-df5364ed4391",
   "metadata": {},
   "outputs": [],
   "source": [
    "#| export\n",
    "class Compound(Matter):\n",
    "    \n",
    "    LAWS = [MassMoleRatio]\n",
    "    \n",
    "    def __init__(\n",
    "        self,\n",
    "        formula: str # the chemical formula\n",
    "    ) -> None:\n",
    "        super().__init__()\n",
    "        \n",
    "        compound = chemlib.Compound(formula)\n",
    "        #self._laws = [MassMoleRatio]\n",
    "        self.add_laws = [MassMoleRatio]\n",
    "        \n",
    "        self.elements = compound.elements\n",
    "        self.formula = compound.formula\n",
    "        self._formula = formula\n",
    "        self.coefficient = compound.coefficient\n",
    "        self.occurences = compound.occurences\n",
    "        \n",
    "        self._setup_laws([MassMoleRatio])\n",
    "    \n",
    "    @property\n",
    "    def snake_name(self) -> str: # return the snake name style\n",
    "        return self._formula\n",
    "    \n",
    "    def info(self, **kwargs):\n",
    "        dta = {}\n",
    "        \n",
    "        for k, v in self.properties.items():\n",
    "            # data_point = {}\n",
    "            # print(v._data)\n",
    "            key = k\n",
    "            # if v.unit:\n",
    "            #     key += f' ({v.unit})'\n",
    "        \n",
    "            dta[key] = v._data\n",
    "        \n",
    "        df = pd.DataFrame(data=dta, **kwargs)\n",
    "        df.index.name = \"Time\"\n",
    "        return df.sort_index()\n",
    "    \n",
    "    def get_data(\n",
    "        self,\n",
    "        time: int, # the time\n",
    "        name: str # the property name\n",
    "    ):\n",
    "        if not name in self.properties:\n",
    "            return \"The property don't exist\"\n",
    "        pass\n",
    "\n",
    "    __repr__ = basic_repr('formula')"
   ]
  },
  {
   "cell_type": "code",
   "execution_count": null,
   "id": "3d7b834e-89e3-4acd-97b6-fc8c1598485e",
   "metadata": {},
   "outputs": [],
   "source": [
    "@patch\n",
    "def set_amount(self: Compound, amount):\n",
    "    pass"
   ]
  },
  {
   "cell_type": "code",
   "execution_count": null,
   "id": "7a2b3dff-53c6-4fe3-8c0c-b151569d57bd",
   "metadata": {},
   "outputs": [],
   "source": [
    "def set_mass():\n",
    "    pass"
   ]
  },
  {
   "cell_type": "code",
   "execution_count": null,
   "id": "3e512869-c4f6-434c-b325-07029e978d99",
   "metadata": {},
   "outputs": [],
   "source": [
    "class A:\n",
    "    COMPOUNDS = [10, 20, 30]\n",
    "    def __init__(self):\n",
    "        self.compounds = [1, 2, 3]"
   ]
  },
  {
   "cell_type": "code",
   "execution_count": null,
   "id": "f9efa0e7-7499-45b8-9bb1-f9f426887c66",
   "metadata": {},
   "outputs": [],
   "source": [
    "class B(A):\n",
    "    COMPOUNDS = [40, 50, 60]\n",
    "    def __init__(self):\n",
    "        super().__init__()\n",
    "        self.compounds = [4, 5, 6]\n",
    "    \n",
    "    @classmethod\n",
    "    def base(cls):\n",
    "        return cls.__bases__"
   ]
  },
  {
   "cell_type": "code",
   "execution_count": null,
   "id": "baddf32f-30ea-4206-88d2-8151bfaaaecf",
   "metadata": {},
   "outputs": [],
   "source": [
    "b = B()"
   ]
  },
  {
   "cell_type": "code",
   "execution_count": null,
   "id": "c24faf11-5c37-47de-89b5-c4c74493c0c0",
   "metadata": {},
   "outputs": [
    {
     "data": {
      "text/plain": [
       "(__main__.A,)"
      ]
     },
     "execution_count": null,
     "metadata": {},
     "output_type": "execute_result"
    }
   ],
   "source": [
    "b.base()"
   ]
  },
  {
   "cell_type": "code",
   "execution_count": null,
   "id": "ed86a406-722f-4086-a214-556853fbc655",
   "metadata": {},
   "outputs": [
    {
     "data": {
      "text/plain": [
       "(object,)"
      ]
     },
     "execution_count": null,
     "metadata": {},
     "output_type": "execute_result"
    }
   ],
   "source": [
    "A.__bases__"
   ]
  },
  {
   "cell_type": "code",
   "execution_count": null,
   "id": "4cf023a1-3b1e-4a85-97ae-fef8c5d8f36b",
   "metadata": {},
   "outputs": [
    {
     "data": {
      "text/plain": [
       "(__main__.A,)"
      ]
     },
     "execution_count": null,
     "metadata": {},
     "output_type": "execute_result"
    }
   ],
   "source": [
    "B.__bases__"
   ]
  },
  {
   "cell_type": "code",
   "execution_count": null,
   "id": "a5cb08fd-ded0-4064-82d2-260378b3367c",
   "metadata": {},
   "outputs": [
    {
     "data": {
      "text/plain": [
       "{'compounds': [4, 5, 6]}"
      ]
     },
     "execution_count": null,
     "metadata": {},
     "output_type": "execute_result"
    }
   ],
   "source": [
    "b.__dict__"
   ]
  },
  {
   "cell_type": "code",
   "execution_count": null,
   "id": "6722732a-cc0a-439b-ad7f-9e2466a60e83",
   "metadata": {},
   "outputs": [],
   "source": [
    "H2O = Compound('H2O')"
   ]
  },
  {
   "cell_type": "code",
   "execution_count": null,
   "id": "efa361e0-a43d-4652-9b63-1da422428f6d",
   "metadata": {},
   "outputs": [
    {
     "data": {
      "text/plain": [
       "{'properties': {'mass': <exex.core.Mass>,\n",
       "  'mole': <exex.core.Mole>},\n",
       " 'laws': {'mass_mole_ratio': <__main__.MassMoleRatio>},\n",
       " 'time': None,\n",
       " 'system': <exex.system.System>,\n",
       " 'add_laws': [__main__.MassMoleRatio],\n",
       " 'elements': [<chemlib.chemistry.Element>,\n",
       "  <chemlib.chemistry.Element>,\n",
       "  <chemlib.chemistry.Element>],\n",
       " 'formula': 'H₂O₁',\n",
       " '_formula': 'H2O',\n",
       " 'coefficient': 1,\n",
       " 'occurences': {'H': 2, 'O': 1}}"
      ]
     },
     "execution_count": null,
     "metadata": {},
     "output_type": "execute_result"
    }
   ],
   "source": [
    "H2O.__dict__"
   ]
  },
  {
   "cell_type": "code",
   "execution_count": null,
   "id": "adf40fb8-5f48-4211-84d5-c7b3f46b7963",
   "metadata": {},
   "outputs": [],
   "source": [
    "#| hide\n",
    "test_eq(H2O.occurences['H'], 2)\n",
    "test_eq(len(H2O.elements), 3)\n",
    "test_eq(H2O.snake_name, 'H2O')"
   ]
  },
  {
   "cell_type": "code",
   "execution_count": null,
   "id": "875eb0c7-b83a-488b-8510-df45714754f2",
   "metadata": {},
   "outputs": [],
   "source": [
    "#| hide\n",
    "test_eq(H2O.properties['mass'].unit, Unit.MASS)\n",
    "test_eq(H2O.properties['mole'].unit, Unit.MOLE)"
   ]
  },
  {
   "cell_type": "code",
   "execution_count": null,
   "id": "f9483ada-9b0e-4ccd-a8d5-df8a00387f78",
   "metadata": {},
   "outputs": [],
   "source": []
  }
 ],
 "metadata": {
  "kernelspec": {
   "display_name": "Python 3 (ipykernel)",
   "language": "python",
   "name": "python3"
  }
 },
 "nbformat": 4,
 "nbformat_minor": 5
}
