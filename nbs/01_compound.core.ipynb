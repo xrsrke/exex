{
 "cells": [
  {
   "cell_type": "markdown",
   "id": "292fb7ca-5520-4d5c-a7b9-d55eb8524a6e",
   "metadata": {},
   "source": [
    "# Compound\n",
    "\n",
    "> Fill in a module description here"
   ]
  },
  {
   "cell_type": "code",
   "execution_count": null,
   "id": "5d987c82-99c4-44d6-ae4d-620c5d73d8d2",
   "metadata": {},
   "outputs": [],
   "source": [
    "#| default_exp compound.core"
   ]
  },
  {
   "cell_type": "code",
   "execution_count": null,
   "id": "23487991-d9ec-47af-94b3-f82653bbdb74",
   "metadata": {},
   "outputs": [],
   "source": [
    "#| hide\n",
    "from nbdev.showdoc import *"
   ]
  },
  {
   "cell_type": "code",
   "execution_count": null,
   "id": "64885bf1-2deb-457d-9f32-71545e5294bd",
   "metadata": {},
   "outputs": [],
   "source": [
    "#| export\n",
    "from exex.core import *"
   ]
  },
  {
   "cell_type": "code",
   "execution_count": null,
   "id": "6cd3972b-cac3-4ccc-ab51-f173aa3cc36a",
   "metadata": {},
   "outputs": [],
   "source": [
    "#| export\n",
    "class Matter:\n",
    "    pass"
   ]
  },
  {
   "cell_type": "markdown",
   "id": "963ad52c-1926-4d7e-9933-713462a7f0f5",
   "metadata": {},
   "source": [
    "All properties that a compound has always being governed by some laws."
   ]
  },
  {
   "cell_type": "code",
   "execution_count": null,
   "id": "0a63b3c3-34fa-4145-96cc-df5364ed4391",
   "metadata": {},
   "outputs": [],
   "source": [
    "#| export\n",
    "class Compound(Matter):\n",
    "    def __init__(self):\n",
    "        self._properties = dict()\n",
    "        self._laws = []\n",
    "    \n",
    "    def add_laws(self, laws):\n",
    "        for law in laws:\n",
    "            self._laws.append(law(compound=self))"
   ]
  },
  {
   "cell_type": "code",
   "execution_count": null,
   "id": "6722732a-cc0a-439b-ad7f-9e2466a60e83",
   "metadata": {},
   "outputs": [],
   "source": [
    "H2O = Compound()"
   ]
  },
  {
   "cell_type": "code",
   "execution_count": null,
   "id": "fa730887-e120-457a-af71-68f1e26455cc",
   "metadata": {},
   "outputs": [],
   "source": [
    "#H2O._properties.append(Mass)"
   ]
  },
  {
   "cell_type": "code",
   "execution_count": null,
   "id": "3a2efdf3-9360-4eb7-a59a-6424ab1bf848",
   "metadata": {},
   "outputs": [],
   "source": []
  }
 ],
 "metadata": {
  "kernelspec": {
   "display_name": "Python 3 (ipykernel)",
   "language": "python",
   "name": "python3"
  }
 },
 "nbformat": 4,
 "nbformat_minor": 5
}
