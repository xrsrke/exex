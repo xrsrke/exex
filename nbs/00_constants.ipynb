{
 "cells": [
  {
   "cell_type": "markdown",
   "id": "713b093b-1d76-495e-be03-ccb8c3115660",
   "metadata": {},
   "source": [
    "# Constants\n",
    "\n",
    "> Fill in a module description here"
   ]
  },
  {
   "cell_type": "code",
   "execution_count": null,
   "id": "9889eed6-271e-40bf-ab3d-05a947a3c686",
   "metadata": {},
   "outputs": [],
   "source": [
    "#| default_exp constants"
   ]
  },
  {
   "cell_type": "code",
   "execution_count": null,
   "id": "2ea2337e-5ccc-4f9c-b7ae-11db87d3cc6a",
   "metadata": {},
   "outputs": [],
   "source": [
    "#| hide\n",
    "from nbdev.showdoc import *"
   ]
  },
  {
   "cell_type": "code",
   "execution_count": null,
   "id": "18a4fb7c-a860-4fb8-979d-0880fa11924f",
   "metadata": {},
   "outputs": [],
   "source": [
    "#| hide\n",
    "import nbdev; nbdev.nbdev_export()"
   ]
  },
  {
   "cell_type": "code",
   "execution_count": null,
   "id": "12dae9da-06ff-48d4-b3ea-53a1bf98f43b",
   "metadata": {},
   "outputs": [],
   "source": []
  }
 ],
 "metadata": {
  "kernelspec": {
   "display_name": "Python 3 (ipykernel)",
   "language": "python",
   "name": "python3"
  }
 },
 "nbformat": 4,
 "nbformat_minor": 5
}
