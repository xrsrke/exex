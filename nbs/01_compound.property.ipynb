{
 "cells": [
  {
   "cell_type": "markdown",
   "id": "149c6463-9129-495a-860e-6eea9bf1569b",
   "metadata": {},
   "source": [
    "# Property\n",
    "\n",
    "> Fill in a module description here"
   ]
  },
  {
   "cell_type": "code",
   "execution_count": null,
   "id": "191883bd-6c08-4c7b-9285-a1bc73e16443",
   "metadata": {},
   "outputs": [],
   "source": [
    "# | default_exp compound.property"
   ]
  },
  {
   "cell_type": "code",
   "execution_count": null,
   "id": "71ecfcac-6d0b-4154-85a3-98bbe9f5528c",
   "metadata": {},
   "outputs": [],
   "source": [
    "# | hide\n",
    "from nbdev.showdoc import *"
   ]
  },
  {
   "cell_type": "code",
   "execution_count": null,
   "id": "d6f7596a-05d8-4209-9562-0c8b5f488769",
   "metadata": {},
   "outputs": [],
   "source": [
    "# | hide\n",
    "import nbdev\n",
    "\n",
    "nbdev.nbdev_export()"
   ]
  },
  {
   "cell_type": "code",
   "execution_count": null,
   "id": "b36291dc-2a5e-4e10-aaf3-7814a2c0df57",
   "metadata": {},
   "outputs": [],
   "source": [
    "# | export\n",
    "from exex.imports import *\n",
    "from exex.core.unit import Unit\n",
    "from exex.core.property import Property, ConstantProperty"
   ]
  },
  {
   "cell_type": "markdown",
   "id": "5051a18b-42dd-4928-9321-5d724b62837e",
   "metadata": {},
   "source": [
    "### Amount in substance"
   ]
  },
  {
   "cell_type": "markdown",
   "id": "b9f18283-2b0f-43c1-b8e9-95e6f6705d26",
   "metadata": {},
   "source": [
    "Properties are emergence properties of matter. So mass, molar mass.... can't exist without matter"
   ]
  },
  {
   "cell_type": "code",
   "execution_count": null,
   "id": "5d2fbe64-158d-47a7-b656-c4ad70944af8",
   "metadata": {},
   "outputs": [],
   "source": [
    "# | export\n",
    "class Mass(Property):\n",
    "    def __init__(self, compound):\n",
    "        super().__init__(compound)\n",
    "        self.abbrv = \"m\"\n",
    "        self.unit = Unit.MASS"
   ]
  },
  {
   "cell_type": "code",
   "execution_count": null,
   "id": "ad365d55-a890-459e-af6b-f751de2da8f6",
   "metadata": {},
   "outputs": [],
   "source": [
    "# | export\n",
    "class MolarMass(ConstantProperty):\n",
    "    def __init__(self, compound):\n",
    "        self.abbrv = \"M\"\n",
    "        self.unit = Unit.MOLAR_MASS\n",
    "        super().__init__(compound)\n",
    "        self.is_constant = True\n",
    "\n",
    "    def compute(self):\n",
    "        mass = 0\n",
    "        for element in self.compound.elements:\n",
    "            mass += element.AtomicMass\n",
    "\n",
    "        return mass * self.unit"
   ]
  },
  {
   "cell_type": "code",
   "execution_count": null,
   "id": "81ab73ae-2af7-496e-8b5f-11537c796e94",
   "metadata": {},
   "outputs": [],
   "source": [
    "# | export\n",
    "class Mole(Property):\n",
    "    def __init__(self, compound):\n",
    "        super().__init__(compound)\n",
    "        self.abbrv = \"n\"\n",
    "        self.unit = Unit.MOLE"
   ]
  },
  {
   "cell_type": "code",
   "execution_count": null,
   "id": "adb641be-8c21-4756-bbec-425f4d090e10",
   "metadata": {},
   "outputs": [],
   "source": [
    "# | export\n",
    "class Pressure(Property):\n",
    "    def __init__(self, compound):\n",
    "        super().__init__(compound)\n",
    "        self.abbrv = \"P\"\n",
    "        self.unit = Unit.PRESSURE"
   ]
  },
  {
   "cell_type": "code",
   "execution_count": null,
   "id": "f52b7ff1-a153-4796-ac9c-e225bd2b4158",
   "metadata": {},
   "outputs": [],
   "source": [
    "# | export\n",
    "class Volume(Property):\n",
    "    def __init__(self, compound):\n",
    "        super().__init__(compound)\n",
    "        self.abbrv = \"V\"\n",
    "        self.unit = Unit.VOLUME"
   ]
  },
  {
   "cell_type": "code",
   "execution_count": null,
   "id": "84a70292-3b4f-449f-a66b-96a6c6684a15",
   "metadata": {},
   "outputs": [],
   "source": [
    "# | export\n",
    "class Temperature(Property):\n",
    "    def __init__(self, compound):\n",
    "        super().__init__(compound)\n",
    "        self.abbrv = \"T\"\n",
    "        self.unit = Unit.TEMPERATURE"
   ]
  }
 ],
 "metadata": {
  "kernelspec": {
   "display_name": "Python 3 (ipykernel)",
   "language": "python",
   "name": "python3"
  }
 },
 "nbformat": 4,
 "nbformat_minor": 5
}
