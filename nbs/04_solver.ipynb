{
 "cells": [
  {
   "cell_type": "markdown",
   "id": "7e5ddce2",
   "metadata": {},
   "source": [
    "# Solver\n",
    "\n",
    "> Fill in a module description here"
   ]
  },
  {
   "cell_type": "code",
   "execution_count": null,
   "id": "374d5fcd",
   "metadata": {},
   "outputs": [],
   "source": [
    "# | default_exp solver"
   ]
  },
  {
   "cell_type": "code",
   "execution_count": null,
   "id": "4245074e",
   "metadata": {},
   "outputs": [],
   "source": [
    "# | hide\n",
    "from nbdev.showdoc import *"
   ]
  },
  {
   "cell_type": "code",
   "execution_count": null,
   "id": "3b74d7b4",
   "metadata": {},
   "outputs": [],
   "source": [
    "# | hide\n",
    "import nbdev\n",
    "\n",
    "nbdev.nbdev_export()"
   ]
  },
  {
   "cell_type": "code",
   "execution_count": null,
   "id": "a949098a",
   "metadata": {},
   "outputs": [],
   "source": [
    "# | export\n",
    "from sympy.solvers import solve"
   ]
  },
  {
   "cell_type": "code",
   "execution_count": null,
   "id": "28b3c962",
   "metadata": {},
   "outputs": [],
   "source": [
    "# | export\n",
    "class Solver:\n",
    "    pass"
   ]
  }
 ],
 "metadata": {
  "kernelspec": {
   "display_name": "Python 3 (ipykernel)",
   "language": "python",
   "name": "python3"
  }
 },
 "nbformat": 4,
 "nbformat_minor": 5
}
