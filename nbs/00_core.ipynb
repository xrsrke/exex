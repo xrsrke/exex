{
 "cells": [
  {
   "cell_type": "markdown",
   "metadata": {},
   "source": [
    "# core\n",
    "\n",
    "> Fill in a module description here"
   ]
  },
  {
   "cell_type": "code",
   "execution_count": null,
   "metadata": {},
   "outputs": [],
   "source": [
    "#| default_exp core"
   ]
  },
  {
   "cell_type": "code",
   "execution_count": null,
   "metadata": {},
   "outputs": [],
   "source": [
    "#| hide\n",
    "from nbdev.showdoc import *"
   ]
  },
  {
   "cell_type": "code",
   "execution_count": null,
   "metadata": {},
   "outputs": [],
   "source": [
    "#| hide\n",
    "import nbdev; nbdev.nbdev_export()"
   ]
  },
  {
   "cell_type": "code",
   "execution_count": null,
   "metadata": {},
   "outputs": [],
   "source": [
    "#| export\n",
    "from dataclasses import dataclass\n",
    "\n",
    "from exex.imports import *\n",
    "from exex.utils import *"
   ]
  },
  {
   "cell_type": "code",
   "execution_count": null,
   "metadata": {},
   "outputs": [],
   "source": [
    "#| export\n",
    "class Event(list):\n",
    "    def __call__(self, *args, **kwargs):\n",
    "        for item in self:\n",
    "            item(*args, **kwargs)"
   ]
  },
  {
   "cell_type": "markdown",
   "metadata": {},
   "source": [
    "### Unit"
   ]
  },
  {
   "cell_type": "code",
   "execution_count": null,
   "metadata": {},
   "outputs": [],
   "source": [
    "#| export\n",
    "@dataclass\n",
    "class Unit:\n",
    "    \"\"\"\n",
    "    Default Units\n",
    "    \"\"\"\n",
    "    \n",
    "    # SI Unit\n",
    "    LENGTH = 'meter'\n",
    "    MASS = 'kilogram'\n",
    "    TIME = 'second'\n",
    "    TEMPERATURE = 'kelvin'\n",
    "    \n",
    "    # Derived from SI Unit\n",
    "    MOLE = 'mole'\n",
    "    SPECIFIC_HEAT = 'joule / (kilogram kelvin)'\n",
    "    PRESSURE = 'pascal'\n",
    "    VOLUME = 'liter'"
   ]
  },
  {
   "cell_type": "code",
   "execution_count": null,
   "metadata": {},
   "outputs": [],
   "source": [
    "#| hide\n",
    "test_eq(Unit.MASS, 'kilogram')"
   ]
  },
  {
   "cell_type": "code",
   "execution_count": null,
   "metadata": {},
   "outputs": [],
   "source": [
    "#| export\n",
    "ureg = pint.UnitRegistry(system='SI')\n",
    "Q = ureg.Quantity # quantity"
   ]
  },
  {
   "cell_type": "code",
   "execution_count": null,
   "metadata": {},
   "outputs": [],
   "source": [
    "@patch\n",
    "def to_standard(self: Q): return 1"
   ]
  },
  {
   "cell_type": "code",
   "execution_count": null,
   "metadata": {},
   "outputs": [],
   "source": [
    "moles = Q(0.214, Unit.MOLE)"
   ]
  },
  {
   "cell_type": "code",
   "execution_count": null,
   "metadata": {},
   "outputs": [
    {
     "data": {
      "text/html": [
       "0.214 mole"
      ],
      "text/latex": [
       "$0.214\\ \\mathrm{mole}$"
      ],
      "text/plain": [
       "0.214 <Unit('mole')>"
      ]
     },
     "execution_count": null,
     "metadata": {},
     "output_type": "execute_result"
    }
   ],
   "source": [
    "moles"
   ]
  },
  {
   "cell_type": "code",
   "execution_count": null,
   "metadata": {},
   "outputs": [
    {
     "data": {
      "text/plain": [
       "{'_magnitude': 0.214,\n",
       " '_units': <UnitsContainer({'mole': 1})>,\n",
       " '_Quantity__used': False,\n",
       " '_Quantity__handling': None}"
      ]
     },
     "execution_count": null,
     "metadata": {},
     "output_type": "execute_result"
    }
   ],
   "source": [
    "moles.__dict__"
   ]
  },
  {
   "cell_type": "code",
   "execution_count": null,
   "metadata": {},
   "outputs": [
    {
     "data": {
      "text/plain": [
       "<UnitsContainer({'[substance]': 1})>"
      ]
     },
     "execution_count": null,
     "metadata": {},
     "output_type": "execute_result"
    }
   ],
   "source": [
    "moles.dimensionality"
   ]
  },
  {
   "cell_type": "code",
   "execution_count": null,
   "metadata": {},
   "outputs": [],
   "source": [
    "#| hide\n",
    "test_eq(moles.magnitude, 0.214) \n",
    "test_eq(moles.units, \"mole\")"
   ]
  },
  {
   "cell_type": "code",
   "execution_count": null,
   "metadata": {},
   "outputs": [],
   "source": [
    "specific_heat = Q(0.235, Unit.SPECIFIC_HEAT)"
   ]
  },
  {
   "cell_type": "code",
   "execution_count": null,
   "metadata": {},
   "outputs": [],
   "source": [
    "specific_heat.ito_reduced_units()"
   ]
  },
  {
   "cell_type": "code",
   "execution_count": null,
   "metadata": {},
   "outputs": [],
   "source": [
    "#| hide\n",
    "test_eq(specific_heat.magnitude, 0.235)\n",
    "test_eq(specific_heat.units, 'joule/(kelvin kilogram)')"
   ]
  },
  {
   "cell_type": "code",
   "execution_count": null,
   "metadata": {},
   "outputs": [],
   "source": [
    "m = Q('3.21 kilogram')"
   ]
  },
  {
   "cell_type": "code",
   "execution_count": null,
   "metadata": {},
   "outputs": [
    {
     "data": {
      "text/html": [
       "3.21 kilogram"
      ],
      "text/latex": [
       "$3.21\\ \\mathrm{kilogram}$"
      ],
      "text/plain": [
       "3.21 <Unit('kilogram')>"
      ]
     },
     "execution_count": null,
     "metadata": {},
     "output_type": "execute_result"
    }
   ],
   "source": [
    "m"
   ]
  },
  {
   "cell_type": "code",
   "execution_count": null,
   "metadata": {},
   "outputs": [],
   "source": [
    "@ureg.check('[length]')\n",
    "def foo(length):\n",
    "    return length"
   ]
  },
  {
   "cell_type": "code",
   "execution_count": null,
   "metadata": {},
   "outputs": [
    {
     "data": {
      "text/plain": [
       "'10 meter'"
      ]
     },
     "execution_count": null,
     "metadata": {},
     "output_type": "execute_result"
    }
   ],
   "source": [
    "foo('10 meter')"
   ]
  },
  {
   "cell_type": "code",
   "execution_count": null,
   "metadata": {},
   "outputs": [],
   "source": [
    "@ureg.wraps((ureg.meter, ureg.gram), (ureg.meter, ureg.kilogram))\n",
    "def mypp(length, mass):\n",
    "    return length, mass"
   ]
  },
  {
   "cell_type": "code",
   "execution_count": null,
   "metadata": {},
   "outputs": [
    {
     "data": {
      "text/plain": [
       "(10000.0 <Unit('meter')>, 1 <Unit('gram')>)"
      ]
     },
     "execution_count": null,
     "metadata": {},
     "output_type": "execute_result"
    }
   ],
   "source": [
    "mypp('10 kilometer', '1 kilogram')"
   ]
  },
  {
   "cell_type": "code",
   "execution_count": null,
   "metadata": {},
   "outputs": [],
   "source": [
    "@ureg.check('[mass]')\n",
    "@ureg.wraps(None, None)\n",
    "def set_mass(mass):\n",
    "    return mass"
   ]
  },
  {
   "cell_type": "code",
   "execution_count": null,
   "metadata": {},
   "outputs": [
    {
     "data": {
      "text/plain": [
       "'20 kilogram'"
      ]
     },
     "execution_count": null,
     "metadata": {},
     "output_type": "execute_result"
    }
   ],
   "source": [
    "set_mass('20 kilogram')"
   ]
  },
  {
   "cell_type": "code",
   "execution_count": null,
   "metadata": {},
   "outputs": [],
   "source": [
    "@ureg.check('[mass]')\n",
    "@ureg.wraps(ureg.gram, ureg.kilogram)\n",
    "def set_mass(mass):\n",
    "    return mass"
   ]
  },
  {
   "cell_type": "code",
   "execution_count": null,
   "metadata": {},
   "outputs": [
    {
     "data": {
      "text/html": [
       "20 gram"
      ],
      "text/latex": [
       "$20\\ \\mathrm{gram}$"
      ],
      "text/plain": [
       "20 <Unit('gram')>"
      ]
     },
     "execution_count": null,
     "metadata": {},
     "output_type": "execute_result"
    }
   ],
   "source": [
    "set_mass('20 kilogram')"
   ]
  },
  {
   "cell_type": "markdown",
   "metadata": {},
   "source": [
    "### Data"
   ]
  },
  {
   "cell_type": "code",
   "execution_count": null,
   "metadata": {},
   "outputs": [],
   "source": [
    "#| export\n",
    "class Object:\n",
    "    pass"
   ]
  },
  {
   "cell_type": "code",
   "execution_count": null,
   "metadata": {},
   "outputs": [],
   "source": [
    "#| export\n",
    "class PropertyData(dict):\n",
    "    pass"
   ]
  },
  {
   "cell_type": "code",
   "execution_count": null,
   "metadata": {},
   "outputs": [],
   "source": [
    "c = PropertyData({'0': {'mass': 2, 'object': Object()}})"
   ]
  },
  {
   "cell_type": "code",
   "execution_count": null,
   "metadata": {},
   "outputs": [
    {
     "data": {
      "text/plain": [
       "{'mass': 2, 'object': <__main__.Object>}"
      ]
     },
     "execution_count": null,
     "metadata": {},
     "output_type": "execute_result"
    }
   ],
   "source": [
    "c['0']"
   ]
  },
  {
   "cell_type": "code",
   "execution_count": null,
   "metadata": {},
   "outputs": [],
   "source": [
    "c['1'] = {'mass': 2.1, 'object': 'XXX'}"
   ]
  },
  {
   "cell_type": "markdown",
   "metadata": {},
   "source": [
    "### Proprety"
   ]
  },
  {
   "cell_type": "code",
   "execution_count": null,
   "metadata": {},
   "outputs": [],
   "source": [
    "#| export\n",
    "class PropertyObservable:\n",
    "    def __init__(self, compound):\n",
    "        self._data = PropertyData()\n",
    "        self.compound = compound\n",
    "        self._connections = []\n",
    "        self.laws = dict()\n",
    "        self.func_changed = Event()\n",
    "        \n",
    "        # print(f'self.compound={self.compound}')\n",
    "        # print(self.compound.__dict__)\n",
    "        # print(f'formula={self.compound.formula}')\n",
    "        \n",
    "        self.symbol = smp.symbols(f'{self.abbreviate}', real=True)\n",
    "    \n",
    "    @property\n",
    "    def name(self) -> str:\n",
    "        return camel_to_snake(self.__class__.__name__)\n",
    "    \n",
    "    @classmethod\n",
    "    @property\n",
    "    def snake_name(cls) -> str: # return the snake style name\n",
    "        return camel_to_snake(cls.__name__)\n",
    "    \n",
    "    def add_data(self, time, value):\n",
    "        self._data[time] = {'value': value}\n",
    "    \n",
    "    def get_value(\n",
    "        self,\n",
    "        time: int # time\n",
    "    ):\n",
    "        if not time in self._data:\n",
    "            return f\"Don't have data for time={time}\"\n",
    "        return self._data[time]['value']\n",
    "    \n",
    "    def add_law(self, law):\n",
    "        if not law in self.laws:\n",
    "            self.laws[camel_to_snake(law.__class__.__name__)] = law"
   ]
  },
  {
   "cell_type": "code",
   "execution_count": null,
   "metadata": {},
   "outputs": [],
   "source": [
    "#| export\n",
    "class Mass(PropertyObservable):\n",
    "    def __init__(self, compound):\n",
    "        self.abbreviate = 'm'\n",
    "        self.unit = Unit.MASS\n",
    "        super().__init__(compound)"
   ]
  },
  {
   "cell_type": "code",
   "execution_count": null,
   "metadata": {},
   "outputs": [],
   "source": [
    "#| export\n",
    "@patch\n",
    "def set_mass(self: Mass):\n",
    "    pass"
   ]
  },
  {
   "cell_type": "code",
   "execution_count": null,
   "metadata": {},
   "outputs": [],
   "source": [
    "#| export\n",
    "class Mole(PropertyObservable):\n",
    "    def __init__(self, compound):\n",
    "        self.abbreviate = 'n'\n",
    "        self.unit = Unit.MOLE\n",
    "        super().__init__(compound)"
   ]
  },
  {
   "cell_type": "code",
   "execution_count": null,
   "metadata": {},
   "outputs": [],
   "source": [
    "#| export\n",
    "class Pressure(PropertyObservable):\n",
    "    def __init__(self, compound):\n",
    "        self.abbreviate = 'P'\n",
    "        self.unit = Unit.PRESSURE\n",
    "        super().__init__(compound)"
   ]
  },
  {
   "cell_type": "code",
   "execution_count": null,
   "metadata": {},
   "outputs": [],
   "source": [
    "#| export\n",
    "class Volume(PropertyObservable):\n",
    "    def __init__(self, compound):\n",
    "        self.abbreviate = 'V'\n",
    "        self.unit = Unit.VOLUME\n",
    "        super().__init__(compound)"
   ]
  },
  {
   "cell_type": "code",
   "execution_count": null,
   "metadata": {},
   "outputs": [],
   "source": [
    "#| export\n",
    "class Temperature(PropertyObservable):\n",
    "    def __init__(self, compound):\n",
    "        self.abbreviate = 'T'\n",
    "        self.unit = Unit.TEMPERATURE\n",
    "        super().__init__(compound)"
   ]
  },
  {
   "cell_type": "markdown",
   "metadata": {},
   "source": [
    "### Law"
   ]
  },
  {
   "cell_type": "code",
   "execution_count": null,
   "metadata": {},
   "outputs": [],
   "source": [
    "#| export\n",
    "class Law:\n",
    "    \n",
    "    @property\n",
    "    def name(self) -> str:\n",
    "        return camel_to_snake(self.__class__.__name__)\n",
    "    \n",
    "    @classmethod\n",
    "    @property\n",
    "    def snake_name(cls) -> str: # return the snake style name\n",
    "        return camel_to_snake(cls.__name__)\n",
    "    \n",
    "    def n_known_variables(\n",
    "        self,\n",
    "        timestep: int\n",
    "    ) -> int: # the number of known variables\n",
    "        n_knowns = 0\n",
    "        for p in self.properties:\n",
    "            name = camel_to_snake(p['object'].__name__)\n",
    "            if timestep in self.compound.properties[name]._data:\n",
    "                n_knowns += 1\n",
    "        return n_knowns\n",
    "\n",
    "    def is_solveable(\n",
    "        self,\n",
    "        timestep: int # the timestep\n",
    "    ) -> bool:\n",
    "        n_unknowns = len(self.properties)\n",
    "        n_knowns = self.n_known_variables(timestep)\n",
    "        print(f'n_unknowns={n_unknowns} and n_knowns={n_knowns}')\n",
    "        return n_unknowns - n_knowns <= 1\n",
    "\n",
    "    def _run_config(self) -> None: # run all configuration\n",
    "        self._config_properties()\n",
    "    \n",
    "    def _config_properties(self) -> None: # add law's properties to compound\n",
    "        \n",
    "        for p in self.properties:\n",
    "            # name = camel_to_snake(p['object'].__name__)\n",
    "            name = p['object'].snake_name\n",
    "            \n",
    "            if not name in self.compound.properties:\n",
    "                self.compound.properties[name] = p['object'](compound=self.compound)\n",
    "            \n",
    "            self.compound.properties[name].add_law(self)\n",
    "    \n",
    "    def solve(\n",
    "        self,\n",
    "        timestep: int, # the time step of the unknown variable\n",
    "        unknown: str # the unknown variable that you want to solve\n",
    "    ):\n",
    "        unknown_symbol = self.compound.properties[unknown].symbol\n",
    "        return smp.solve(self.expression, unknown_symbol)"
   ]
  },
  {
   "cell_type": "code",
   "execution_count": null,
   "metadata": {},
   "outputs": [],
   "source": [
    "class Law:\n",
    "    def __init__(self):\n",
    "        self._properties: dict = []\n",
    "        self._laws: dict = []\n",
    "    \n",
    "    def relation(self):\n",
    "        #self._laws['x']\n",
    "        pass"
   ]
  },
  {
   "cell_type": "markdown",
   "metadata": {},
   "source": [
    "### System"
   ]
  },
  {
   "cell_type": "markdown",
   "metadata": {},
   "source": [
    "System is an mediator that compounds and reactions communicate through each others."
   ]
  },
  {
   "cell_type": "code",
   "execution_count": null,
   "metadata": {},
   "outputs": [],
   "source": [
    "#| export\n",
    "class System:\n",
    "    def __init__(self):\n",
    "        self.reactions = dict()\n",
    "        self.universe = None\n",
    "        self.subscribers: dict[str, Callable] = dict()\n",
    "        self.current_time: int = None\n",
    "        self.highest_time: int = None"
   ]
  },
  {
   "cell_type": "code",
   "execution_count": null,
   "metadata": {},
   "outputs": [],
   "source": []
  }
 ],
 "metadata": {
  "kernelspec": {
   "display_name": "Python 3 (ipykernel)",
   "language": "python",
   "name": "python3"
  }
 },
 "nbformat": 4,
 "nbformat_minor": 4
}
