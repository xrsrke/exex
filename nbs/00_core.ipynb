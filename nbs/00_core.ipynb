{
 "cells": [
  {
   "cell_type": "markdown",
   "metadata": {},
   "source": [
    "# core\n",
    "\n",
    "> Fill in a module description here"
   ]
  },
  {
   "cell_type": "code",
   "execution_count": null,
   "metadata": {},
   "outputs": [],
   "source": [
    "#| default_exp core"
   ]
  },
  {
   "cell_type": "code",
   "execution_count": null,
   "metadata": {},
   "outputs": [],
   "source": [
    "#| hide\n",
    "from nbdev.showdoc import *"
   ]
  },
  {
   "cell_type": "code",
   "execution_count": null,
   "metadata": {},
   "outputs": [],
   "source": [
    "#| hide\n",
    "import nbdev; nbdev.nbdev_export()"
   ]
  },
  {
   "cell_type": "code",
   "execution_count": null,
   "metadata": {},
   "outputs": [],
   "source": [
    "#| export\n",
    "from dataclasses import dataclass\n",
    "\n",
    "import sympy as smp\n",
    "from exex.utils import *"
   ]
  },
  {
   "cell_type": "code",
   "execution_count": null,
   "metadata": {},
   "outputs": [],
   "source": [
    "#| export\n",
    "class Event(list):\n",
    "    def __call__(self, *args, **kwargs):\n",
    "        for item in self:\n",
    "            item(*args, **kwargs)"
   ]
  },
  {
   "cell_type": "markdown",
   "metadata": {},
   "source": [
    "### Unit"
   ]
  },
  {
   "cell_type": "code",
   "execution_count": null,
   "metadata": {},
   "outputs": [],
   "source": [
    "#| export\n",
    "@dataclass\n",
    "class Unit:\n",
    "    \"\"\"\n",
    "    Default Units\n",
    "    \"\"\"\n",
    "    \n",
    "    # SI Unit\n",
    "    LENGTH = 'meter'\n",
    "    MASS = 'kilogram'\n",
    "    TIME = 'second'\n",
    "    TEMPERATURE = 'kelvin'\n",
    "    \n",
    "    # Derived from SI Unit\n",
    "    MOLE = 'mole'\n",
    "    SPECIFIC_HEAT = 'joule / (kilogram kelvin)'\n",
    "    PRESSURE = 'pascal'"
   ]
  },
  {
   "cell_type": "markdown",
   "metadata": {},
   "source": [
    "### Data"
   ]
  },
  {
   "cell_type": "code",
   "execution_count": null,
   "metadata": {},
   "outputs": [],
   "source": [
    "#| export\n",
    "class Object:\n",
    "    pass"
   ]
  },
  {
   "cell_type": "code",
   "execution_count": null,
   "metadata": {},
   "outputs": [],
   "source": [
    "#| export\n",
    "class PropertyData(dict):\n",
    "    pass"
   ]
  },
  {
   "cell_type": "code",
   "execution_count": null,
   "metadata": {},
   "outputs": [],
   "source": [
    "c = PropertyData({'0': {'mass': 2, 'object': Object()}})"
   ]
  },
  {
   "cell_type": "code",
   "execution_count": null,
   "metadata": {},
   "outputs": [
    {
     "data": {
      "text/plain": [
       "{'mass': 2, 'object': <__main__.Object>}"
      ]
     },
     "execution_count": null,
     "metadata": {},
     "output_type": "execute_result"
    }
   ],
   "source": [
    "c['0']"
   ]
  },
  {
   "cell_type": "code",
   "execution_count": null,
   "metadata": {},
   "outputs": [],
   "source": [
    "c['1'] = {'mass': 2.1, 'object': 'XXX'}"
   ]
  },
  {
   "cell_type": "code",
   "execution_count": null,
   "metadata": {},
   "outputs": [],
   "source": [
    "import pandas as pd"
   ]
  },
  {
   "cell_type": "code",
   "execution_count": null,
   "metadata": {},
   "outputs": [],
   "source": [
    "df = pd.DataFrame(c)"
   ]
  },
  {
   "cell_type": "code",
   "execution_count": null,
   "metadata": {},
   "outputs": [
    {
     "data": {
      "text/html": [
       "<div>\n",
       "<style scoped>\n",
       "    .dataframe tbody tr th:only-of-type {\n",
       "        vertical-align: middle;\n",
       "    }\n",
       "\n",
       "    .dataframe tbody tr th {\n",
       "        vertical-align: top;\n",
       "    }\n",
       "\n",
       "    .dataframe thead th {\n",
       "        text-align: right;\n",
       "    }\n",
       "</style>\n",
       "<table border=\"1\" class=\"dataframe\">\n",
       "  <thead>\n",
       "    <tr style=\"text-align: right;\">\n",
       "      <th></th>\n",
       "      <th>0</th>\n",
       "      <th>1</th>\n",
       "    </tr>\n",
       "  </thead>\n",
       "  <tbody>\n",
       "    <tr>\n",
       "      <th>mass</th>\n",
       "      <td>2</td>\n",
       "      <td>2.1</td>\n",
       "    </tr>\n",
       "    <tr>\n",
       "      <th>object</th>\n",
       "      <td>&lt;__main__.Object object at 0x7f8c21a74ee0&gt;</td>\n",
       "      <td>XXX</td>\n",
       "    </tr>\n",
       "  </tbody>\n",
       "</table>\n",
       "</div>"
      ],
      "text/plain": [
       "                                                 0    1\n",
       "mass                                             2  2.1\n",
       "object  <__main__.Object object>  XXX"
      ]
     },
     "execution_count": null,
     "metadata": {},
     "output_type": "execute_result"
    }
   ],
   "source": [
    "df"
   ]
  },
  {
   "cell_type": "markdown",
   "metadata": {},
   "source": [
    "### Proprety"
   ]
  },
  {
   "cell_type": "code",
   "execution_count": null,
   "metadata": {},
   "outputs": [],
   "source": [
    "#| export\n",
    "class PropertyObservable:\n",
    "    def __init__(self, compound):\n",
    "        self._data = PropertyData()\n",
    "        self.compound = compound\n",
    "        self._connections = []\n",
    "        self.laws = dict()\n",
    "        self.func_changed = Event()\n",
    "        \n",
    "        # print(f'self.compound={self.compound}')\n",
    "        # print(self.compound.__dict__)\n",
    "        # print(f'formula={self.compound.formula}')\n",
    "        \n",
    "        self.symbol = smp.symbols(f'{self.abbreviate}', real=True)\n",
    "    \n",
    "    def add_data(self, time, value):\n",
    "        self._data[time] = {'value': value}\n",
    "    \n",
    "    def add_law(self, law):\n",
    "        if not law in self.laws:\n",
    "            self.laws[camel_to_snake(law.__class__.__name__)] = law"
   ]
  },
  {
   "cell_type": "code",
   "execution_count": null,
   "metadata": {},
   "outputs": [],
   "source": [
    "#| export\n",
    "class Mass(PropertyObservable):\n",
    "    def __init__(self, compound):\n",
    "        self.abbreviate = 'm'\n",
    "        super().__init__(compound)"
   ]
  },
  {
   "cell_type": "code",
   "execution_count": null,
   "metadata": {},
   "outputs": [],
   "source": [
    "#| export\n",
    "class Mole(PropertyObservable):\n",
    "    def __init__(self, compound):\n",
    "        self.abbreviate = 'n'\n",
    "        super().__init__(compound)"
   ]
  },
  {
   "cell_type": "code",
   "execution_count": null,
   "metadata": {},
   "outputs": [],
   "source": [
    "#| export\n",
    "class Pressure(PropertyObservable):\n",
    "    def __init__(self, compound):\n",
    "        self.abbreviate = 'P'\n",
    "        super().__init__(compound)"
   ]
  },
  {
   "cell_type": "code",
   "execution_count": null,
   "metadata": {},
   "outputs": [],
   "source": [
    "#| export\n",
    "class Volume(PropertyObservable):\n",
    "    def __init__(self, compound):\n",
    "        self.abbreviate = 'V'\n",
    "        super().__init__(compound)"
   ]
  },
  {
   "cell_type": "code",
   "execution_count": null,
   "metadata": {},
   "outputs": [],
   "source": [
    "#| export\n",
    "class Temperature(PropertyObservable):\n",
    "    def __init__(self, compound):\n",
    "        self.abbreviate = 'T'\n",
    "        super().__init__(compound)"
   ]
  },
  {
   "cell_type": "markdown",
   "metadata": {},
   "source": [
    "### Law"
   ]
  },
  {
   "cell_type": "code",
   "execution_count": null,
   "metadata": {},
   "outputs": [],
   "source": [
    "#| export\n",
    "class Law:\n",
    "    def _run_config(self):\n",
    "        self._config_properties()\n",
    "    \n",
    "    def _config_properties(self):\n",
    "#         for p in self.properties:\n",
    "#             name = camel_to_snake(p.__name__)\n",
    "            \n",
    "#             if not name in self.compound.properties:\n",
    "#                 self.compound.properties[name] = p(compound=self.compound)\n",
    "            \n",
    "#             self.compound.properties[name].add_law(self)\n",
    "        \n",
    "        for p in self.x_properties:\n",
    "            name = camel_to_snake(p['object'].__name__)\n",
    "            \n",
    "            if not name in self.compound.properties:\n",
    "                self.compound.properties[name] = p['object'](compound=self.compound)\n",
    "            \n",
    "            self.compound.properties[name].add_law(self)"
   ]
  },
  {
   "cell_type": "markdown",
   "metadata": {},
   "source": [
    "### Mediator"
   ]
  },
  {
   "cell_type": "code",
   "execution_count": null,
   "metadata": {},
   "outputs": [],
   "source": [
    "#| export\n",
    "class System:\n",
    "    def __init__(self):\n",
    "        self.reactions = dict()"
   ]
  },
  {
   "cell_type": "code",
   "execution_count": null,
   "metadata": {},
   "outputs": [],
   "source": []
  }
 ],
 "metadata": {
  "kernelspec": {
   "display_name": "Python 3 (ipykernel)",
   "language": "python",
   "name": "python3"
  }
 },
 "nbformat": 4,
 "nbformat_minor": 4
}
