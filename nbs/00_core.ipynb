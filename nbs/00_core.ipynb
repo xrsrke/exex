{
 "cells": [
  {
   "cell_type": "markdown",
   "metadata": {},
   "source": [
    "# core\n",
    "\n",
    "> Fill in a module description here"
   ]
  },
  {
   "cell_type": "code",
   "execution_count": null,
   "metadata": {},
   "outputs": [],
   "source": [
    "# | default_exp core"
   ]
  },
  {
   "cell_type": "code",
   "execution_count": null,
   "metadata": {},
   "outputs": [],
   "source": [
    "# | hide\n",
    "from nbdev.showdoc import *"
   ]
  },
  {
   "cell_type": "code",
   "execution_count": null,
   "metadata": {},
   "outputs": [],
   "source": [
    "# | hide\n",
    "import nbdev\n",
    "\n",
    "nbdev.nbdev_export()"
   ]
  },
  {
   "cell_type": "code",
   "execution_count": null,
   "metadata": {},
   "outputs": [],
   "source": [
    "# | export\n",
    "from dataclasses import dataclass\n",
    "from abc import ABC, abstractmethod\n",
    "\n",
    "from exex.imports import *\n",
    "from exex.utils import *"
   ]
  },
  {
   "cell_type": "code",
   "execution_count": null,
   "metadata": {},
   "outputs": [],
   "source": [
    "# | export\n",
    "class Event(list):\n",
    "    def __call__(self, *args, **kwargs):\n",
    "        for item in self:\n",
    "            item(*args, **kwargs)"
   ]
  },
  {
   "cell_type": "code",
   "execution_count": null,
   "metadata": {},
   "outputs": [
    {
     "data": {
      "text/latex": [
       "$\\displaystyle \\text{m}$"
      ],
      "text/plain": [
       "meter"
      ]
     },
     "execution_count": null,
     "metadata": {},
     "output_type": "execute_result"
    }
   ],
   "source": [
    "u.meter"
   ]
  },
  {
   "cell_type": "markdown",
   "metadata": {},
   "source": [
    "### Unit"
   ]
  },
  {
   "cell_type": "code",
   "execution_count": null,
   "metadata": {},
   "outputs": [],
   "source": [
    "# #| export\n",
    "# @dataclass\n",
    "# class Unit:\n",
    "#     \"\"\"\n",
    "#     Default Units\n",
    "#     \"\"\"\n",
    "\n",
    "#     # SI Unit\n",
    "#     LENGTH = 'meter'\n",
    "#     MASS = 'kilogram'\n",
    "#     TIME = 'second'\n",
    "#     TEMPERATURE = 'kelvin'\n",
    "\n",
    "#     # Derived from SI Unit\n",
    "#     MOLAR_MASS = 'grams / mole'\n",
    "#     MOLE = 'mole'\n",
    "#     SPECIFIC_HEAT = 'joule / (kilogram kelvin)'\n",
    "#     PRESSURE = 'pascal'\n",
    "#     VOLUME = 'liter'"
   ]
  },
  {
   "cell_type": "code",
   "execution_count": null,
   "metadata": {},
   "outputs": [],
   "source": [
    "# | export\n",
    "class Unit:\n",
    "    \"\"\"\n",
    "    Default SI Units\n",
    "    \"\"\"\n",
    "\n",
    "    LENGTH = u.meter\n",
    "    MASS = u.kilogram\n",
    "    TIME = u.second\n",
    "    TEMPERATURE = u.kelvin\n",
    "\n",
    "    \"\"\"\n",
    "    Derived from SI Units\n",
    "    \"\"\"\n",
    "    MOLAR_MASS = u.gram / u.mole\n",
    "    MOLE = u.mole\n",
    "    SPECIFIC_HEAT = u.joule / (u.kilogram * u.kelvin)\n",
    "    PRESSURE = u.pascal\n",
    "    VOLUME = u.liter"
   ]
  },
  {
   "cell_type": "code",
   "execution_count": null,
   "metadata": {},
   "outputs": [],
   "source": [
    "# | export\n",
    "def unit2expr(unit):\n",
    "    pass"
   ]
  },
  {
   "cell_type": "code",
   "execution_count": null,
   "metadata": {},
   "outputs": [
    {
     "data": {
      "text/latex": [
       "$\\displaystyle \\text{kg}$"
      ],
      "text/plain": [
       "kilogram"
      ]
     },
     "execution_count": null,
     "metadata": {},
     "output_type": "execute_result"
    }
   ],
   "source": [
    "Unit.MASS"
   ]
  },
  {
   "cell_type": "code",
   "execution_count": null,
   "metadata": {},
   "outputs": [
    {
     "data": {
      "text/latex": [
       "$\\displaystyle \\frac{\\text{J}}{\\text{K} \\text{kg}}$"
      ],
      "text/plain": [
       "joule/(kelvin*kilogram)"
      ]
     },
     "execution_count": null,
     "metadata": {},
     "output_type": "execute_result"
    }
   ],
   "source": [
    "Unit.SPECIFIC_HEAT"
   ]
  },
  {
   "cell_type": "code",
   "execution_count": null,
   "metadata": {},
   "outputs": [],
   "source": [
    "# | hide\n",
    "test_eq(Unit.MASS, u.kilogram)\n",
    "test_eq(str(Unit.MASS), \"kilogram\")"
   ]
  },
  {
   "cell_type": "code",
   "execution_count": null,
   "metadata": {},
   "outputs": [],
   "source": [
    "# | export\n",
    "ureg = pint.UnitRegistry(system=\"SI\")\n",
    "Q = ureg.Quantity  # quantity"
   ]
  },
  {
   "cell_type": "code",
   "execution_count": null,
   "metadata": {},
   "outputs": [],
   "source": [
    "@patch\n",
    "def to_standard(self: Q):\n",
    "    return 1"
   ]
  },
  {
   "cell_type": "code",
   "execution_count": null,
   "metadata": {},
   "outputs": [],
   "source": [
    "# moles = Q(0.214, Unit.MOLE)"
   ]
  },
  {
   "cell_type": "code",
   "execution_count": null,
   "metadata": {},
   "outputs": [],
   "source": [
    "# moles"
   ]
  },
  {
   "cell_type": "code",
   "execution_count": null,
   "metadata": {},
   "outputs": [],
   "source": [
    "# moles.__dict__"
   ]
  },
  {
   "cell_type": "code",
   "execution_count": null,
   "metadata": {},
   "outputs": [],
   "source": [
    "# moles.dimensionality"
   ]
  },
  {
   "cell_type": "code",
   "execution_count": null,
   "metadata": {},
   "outputs": [],
   "source": [
    "# #| hide\n",
    "# test_eq(moles.magnitude, 0.214)\n",
    "# test_eq(moles.units, \"mole\")"
   ]
  },
  {
   "cell_type": "code",
   "execution_count": null,
   "metadata": {},
   "outputs": [],
   "source": [
    "# specific_heat = Q(0.235, Unit.SPECIFIC_HEAT)"
   ]
  },
  {
   "cell_type": "code",
   "execution_count": null,
   "metadata": {},
   "outputs": [],
   "source": [
    "# specific_heat.ito_reduced_units()"
   ]
  },
  {
   "cell_type": "code",
   "execution_count": null,
   "metadata": {},
   "outputs": [],
   "source": [
    "# #| hide\n",
    "# test_eq(specific_heat.magnitude, 0.235)\n",
    "# test_eq(specific_heat.units, 'joule/(kelvin kilogram)')"
   ]
  },
  {
   "cell_type": "code",
   "execution_count": null,
   "metadata": {},
   "outputs": [],
   "source": [
    "# m = Q('3.21 kilogram')"
   ]
  },
  {
   "cell_type": "code",
   "execution_count": null,
   "metadata": {},
   "outputs": [],
   "source": [
    "# m"
   ]
  },
  {
   "cell_type": "code",
   "execution_count": null,
   "metadata": {},
   "outputs": [],
   "source": [
    "@ureg.check(\"[length]\")\n",
    "def foo(length):\n",
    "    return length"
   ]
  },
  {
   "cell_type": "code",
   "execution_count": null,
   "metadata": {},
   "outputs": [
    {
     "data": {
      "text/plain": [
       "'10 meter'"
      ]
     },
     "execution_count": null,
     "metadata": {},
     "output_type": "execute_result"
    }
   ],
   "source": [
    "foo(\"10 meter\")"
   ]
  },
  {
   "cell_type": "code",
   "execution_count": null,
   "metadata": {},
   "outputs": [],
   "source": [
    "@ureg.wraps((ureg.meter, ureg.gram), (ureg.meter, ureg.kilogram))\n",
    "def mypp(length, mass):\n",
    "    return length, mass"
   ]
  },
  {
   "cell_type": "code",
   "execution_count": null,
   "metadata": {},
   "outputs": [
    {
     "data": {
      "text/plain": [
       "(10000.0 <Unit('meter')>, 1 <Unit('gram')>)"
      ]
     },
     "execution_count": null,
     "metadata": {},
     "output_type": "execute_result"
    }
   ],
   "source": [
    "mypp(\"10 kilometer\", \"1 kilogram\")"
   ]
  },
  {
   "cell_type": "code",
   "execution_count": null,
   "metadata": {},
   "outputs": [],
   "source": [
    "@ureg.check(\"[mass]\")\n",
    "@ureg.wraps(None, None)\n",
    "def set_mass(mass):\n",
    "    return mass"
   ]
  },
  {
   "cell_type": "code",
   "execution_count": null,
   "metadata": {},
   "outputs": [
    {
     "data": {
      "text/plain": [
       "'20 kilogram'"
      ]
     },
     "execution_count": null,
     "metadata": {},
     "output_type": "execute_result"
    }
   ],
   "source": [
    "set_mass(\"20 kilogram\")"
   ]
  },
  {
   "cell_type": "code",
   "execution_count": null,
   "metadata": {},
   "outputs": [],
   "source": [
    "@ureg.check(\"[mass]\")\n",
    "@ureg.wraps(ureg.gram, ureg.kilogram)\n",
    "def set_mass(mass):\n",
    "    return mass"
   ]
  },
  {
   "cell_type": "code",
   "execution_count": null,
   "metadata": {},
   "outputs": [
    {
     "data": {
      "text/html": [
       "20 gram"
      ],
      "text/latex": [
       "$20\\ \\mathrm{gram}$"
      ],
      "text/plain": [
       "20 <Unit('gram')>"
      ]
     },
     "execution_count": null,
     "metadata": {},
     "output_type": "execute_result"
    }
   ],
   "source": [
    "set_mass(\"20 kilogram\")"
   ]
  },
  {
   "cell_type": "code",
   "execution_count": null,
   "metadata": {},
   "outputs": [
    {
     "data": {
      "text/html": [
       "0.02 gram"
      ],
      "text/latex": [
       "$0.02\\ \\mathrm{gram}$"
      ],
      "text/plain": [
       "0.02 <Unit('gram')>"
      ]
     },
     "execution_count": null,
     "metadata": {},
     "output_type": "execute_result"
    }
   ],
   "source": [
    "set_mass(\"20 grams\")"
   ]
  },
  {
   "cell_type": "markdown",
   "metadata": {},
   "source": [
    "### Data"
   ]
  },
  {
   "cell_type": "code",
   "execution_count": null,
   "metadata": {},
   "outputs": [],
   "source": [
    "# | export\n",
    "class Object:\n",
    "    pass"
   ]
  },
  {
   "cell_type": "code",
   "execution_count": null,
   "metadata": {},
   "outputs": [],
   "source": [
    "# | export\n",
    "class PropertyData(dict):\n",
    "    pass"
   ]
  },
  {
   "cell_type": "code",
   "execution_count": null,
   "metadata": {},
   "outputs": [],
   "source": [
    "c = PropertyData({\"0\": {\"mass\": 2, \"object\": Object()}})"
   ]
  },
  {
   "cell_type": "code",
   "execution_count": null,
   "metadata": {},
   "outputs": [
    {
     "data": {
      "text/plain": [
       "{'mass': 2, 'object': <__main__.Object>}"
      ]
     },
     "execution_count": null,
     "metadata": {},
     "output_type": "execute_result"
    }
   ],
   "source": [
    "c[\"0\"]"
   ]
  },
  {
   "cell_type": "code",
   "execution_count": null,
   "metadata": {},
   "outputs": [],
   "source": [
    "c[\"1\"] = {\"mass\": 2.1, \"object\": \"XXX\"}"
   ]
  },
  {
   "cell_type": "markdown",
   "metadata": {},
   "source": [
    "### Proprety"
   ]
  },
  {
   "cell_type": "code",
   "execution_count": null,
   "metadata": {},
   "outputs": [],
   "source": [
    "# | export\n",
    "@docs\n",
    "class BaseProperty:\n",
    "    def __init__(self, cmp):  # chemical substance\n",
    "        self.is_constant: bool = False\n",
    "        self.compound = cmp\n",
    "        self.cmp = cmp\n",
    "        self._data = PropertyData()\n",
    "\n",
    "        self._connections = []\n",
    "        self.laws = dict()\n",
    "        self.func_changed = Event()\n",
    "\n",
    "    @property\n",
    "    def name(self) -> str:\n",
    "        return camel_to_snake(self.__class__.__name__)\n",
    "\n",
    "    @classmethod\n",
    "    @property\n",
    "    def snake_name(cls) -> str:  # return the snake style name\n",
    "        return camel_to_snake(cls.__name__)\n",
    "\n",
    "    def expr(self, t: int):  # time\n",
    "        return self.symbol(t)\n",
    "\n",
    "    def __call__(self, t: int, eval: bool = False, **kwargs):  # time\n",
    "        self.t = t\n",
    "        self.kwargs = {**kwargs, \"eval\": eval}\n",
    "\n",
    "        expr = self.expr(t)\n",
    "\n",
    "        if eval == True:\n",
    "            return self.eval(expr, t)\n",
    "        else:\n",
    "            return expr\n",
    "\n",
    "    def add_law(self, law):\n",
    "        if not law in self.laws:\n",
    "            self.laws[camel_to_snake(law.__class__.__name__)] = law\n",
    "\n",
    "    _docs = dict(cls_doc=\"Property\", add_law=\"\", expr=\"Symbolic expression\")"
   ]
  },
  {
   "cell_type": "code",
   "execution_count": null,
   "metadata": {},
   "outputs": [],
   "source": [
    "# | export\n",
    "@patch\n",
    "def symbol(self: BaseProperty, t):  # symbolic expression of the property\n",
    "    \"\"\"Rewrite this method if you want to modify\"\"\"\n",
    "    return smp.symbols(f\"{self.abbrv}_{self.cmp.snake_name}-{t}\", real=True)"
   ]
  },
  {
   "cell_type": "code",
   "execution_count": null,
   "metadata": {},
   "outputs": [],
   "source": [
    "# | export\n",
    "@patch\n",
    "def set_val(self: BaseProperty, val: str, t: int):\n",
    "    self._data[t] = {\"val\": val}"
   ]
  },
  {
   "cell_type": "code",
   "execution_count": null,
   "metadata": {},
   "outputs": [],
   "source": [
    "# | export\n",
    "@patch\n",
    "def get_val(self: BaseProperty, t: int):  # time\n",
    "    if self.is_constant is True:\n",
    "        return self.compute()\n",
    "    else:\n",
    "        return self._data[t][\"val\"] if t in self._data else self.symbol(t)"
   ]
  },
  {
   "cell_type": "code",
   "execution_count": null,
   "metadata": {},
   "outputs": [],
   "source": [
    "# | export\n",
    "@patch\n",
    "def eval(self: BaseProperty, expr, t: int):  # express  # time\n",
    "    return expr.xreplace({expr: self.get_val(t=t)})"
   ]
  },
  {
   "cell_type": "code",
   "execution_count": null,
   "metadata": {},
   "outputs": [],
   "source": [
    "# | export\n",
    "@patch\n",
    "def is_empty(self: BaseProperty, t):\n",
    "    return type(self.get_val(t))\n",
    "    # return True if isinstance(type(self.get_val(t)), sympy.core.symbol.Symbol) else False"
   ]
  },
  {
   "cell_type": "code",
   "execution_count": null,
   "metadata": {},
   "outputs": [],
   "source": [
    "# | export\n",
    "@docs\n",
    "class Property(BaseProperty):\n",
    "    _docs = dict(cls_doc=\"Property that varies in time\")"
   ]
  },
  {
   "cell_type": "markdown",
   "metadata": {},
   "source": [
    "#### Constant Property"
   ]
  },
  {
   "cell_type": "code",
   "execution_count": null,
   "metadata": {},
   "outputs": [],
   "source": [
    "# | export\n",
    "@docs\n",
    "class ConstantProperty(BaseProperty):\n",
    "    @abstractmethod\n",
    "    def compute(self):\n",
    "        pass\n",
    "\n",
    "    _docs = dict(\n",
    "        cls_doc=\"Property that invariant in time\", compute=\"Calculate the value\"\n",
    "    )"
   ]
  },
  {
   "cell_type": "markdown",
   "metadata": {},
   "source": [
    "##### Property"
   ]
  },
  {
   "cell_type": "code",
   "execution_count": null,
   "metadata": {},
   "outputs": [],
   "source": [
    "# | export\n",
    "class Property(BaseProperty):\n",
    "    pass"
   ]
  },
  {
   "cell_type": "code",
   "execution_count": null,
   "metadata": {},
   "outputs": [],
   "source": [
    "# | export\n",
    "class PropertyObservable(Property):\n",
    "    pass"
   ]
  },
  {
   "cell_type": "markdown",
   "metadata": {},
   "source": [
    "##### Molar Mass"
   ]
  },
  {
   "cell_type": "markdown",
   "metadata": {},
   "source": [
    "Molar Mass is"
   ]
  },
  {
   "cell_type": "code",
   "execution_count": null,
   "metadata": {},
   "outputs": [],
   "source": [
    "# | export\n",
    "class Mass(Property):\n",
    "    def __init__(self, compound):\n",
    "        super().__init__(compound)\n",
    "        self.abbrv = \"m\"\n",
    "        self.unit = Unit.MASS"
   ]
  },
  {
   "cell_type": "code",
   "execution_count": null,
   "metadata": {},
   "outputs": [],
   "source": [
    "# | export\n",
    "class MolarMass(ConstantProperty):\n",
    "    def __init__(self, compound):\n",
    "        self.abbrv = \"M\"\n",
    "        self.unit = Unit.MOLAR_MASS\n",
    "        super().__init__(compound)\n",
    "        self.is_constant = True\n",
    "\n",
    "    def compute(self):\n",
    "        mass = 0\n",
    "        for element in self.compound.elements:\n",
    "            mass += element.AtomicMass\n",
    "\n",
    "        return mass * self.unit"
   ]
  },
  {
   "cell_type": "code",
   "execution_count": null,
   "metadata": {},
   "outputs": [],
   "source": [
    "# | export\n",
    "class Mole(Property):\n",
    "    def __init__(self, compound):\n",
    "        super().__init__(compound)\n",
    "        self.abbrv = \"n\"\n",
    "        self.unit = Unit.MOLE"
   ]
  },
  {
   "cell_type": "code",
   "execution_count": null,
   "metadata": {},
   "outputs": [],
   "source": [
    "# | export\n",
    "class Pressure(Property):\n",
    "    def __init__(self, compound):\n",
    "        super().__init__(compound)\n",
    "        self.abbrv = \"P\"\n",
    "        self.unit = Unit.PRESSURE"
   ]
  },
  {
   "cell_type": "code",
   "execution_count": null,
   "metadata": {},
   "outputs": [],
   "source": [
    "# | export\n",
    "class Volume(Property):\n",
    "    def __init__(self, compound):\n",
    "        super().__init__(compound)\n",
    "        self.abbrv = \"V\"\n",
    "        self.unit = Unit.VOLUME"
   ]
  },
  {
   "cell_type": "code",
   "execution_count": null,
   "metadata": {},
   "outputs": [],
   "source": [
    "# | export\n",
    "class Temperature(Property):\n",
    "    def __init__(self, compound):\n",
    "        super().__init__(compound)\n",
    "        self.abbrv = \"T\"\n",
    "        self.unit = Unit.TEMPERATURE"
   ]
  },
  {
   "cell_type": "markdown",
   "metadata": {},
   "source": [
    "### Law"
   ]
  },
  {
   "cell_type": "code",
   "execution_count": null,
   "metadata": {},
   "outputs": [],
   "source": [
    "# | export\n",
    "class BaseLaw(ABC):\n",
    "    @property\n",
    "    def name(self) -> str:\n",
    "        return camel_to_snake(self.__class__.__name__)\n",
    "\n",
    "    @classmethod\n",
    "    @property\n",
    "    def snake_name(cls) -> str:  # return the snake style name\n",
    "        return camel_to_snake(cls.__name__)\n",
    "\n",
    "    def n_known_variables(self, timestep: int) -> int:  # the number of known variables\n",
    "        n_knowns = 0\n",
    "        for p in self.properties:\n",
    "            name = camel_to_snake(p[\"object\"].__name__)\n",
    "            if timestep in self.compound.properties[name]._data:\n",
    "                n_knowns += 1\n",
    "        return n_knowns\n",
    "\n",
    "    def is_solveable(self, timestep: int) -> bool:  # the timestep\n",
    "        n_unknowns = len(self.properties)\n",
    "        n_knowns = self.n_known_variables(timestep)\n",
    "        print(f\"n_unknowns={n_unknowns} and n_knowns={n_knowns}\")\n",
    "        return n_unknowns - n_knowns <= 1\n",
    "\n",
    "    def _run_config(self) -> None:  # run all configuration\n",
    "        self._config_properties()\n",
    "\n",
    "    def _config_properties(self) -> None:  # add law's properties to compound\n",
    "\n",
    "        for p in self.properties:\n",
    "            # name = camel_to_snake(p['object'].__name__)\n",
    "            name = p[\"object\"].snake_name\n",
    "\n",
    "            if not name in self.compound.properties:\n",
    "                self.compound.properties[name] = p[\"object\"](compound=self.compound)\n",
    "\n",
    "            self.compound.properties[name].add_law(self)\n",
    "\n",
    "    def solve(\n",
    "        self,\n",
    "        timestep: int,  # the time step of the unknown variable\n",
    "        unknown: str,  # the unknown variable that you want to solve\n",
    "    ):\n",
    "        unknown_symbol = self.compound.properties[unknown].symbol\n",
    "        return smp.solve(self.expression, unknown_symbol)\n",
    "\n",
    "    def __call__(self, *args, **kwargs):\n",
    "        return self.expr(*args, **kwargs)\n",
    "\n",
    "    @abstractmethod\n",
    "    def expr(self):\n",
    "        \"\"\"The symbolic expression of the law\"\"\"\n",
    "        pass\n",
    "\n",
    "    def __repr__(self):\n",
    "        return f\"Law({self.name})\""
   ]
  },
  {
   "cell_type": "code",
   "execution_count": null,
   "metadata": {},
   "outputs": [],
   "source": [
    "# | export\n",
    "class Law(BaseLaw):\n",
    "    pass"
   ]
  },
  {
   "cell_type": "markdown",
   "metadata": {},
   "source": [
    "### System"
   ]
  },
  {
   "cell_type": "markdown",
   "metadata": {},
   "source": [
    "System is an mediator that compounds and reactions communicate through each others."
   ]
  },
  {
   "cell_type": "code",
   "execution_count": null,
   "metadata": {},
   "outputs": [],
   "source": [
    "# #| export\n",
    "# class System:\n",
    "#     def __init__(self):\n",
    "#         self.reactions = dict()\n",
    "#         self.universe = None\n",
    "#         self.subscribers: dict[str, Callable] = dict()\n",
    "#         self.current_time: int = None\n",
    "#         self.highest_time: int = None"
   ]
  },
  {
   "cell_type": "code",
   "execution_count": null,
   "metadata": {},
   "outputs": [],
   "source": []
  },
  {
   "cell_type": "code",
   "execution_count": null,
   "metadata": {},
   "outputs": [],
   "source": []
  }
 ],
 "metadata": {
  "kernelspec": {
   "display_name": "Python 3 (ipykernel)",
   "language": "python",
   "name": "python3"
  }
 },
 "nbformat": 4,
 "nbformat_minor": 4
}
