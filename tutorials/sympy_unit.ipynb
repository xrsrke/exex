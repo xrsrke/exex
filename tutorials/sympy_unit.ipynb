{
 "cells": [
  {
   "cell_type": "code",
   "execution_count": null,
   "id": "bb09f553-a221-46b3-86df-97d13bac92f3",
   "metadata": {},
   "outputs": [],
   "source": [
    "import sympy as smp\n",
    "import sympy.physics.units as u\n",
    "from sympy.physics.units import convert_to"
   ]
  },
  {
   "cell_type": "code",
   "execution_count": null,
   "id": "0f226ddd-74e2-44f6-935c-a2b364bcdd8f",
   "metadata": {},
   "outputs": [
    {
     "data": {
      "text/latex": [
       "$\\displaystyle \\text{km}$"
      ],
      "text/plain": [
       "kilometer"
      ]
     },
     "execution_count": null,
     "metadata": {},
     "output_type": "execute_result"
    }
   ],
   "source": [
    "u.kilometer"
   ]
  },
  {
   "cell_type": "code",
   "execution_count": null,
   "id": "2a2314a0-c5e5-4fdf-9888-6b335fdc71ba",
   "metadata": {},
   "outputs": [],
   "source": [
    "lhs = ((5 * u.meter) * (2*u.meter)+ 2.1 * u.kilometer) * smp.symbols('x')"
   ]
  },
  {
   "cell_type": "code",
   "execution_count": null,
   "id": "c51aa67a-8fdf-400f-95df-f9d6ed406919",
   "metadata": {},
   "outputs": [
    {
     "data": {
      "text/latex": [
       "$\\displaystyle x \\left(2.1 \\text{km} + 10 \\text{m}^{2}\\right)$"
      ],
      "text/plain": [
       "x*(2.1*kilometer + 10*meter**2)"
      ]
     },
     "execution_count": null,
     "metadata": {},
     "output_type": "execute_result"
    }
   ],
   "source": [
    "lhs"
   ]
  },
  {
   "cell_type": "code",
   "execution_count": null,
   "id": "3f35f5a3-146e-4dcf-b1dc-a0bfe8834c53",
   "metadata": {},
   "outputs": [],
   "source": [
    "rhs = 31.2 * u.kilogram * smp.symbols('y')"
   ]
  },
  {
   "cell_type": "code",
   "execution_count": null,
   "id": "a3d370a1-5821-4acd-a475-529e3f7ba1de",
   "metadata": {},
   "outputs": [
    {
     "data": {
      "text/latex": [
       "$\\displaystyle x \\left(2.1 \\text{km} + 10 \\text{m}^{2}\\right) = 31.2 y \\text{kg}$"
      ],
      "text/plain": [
       "Eq(x*(2.1*kilometer + 10*meter**2), 31.2*kilogram*y)"
      ]
     },
     "execution_count": null,
     "metadata": {},
     "output_type": "execute_result"
    }
   ],
   "source": [
    "smp.Eq(lhs, rhs)"
   ]
  },
  {
   "cell_type": "code",
   "execution_count": null,
   "id": "b7c5b473-be6d-460b-a36c-801e1219baee",
   "metadata": {},
   "outputs": [
    {
     "data": {
      "text/latex": [
       "$\\displaystyle 31.2 y \\text{kg} = 1.0 \\cdot 10^{-5} x \\left(\\text{km} + 210000.0\\right) \\text{km}$"
      ],
      "text/plain": [
       "Eq(31.2*kilogram*y, 1.0e-5*kilometer*x*(kilometer + 210000.0))"
      ]
     },
     "execution_count": null,
     "metadata": {},
     "output_type": "execute_result"
    }
   ],
   "source": [
    "smp.Eq(lhs, rhs).simplify()"
   ]
  },
  {
   "cell_type": "code",
   "execution_count": null,
   "id": "12940e36-b502-4d2f-86ef-7a220bea5d25",
   "metadata": {},
   "outputs": [],
   "source": [
    "eq1 = 5 * u.kilometer"
   ]
  },
  {
   "cell_type": "code",
   "execution_count": null,
   "id": "328cbb2e-af66-461b-980c-e3f6edeca8c2",
   "metadata": {},
   "outputs": [
    {
     "data": {
      "text/latex": [
       "$\\displaystyle 5 \\text{km}$"
      ],
      "text/plain": [
       "5*kilometer"
      ]
     },
     "execution_count": null,
     "metadata": {},
     "output_type": "execute_result"
    }
   ],
   "source": [
    "eq1"
   ]
  },
  {
   "cell_type": "code",
   "execution_count": null,
   "id": "49fef037-3c44-45ee-8d6b-2ee916d5e092",
   "metadata": {},
   "outputs": [
    {
     "data": {
      "text/latex": [
       "$\\displaystyle 5000 \\text{m}$"
      ],
      "text/plain": [
       "5000*meter"
      ]
     },
     "execution_count": null,
     "metadata": {},
     "output_type": "execute_result"
    }
   ],
   "source": [
    "convert_to(eq1, u.meter)"
   ]
  },
  {
   "cell_type": "code",
   "execution_count": null,
   "id": "94d47714-974c-4c6e-bfc3-0683e66790bb",
   "metadata": {},
   "outputs": [],
   "source": []
  },
  {
   "cell_type": "code",
   "execution_count": null,
   "id": "6023d4c3-03a5-481f-a3ed-affa0b0e2021",
   "metadata": {},
   "outputs": [],
   "source": [
    "from sympy.parsing.sympy_parser import parse_expr"
   ]
  },
  {
   "cell_type": "code",
   "execution_count": null,
   "id": "699a3f3a-fe05-4fd0-af14-6c7086b59089",
   "metadata": {},
   "outputs": [
    {
     "ename": "SyntaxError",
     "evalue": "invalid syntax (<string>, line 1)",
     "output_type": "error",
     "traceback": [
      "\u001b[0;31mValueError\u001b[0m\u001b[0;31m:\u001b[0m Error from parse_expr with transformed code: \"Float ('5.2' )Symbol ('grams' )\"\n",
      "\nThe above exception was the direct cause of the following exception:\n",
      "Traceback \u001b[0;36m(most recent call last)\u001b[0m:\n",
      "  File \u001b[1;32m/opt/anaconda3/envs/chemchem/lib/python3.9/site-packages/IPython/core/interactiveshell.py:3398\u001b[0m in \u001b[1;35mrun_code\u001b[0m\n    exec(code_obj, self.user_global_ns, self.user_ns)\n",
      "  Input \u001b[1;32mIn [50]\u001b[0m in \u001b[1;35m<cell line: 1>\u001b[0m\n    parse_expr('5.2grams')\n",
      "  File \u001b[1;32m/opt/anaconda3/envs/chemchem/lib/python3.9/site-packages/sympy/parsing/sympy_parser.py:1101\u001b[0m in \u001b[1;35mparse_expr\u001b[0m\n    raise e from ValueError(f\"Error from parse_expr with transformed code: {code!r}\")\n",
      "  File \u001b[1;32m/opt/anaconda3/envs/chemchem/lib/python3.9/site-packages/sympy/parsing/sympy_parser.py:1092\u001b[0m in \u001b[1;35mparse_expr\u001b[0m\n    rv = eval_expr(code, local_dict, global_dict)\n",
      "\u001b[0;36m  File \u001b[0;32m/opt/anaconda3/envs/chemchem/lib/python3.9/site-packages/sympy/parsing/sympy_parser.py:907\u001b[0;36m in \u001b[0;35meval_expr\u001b[0;36m\u001b[0m\n\u001b[0;31m    expr = eval(\u001b[0m\n",
      "\u001b[0;36m  File \u001b[0;32m<string>:1\u001b[0;36m\u001b[0m\n\u001b[0;31m    Float ('5.2' )Symbol ('grams' )\u001b[0m\n\u001b[0m                  ^\u001b[0m\n\u001b[0;31mSyntaxError\u001b[0m\u001b[0;31m:\u001b[0m invalid syntax\n"
     ]
    }
   ],
   "source": [
    "parse_expr('5.2grams')"
   ]
  },
  {
   "cell_type": "code",
   "execution_count": null,
   "id": "ab5dddde-a429-4005-b13e-c91f011cddd8",
   "metadata": {},
   "outputs": [],
   "source": [
    "from sympy import sympify"
   ]
  },
  {
   "cell_type": "code",
   "execution_count": null,
   "id": "91e9541b-d52a-4220-9777-2ef346c30ed9",
   "metadata": {},
   "outputs": [
    {
     "data": {
      "text/latex": [
       "$\\displaystyle 2 x$"
      ],
      "text/plain": [
       "2*x"
      ]
     },
     "execution_count": null,
     "metadata": {},
     "output_type": "execute_result"
    }
   ],
   "source": [
    "sympify('2*x')"
   ]
  },
  {
   "cell_type": "code",
   "execution_count": null,
   "id": "a2f70913-1dd4-4550-9937-e9a0b9efa35e",
   "metadata": {},
   "outputs": [],
   "source": []
  }
 ],
 "metadata": {
  "kernelspec": {
   "display_name": "Python 3 (ipykernel)",
   "language": "python",
   "name": "python3"
  }
 },
 "nbformat": 4,
 "nbformat_minor": 5
}
