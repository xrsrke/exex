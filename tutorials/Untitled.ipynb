{
 "cells": [
  {
   "cell_type": "code",
   "execution_count": null,
   "id": "e454f67b-cd0f-4f2c-a7e0-415b77b3b93b",
   "metadata": {},
   "outputs": [],
   "source": [
    "from exex.gas.all import *"
   ]
  },
  {
   "cell_type": "code",
   "execution_count": null,
   "id": "db771f1c-fc2f-4bef-8502-f565e8d163d6",
   "metadata": {},
   "outputs": [],
   "source": [
    "O2 = Compound('O2')"
   ]
  },
  {
   "cell_type": "code",
   "execution_count": null,
   "id": "ed134f0c-fce1-4ec2-a424-4fb0ada68a89",
   "metadata": {},
   "outputs": [
    {
     "ename": "AttributeError",
     "evalue": "'Mass' object has no attribute 'add_data'",
     "output_type": "error",
     "traceback": [
      "\u001b[0;31m---------------------------------------------------------------------------\u001b[0m",
      "\u001b[0;31mAttributeError\u001b[0m                            Traceback (most recent call last)",
      "Input \u001b[0;32mIn [5]\u001b[0m, in \u001b[0;36m<cell line: 1>\u001b[0;34m()\u001b[0m\n\u001b[0;32m----> 1\u001b[0m \u001b[43mO2\u001b[49m\u001b[38;5;241;43m.\u001b[39;49m\u001b[43mproperties\u001b[49m\u001b[43m[\u001b[49m\u001b[38;5;124;43m'\u001b[39;49m\u001b[38;5;124;43mmass\u001b[39;49m\u001b[38;5;124;43m'\u001b[39;49m\u001b[43m]\u001b[49m\u001b[38;5;241;43m.\u001b[39;49m\u001b[43madd_data\u001b[49m(\u001b[38;5;241m1\u001b[39m, Q(\u001b[38;5;124m'\u001b[39m\u001b[38;5;124m2.23 grams\u001b[39m\u001b[38;5;124m'\u001b[39m))\n",
      "\u001b[0;31mAttributeError\u001b[0m: 'Mass' object has no attribute 'add_data'"
     ]
    }
   ],
   "source": [
    "O2.properties['mass'].add_data(1, Q('2.23 grams'))"
   ]
  },
  {
   "cell_type": "code",
   "execution_count": null,
   "id": "1bb5f5be-66f8-4167-905e-787d2f7a09de",
   "metadata": {},
   "outputs": [],
   "source": [
    "#O2.properties['mass'](t=1).subs({O2.properties['mass'].e(): 2})"
   ]
  },
  {
   "cell_type": "code",
   "execution_count": null,
   "id": "23a6abb2-3976-4110-8743-c3701262c600",
   "metadata": {},
   "outputs": [],
   "source": [
    "x = smp.symbols('x')"
   ]
  },
  {
   "cell_type": "code",
   "execution_count": null,
   "id": "1872d5e9-b45d-44b0-a26c-48cd135a138e",
   "metadata": {},
   "outputs": [
    {
     "data": {
      "text/html": [
       "2.23*x gram"
      ],
      "text/latex": [
       "$2.23*x\\ \\mathrm{gram}$"
      ],
      "text/plain": [
       "2.23*x <Unit('gram')>"
      ]
     },
     "execution_count": null,
     "metadata": {},
     "output_type": "execute_result"
    }
   ],
   "source": [
    "O2.properties['mass'](t=1) * x"
   ]
  },
  {
   "cell_type": "code",
   "execution_count": null,
   "id": "e3f51eea-12f2-458f-8f9f-9cc96b909578",
   "metadata": {},
   "outputs": [],
   "source": []
  }
 ],
 "metadata": {
  "kernelspec": {
   "display_name": "Python 3 (ipykernel)",
   "language": "python",
   "name": "python3"
  }
 },
 "nbformat": 4,
 "nbformat_minor": 5
}
