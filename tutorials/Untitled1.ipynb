{
 "cells": [
  {
   "cell_type": "code",
   "execution_count": null,
   "id": "9faeadfc",
   "metadata": {},
   "outputs": [],
   "source": [
    "from fastcore.basics import *"
   ]
  },
  {
   "cell_type": "code",
   "execution_count": null,
   "id": "2675aa73",
   "metadata": {},
   "outputs": [],
   "source": [
    "class A:\n",
    "    pass"
   ]
  },
  {
   "cell_type": "code",
   "execution_count": null,
   "id": "d8122cde",
   "metadata": {},
   "outputs": [],
   "source": [
    "@patch\n",
    "def stores_info(self: A): self.id = 1"
   ]
  },
  {
   "cell_type": "code",
   "execution_count": null,
   "id": "d86568e5",
   "metadata": {},
   "outputs": [],
   "source": [
    "a = A()"
   ]
  },
  {
   "cell_type": "code",
   "execution_count": null,
   "id": "3bc8a280",
   "metadata": {},
   "outputs": [],
   "source": [
    "a.stores_info()"
   ]
  },
  {
   "cell_type": "code",
   "execution_count": null,
   "id": "2cf69cbc",
   "metadata": {},
   "outputs": [
    {
     "data": {
      "text/plain": [
       "1"
      ]
     },
     "execution_count": null,
     "metadata": {},
     "output_type": "execute_result"
    }
   ],
   "source": [
    "a.id"
   ]
  },
  {
   "cell_type": "markdown",
   "id": "634e26f6",
   "metadata": {},
   "source": [
    "### Sympy"
   ]
  },
  {
   "cell_type": "code",
   "execution_count": null,
   "id": "b8e85153",
   "metadata": {},
   "outputs": [],
   "source": [
    "from fastcore.basics import *"
   ]
  },
  {
   "cell_type": "code",
   "execution_count": null,
   "id": "580cf175",
   "metadata": {},
   "outputs": [],
   "source": [
    "import sympy\n",
    "import sympy as smp"
   ]
  },
  {
   "cell_type": "code",
   "execution_count": null,
   "id": "b7f95e09",
   "metadata": {},
   "outputs": [],
   "source": [
    "# @patch\n",
    "# def __getatrr__(self: sympy.core.symbol.Symbol):\n",
    "#     return 222"
   ]
  },
  {
   "cell_type": "code",
   "execution_count": null,
   "id": "b442732e",
   "metadata": {},
   "outputs": [],
   "source": [
    "sympy.Symbol.__slots__ = ('name', '_data')"
   ]
  },
  {
   "cell_type": "code",
   "execution_count": null,
   "id": "1416b4b5",
   "metadata": {},
   "outputs": [],
   "source": [
    "z = sympy.Symbol('z')"
   ]
  },
  {
   "cell_type": "code",
   "execution_count": null,
   "id": "c1c5739a",
   "metadata": {},
   "outputs": [
    {
     "data": {
      "text/latex": [
       "$\\displaystyle z$"
      ],
      "text/plain": [
       "z"
      ]
     },
     "execution_count": null,
     "metadata": {},
     "output_type": "execute_result"
    }
   ],
   "source": [
    "z"
   ]
  },
  {
   "cell_type": "code",
   "execution_count": null,
   "id": "c70b56c6",
   "metadata": {},
   "outputs": [
    {
     "ename": "AttributeError",
     "evalue": "'Symbol' object has no attribute '_data'",
     "output_type": "error",
     "traceback": [
      "\u001b[0;31m---------------------------------------------------------------------------\u001b[0m",
      "\u001b[0;31mAttributeError\u001b[0m                            Traceback (most recent call last)",
      "Input \u001b[0;32mIn [56]\u001b[0m, in \u001b[0;36m<cell line: 1>\u001b[0;34m()\u001b[0m\n\u001b[0;32m----> 1\u001b[0m \u001b[43mz\u001b[49m\u001b[38;5;241;43m.\u001b[39;49m\u001b[43m_data\u001b[49m\n",
      "\u001b[0;31mAttributeError\u001b[0m: 'Symbol' object has no attribute '_data'"
     ]
    }
   ],
   "source": [
    "z._data"
   ]
  },
  {
   "cell_type": "code",
   "execution_count": null,
   "id": "2263fa66-12de-4533-9e11-fd3abfca3523",
   "metadata": {},
   "outputs": [],
   "source": [
    "δ = 1"
   ]
  },
  {
   "cell_type": "code",
   "execution_count": null,
   "id": "613d545d-f4f7-4270-b497-fba228483ab1",
   "metadata": {},
   "outputs": [
    {
     "data": {
      "text/plain": [
       "1"
      ]
     },
     "execution_count": null,
     "metadata": {},
     "output_type": "execute_result"
    }
   ],
   "source": [
    "δ"
   ]
  },
  {
   "cell_type": "code",
   "execution_count": null,
   "id": "afd35051-5161-48a5-9798-6ca49c3ef7e3",
   "metadata": {},
   "outputs": [
    {
     "data": {
      "text/latex": [
       "$\\displaystyle \\sum x$"
      ],
      "text/plain": [
       "\\sum x"
      ]
     },
     "execution_count": null,
     "metadata": {},
     "output_type": "execute_result"
    }
   ],
   "source": [
    "smp.Symbol('\\sum x')"
   ]
  },
  {
   "cell_type": "code",
   "execution_count": null,
   "id": "dc990989",
   "metadata": {},
   "outputs": [],
   "source": [
    "class Dynamic(sympy.Symbol):\n",
    "    \n",
    "    def stores_info(self, id):\n",
    "        self.id = id"
   ]
  },
  {
   "cell_type": "code",
   "execution_count": null,
   "id": "9552f3fd",
   "metadata": {},
   "outputs": [],
   "source": [
    "y = Dynamic('y')"
   ]
  },
  {
   "cell_type": "code",
   "execution_count": null,
   "id": "e67972e4",
   "metadata": {},
   "outputs": [
    {
     "data": {
      "text/latex": [
       "$\\displaystyle y$"
      ],
      "text/plain": [
       "y"
      ]
     },
     "execution_count": null,
     "metadata": {},
     "output_type": "execute_result"
    }
   ],
   "source": [
    "y"
   ]
  },
  {
   "cell_type": "code",
   "execution_count": null,
   "id": "a3795f6c",
   "metadata": {},
   "outputs": [],
   "source": [
    "y.stores_info(2)"
   ]
  },
  {
   "cell_type": "code",
   "execution_count": null,
   "id": "53dc026b",
   "metadata": {},
   "outputs": [
    {
     "data": {
      "text/latex": [
       "$\\displaystyle y$"
      ],
      "text/plain": [
       "y"
      ]
     },
     "execution_count": null,
     "metadata": {},
     "output_type": "execute_result"
    }
   ],
   "source": [
    "y"
   ]
  },
  {
   "cell_type": "code",
   "execution_count": null,
   "id": "40870e24",
   "metadata": {},
   "outputs": [],
   "source": [
    "y2 = Dynamic('y')"
   ]
  },
  {
   "cell_type": "code",
   "execution_count": null,
   "id": "249c9be5",
   "metadata": {},
   "outputs": [
    {
     "data": {
      "text/plain": [
       "True"
      ]
     },
     "execution_count": null,
     "metadata": {},
     "output_type": "execute_result"
    }
   ],
   "source": [
    "y == y2"
   ]
  },
  {
   "cell_type": "code",
   "execution_count": null,
   "id": "b4d05278",
   "metadata": {},
   "outputs": [],
   "source": [
    "x = sympy.Symbol('x')"
   ]
  },
  {
   "cell_type": "code",
   "execution_count": null,
   "id": "e187cea4",
   "metadata": {},
   "outputs": [],
   "source": [
    "@patch\n",
    "def stores_info(self: sympy.core.symbol.Symbol):\n",
    "    return set_trace(self, 'id')"
   ]
  },
  {
   "cell_type": "code",
   "execution_count": null,
   "id": "184656c1",
   "metadata": {},
   "outputs": [],
   "source": [
    "# @patch\n",
    "# def __getattr__(self: sympy.core.symbol.Symbol, k):\n",
    "#     return 1"
   ]
  },
  {
   "cell_type": "code",
   "execution_count": null,
   "id": "0ee63341",
   "metadata": {},
   "outputs": [],
   "source": [
    "# @patch\n",
    "# def __setattr__(self: sympy.core.symbol.Symbol, k):\n",
    "#     return 1"
   ]
  },
  {
   "cell_type": "code",
   "execution_count": null,
   "id": "3170bd78",
   "metadata": {},
   "outputs": [
    {
     "data": {
      "text/latex": [
       "$\\displaystyle x$"
      ],
      "text/plain": [
       "x"
      ]
     },
     "execution_count": null,
     "metadata": {},
     "output_type": "execute_result"
    }
   ],
   "source": [
    "x"
   ]
  },
  {
   "cell_type": "code",
   "execution_count": null,
   "id": "be4f2dac",
   "metadata": {},
   "outputs": [
    {
     "data": {
      "text/plain": [
       "False"
      ]
     },
     "execution_count": null,
     "metadata": {},
     "output_type": "execute_result"
    }
   ],
   "source": [
    "x.stores_info()"
   ]
  },
  {
   "cell_type": "code",
   "execution_count": null,
   "id": "c9ee20fe",
   "metadata": {},
   "outputs": [
    {
     "ename": "AttributeError",
     "evalue": "type object 'Symbol' has no attribute '__getatrr__'",
     "output_type": "error",
     "traceback": [
      "\u001b[0;31m---------------------------------------------------------------------------\u001b[0m",
      "\u001b[0;31mAttributeError\u001b[0m                            Traceback (most recent call last)",
      "Input \u001b[0;32mIn [11]\u001b[0m, in \u001b[0;36m<cell line: 1>\u001b[0;34m()\u001b[0m\n\u001b[0;32m----> 1\u001b[0m \u001b[43msympy\u001b[49m\u001b[38;5;241;43m.\u001b[39;49m\u001b[43mcore\u001b[49m\u001b[38;5;241;43m.\u001b[39;49m\u001b[43msymbol\u001b[49m\u001b[38;5;241;43m.\u001b[39;49m\u001b[43mSymbol\u001b[49m\u001b[38;5;241;43m.\u001b[39;49m\u001b[43m__getatrr__\u001b[49m\n",
      "\u001b[0;31mAttributeError\u001b[0m: type object 'Symbol' has no attribute '__getatrr__'"
     ]
    }
   ],
   "source": [
    "sympy.core.symbol.Symbol.__getatrr__"
   ]
  },
  {
   "cell_type": "code",
   "execution_count": null,
   "id": "ed70d220",
   "metadata": {},
   "outputs": [],
   "source": [
    "sympy.core.symbol.Symbol??"
   ]
  },
  {
   "cell_type": "code",
   "execution_count": null,
   "id": "40c11214",
   "metadata": {},
   "outputs": [
    {
     "data": {
      "text/plain": [
       "(sympy.core.symbol.Symbol,\n",
       " sympy.core.expr.AtomicExpr,\n",
       " sympy.core.basic.Atom,\n",
       " sympy.core.expr.Expr,\n",
       " sympy.logic.boolalg.Boolean,\n",
       " sympy.core.basic.Basic,\n",
       " sympy.printing.defaults.Printable,\n",
       " sympy.core.evalf.EvalfMixin,\n",
       " object)"
      ]
     },
     "execution_count": null,
     "metadata": {},
     "output_type": "execute_result"
    }
   ],
   "source": [
    "sympy.core.symbol.Symbol.__mro__"
   ]
  },
  {
   "cell_type": "code",
   "execution_count": null,
   "id": "e4491580",
   "metadata": {},
   "outputs": [
    {
     "name": "stdout",
     "output_type": "stream",
     "text": [
      "Object `object.__getatrr__` not found.\n"
     ]
    }
   ],
   "source": [
    "object.__getatrr__??"
   ]
  },
  {
   "cell_type": "code",
   "execution_count": null,
   "id": "43ea97f4",
   "metadata": {},
   "outputs": [],
   "source": [
    "class A:\n",
    "    def __getatrr__(self, k):\n",
    "        pass"
   ]
  },
  {
   "cell_type": "code",
   "execution_count": null,
   "id": "be6b25de",
   "metadata": {},
   "outputs": [],
   "source": [
    "A.__getatrr__??"
   ]
  },
  {
   "cell_type": "markdown",
   "id": "1fb30f44",
   "metadata": {},
   "source": [
    "### Symbol"
   ]
  },
  {
   "cell_type": "code",
   "execution_count": null,
   "id": "f2d012f1",
   "metadata": {},
   "outputs": [],
   "source": [
    "class Symbol(smp.Symbol): pass"
   ]
  },
  {
   "cell_type": "code",
   "execution_count": null,
   "id": "248a0c93",
   "metadata": {},
   "outputs": [],
   "source": [
    "class MySymbol(Symbol):\n",
    "    def __new__(cls, name, description=''):\n",
    "        obj = Symbol.__new__(cls, name)\n",
    "        obj.description = description\n",
    "        return obj"
   ]
  },
  {
   "cell_type": "code",
   "execution_count": null,
   "id": "d88678a0",
   "metadata": {},
   "outputs": [],
   "source": [
    "h = MySymbol('h')"
   ]
  },
  {
   "cell_type": "code",
   "execution_count": null,
   "id": "d08868a3",
   "metadata": {},
   "outputs": [
    {
     "data": {
      "text/latex": [
       "$\\displaystyle h + x$"
      ],
      "text/plain": [
       "h + x"
      ]
     },
     "execution_count": null,
     "metadata": {},
     "output_type": "execute_result"
    }
   ],
   "source": [
    "h + smp.symbols('x')"
   ]
  },
  {
   "cell_type": "code",
   "execution_count": null,
   "id": "70a82531",
   "metadata": {},
   "outputs": [],
   "source": []
  },
  {
   "cell_type": "code",
   "execution_count": null,
   "id": "d6ab62c9",
   "metadata": {},
   "outputs": [],
   "source": [
    "h.ss = 2"
   ]
  },
  {
   "cell_type": "code",
   "execution_count": null,
   "id": "9c074401",
   "metadata": {},
   "outputs": [
    {
     "data": {
      "text/latex": [
       "$\\displaystyle h + 1$"
      ],
      "text/plain": [
       "h + 1"
      ]
     },
     "execution_count": null,
     "metadata": {},
     "output_type": "execute_result"
    }
   ],
   "source": [
    "h + 1"
   ]
  },
  {
   "cell_type": "code",
   "execution_count": null,
   "id": "77614ce2",
   "metadata": {},
   "outputs": [
    {
     "data": {
      "text/plain": [
       "2"
      ]
     },
     "execution_count": null,
     "metadata": {},
     "output_type": "execute_result"
    }
   ],
   "source": [
    "h.ss"
   ]
  },
  {
   "cell_type": "code",
   "execution_count": null,
   "id": "598047fb",
   "metadata": {},
   "outputs": [],
   "source": [
    "from sympy.core.symbol import Symbol\n",
    "class State(Symbol):\n",
    "    def __init__(self, boolean_attr):\n",
    "        self.boolean_attr = boolean_attr\n",
    "        super()"
   ]
  },
  {
   "cell_type": "code",
   "execution_count": null,
   "id": "8afeb179",
   "metadata": {},
   "outputs": [],
   "source": [
    "kkk = State('o')"
   ]
  },
  {
   "cell_type": "code",
   "execution_count": null,
   "id": "b9ef799e",
   "metadata": {},
   "outputs": [
    {
     "data": {
      "text/latex": [
       "$\\displaystyle o$"
      ],
      "text/plain": [
       "o"
      ]
     },
     "execution_count": null,
     "metadata": {},
     "output_type": "execute_result"
    }
   ],
   "source": [
    "kkk"
   ]
  },
  {
   "cell_type": "code",
   "execution_count": null,
   "id": "5cdb3dfe",
   "metadata": {},
   "outputs": [],
   "source": []
  }
 ],
 "metadata": {
  "kernelspec": {
   "display_name": "Python 3 (ipykernel)",
   "language": "python",
   "name": "python3"
  }
 },
 "nbformat": 4,
 "nbformat_minor": 5
}
