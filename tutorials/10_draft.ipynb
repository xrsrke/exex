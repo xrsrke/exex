{
 "cells": [
  {
   "cell_type": "code",
   "execution_count": 2,
   "id": "f360c837-1b07-4c99-acb4-9f786c67650f",
   "metadata": {},
   "outputs": [
    {
     "ename": "NameError",
     "evalue": "name 'PropertyObservable' is not defined",
     "output_type": "error",
     "traceback": [
      "\u001b[0;31m---------------------------------------------------------------------------\u001b[0m",
      "\u001b[0;31mNameError\u001b[0m                                 Traceback (most recent call last)",
      "\u001b[1;32m/Users/study/DATA/projects/chemistry/exex/tutorials/10_draft.ipynb Cell 1\u001b[0m in \u001b[0;36m<cell line: 2>\u001b[0;34m()\u001b[0m\n\u001b[1;32m      <a href='vscode-notebook-cell:/Users/study/DATA/projects/chemistry/exex/tutorials/10_draft.ipynb#W0sZmlsZQ%3D%3D?line=0'>1</a>\u001b[0m \u001b[39mfrom\u001b[39;00m \u001b[39mexex\u001b[39;00m\u001b[39m.\u001b[39;00m\u001b[39mcore\u001b[39;00m \u001b[39mimport\u001b[39;00m \u001b[39m*\u001b[39m\n\u001b[0;32m----> <a href='vscode-notebook-cell:/Users/study/DATA/projects/chemistry/exex/tutorials/10_draft.ipynb#W0sZmlsZQ%3D%3D?line=1'>2</a>\u001b[0m \u001b[39mfrom\u001b[39;00m \u001b[39mexex\u001b[39;00m\u001b[39m.\u001b[39;00m\u001b[39mcompound\u001b[39;00m\u001b[39m.\u001b[39;00m\u001b[39mgas\u001b[39;00m \u001b[39mimport\u001b[39;00m \u001b[39m*\u001b[39m\n\u001b[1;32m      <a href='vscode-notebook-cell:/Users/study/DATA/projects/chemistry/exex/tutorials/10_draft.ipynb#W0sZmlsZQ%3D%3D?line=2'>3</a>\u001b[0m \u001b[39mfrom\u001b[39;00m \u001b[39mexex\u001b[39;00m\u001b[39m.\u001b[39;00m\u001b[39mreaction\u001b[39;00m\u001b[39m.\u001b[39;00m\u001b[39mcore\u001b[39;00m \u001b[39mimport\u001b[39;00m \u001b[39m*\u001b[39m\n",
      "File \u001b[0;32m~/DATA/projects/chemistry/exex/exex/compound/gas.py:14\u001b[0m, in \u001b[0;36m<module>\u001b[0;34m\u001b[0m\n\u001b[1;32m     11\u001b[0m \u001b[39mfrom\u001b[39;00m \u001b[39m.\u001b[39;00m\u001b[39mcore\u001b[39;00m \u001b[39mimport\u001b[39;00m \u001b[39m*\u001b[39m\n\u001b[1;32m     13\u001b[0m \u001b[39m# %% ../../nbs/01_compound.gas.ipynb 6\u001b[39;00m\n\u001b[0;32m---> 14\u001b[0m \u001b[39mclass\u001b[39;00m \u001b[39mIdealGasConstant\u001b[39;00m(PropertyObservable):\n\u001b[1;32m     15\u001b[0m     \u001b[39mdef\u001b[39;00m \u001b[39m__init__\u001b[39m(\u001b[39mself\u001b[39m, compound):\n\u001b[1;32m     16\u001b[0m         \u001b[39mself\u001b[39m\u001b[39m.\u001b[39mabbreviate \u001b[39m=\u001b[39m \u001b[39m'\u001b[39m\u001b[39mR\u001b[39m\u001b[39m'\u001b[39m\n",
      "\u001b[0;31mNameError\u001b[0m: name 'PropertyObservable' is not defined"
     ]
    }
   ],
   "source": [
    "from exex.core import *\n",
    "from exex.compound.gas import *\n",
    "from exex.reaction.core import *"
   ]
  },
  {
   "cell_type": "code",
   "execution_count": null,
   "id": "ed30d61b-7af8-4b4c-b5a3-ae2c898b4637",
   "metadata": {},
   "outputs": [],
   "source": [
    "H2 = Gas('H2')"
   ]
  },
  {
   "cell_type": "code",
   "execution_count": null,
   "id": "57ea282f-6395-418a-9a79-8878a7bc8dbd",
   "metadata": {},
   "outputs": [],
   "source": [
    "H2.properties['volume'].add_data(1, 3.24)"
   ]
  },
  {
   "cell_type": "code",
   "execution_count": null,
   "id": "9e2343a3-4eed-44d7-8736-4b3937392a4d",
   "metadata": {},
   "outputs": [],
   "source": [
    "H2.properties['pressure'].add_data(2, 24.3)"
   ]
  },
  {
   "cell_type": "code",
   "execution_count": null,
   "id": "16a6558e-493f-48dd-a1ae-376037be5593",
   "metadata": {},
   "outputs": [],
   "source": [
    "H2.properties['temperature'].add_data(2, 25)\n",
    "H2.properties['temperature'].add_data(1, 31)\n",
    "H2.properties['temperature'].add_data(5, 41.2)"
   ]
  },
  {
   "cell_type": "code",
   "execution_count": null,
   "id": "3bf98ce8-605f-42b9-b11a-b7e525f60849",
   "metadata": {},
   "outputs": [
    {
     "data": {
      "text/html": [
       "<div>\n",
       "<style scoped>\n",
       "    .dataframe tbody tr th:only-of-type {\n",
       "        vertical-align: middle;\n",
       "    }\n",
       "\n",
       "    .dataframe tbody tr th {\n",
       "        vertical-align: top;\n",
       "    }\n",
       "\n",
       "    .dataframe thead th {\n",
       "        text-align: right;\n",
       "    }\n",
       "</style>\n",
       "<table border=\"1\" class=\"dataframe\">\n",
       "  <thead>\n",
       "    <tr style=\"text-align: right;\">\n",
       "      <th></th>\n",
       "      <th>mass</th>\n",
       "      <th>mole</th>\n",
       "      <th>pressure</th>\n",
       "      <th>volume</th>\n",
       "      <th>temperature</th>\n",
       "      <th>is_ideal_gas</th>\n",
       "    </tr>\n",
       "    <tr>\n",
       "      <th>Time</th>\n",
       "      <th></th>\n",
       "      <th></th>\n",
       "      <th></th>\n",
       "      <th></th>\n",
       "      <th></th>\n",
       "      <th></th>\n",
       "    </tr>\n",
       "  </thead>\n",
       "  <tbody>\n",
       "    <tr>\n",
       "      <th>1</th>\n",
       "      <td>NaN</td>\n",
       "      <td>NaN</td>\n",
       "      <td>NaN</td>\n",
       "      <td>{'value': 3.24}</td>\n",
       "      <td>{'value': 31}</td>\n",
       "      <td>NaN</td>\n",
       "    </tr>\n",
       "    <tr>\n",
       "      <th>2</th>\n",
       "      <td>NaN</td>\n",
       "      <td>NaN</td>\n",
       "      <td>{'value': 24.3}</td>\n",
       "      <td>NaN</td>\n",
       "      <td>{'value': 25}</td>\n",
       "      <td>NaN</td>\n",
       "    </tr>\n",
       "    <tr>\n",
       "      <th>5</th>\n",
       "      <td>NaN</td>\n",
       "      <td>NaN</td>\n",
       "      <td>NaN</td>\n",
       "      <td>NaN</td>\n",
       "      <td>{'value': 41.2}</td>\n",
       "      <td>NaN</td>\n",
       "    </tr>\n",
       "  </tbody>\n",
       "</table>\n",
       "</div>"
      ],
      "text/plain": [
       "      mass  mole         pressure           volume      temperature  \\\n",
       "Time                                                                  \n",
       "1      NaN   NaN              NaN  {'value': 3.24}    {'value': 31}   \n",
       "2      NaN   NaN  {'value': 24.3}              NaN    {'value': 25}   \n",
       "5      NaN   NaN              NaN              NaN  {'value': 41.2}   \n",
       "\n",
       "      is_ideal_gas  \n",
       "Time                \n",
       "1              NaN  \n",
       "2              NaN  \n",
       "5              NaN  "
      ]
     },
     "execution_count": null,
     "metadata": {},
     "output_type": "execute_result"
    }
   ],
   "source": [
    "H2.info()"
   ]
  },
  {
   "cell_type": "code",
   "execution_count": null,
   "id": "a15d77ea-4618-4597-9532-d34b0030ddca",
   "metadata": {},
   "outputs": [
    {
     "data": {
      "text/plain": [
       "{'_is_copy': None,\n",
       " '_mgr': BlockManager\n",
       " Items: Index(['mass', 'mole', 'pressure', 'volume', 'temperature', 'is_ideal_gas'], dtype='object')\n",
       " Axis 1: Int64Index([1, 2, 5], dtype='int64', name='Time')\n",
       " NumericBlock: [0 1 5], 3 x 3, dtype: float64\n",
       " ObjectBlock: slice(2, 5, 1), 3 x 3, dtype: object,\n",
       " '_item_cache': {},\n",
       " '_attrs': {},\n",
       " '_flags': <Flags(allows_duplicate_labels=True)>}"
      ]
     },
     "execution_count": null,
     "metadata": {},
     "output_type": "execute_result"
    }
   ],
   "source": [
    "H2.info().__dict__"
   ]
  },
  {
   "cell_type": "code",
   "execution_count": null,
   "id": "c218e7f2-8721-4fc9-a988-edc904a2728c",
   "metadata": {},
   "outputs": [
    {
     "data": {
      "text/plain": [
       "{'abbreviate': 'm',\n",
       " 'unit': 'kilogram',\n",
       " '_data': {},\n",
       " 'compound': <exex.compound.gas.Gas>,\n",
       " '_connections': [],\n",
       " 'laws': {'mass_mole_ratio': <exex.compound.core.MassMoleRatio>},\n",
       " 'func_changed': [],\n",
       " 'symbol': m}"
      ]
     },
     "execution_count": null,
     "metadata": {},
     "output_type": "execute_result"
    }
   ],
   "source": [
    "H2.properties['mass'].__dict__"
   ]
  },
  {
   "cell_type": "code",
   "execution_count": null,
   "id": "ee99e1b8-c8f8-4d46-9668-9f0cf67f87ba",
   "metadata": {},
   "outputs": [
    {
     "data": {
      "text/plain": [
       "{'abbreviate': 'V',\n",
       " 'unit': 'liter',\n",
       " '_data': {1: {'value': 3.24}},\n",
       " 'compound': <exex.compound.gas.Gas>,\n",
       " '_connections': [],\n",
       " 'laws': {'boyle_law': <exex.compound.gas.BoyleLaw>,\n",
       "  'charles_law': <exex.compound.gas.CharlesLaw>,\n",
       "  'avogadro_law': <exex.compound.gas.AvogadroLaw>,\n",
       "  'ideal_gas_law': <exex.compound.gas.IdealGasLaw>},\n",
       " 'func_changed': [],\n",
       " 'symbol': V}"
      ]
     },
     "execution_count": null,
     "metadata": {},
     "output_type": "execute_result"
    }
   ],
   "source": [
    "H2.properties['volume'].__dict__"
   ]
  },
  {
   "cell_type": "code",
   "execution_count": null,
   "id": "b9c74889-ad83-4f70-9524-b9610c48a7fd",
   "metadata": {},
   "outputs": [
    {
     "data": {
      "text/plain": [
       "{1: {'value': 3.24}}"
      ]
     },
     "execution_count": null,
     "metadata": {},
     "output_type": "execute_result"
    }
   ],
   "source": [
    "H2.properties['volume']._data"
   ]
  },
  {
   "cell_type": "code",
   "execution_count": null,
   "id": "61e41789-4e80-443d-a2ab-87508a1e13b3",
   "metadata": {},
   "outputs": [],
   "source": [
    "import pandas as pd"
   ]
  },
  {
   "cell_type": "code",
   "execution_count": null,
   "id": "7dca030e-00bb-4366-82ed-28bf26d8360e",
   "metadata": {},
   "outputs": [],
   "source": [
    "dta = {\n",
    "    \"pressure\": {1: 2, 2: 41},\n",
    "    \"volume\": {1: 5},\n",
    "}"
   ]
  },
  {
   "cell_type": "code",
   "execution_count": null,
   "id": "8d550fa7-520e-4965-be49-a85dd0ed2085",
   "metadata": {},
   "outputs": [
    {
     "data": {
      "text/html": [
       "<div>\n",
       "<style scoped>\n",
       "    .dataframe tbody tr th:only-of-type {\n",
       "        vertical-align: middle;\n",
       "    }\n",
       "\n",
       "    .dataframe tbody tr th {\n",
       "        vertical-align: top;\n",
       "    }\n",
       "\n",
       "    .dataframe thead th {\n",
       "        text-align: right;\n",
       "    }\n",
       "</style>\n",
       "<table border=\"1\" class=\"dataframe\">\n",
       "  <thead>\n",
       "    <tr style=\"text-align: right;\">\n",
       "      <th></th>\n",
       "      <th>1</th>\n",
       "    </tr>\n",
       "  </thead>\n",
       "  <tbody>\n",
       "    <tr>\n",
       "      <th>value</th>\n",
       "      <td>3.24</td>\n",
       "    </tr>\n",
       "  </tbody>\n",
       "</table>\n",
       "</div>"
      ],
      "text/plain": [
       "          1\n",
       "value  3.24"
      ]
     },
     "execution_count": null,
     "metadata": {},
     "output_type": "execute_result"
    }
   ],
   "source": [
    "pd.DataFrame(H2.properties['volume']._data)"
   ]
  },
  {
   "cell_type": "code",
   "execution_count": null,
   "id": "8c07ec66-5008-4eaf-b8ce-1643582625fb",
   "metadata": {},
   "outputs": [],
   "source": [
    "df = pd.DataFrame(dta)"
   ]
  },
  {
   "cell_type": "code",
   "execution_count": null,
   "id": "97d9fe88-6a7c-4408-9cb3-9f29a1c6244a",
   "metadata": {},
   "outputs": [],
   "source": [
    "df.index.name = \"Time\""
   ]
  },
  {
   "cell_type": "code",
   "execution_count": null,
   "id": "173bcefa-d541-4592-a165-490d04a87a8a",
   "metadata": {},
   "outputs": [
    {
     "data": {
      "text/html": [
       "<div>\n",
       "<style scoped>\n",
       "    .dataframe tbody tr th:only-of-type {\n",
       "        vertical-align: middle;\n",
       "    }\n",
       "\n",
       "    .dataframe tbody tr th {\n",
       "        vertical-align: top;\n",
       "    }\n",
       "\n",
       "    .dataframe thead th {\n",
       "        text-align: right;\n",
       "    }\n",
       "</style>\n",
       "<table border=\"1\" class=\"dataframe\">\n",
       "  <thead>\n",
       "    <tr style=\"text-align: right;\">\n",
       "      <th></th>\n",
       "      <th>pressure</th>\n",
       "      <th>volume</th>\n",
       "    </tr>\n",
       "    <tr>\n",
       "      <th>Time</th>\n",
       "      <th></th>\n",
       "      <th></th>\n",
       "    </tr>\n",
       "  </thead>\n",
       "  <tbody>\n",
       "    <tr>\n",
       "      <th>1</th>\n",
       "      <td>2</td>\n",
       "      <td>5.0</td>\n",
       "    </tr>\n",
       "    <tr>\n",
       "      <th>2</th>\n",
       "      <td>41</td>\n",
       "      <td>NaN</td>\n",
       "    </tr>\n",
       "  </tbody>\n",
       "</table>\n",
       "</div>"
      ],
      "text/plain": [
       "      pressure  volume\n",
       "Time                  \n",
       "1            2     5.0\n",
       "2           41     NaN"
      ]
     },
     "execution_count": null,
     "metadata": {},
     "output_type": "execute_result"
    }
   ],
   "source": [
    "df"
   ]
  },
  {
   "cell_type": "code",
   "execution_count": null,
   "id": "84515c70-f13e-478f-b70f-8306fff9a946",
   "metadata": {},
   "outputs": [],
   "source": [
    "dta = []"
   ]
  },
  {
   "cell_type": "code",
   "execution_count": null,
   "id": "984e328b-8b4d-458b-908d-41198f810d86",
   "metadata": {},
   "outputs": [
    {
     "name": "stdout",
     "output_type": "stream",
     "text": [
      "mass kilogram\n",
      "mole mole\n",
      "pressure pascal\n",
      "volume liter\n",
      "temperature kelvin\n",
      "is_ideal_gas None\n"
     ]
    }
   ],
   "source": [
    "for k, v in H2.properties.items():\n",
    "    print(k, v.unit)\n",
    "    dta.append({k: v._data})"
   ]
  },
  {
   "cell_type": "code",
   "execution_count": null,
   "id": "7951e952-ab7e-41ab-b467-f8856f030f0a",
   "metadata": {},
   "outputs": [
    {
     "data": {
      "text/plain": [
       "[{'mass': {}},\n",
       " {'mole': {}},\n",
       " {'pressure': {2: {'value': 24.3}}},\n",
       " {'volume': {1: {'value': 3.24}}},\n",
       " {'temperature': {2: {'value': 25}, 1: {'value': 31}, 5: {'value': 41.2}}},\n",
       " {'is_ideal_gas': {}}]"
      ]
     },
     "execution_count": null,
     "metadata": {},
     "output_type": "execute_result"
    }
   ],
   "source": [
    "dta"
   ]
  },
  {
   "cell_type": "code",
   "execution_count": null,
   "id": "af836fa5-55f5-4299-aa81-009a09b71ae3",
   "metadata": {},
   "outputs": [],
   "source": [
    "dta = {}"
   ]
  },
  {
   "cell_type": "code",
   "execution_count": null,
   "id": "0263d40d-960f-4b10-823d-cbcb2513475e",
   "metadata": {},
   "outputs": [
    {
     "data": {
      "text/plain": [
       "{2: {'value': 25}, 1: {'value': 31}, 5: {'value': 41.2}}"
      ]
     },
     "execution_count": null,
     "metadata": {},
     "output_type": "execute_result"
    }
   ],
   "source": [
    "H2.properties['temperature']._data"
   ]
  },
  {
   "cell_type": "code",
   "execution_count": null,
   "id": "e0836faf-8ea6-4eba-bdf3-350be732cbba",
   "metadata": {},
   "outputs": [
    {
     "name": "stdout",
     "output_type": "stream",
     "text": [
      "{}\n",
      "{}\n",
      "{2: {'value': 24.3}}\n",
      "{1: {'value': 3.24}}\n",
      "{2: {'value': 25}, 1: {'value': 31}, 5: {'value': 41.2}}\n",
      "{}\n"
     ]
    }
   ],
   "source": [
    "for k, v in H2.properties.items():\n",
    "    data_point = {}\n",
    "    print(v._data)\n",
    "    dta[k] = v._data"
   ]
  },
  {
   "cell_type": "code",
   "execution_count": null,
   "id": "95889ac8-588d-451e-9805-52f2e6bad95b",
   "metadata": {},
   "outputs": [
    {
     "data": {
      "text/plain": [
       "{'mass': {},\n",
       " 'mole': {},\n",
       " 'pressure': {2: {'value': 24.3}},\n",
       " 'volume': {1: {'value': 3.24}},\n",
       " 'temperature': {2: {'value': 25}, 1: {'value': 31}, 5: {'value': 41.2}},\n",
       " 'is_ideal_gas': {}}"
      ]
     },
     "execution_count": null,
     "metadata": {},
     "output_type": "execute_result"
    }
   ],
   "source": [
    "dta"
   ]
  },
  {
   "cell_type": "code",
   "execution_count": null,
   "id": "4e9c9c93-3ca8-4cf9-a96f-85eee2a895d7",
   "metadata": {},
   "outputs": [],
   "source": [
    "df = pd.DataFrame(dta)"
   ]
  },
  {
   "cell_type": "code",
   "execution_count": null,
   "id": "455c2900-abba-44fd-9e54-512bb33429dd",
   "metadata": {},
   "outputs": [
    {
     "data": {
      "text/html": [
       "<div>\n",
       "<style scoped>\n",
       "    .dataframe tbody tr th:only-of-type {\n",
       "        vertical-align: middle;\n",
       "    }\n",
       "\n",
       "    .dataframe tbody tr th {\n",
       "        vertical-align: top;\n",
       "    }\n",
       "\n",
       "    .dataframe thead th {\n",
       "        text-align: right;\n",
       "    }\n",
       "</style>\n",
       "<table border=\"1\" class=\"dataframe\">\n",
       "  <thead>\n",
       "    <tr style=\"text-align: right;\">\n",
       "      <th></th>\n",
       "      <th>mass</th>\n",
       "    </tr>\n",
       "  </thead>\n",
       "  <tbody>\n",
       "  </tbody>\n",
       "</table>\n",
       "</div>"
      ],
      "text/plain": [
       "Empty DataFrame\n",
       "Columns: [mass]\n",
       "Index: []"
      ]
     },
     "execution_count": null,
     "metadata": {},
     "output_type": "execute_result"
    }
   ],
   "source": [
    "df"
   ]
  },
  {
   "cell_type": "code",
   "execution_count": null,
   "id": "a4a7d221-427b-4188-bb1d-46c88f596f18",
   "metadata": {},
   "outputs": [],
   "source": [
    "df = pd.DataFrame(dta, columns=['mass'])"
   ]
  },
  {
   "cell_type": "code",
   "execution_count": null,
   "id": "b820aa7c-d71b-474a-8164-077f2ada4ca0",
   "metadata": {},
   "outputs": [
    {
     "data": {
      "text/html": [
       "<div>\n",
       "<style scoped>\n",
       "    .dataframe tbody tr th:only-of-type {\n",
       "        vertical-align: middle;\n",
       "    }\n",
       "\n",
       "    .dataframe tbody tr th {\n",
       "        vertical-align: top;\n",
       "    }\n",
       "\n",
       "    .dataframe thead th {\n",
       "        text-align: right;\n",
       "    }\n",
       "</style>\n",
       "<table border=\"1\" class=\"dataframe\">\n",
       "  <thead>\n",
       "    <tr style=\"text-align: right;\">\n",
       "      <th></th>\n",
       "      <th>mass</th>\n",
       "    </tr>\n",
       "  </thead>\n",
       "  <tbody>\n",
       "  </tbody>\n",
       "</table>\n",
       "</div>"
      ],
      "text/plain": [
       "Empty DataFrame\n",
       "Columns: [mass]\n",
       "Index: []"
      ]
     },
     "execution_count": null,
     "metadata": {},
     "output_type": "execute_result"
    }
   ],
   "source": [
    "df"
   ]
  },
  {
   "cell_type": "code",
   "execution_count": null,
   "id": "d46a492f-0295-415f-b9d4-78a8fa40f9f6",
   "metadata": {},
   "outputs": [],
   "source": [
    "from chemlib import Compound, Reaction"
   ]
  },
  {
   "cell_type": "code",
   "execution_count": null,
   "id": "e3e751cc-6ee4-41dd-8883-f255b2777a06",
   "metadata": {},
   "outputs": [],
   "source": [
    "C2 = Compound('C2')"
   ]
  },
  {
   "cell_type": "code",
   "execution_count": null,
   "id": "73afa758-21de-4ac9-bc44-b06004416fbe",
   "metadata": {},
   "outputs": [],
   "source": [
    "O2 = Compound('O2')"
   ]
  },
  {
   "cell_type": "code",
   "execution_count": null,
   "id": "fb373873-b701-4646-8990-5312f74eaa5a",
   "metadata": {},
   "outputs": [],
   "source": [
    "r = Reaction(reactants=[C2, O2], products=[])"
   ]
  },
  {
   "cell_type": "code",
   "execution_count": null,
   "id": "0567946c-cb51-4bfa-b4db-7e0adf7f12ec",
   "metadata": {},
   "outputs": [
    {
     "data": {
      "text/plain": [
       "<chemlib.chemistry.Reaction>"
      ]
     },
     "execution_count": null,
     "metadata": {},
     "output_type": "execute_result"
    }
   ],
   "source": [
    "r"
   ]
  },
  {
   "cell_type": "code",
   "execution_count": null,
   "id": "d6002130-d688-4c11-89d0-6c7a0e68f714",
   "metadata": {},
   "outputs": [
    {
     "data": {
      "text/plain": [
       "{'reactants': [<chemlib.chemistry.Compound>,\n",
       "  <chemlib.chemistry.Compound>],\n",
       " 'products': [],\n",
       " 'compounds': [<chemlib.chemistry.Compound>,\n",
       "  <chemlib.chemistry.Compound>],\n",
       " 'reactant_formulas': ['C₂', 'O₂'],\n",
       " 'product_formulas': [],\n",
       " 'formula': '1C₂ + 1O₂ --> ',\n",
       " 'coefficients': {'C₂': 1, 'O₂': 1},\n",
       " 'constituents': ['C₂', 'O₂'],\n",
       " 'reactant_occurences': {'C': 2, 'O': 2},\n",
       " 'product_occurences': {},\n",
       " 'is_balanced': False}"
      ]
     },
     "execution_count": null,
     "metadata": {},
     "output_type": "execute_result"
    }
   ],
   "source": [
    "r.__dict__"
   ]
  },
  {
   "cell_type": "code",
   "execution_count": null,
   "id": "ca8e6a00-9e05-4cab-9889-a7be46a184fc",
   "metadata": {},
   "outputs": [
    {
     "data": {
      "text/plain": [
       "{'occurences': {'C': 2},\n",
       " 'elements': [<chemlib.chemistry.Element>,\n",
       "  <chemlib.chemistry.Element>],\n",
       " 'formula': 'C₂',\n",
       " 'coefficient': 1}"
      ]
     },
     "execution_count": null,
     "metadata": {},
     "output_type": "execute_result"
    }
   ],
   "source": [
    "r.reactants[0].__dict__"
   ]
  },
  {
   "cell_type": "markdown",
   "id": "6e80c4ad",
   "metadata": {},
   "source": [
    "### "
   ]
  },
  {
   "cell_type": "code",
   "execution_count": null,
   "id": "dd2d47a0",
   "metadata": {},
   "outputs": [],
   "source": [
    "from exex.gas.all import *"
   ]
  },
  {
   "cell_type": "code",
   "execution_count": null,
   "id": "c0c556f0",
   "metadata": {},
   "outputs": [],
   "source": [
    "from fastcore.basics import *"
   ]
  },
  {
   "cell_type": "code",
   "execution_count": null,
   "id": "2630dfa8",
   "metadata": {},
   "outputs": [],
   "source": [
    "@patch(as_prop=True)\n",
    "def hello(self: smp.symbols):\n",
    "    return 'hello'"
   ]
  },
  {
   "cell_type": "code",
   "execution_count": null,
   "id": "50411af7",
   "metadata": {},
   "outputs": [],
   "source": [
    "def base_symbol():\n",
    "    return smp.symbols('x')"
   ]
  },
  {
   "cell_type": "code",
   "execution_count": null,
   "id": "49520a43",
   "metadata": {},
   "outputs": [],
   "source": [
    "@patch(as_prop=True)\n",
    "def info(self: base_symbol):\n",
    "    return 'hello'"
   ]
  },
  {
   "cell_type": "code",
   "execution_count": null,
   "id": "fbd6c709",
   "metadata": {},
   "outputs": [],
   "source": [
    "smp.Eq.__repr__??"
   ]
  },
  {
   "cell_type": "code",
   "execution_count": null,
   "id": "c8929d3b",
   "metadata": {},
   "outputs": [
    {
     "data": {
      "text/latex": [
       "$\\displaystyle x$"
      ],
      "text/plain": [
       "x"
      ]
     },
     "execution_count": null,
     "metadata": {},
     "output_type": "execute_result"
    }
   ],
   "source": [
    "smp.symbols('x')"
   ]
  },
  {
   "cell_type": "code",
   "execution_count": null,
   "id": "0071aa66",
   "metadata": {},
   "outputs": [],
   "source": [
    "smp.symbols??"
   ]
  },
  {
   "cell_type": "code",
   "execution_count": null,
   "id": "f970cce5",
   "metadata": {},
   "outputs": [],
   "source": [
    "class BaseSymbol:\n",
    "    def __init__(self, x):\n",
    "        self.symbol = x\n",
    "    \n",
    "    def __repr__(self):\n",
    "        from sympy.printing.str import sstr\n",
    "        return sstr(smp.symbols('x'), order=None)\n",
    "    \n",
    "    def __str__(self):\n",
    "        return self.symbol"
   ]
  },
  {
   "cell_type": "code",
   "execution_count": null,
   "id": "c974da6f",
   "metadata": {},
   "outputs": [
    {
     "ename": "NameError",
     "evalue": "name 'x' is not defined",
     "output_type": "error",
     "traceback": [
      "\u001b[0;31m---------------------------------------------------------------------------\u001b[0m",
      "\u001b[0;31mNameError\u001b[0m                                 Traceback (most recent call last)",
      "Input \u001b[0;32mIn [10]\u001b[0m, in \u001b[0;36m<cell line: 1>\u001b[0;34m()\u001b[0m\n\u001b[0;32m----> 1\u001b[0m b1 \u001b[38;5;241m=\u001b[39m BaseSymbol(\u001b[43mx\u001b[49m)\n",
      "\u001b[0;31mNameError\u001b[0m: name 'x' is not defined"
     ]
    }
   ],
   "source": [
    "b1 = BaseSymbol(x)"
   ]
  },
  {
   "cell_type": "code",
   "execution_count": null,
   "id": "031d974c",
   "metadata": {},
   "outputs": [],
   "source": [
    "b1"
   ]
  },
  {
   "cell_type": "code",
   "execution_count": null,
   "id": "ab64483f",
   "metadata": {},
   "outputs": [],
   "source": [
    "b1.symbol"
   ]
  },
  {
   "cell_type": "code",
   "execution_count": null,
   "id": "af4158c2",
   "metadata": {},
   "outputs": [],
   "source": []
  },
  {
   "cell_type": "markdown",
   "id": "0f1c74ab",
   "metadata": {},
   "source": [
    "### Total"
   ]
  },
  {
   "cell_type": "code",
   "execution_count": null,
   "id": "f646a270",
   "metadata": {},
   "outputs": [],
   "source": [
    "CO2, H2O, O2, C6H12O6 = Gas('CO2'), Gas('H2O'), Gas('O2'), Gas('C6H1206')"
   ]
  },
  {
   "cell_type": "code",
   "execution_count": null,
   "id": "6b2f1782",
   "metadata": {},
   "outputs": [
    {
     "data": {
      "text/latex": [
       "$\\displaystyle m_{CO2-2}$"
      ],
      "text/plain": [
       "m_CO2-2"
      ]
     },
     "execution_count": null,
     "metadata": {},
     "output_type": "execute_result"
    }
   ],
   "source": [
    "CO2.get_prop('mass', t=2)"
   ]
  },
  {
   "cell_type": "code",
   "execution_count": null,
   "id": "38464a17",
   "metadata": {},
   "outputs": [],
   "source": [
    "r = Reaction(reactants=[CO2, H2O], products=[O2, C6H12O6])"
   ]
  },
  {
   "cell_type": "code",
   "execution_count": null,
   "id": "622f0014",
   "metadata": {},
   "outputs": [
    {
     "data": {
      "text/plain": [
       "(#2) [Compound(C₁O₂),Compound(H₂O₁)]"
      ]
     },
     "execution_count": null,
     "metadata": {},
     "output_type": "execute_result"
    }
   ],
   "source": [
    "r.reactants"
   ]
  },
  {
   "cell_type": "code",
   "execution_count": null,
   "id": "a5fcee5f",
   "metadata": {},
   "outputs": [],
   "source": [
    "def total_property(compounds):\n",
    "    d = dict()\n",
    "    props = []\n",
    "    for compound in compounds:\n",
    "        props.append(compound.get_prop('mass', t=2))\n",
    "    \n",
    "    #total = smp.symbols('m_total\\,\\ 2')\n",
    "    #return total\n",
    "    #return smp.Eq(total, prop_sum)\n",
    "    return smp.Add(*props)"
   ]
  },
  {
   "cell_type": "code",
   "execution_count": null,
   "id": "2d540cd5",
   "metadata": {},
   "outputs": [
    {
     "data": {
      "text/plain": [
       "(#2) [Compound(C₁O₂),Compound(H₂O₁)]"
      ]
     },
     "execution_count": null,
     "metadata": {},
     "output_type": "execute_result"
    }
   ],
   "source": [
    "r.reactants"
   ]
  },
  {
   "cell_type": "code",
   "execution_count": null,
   "id": "4bda52de",
   "metadata": {},
   "outputs": [],
   "source": [
    "properties = total_property(r.reactants)"
   ]
  },
  {
   "cell_type": "code",
   "execution_count": null,
   "id": "89c62fe7",
   "metadata": {},
   "outputs": [
    {
     "data": {
      "text/latex": [
       "$\\displaystyle m_{CO2-2} + m_{H2O-2}$"
      ],
      "text/plain": [
       "m_CO2-2 + m_H2O-2"
      ]
     },
     "execution_count": null,
     "metadata": {},
     "output_type": "execute_result"
    }
   ],
   "source": [
    "properties"
   ]
  },
  {
   "cell_type": "code",
   "execution_count": null,
   "id": "29fabe03",
   "metadata": {},
   "outputs": [],
   "source": [
    "x = properties.lhs"
   ]
  },
  {
   "cell_type": "code",
   "execution_count": null,
   "id": "8c033576",
   "metadata": {},
   "outputs": [],
   "source": [
    "y = properties.rhs"
   ]
  },
  {
   "cell_type": "code",
   "execution_count": null,
   "id": "50f0f5ff",
   "metadata": {},
   "outputs": [
    {
     "data": {
      "text/latex": [
       "$\\displaystyle m_{total, 2}$"
      ],
      "text/plain": [
       "m_total, 2"
      ]
     },
     "execution_count": null,
     "metadata": {},
     "output_type": "execute_result"
    }
   ],
   "source": [
    "x"
   ]
  },
  {
   "cell_type": "code",
   "execution_count": null,
   "id": "8441d687",
   "metadata": {},
   "outputs": [
    {
     "data": {
      "text/latex": [
       "$\\displaystyle 0 + m_{CO2, 2} + m_{H2O, 2}$"
      ],
      "text/plain": [
       "0 + m_CO2, 2 + m_H2O, 2"
      ]
     },
     "execution_count": null,
     "metadata": {},
     "output_type": "execute_result"
    }
   ],
   "source": [
    "y"
   ]
  },
  {
   "cell_type": "code",
   "execution_count": null,
   "id": "ce61c47d",
   "metadata": {},
   "outputs": [],
   "source": [
    "formula = 'H₂O'"
   ]
  },
  {
   "cell_type": "code",
   "execution_count": null,
   "id": "93a997c9",
   "metadata": {},
   "outputs": [],
   "source": [
    "abbre = 'm'"
   ]
  },
  {
   "cell_type": "code",
   "execution_count": null,
   "id": "42021058",
   "metadata": {},
   "outputs": [],
   "source": [
    "t = 2"
   ]
  },
  {
   "cell_type": "code",
   "execution_count": null,
   "id": "2f6c4245",
   "metadata": {},
   "outputs": [
    {
     "data": {
      "text/latex": [
       "$\\displaystyle m_{H₂O, 2}$"
      ],
      "text/plain": [
       "m_H₂O, 2"
      ]
     },
     "execution_count": null,
     "metadata": {},
     "output_type": "execute_result"
    }
   ],
   "source": [
    "smp.symbols(f\"{abbre}_{formula}\\,\\ {t}\")"
   ]
  },
  {
   "cell_type": "code",
   "execution_count": null,
   "id": "c3ca68ee",
   "metadata": {},
   "outputs": [
    {
     "data": {
      "text/plain": [
       "'H₂O₁'"
      ]
     },
     "execution_count": null,
     "metadata": {},
     "output_type": "execute_result"
    }
   ],
   "source": [
    "H2O.formula"
   ]
  },
  {
   "cell_type": "code",
   "execution_count": null,
   "id": "562fa615",
   "metadata": {},
   "outputs": [
    {
     "data": {
      "text/latex": [
       "$\\displaystyle m_{H2O-2}$"
      ],
      "text/plain": [
       "m_H2O-2"
      ]
     },
     "execution_count": null,
     "metadata": {},
     "output_type": "execute_result"
    }
   ],
   "source": [
    "smp.symbols(f\"{abbre}_H2O-{t}\")"
   ]
  },
  {
   "cell_type": "code",
   "execution_count": null,
   "id": "e7b712fc",
   "metadata": {},
   "outputs": [
    {
     "data": {
      "text/plain": [
       "'H2O'"
      ]
     },
     "execution_count": null,
     "metadata": {},
     "output_type": "execute_result"
    }
   ],
   "source": [
    "H2O.snake_name"
   ]
  },
  {
   "cell_type": "code",
   "execution_count": null,
   "id": "d973311e",
   "metadata": {},
   "outputs": [
    {
     "data": {
      "text/latex": [
       "$1e_1 + 0e_2 + 0e_3$"
      ],
      "text/plain": [
       "1e_1 + 0e_2 + 0e_3"
      ]
     },
     "metadata": {},
     "output_type": "display_data"
    }
   ],
   "source": [
    "import sympy as s\n",
    "\n",
    "class vector:\n",
    "    def __init__(self, _coordinates, _basis):\n",
    "        self.coordinates = _coordinates\n",
    "        self.basis = _basis\n",
    "    def __repr__(self):\n",
    "        string = ''\n",
    "        for k in range(len(self.basis)):\n",
    "            string += '{}{} + '.format(self.coordinates[k], self.basis[k])            \n",
    "        return string[:-3]\n",
    "    def _repr_latex_(self):\n",
    "        string = self.__repr__()\n",
    "        string = '$' + string + '$'\n",
    "        return string\n",
    "\n",
    "e1, e2, e3 = s.symbols('e_1 e_2 e_3')\n",
    "v = vector([1, 0, 0], [e1, e2, e3])\n",
    "display(v)"
   ]
  },
  {
   "cell_type": "code",
   "execution_count": null,
   "id": "1742241b",
   "metadata": {},
   "outputs": [],
   "source": [
    "import sympy as smp\n",
    "import sympy"
   ]
  },
  {
   "cell_type": "code",
   "execution_count": null,
   "id": "c6b8af60",
   "metadata": {},
   "outputs": [
    {
     "data": {
      "text/plain": [
       "<function sympy.core.symbol.symbols(names, *, cls=<class 'sympy.core.symbol.Symbol'>, **args) -> 'Any'>"
      ]
     },
     "execution_count": null,
     "metadata": {},
     "output_type": "execute_result"
    }
   ],
   "source": [
    "smp.symbols"
   ]
  },
  {
   "cell_type": "code",
   "execution_count": null,
   "id": "9267ff73",
   "metadata": {},
   "outputs": [
    {
     "data": {
      "text/plain": [
       "sympy.core.symbol.Symbol"
      ]
     },
     "execution_count": null,
     "metadata": {},
     "output_type": "execute_result"
    }
   ],
   "source": [
    "type(smp.symbols('x'))"
   ]
  },
  {
   "cell_type": "code",
   "execution_count": null,
   "id": "6a9e40c2",
   "metadata": {},
   "outputs": [],
   "source": [
    "sympy.core.symbol.Symbol??"
   ]
  },
  {
   "cell_type": "code",
   "execution_count": null,
   "id": "170f680b",
   "metadata": {},
   "outputs": [],
   "source": [
    "from sympy import Symbol"
   ]
  },
  {
   "cell_type": "code",
   "execution_count": null,
   "id": "283d0043",
   "metadata": {},
   "outputs": [],
   "source": [
    "@patch\n",
    "def stores_info(self: sympy.core.symbol.Symbol):\n",
    "    self.compound = 1111\n",
    "    #return self"
   ]
  },
  {
   "cell_type": "code",
   "execution_count": null,
   "id": "e95a4d30",
   "metadata": {},
   "outputs": [],
   "source": [
    "@patch()\n",
    "def hello(self: sympy.core.symbol.Symbol): return 'hello'"
   ]
  },
  {
   "cell_type": "code",
   "execution_count": null,
   "id": "ae3716e9",
   "metadata": {},
   "outputs": [],
   "source": [
    "x = smp.Symbol('x')"
   ]
  },
  {
   "cell_type": "code",
   "execution_count": null,
   "id": "cb0fa64a",
   "metadata": {},
   "outputs": [
    {
     "ename": "AttributeError",
     "evalue": "'Symbol' object has no attribute 'compound'",
     "output_type": "error",
     "traceback": [
      "\u001b[0;31m---------------------------------------------------------------------------\u001b[0m",
      "\u001b[0;31mAttributeError\u001b[0m                            Traceback (most recent call last)",
      "Input \u001b[0;32mIn [149]\u001b[0m, in \u001b[0;36m<cell line: 1>\u001b[0;34m()\u001b[0m\n\u001b[0;32m----> 1\u001b[0m \u001b[43mx\u001b[49m\u001b[38;5;241;43m.\u001b[39;49m\u001b[43mstores_info\u001b[49m\u001b[43m(\u001b[49m\u001b[43m)\u001b[49m\n",
      "Input \u001b[0;32mIn [146]\u001b[0m, in \u001b[0;36mstores_info\u001b[0;34m(self)\u001b[0m\n\u001b[1;32m      1\u001b[0m \u001b[38;5;129m@patch\u001b[39m\n\u001b[1;32m      2\u001b[0m \u001b[38;5;28;01mdef\u001b[39;00m \u001b[38;5;21mstores_info\u001b[39m(\u001b[38;5;28mself\u001b[39m: sympy\u001b[38;5;241m.\u001b[39mcore\u001b[38;5;241m.\u001b[39msymbol\u001b[38;5;241m.\u001b[39mSymbol):\n\u001b[0;32m----> 3\u001b[0m     \u001b[38;5;28mself\u001b[39m\u001b[38;5;241m.\u001b[39mcompound \u001b[38;5;241m=\u001b[39m \u001b[38;5;241m1111\u001b[39m\n",
      "\u001b[0;31mAttributeError\u001b[0m: 'Symbol' object has no attribute 'compound'"
     ]
    }
   ],
   "source": [
    "x.stores_info()"
   ]
  },
  {
   "cell_type": "code",
   "execution_count": null,
   "id": "53420621",
   "metadata": {},
   "outputs": [
    {
     "ename": "AttributeError",
     "evalue": "module 'sympy.core.symbol' has no attribute 'Symbo'",
     "output_type": "error",
     "traceback": [
      "\u001b[0;31m---------------------------------------------------------------------------\u001b[0m",
      "\u001b[0;31mAttributeError\u001b[0m                            Traceback (most recent call last)",
      "Input \u001b[0;32mIn [145]\u001b[0m, in \u001b[0;36m<cell line: 1>\u001b[0;34m()\u001b[0m\n\u001b[0;32m----> 1\u001b[0m \u001b[43msympy\u001b[49m\u001b[38;5;241;43m.\u001b[39;49m\u001b[43mcore\u001b[49m\u001b[38;5;241;43m.\u001b[39;49m\u001b[43msymbol\u001b[49m\u001b[38;5;241;43m.\u001b[39;49m\u001b[43mSymbo\u001b[49m\u001b[38;5;241m.\u001b[39mhello\n",
      "\u001b[0;31mAttributeError\u001b[0m: module 'sympy.core.symbol' has no attribute 'Symbo'"
     ]
    }
   ],
   "source": [
    "sympy.core.symbol.Symbo.hello"
   ]
  },
  {
   "cell_type": "code",
   "execution_count": null,
   "id": "e9e29b73",
   "metadata": {},
   "outputs": [],
   "source": [
    "class Symbol(sympy.core.symbol.Symbol):\n",
    "    def __init__(self):\n",
    "        self.symbol = smp.symbols('m')\n",
    "        \n",
    "    def __repr__(self): return str(self.symbol)\n",
    "    \n",
    "    def _repr_latex_(self):\n",
    "        string = self.__repr__()\n",
    "        string = '$' + string + '$'\n",
    "        return string"
   ]
  },
  {
   "cell_type": "code",
   "execution_count": null,
   "id": "5f29e4d2",
   "metadata": {},
   "outputs": [
    {
     "ename": "TypeError",
     "evalue": "__new__() missing 1 required positional argument: 'name'",
     "output_type": "error",
     "traceback": [
      "\u001b[0;31m---------------------------------------------------------------------------\u001b[0m",
      "\u001b[0;31mTypeError\u001b[0m                                 Traceback (most recent call last)",
      "Input \u001b[0;32mIn [72]\u001b[0m, in \u001b[0;36m<cell line: 1>\u001b[0;34m()\u001b[0m\n\u001b[0;32m----> 1\u001b[0m m \u001b[38;5;241m=\u001b[39m \u001b[43mSymbol\u001b[49m\u001b[43m(\u001b[49m\u001b[43m)\u001b[49m\n",
      "\u001b[0;31mTypeError\u001b[0m: __new__() missing 1 required positional argument: 'name'"
     ]
    }
   ],
   "source": [
    "m = Symbol()"
   ]
  },
  {
   "cell_type": "code",
   "execution_count": null,
   "id": "e63e9954",
   "metadata": {},
   "outputs": [
    {
     "ename": "TypeError",
     "evalue": "__new__() missing 1 required positional argument: 'name'",
     "output_type": "error",
     "traceback": [
      "\u001b[0;31m---------------------------------------------------------------------------\u001b[0m",
      "\u001b[0;31mTypeError\u001b[0m                                 Traceback (most recent call last)",
      "Input \u001b[0;32mIn [70]\u001b[0m, in \u001b[0;36m<cell line: 1>\u001b[0;34m()\u001b[0m\n\u001b[0;32m----> 1\u001b[0m m2 \u001b[38;5;241m=\u001b[39m \u001b[43mSymbol\u001b[49m\u001b[43m(\u001b[49m\u001b[43m)\u001b[49m\n",
      "\u001b[0;31mTypeError\u001b[0m: __new__() missing 1 required positional argument: 'name'"
     ]
    }
   ],
   "source": [
    "m2 = Symbol()"
   ]
  },
  {
   "cell_type": "code",
   "execution_count": null,
   "id": "e856327a",
   "metadata": {},
   "outputs": [
    {
     "ename": "TypeError",
     "evalue": "unsupported operand type(s) for +: 'Symbol' and 'Symbol'",
     "output_type": "error",
     "traceback": [
      "\u001b[0;31m---------------------------------------------------------------------------\u001b[0m",
      "\u001b[0;31mTypeError\u001b[0m                                 Traceback (most recent call last)",
      "Input \u001b[0;32mIn [57]\u001b[0m, in \u001b[0;36m<cell line: 1>\u001b[0;34m()\u001b[0m\n\u001b[0;32m----> 1\u001b[0m \u001b[43mm\u001b[49m\u001b[43m \u001b[49m\u001b[38;5;241;43m+\u001b[39;49m\u001b[43m \u001b[49m\u001b[43mm2\u001b[49m\n",
      "\u001b[0;31mTypeError\u001b[0m: unsupported operand type(s) for +: 'Symbol' and 'Symbol'"
     ]
    }
   ],
   "source": [
    "m + m2"
   ]
  },
  {
   "cell_type": "markdown",
   "id": "6e8e59c1",
   "metadata": {},
   "source": [
    "m"
   ]
  },
  {
   "cell_type": "code",
   "execution_count": null,
   "id": "d7b2a2c2",
   "metadata": {},
   "outputs": [
    {
     "data": {
      "text/latex": [
       "$m$"
      ],
      "text/plain": [
       "m"
      ]
     },
     "execution_count": null,
     "metadata": {},
     "output_type": "execute_result"
    }
   ],
   "source": [
    "m"
   ]
  },
  {
   "cell_type": "code",
   "execution_count": null,
   "id": "06464172",
   "metadata": {},
   "outputs": [],
   "source": []
  },
  {
   "cell_type": "code",
   "execution_count": null,
   "id": "c00c3a5e",
   "metadata": {},
   "outputs": [],
   "source": []
  }
 ],
 "metadata": {
  "kernelspec": {
   "display_name": "Python 3.9.13 ('chemchem')",
   "language": "python",
   "name": "python3"
  },
  "language_info": {
   "codemirror_mode": {
    "name": "ipython",
    "version": 3
   },
   "file_extension": ".py",
   "mimetype": "text/x-python",
   "name": "python",
   "nbconvert_exporter": "python",
   "pygments_lexer": "ipython3",
   "version": "3.9.13"
  },
  "vscode": {
   "interpreter": {
    "hash": "67e50f1affad8644b1f4ba222e7f336b57b5a07b3c8dd2fecf7b983534870999"
   }
  }
 },
 "nbformat": 4,
 "nbformat_minor": 5
}
