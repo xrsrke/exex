{
 "cells": [
  {
   "cell_type": "code",
   "execution_count": null,
   "id": "f360c837-1b07-4c99-acb4-9f786c67650f",
   "metadata": {},
   "outputs": [],
   "source": [
    "from exex.core import *\n",
    "from exex.compound.gas import *\n",
    "from exex.reaction.core import *"
   ]
  },
  {
   "cell_type": "code",
   "execution_count": null,
   "id": "ed30d61b-7af8-4b4c-b5a3-ae2c898b4637",
   "metadata": {},
   "outputs": [],
   "source": [
    "H2 = Gas('H2')"
   ]
  },
  {
   "cell_type": "code",
   "execution_count": null,
   "id": "57ea282f-6395-418a-9a79-8878a7bc8dbd",
   "metadata": {},
   "outputs": [],
   "source": [
    "H2.properties['volume'].add_data(1, 3.24)"
   ]
  },
  {
   "cell_type": "code",
   "execution_count": null,
   "id": "9e2343a3-4eed-44d7-8736-4b3937392a4d",
   "metadata": {},
   "outputs": [],
   "source": [
    "H2.properties['pressure'].add_data(2, 24.3)"
   ]
  },
  {
   "cell_type": "code",
   "execution_count": null,
   "id": "16a6558e-493f-48dd-a1ae-376037be5593",
   "metadata": {},
   "outputs": [],
   "source": [
    "H2.properties['temperature'].add_data(2, 25)\n",
    "H2.properties['temperature'].add_data(1, 31)\n",
    "H2.properties['temperature'].add_data(5, 41.2)"
   ]
  },
  {
   "cell_type": "code",
   "execution_count": null,
   "id": "3bf98ce8-605f-42b9-b11a-b7e525f60849",
   "metadata": {},
   "outputs": [
    {
     "data": {
      "text/html": [
       "<div>\n",
       "<style scoped>\n",
       "    .dataframe tbody tr th:only-of-type {\n",
       "        vertical-align: middle;\n",
       "    }\n",
       "\n",
       "    .dataframe tbody tr th {\n",
       "        vertical-align: top;\n",
       "    }\n",
       "\n",
       "    .dataframe thead th {\n",
       "        text-align: right;\n",
       "    }\n",
       "</style>\n",
       "<table border=\"1\" class=\"dataframe\">\n",
       "  <thead>\n",
       "    <tr style=\"text-align: right;\">\n",
       "      <th></th>\n",
       "      <th>mass</th>\n",
       "      <th>mole</th>\n",
       "      <th>pressure</th>\n",
       "      <th>volume</th>\n",
       "      <th>temperature</th>\n",
       "      <th>is_ideal_gas</th>\n",
       "    </tr>\n",
       "    <tr>\n",
       "      <th>Time</th>\n",
       "      <th></th>\n",
       "      <th></th>\n",
       "      <th></th>\n",
       "      <th></th>\n",
       "      <th></th>\n",
       "      <th></th>\n",
       "    </tr>\n",
       "  </thead>\n",
       "  <tbody>\n",
       "    <tr>\n",
       "      <th>1</th>\n",
       "      <td>NaN</td>\n",
       "      <td>NaN</td>\n",
       "      <td>NaN</td>\n",
       "      <td>{'value': 3.24}</td>\n",
       "      <td>{'value': 31}</td>\n",
       "      <td>NaN</td>\n",
       "    </tr>\n",
       "    <tr>\n",
       "      <th>2</th>\n",
       "      <td>NaN</td>\n",
       "      <td>NaN</td>\n",
       "      <td>{'value': 24.3}</td>\n",
       "      <td>NaN</td>\n",
       "      <td>{'value': 25}</td>\n",
       "      <td>NaN</td>\n",
       "    </tr>\n",
       "    <tr>\n",
       "      <th>5</th>\n",
       "      <td>NaN</td>\n",
       "      <td>NaN</td>\n",
       "      <td>NaN</td>\n",
       "      <td>NaN</td>\n",
       "      <td>{'value': 41.2}</td>\n",
       "      <td>NaN</td>\n",
       "    </tr>\n",
       "  </tbody>\n",
       "</table>\n",
       "</div>"
      ],
      "text/plain": [
       "      mass  mole         pressure           volume      temperature  \\\n",
       "Time                                                                  \n",
       "1      NaN   NaN              NaN  {'value': 3.24}    {'value': 31}   \n",
       "2      NaN   NaN  {'value': 24.3}              NaN    {'value': 25}   \n",
       "5      NaN   NaN              NaN              NaN  {'value': 41.2}   \n",
       "\n",
       "      is_ideal_gas  \n",
       "Time                \n",
       "1              NaN  \n",
       "2              NaN  \n",
       "5              NaN  "
      ]
     },
     "execution_count": null,
     "metadata": {},
     "output_type": "execute_result"
    }
   ],
   "source": [
    "H2.info()"
   ]
  },
  {
   "cell_type": "code",
   "execution_count": null,
   "id": "a15d77ea-4618-4597-9532-d34b0030ddca",
   "metadata": {},
   "outputs": [
    {
     "data": {
      "text/plain": [
       "{'_is_copy': None,\n",
       " '_mgr': BlockManager\n",
       " Items: Index(['mass', 'mole', 'pressure', 'volume', 'temperature', 'is_ideal_gas'], dtype='object')\n",
       " Axis 1: Int64Index([1, 2, 5], dtype='int64', name='Time')\n",
       " NumericBlock: [0 1 5], 3 x 3, dtype: float64\n",
       " ObjectBlock: slice(2, 5, 1), 3 x 3, dtype: object,\n",
       " '_item_cache': {},\n",
       " '_attrs': {},\n",
       " '_flags': <Flags(allows_duplicate_labels=True)>}"
      ]
     },
     "execution_count": null,
     "metadata": {},
     "output_type": "execute_result"
    }
   ],
   "source": [
    "H2.info().__dict__"
   ]
  },
  {
   "cell_type": "code",
   "execution_count": null,
   "id": "c218e7f2-8721-4fc9-a988-edc904a2728c",
   "metadata": {},
   "outputs": [
    {
     "data": {
      "text/plain": [
       "{'abbreviate': 'm',\n",
       " 'unit': 'kilogram',\n",
       " '_data': {},\n",
       " 'compound': <exex.compound.gas.Gas>,\n",
       " '_connections': [],\n",
       " 'laws': {'mass_mole_ratio': <exex.compound.core.MassMoleRatio>},\n",
       " 'func_changed': [],\n",
       " 'symbol': m}"
      ]
     },
     "execution_count": null,
     "metadata": {},
     "output_type": "execute_result"
    }
   ],
   "source": [
    "H2.properties['mass'].__dict__"
   ]
  },
  {
   "cell_type": "code",
   "execution_count": null,
   "id": "ee99e1b8-c8f8-4d46-9668-9f0cf67f87ba",
   "metadata": {},
   "outputs": [
    {
     "data": {
      "text/plain": [
       "{'abbreviate': 'V',\n",
       " 'unit': 'liter',\n",
       " '_data': {1: {'value': 3.24}},\n",
       " 'compound': <exex.compound.gas.Gas>,\n",
       " '_connections': [],\n",
       " 'laws': {'boyle_law': <exex.compound.gas.BoyleLaw>,\n",
       "  'charles_law': <exex.compound.gas.CharlesLaw>,\n",
       "  'avogadro_law': <exex.compound.gas.AvogadroLaw>,\n",
       "  'ideal_gas_law': <exex.compound.gas.IdealGasLaw>},\n",
       " 'func_changed': [],\n",
       " 'symbol': V}"
      ]
     },
     "execution_count": null,
     "metadata": {},
     "output_type": "execute_result"
    }
   ],
   "source": [
    "H2.properties['volume'].__dict__"
   ]
  },
  {
   "cell_type": "code",
   "execution_count": null,
   "id": "b9c74889-ad83-4f70-9524-b9610c48a7fd",
   "metadata": {},
   "outputs": [
    {
     "data": {
      "text/plain": [
       "{1: {'value': 3.24}}"
      ]
     },
     "execution_count": null,
     "metadata": {},
     "output_type": "execute_result"
    }
   ],
   "source": [
    "H2.properties['volume']._data"
   ]
  },
  {
   "cell_type": "code",
   "execution_count": null,
   "id": "61e41789-4e80-443d-a2ab-87508a1e13b3",
   "metadata": {},
   "outputs": [],
   "source": [
    "import pandas as pd"
   ]
  },
  {
   "cell_type": "code",
   "execution_count": null,
   "id": "7dca030e-00bb-4366-82ed-28bf26d8360e",
   "metadata": {},
   "outputs": [],
   "source": [
    "dta = {\n",
    "    \"pressure\": {1: 2, 2: 41},\n",
    "    \"volume\": {1: 5},\n",
    "}"
   ]
  },
  {
   "cell_type": "code",
   "execution_count": null,
   "id": "8d550fa7-520e-4965-be49-a85dd0ed2085",
   "metadata": {},
   "outputs": [
    {
     "data": {
      "text/html": [
       "<div>\n",
       "<style scoped>\n",
       "    .dataframe tbody tr th:only-of-type {\n",
       "        vertical-align: middle;\n",
       "    }\n",
       "\n",
       "    .dataframe tbody tr th {\n",
       "        vertical-align: top;\n",
       "    }\n",
       "\n",
       "    .dataframe thead th {\n",
       "        text-align: right;\n",
       "    }\n",
       "</style>\n",
       "<table border=\"1\" class=\"dataframe\">\n",
       "  <thead>\n",
       "    <tr style=\"text-align: right;\">\n",
       "      <th></th>\n",
       "      <th>1</th>\n",
       "    </tr>\n",
       "  </thead>\n",
       "  <tbody>\n",
       "    <tr>\n",
       "      <th>value</th>\n",
       "      <td>3.24</td>\n",
       "    </tr>\n",
       "  </tbody>\n",
       "</table>\n",
       "</div>"
      ],
      "text/plain": [
       "          1\n",
       "value  3.24"
      ]
     },
     "execution_count": null,
     "metadata": {},
     "output_type": "execute_result"
    }
   ],
   "source": [
    "pd.DataFrame(H2.properties['volume']._data)"
   ]
  },
  {
   "cell_type": "code",
   "execution_count": null,
   "id": "8c07ec66-5008-4eaf-b8ce-1643582625fb",
   "metadata": {},
   "outputs": [],
   "source": [
    "df = pd.DataFrame(dta)"
   ]
  },
  {
   "cell_type": "code",
   "execution_count": null,
   "id": "97d9fe88-6a7c-4408-9cb3-9f29a1c6244a",
   "metadata": {},
   "outputs": [],
   "source": [
    "df.index.name = \"Time\""
   ]
  },
  {
   "cell_type": "code",
   "execution_count": null,
   "id": "173bcefa-d541-4592-a165-490d04a87a8a",
   "metadata": {},
   "outputs": [
    {
     "data": {
      "text/html": [
       "<div>\n",
       "<style scoped>\n",
       "    .dataframe tbody tr th:only-of-type {\n",
       "        vertical-align: middle;\n",
       "    }\n",
       "\n",
       "    .dataframe tbody tr th {\n",
       "        vertical-align: top;\n",
       "    }\n",
       "\n",
       "    .dataframe thead th {\n",
       "        text-align: right;\n",
       "    }\n",
       "</style>\n",
       "<table border=\"1\" class=\"dataframe\">\n",
       "  <thead>\n",
       "    <tr style=\"text-align: right;\">\n",
       "      <th></th>\n",
       "      <th>pressure</th>\n",
       "      <th>volume</th>\n",
       "    </tr>\n",
       "    <tr>\n",
       "      <th>Time</th>\n",
       "      <th></th>\n",
       "      <th></th>\n",
       "    </tr>\n",
       "  </thead>\n",
       "  <tbody>\n",
       "    <tr>\n",
       "      <th>1</th>\n",
       "      <td>2</td>\n",
       "      <td>5.0</td>\n",
       "    </tr>\n",
       "    <tr>\n",
       "      <th>2</th>\n",
       "      <td>41</td>\n",
       "      <td>NaN</td>\n",
       "    </tr>\n",
       "  </tbody>\n",
       "</table>\n",
       "</div>"
      ],
      "text/plain": [
       "      pressure  volume\n",
       "Time                  \n",
       "1            2     5.0\n",
       "2           41     NaN"
      ]
     },
     "execution_count": null,
     "metadata": {},
     "output_type": "execute_result"
    }
   ],
   "source": [
    "df"
   ]
  },
  {
   "cell_type": "code",
   "execution_count": null,
   "id": "84515c70-f13e-478f-b70f-8306fff9a946",
   "metadata": {},
   "outputs": [],
   "source": [
    "dta = []"
   ]
  },
  {
   "cell_type": "code",
   "execution_count": null,
   "id": "984e328b-8b4d-458b-908d-41198f810d86",
   "metadata": {},
   "outputs": [
    {
     "name": "stdout",
     "output_type": "stream",
     "text": [
      "mass kilogram\n",
      "mole mole\n",
      "pressure pascal\n",
      "volume liter\n",
      "temperature kelvin\n",
      "is_ideal_gas None\n"
     ]
    }
   ],
   "source": [
    "for k, v in H2.properties.items():\n",
    "    print(k, v.unit)\n",
    "    dta.append({k: v._data})"
   ]
  },
  {
   "cell_type": "code",
   "execution_count": null,
   "id": "7951e952-ab7e-41ab-b467-f8856f030f0a",
   "metadata": {},
   "outputs": [
    {
     "data": {
      "text/plain": [
       "[{'mass': {}},\n",
       " {'mole': {}},\n",
       " {'pressure': {2: {'value': 24.3}}},\n",
       " {'volume': {1: {'value': 3.24}}},\n",
       " {'temperature': {2: {'value': 25}, 1: {'value': 31}, 5: {'value': 41.2}}},\n",
       " {'is_ideal_gas': {}}]"
      ]
     },
     "execution_count": null,
     "metadata": {},
     "output_type": "execute_result"
    }
   ],
   "source": [
    "dta"
   ]
  },
  {
   "cell_type": "code",
   "execution_count": null,
   "id": "af836fa5-55f5-4299-aa81-009a09b71ae3",
   "metadata": {},
   "outputs": [],
   "source": [
    "dta = {}"
   ]
  },
  {
   "cell_type": "code",
   "execution_count": null,
   "id": "0263d40d-960f-4b10-823d-cbcb2513475e",
   "metadata": {},
   "outputs": [
    {
     "data": {
      "text/plain": [
       "{2: {'value': 25}, 1: {'value': 31}, 5: {'value': 41.2}}"
      ]
     },
     "execution_count": null,
     "metadata": {},
     "output_type": "execute_result"
    }
   ],
   "source": [
    "H2.properties['temperature']._data"
   ]
  },
  {
   "cell_type": "code",
   "execution_count": null,
   "id": "e0836faf-8ea6-4eba-bdf3-350be732cbba",
   "metadata": {},
   "outputs": [
    {
     "name": "stdout",
     "output_type": "stream",
     "text": [
      "{}\n",
      "{}\n",
      "{2: {'value': 24.3}}\n",
      "{1: {'value': 3.24}}\n",
      "{2: {'value': 25}, 1: {'value': 31}, 5: {'value': 41.2}}\n",
      "{}\n"
     ]
    }
   ],
   "source": [
    "for k, v in H2.properties.items():\n",
    "    data_point = {}\n",
    "    print(v._data)\n",
    "    dta[k] = v._data"
   ]
  },
  {
   "cell_type": "code",
   "execution_count": null,
   "id": "95889ac8-588d-451e-9805-52f2e6bad95b",
   "metadata": {},
   "outputs": [
    {
     "data": {
      "text/plain": [
       "{'mass': {},\n",
       " 'mole': {},\n",
       " 'pressure': {2: {'value': 24.3}},\n",
       " 'volume': {1: {'value': 3.24}},\n",
       " 'temperature': {2: {'value': 25}, 1: {'value': 31}, 5: {'value': 41.2}},\n",
       " 'is_ideal_gas': {}}"
      ]
     },
     "execution_count": null,
     "metadata": {},
     "output_type": "execute_result"
    }
   ],
   "source": [
    "dta"
   ]
  },
  {
   "cell_type": "code",
   "execution_count": null,
   "id": "4e9c9c93-3ca8-4cf9-a96f-85eee2a895d7",
   "metadata": {},
   "outputs": [],
   "source": [
    "df = pd.DataFrame(dta)"
   ]
  },
  {
   "cell_type": "code",
   "execution_count": null,
   "id": "455c2900-abba-44fd-9e54-512bb33429dd",
   "metadata": {},
   "outputs": [
    {
     "data": {
      "text/html": [
       "<div>\n",
       "<style scoped>\n",
       "    .dataframe tbody tr th:only-of-type {\n",
       "        vertical-align: middle;\n",
       "    }\n",
       "\n",
       "    .dataframe tbody tr th {\n",
       "        vertical-align: top;\n",
       "    }\n",
       "\n",
       "    .dataframe thead th {\n",
       "        text-align: right;\n",
       "    }\n",
       "</style>\n",
       "<table border=\"1\" class=\"dataframe\">\n",
       "  <thead>\n",
       "    <tr style=\"text-align: right;\">\n",
       "      <th></th>\n",
       "      <th>mass</th>\n",
       "    </tr>\n",
       "  </thead>\n",
       "  <tbody>\n",
       "  </tbody>\n",
       "</table>\n",
       "</div>"
      ],
      "text/plain": [
       "Empty DataFrame\n",
       "Columns: [mass]\n",
       "Index: []"
      ]
     },
     "execution_count": null,
     "metadata": {},
     "output_type": "execute_result"
    }
   ],
   "source": [
    "df"
   ]
  },
  {
   "cell_type": "code",
   "execution_count": null,
   "id": "a4a7d221-427b-4188-bb1d-46c88f596f18",
   "metadata": {},
   "outputs": [],
   "source": [
    "df = pd.DataFrame(dta, columns=['mass'])"
   ]
  },
  {
   "cell_type": "code",
   "execution_count": null,
   "id": "b820aa7c-d71b-474a-8164-077f2ada4ca0",
   "metadata": {},
   "outputs": [
    {
     "data": {
      "text/html": [
       "<div>\n",
       "<style scoped>\n",
       "    .dataframe tbody tr th:only-of-type {\n",
       "        vertical-align: middle;\n",
       "    }\n",
       "\n",
       "    .dataframe tbody tr th {\n",
       "        vertical-align: top;\n",
       "    }\n",
       "\n",
       "    .dataframe thead th {\n",
       "        text-align: right;\n",
       "    }\n",
       "</style>\n",
       "<table border=\"1\" class=\"dataframe\">\n",
       "  <thead>\n",
       "    <tr style=\"text-align: right;\">\n",
       "      <th></th>\n",
       "      <th>mass</th>\n",
       "    </tr>\n",
       "  </thead>\n",
       "  <tbody>\n",
       "  </tbody>\n",
       "</table>\n",
       "</div>"
      ],
      "text/plain": [
       "Empty DataFrame\n",
       "Columns: [mass]\n",
       "Index: []"
      ]
     },
     "execution_count": null,
     "metadata": {},
     "output_type": "execute_result"
    }
   ],
   "source": [
    "df"
   ]
  },
  {
   "cell_type": "code",
   "execution_count": null,
   "id": "d46a492f-0295-415f-b9d4-78a8fa40f9f6",
   "metadata": {},
   "outputs": [],
   "source": [
    "from chemlib import Compound, Reaction"
   ]
  },
  {
   "cell_type": "code",
   "execution_count": null,
   "id": "e3e751cc-6ee4-41dd-8883-f255b2777a06",
   "metadata": {},
   "outputs": [],
   "source": [
    "C2 = Compound('C2')"
   ]
  },
  {
   "cell_type": "code",
   "execution_count": null,
   "id": "73afa758-21de-4ac9-bc44-b06004416fbe",
   "metadata": {},
   "outputs": [],
   "source": [
    "O2 = Compound('O2')"
   ]
  },
  {
   "cell_type": "code",
   "execution_count": null,
   "id": "fb373873-b701-4646-8990-5312f74eaa5a",
   "metadata": {},
   "outputs": [],
   "source": [
    "r = Reaction(reactants=[C2, O2], products=[])"
   ]
  },
  {
   "cell_type": "code",
   "execution_count": null,
   "id": "0567946c-cb51-4bfa-b4db-7e0adf7f12ec",
   "metadata": {},
   "outputs": [
    {
     "data": {
      "text/plain": [
       "<chemlib.chemistry.Reaction>"
      ]
     },
     "execution_count": null,
     "metadata": {},
     "output_type": "execute_result"
    }
   ],
   "source": [
    "r"
   ]
  },
  {
   "cell_type": "code",
   "execution_count": null,
   "id": "d6002130-d688-4c11-89d0-6c7a0e68f714",
   "metadata": {},
   "outputs": [
    {
     "data": {
      "text/plain": [
       "{'reactants': [<chemlib.chemistry.Compound>,\n",
       "  <chemlib.chemistry.Compound>],\n",
       " 'products': [],\n",
       " 'compounds': [<chemlib.chemistry.Compound>,\n",
       "  <chemlib.chemistry.Compound>],\n",
       " 'reactant_formulas': ['C₂', 'O₂'],\n",
       " 'product_formulas': [],\n",
       " 'formula': '1C₂ + 1O₂ --> ',\n",
       " 'coefficients': {'C₂': 1, 'O₂': 1},\n",
       " 'constituents': ['C₂', 'O₂'],\n",
       " 'reactant_occurences': {'C': 2, 'O': 2},\n",
       " 'product_occurences': {},\n",
       " 'is_balanced': False}"
      ]
     },
     "execution_count": null,
     "metadata": {},
     "output_type": "execute_result"
    }
   ],
   "source": [
    "r.__dict__"
   ]
  },
  {
   "cell_type": "code",
   "execution_count": null,
   "id": "ca8e6a00-9e05-4cab-9889-a7be46a184fc",
   "metadata": {},
   "outputs": [
    {
     "data": {
      "text/plain": [
       "{'occurences': {'C': 2},\n",
       " 'elements': [<chemlib.chemistry.Element>,\n",
       "  <chemlib.chemistry.Element>],\n",
       " 'formula': 'C₂',\n",
       " 'coefficient': 1}"
      ]
     },
     "execution_count": null,
     "metadata": {},
     "output_type": "execute_result"
    }
   ],
   "source": [
    "r.reactants[0].__dict__"
   ]
  },
  {
   "cell_type": "code",
   "execution_count": null,
   "id": "c4b07dee-18ac-484b-b1ef-cb99098d5f15",
   "metadata": {},
   "outputs": [],
   "source": []
  }
 ],
 "metadata": {
  "kernelspec": {
   "display_name": "Python 3 (ipykernel)",
   "language": "python",
   "name": "python3"
  }
 },
 "nbformat": 4,
 "nbformat_minor": 5
}
