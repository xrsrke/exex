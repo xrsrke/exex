{
 "cells": [
  {
   "cell_type": "code",
   "execution_count": null,
   "id": "6befce4b-6846-436c-b883-69e5c3552086",
   "metadata": {},
   "outputs": [],
   "source": [
    "from exex.gas.all import *"
   ]
  },
  {
   "cell_type": "markdown",
   "id": "8bc0dc31-2caf-48a9-9123-c6115821479c",
   "metadata": {},
   "source": [
    "##### Example 1"
   ]
  },
  {
   "cell_type": "code",
   "execution_count": null,
   "id": "526671a4-1a84-4980-8752-bc3d3f55cec4",
   "metadata": {},
   "outputs": [],
   "source": [
    "H2 = Gas('H2')"
   ]
  },
  {
   "cell_type": "code",
   "execution_count": null,
   "id": "d6ae9cf1-9d03-4f3b-8d28-eb786ccb09c1",
   "metadata": {},
   "outputs": [],
   "source": [
    "H2.set_prop('mole', val=(2.1 * u.mole), t=2)"
   ]
  },
  {
   "cell_type": "code",
   "execution_count": null,
   "id": "080bd7ab-9316-4c6d-8cfc-bb9a338bc41d",
   "metadata": {},
   "outputs": [
    {
     "data": {
      "text/latex": [
       "$\\displaystyle 4.2336 \\text{g} = m_{2}$"
      ],
      "text/plain": [
       "Eq(4.2336*gram, m_2)"
      ]
     },
     "execution_count": null,
     "metadata": {},
     "output_type": "execute_result"
    }
   ],
   "source": [
    "H2.get_law('mass_mole_ratio', t=2, eval=True)"
   ]
  },
  {
   "cell_type": "markdown",
   "id": "dcb77cf1-05f5-46ce-ab44-d50b0f08cb18",
   "metadata": {},
   "source": [
    "##### Example 2"
   ]
  },
  {
   "cell_type": "markdown",
   "id": "3d15b6b8-8269-4e63-a80f-d48e0592ad99",
   "metadata": {},
   "source": [
    "In photosynthesis, plants convert carbon dioxide and water into glucose $\\left(\\mathrm{C}_6 \\mathrm{H}_{12} \\mathrm{O}_6\\right)$ according to the reaction:\n",
    "$$\n",
    "6 \\mathrm{CO}_2(g)+6 \\mathrm{H}_2 \\mathrm{O}(l) \\stackrel{\\text { sunlight }}{\\longrightarrow} 6 \\mathrm{O}_2(g)+\\mathrm{C}_6 \\mathrm{H}_{12} \\mathrm{O}_6(a q)\n",
    "$$\n",
    "Suppose you determine that a particular plant consumes $37.8 \\mathrm{~g}$ of $\\mathrm{CO}_2$ in one week. Assuming that there is more than enough water present to react with all of the $\\mathrm{CO}_2$, what mass of glucose (in grams) can the plant synthesize from the $\\mathrm{CO}_2$ ?"
   ]
  },
  {
   "cell_type": "code",
   "execution_count": null,
   "id": "0635aa6a-af95-474b-95b9-43a31d4ed156",
   "metadata": {},
   "outputs": [],
   "source": [
    "CO2 = Gas('CO2')"
   ]
  },
  {
   "cell_type": "code",
   "execution_count": null,
   "id": "4ab197a5-4947-4583-ae32-ccafc93b988c",
   "metadata": {},
   "outputs": [],
   "source": [
    "H2O = Gas('H2O')"
   ]
  },
  {
   "cell_type": "code",
   "execution_count": null,
   "id": "58650ebb-d385-4971-a503-569fdf903ee7",
   "metadata": {},
   "outputs": [],
   "source": [
    "O2 = Gas('O2')"
   ]
  },
  {
   "cell_type": "code",
   "execution_count": null,
   "id": "2c0d7e47-3b5d-44c3-bf96-67f409375f1c",
   "metadata": {},
   "outputs": [],
   "source": [
    "C6H12O6 = Gas('C6H12O6')"
   ]
  },
  {
   "cell_type": "code",
   "execution_count": null,
   "id": "7fc043ec-4884-4551-b47d-cab754b0f317",
   "metadata": {},
   "outputs": [],
   "source": [
    "r = Reaction(reactants=[CO2, H2O], products=[O2, C6H12O6])"
   ]
  },
  {
   "cell_type": "code",
   "execution_count": null,
   "id": "58981e65",
   "metadata": {},
   "outputs": [
    {
     "data": {
      "text/plain": [
       "{'C1O2': 1, 'H2O1': 1, 'O2': 1, 'C6H12O6': 1}"
      ]
     },
     "execution_count": null,
     "metadata": {},
     "output_type": "execute_result"
    }
   ],
   "source": [
    "r.coeffs"
   ]
  },
  {
   "cell_type": "code",
   "execution_count": null,
   "id": "5a874550-9f8c-4d63-bcdf-e9b9ea5d5cac",
   "metadata": {},
   "outputs": [
    {
     "data": {
      "text/plain": [
       "1"
      ]
     },
     "execution_count": null,
     "metadata": {},
     "output_type": "execute_result"
    }
   ],
   "source": [
    "r.reaction.coefficients['C₁O₂']"
   ]
  },
  {
   "cell_type": "code",
   "execution_count": null,
   "id": "b08e2c6f-d11e-4d13-9490-df8e60097664",
   "metadata": {},
   "outputs": [],
   "source": [
    "r.balance()"
   ]
  },
  {
   "cell_type": "code",
   "execution_count": null,
   "id": "332e5f28-8ddf-4efb-9a32-f6e38523825b",
   "metadata": {},
   "outputs": [
    {
     "data": {
      "text/plain": [
       "{'reaction': <chemlib.chemistry.Reaction>,\n",
       " 'system': <exex.system.System>,\n",
       " 'environment': <exex.environment.OpenContainer>}"
      ]
     },
     "execution_count": null,
     "metadata": {},
     "output_type": "execute_result"
    }
   ],
   "source": [
    "r.__dict__"
   ]
  },
  {
   "cell_type": "code",
   "execution_count": null,
   "id": "d21f3f6f-19f1-4a55-b56d-3030a795c315",
   "metadata": {},
   "outputs": [
    {
     "data": {
      "text/plain": [
       "'6C₁O₂ + 6H₂O₁ --> 6O₂ + 1C₆H₁₂O₆'"
      ]
     },
     "execution_count": null,
     "metadata": {},
     "output_type": "execute_result"
    }
   ],
   "source": [
    "r.formula"
   ]
  },
  {
   "cell_type": "code",
   "execution_count": null,
   "id": "4e25e770",
   "metadata": {},
   "outputs": [
    {
     "data": {
      "text/plain": [
       "{'C1O2': 6, 'H2O1': 6, 'O2': 6, 'C6H12O6': 1}"
      ]
     },
     "execution_count": null,
     "metadata": {},
     "output_type": "execute_result"
    }
   ],
   "source": [
    "r.coeffs"
   ]
  },
  {
   "cell_type": "code",
   "execution_count": null,
   "id": "972637a8",
   "metadata": {},
   "outputs": [
    {
     "data": {
      "text/plain": [
       "6"
      ]
     },
     "execution_count": null,
     "metadata": {},
     "output_type": "execute_result"
    }
   ],
   "source": [
    "r.get_coeff('H2O1')"
   ]
  },
  {
   "cell_type": "code",
   "execution_count": null,
   "id": "ed50e099-bb5a-4cb9-a78b-258c3c793f97",
   "metadata": {},
   "outputs": [],
   "source": [
    "CO2.set_prop('mass', val=37.8*u.g, t=1)"
   ]
  },
  {
   "cell_type": "code",
   "execution_count": null,
   "id": "f49a4a7e-d875-4d2d-a01f-da0bcc30638e",
   "metadata": {},
   "outputs": [
    {
     "data": {
      "text/latex": [
       "$\\displaystyle 37.8 \\text{g}$"
      ],
      "text/plain": [
       "37.8*gram"
      ]
     },
     "execution_count": null,
     "metadata": {},
     "output_type": "execute_result"
    }
   ],
   "source": [
    "CO2.get_prop('mass', t=1, eval=True)"
   ]
  },
  {
   "cell_type": "code",
   "execution_count": null,
   "id": "b5d80ea4-c9d4-4e91-9c03-3a367f5f33ca",
   "metadata": {},
   "outputs": [
    {
     "data": {
      "text/plain": [
       "{'mass_mole_ratio': <exex.compound.core.MassMoleRatio>,\n",
       " 'boyle_law': <exex.gas.core.BoyleLaw>,\n",
       " 'charles_law': <exex.gas.core.CharlesLaw>,\n",
       " 'avogadro_law': <exex.gas.core.AvogadroLaw>,\n",
       " 'ideal_gas_law': <exex.gas.core.IdealGasLaw>}"
      ]
     },
     "execution_count": null,
     "metadata": {},
     "output_type": "execute_result"
    }
   ],
   "source": [
    "CO2.laws"
   ]
  },
  {
   "cell_type": "code",
   "execution_count": null,
   "id": "158668c1-96d4-4895-aadf-1180e34375cf",
   "metadata": {},
   "outputs": [
    {
     "data": {
      "text/plain": [
       "{'compound': exex.gas.core.Gas(formula='C₁O₂'),\n",
       " 'properties': [{'object': exex.core.Mass},\n",
       "  {'object': exex.core.Mole},\n",
       "  {'object': exex.core.MolarMass}]}"
      ]
     },
     "execution_count": null,
     "metadata": {},
     "output_type": "execute_result"
    }
   ],
   "source": [
    "CO2.laws['mass_mole_ratio'].__dict__"
   ]
  }
 ],
 "metadata": {
  "kernelspec": {
   "display_name": "Python 3 (ipykernel)",
   "language": "python",
   "name": "python3"
  }
 },
 "nbformat": 4,
 "nbformat_minor": 5
}
