{
 "cells": [
  {
   "cell_type": "code",
   "execution_count": null,
   "id": "6befce4b-6846-436c-b883-69e5c3552086",
   "metadata": {},
   "outputs": [],
   "source": [
    "from exex.gas.all import *"
   ]
  },
  {
   "cell_type": "markdown",
   "id": "8bc0dc31-2caf-48a9-9123-c6115821479c",
   "metadata": {},
   "source": [
    "##### Example 1"
   ]
  },
  {
   "cell_type": "code",
   "execution_count": null,
   "id": "526671a4-1a84-4980-8752-bc3d3f55cec4",
   "metadata": {},
   "outputs": [],
   "source": [
    "H2 = Gas('H2')"
   ]
  },
  {
   "cell_type": "code",
   "execution_count": null,
   "id": "0f6b998b-879c-4ae5-82d1-28d00cb4f42a",
   "metadata": {},
   "outputs": [
    {
     "data": {
      "text/plain": [
       "{'properties': {'mass': <exex.core.Mass>,\n",
       "  'mole': <exex.core.Mole>,\n",
       "  'pressure': <exex.core.Pressure>,\n",
       "  'volume': <exex.core.Volume>,\n",
       "  'temperature': <exex.core.Temperature>,\n",
       "  'ideal_gas_constant': <exex.gas.core.IdealGasConstant>,\n",
       "  'is_ideal_gas': <exex.gas.core.IsIdealGas>},\n",
       " 'laws': {'mass_mole_ratio': <exex.compound.core.MassMoleRatio>,\n",
       "  'boyle_law': <exex.gas.core.BoyleLaw>,\n",
       "  'charles_law': <exex.gas.core.CharlesLaw>,\n",
       "  'avogadro_law': <exex.gas.core.AvogadroLaw>,\n",
       "  'ideal_gas_law': <exex.gas.core.IdealGasLaw>},\n",
       " 'time': None,\n",
       " 'system': <exex.system.System>,\n",
       " 'add_laws': [exex.gas.core.BoyleLaw,\n",
       "  exex.gas.core.CharlesLaw,\n",
       "  exex.gas.core.AvogadroLaw,\n",
       "  exex.gas.core.IdealGasLaw],\n",
       " 'elements': [<chemlib.chemistry.Element>,\n",
       "  <chemlib.chemistry.Element>],\n",
       " 'formula': 'H₂',\n",
       " '_formula': 'H2',\n",
       " 'coefficient': 1,\n",
       " 'occurences': {'H': 2}}"
      ]
     },
     "execution_count": null,
     "metadata": {},
     "output_type": "execute_result"
    }
   ],
   "source": [
    "H2.__dict__"
   ]
  },
  {
   "cell_type": "code",
   "execution_count": null,
   "id": "b62218f2-3f58-485a-979e-901a404d8730",
   "metadata": {},
   "outputs": [],
   "source": [
    "H2.set_prop('mole', val=Q('22 grams'), t=2)"
   ]
  },
  {
   "cell_type": "code",
   "execution_count": null,
   "id": "6a7c4e7f-e09c-4eba-b9dd-45d20dbf8f21",
   "metadata": {},
   "outputs": [
    {
     "data": {
      "text/html": [
       "22 gram"
      ],
      "text/latex": [
       "$22\\ \\mathrm{gram}$"
      ],
      "text/plain": [
       "22 <Unit('gram')>"
      ]
     },
     "execution_count": null,
     "metadata": {},
     "output_type": "execute_result"
    }
   ],
   "source": [
    "H2.get_prop('mole', t=2, eval=True)"
   ]
  },
  {
   "cell_type": "code",
   "execution_count": null,
   "id": "e9a88176-4cd0-458f-b482-8ff07545c6e7",
   "metadata": {},
   "outputs": [
    {
     "data": {
      "text/plain": [
       "{2: {'val': 22 <Unit('gram')>}}"
      ]
     },
     "execution_count": null,
     "metadata": {},
     "output_type": "execute_result"
    }
   ],
   "source": [
    "H2.properties['mole']._data"
   ]
  },
  {
   "cell_type": "code",
   "execution_count": null,
   "id": "965e012b-975d-4093-8732-868a2ca7a84a",
   "metadata": {},
   "outputs": [],
   "source": [
    "Cl2 = Gas('Cl2')"
   ]
  },
  {
   "cell_type": "code",
   "execution_count": null,
   "id": "53b87cb9-14ac-42ba-aed0-46b463057862",
   "metadata": {},
   "outputs": [],
   "source": [
    "r = Reaction(reactants=[H2, Cl2])"
   ]
  },
  {
   "cell_type": "markdown",
   "id": "dcb77cf1-05f5-46ce-ab44-d50b0f08cb18",
   "metadata": {},
   "source": [
    "##### Example 1"
   ]
  },
  {
   "cell_type": "markdown",
   "id": "3d15b6b8-8269-4e63-a80f-d48e0592ad99",
   "metadata": {},
   "source": [
    "In photosynthesis, plants convert carbon dioxide and water into glucose $\\left(\\mathrm{C}_6 \\mathrm{H}_{12} \\mathrm{O}_6\\right)$ according to the reaction:\n",
    "$$\n",
    "6 \\mathrm{CO}_2(g)+6 \\mathrm{H}_2 \\mathrm{O}(l) \\stackrel{\\text { sunlight }}{\\longrightarrow} 6 \\mathrm{O}_2(g)+\\mathrm{C}_6 \\mathrm{H}_{12} \\mathrm{O}_6(a q)\n",
    "$$\n",
    "Suppose you determine that a particular plant consumes $37.8 \\mathrm{~g}$ of $\\mathrm{CO}_2$ in one week. Assuming that there is more than enough water present to react with all of the $\\mathrm{CO}_2$, what mass of glucose (in grams) can the plant synthesize from the $\\mathrm{CO}_2$ ?"
   ]
  },
  {
   "cell_type": "code",
   "execution_count": null,
   "id": "0635aa6a-af95-474b-95b9-43a31d4ed156",
   "metadata": {},
   "outputs": [],
   "source": [
    "CO2 = Gas('CO2')"
   ]
  },
  {
   "cell_type": "code",
   "execution_count": null,
   "id": "4ab197a5-4947-4583-ae32-ccafc93b988c",
   "metadata": {},
   "outputs": [],
   "source": [
    "H2O = Gas('H2O')"
   ]
  },
  {
   "cell_type": "code",
   "execution_count": null,
   "id": "58650ebb-d385-4971-a503-569fdf903ee7",
   "metadata": {},
   "outputs": [],
   "source": [
    "O2 = Gas('O2')"
   ]
  },
  {
   "cell_type": "code",
   "execution_count": null,
   "id": "2c0d7e47-3b5d-44c3-bf96-67f409375f1c",
   "metadata": {},
   "outputs": [],
   "source": [
    "C6H12O6 = Gas('C6H12O6')"
   ]
  },
  {
   "cell_type": "code",
   "execution_count": null,
   "id": "7fc043ec-4884-4551-b47d-cab754b0f317",
   "metadata": {},
   "outputs": [],
   "source": [
    "r = Reaction(reactants=[CO2, H2O], products=[O2, C6H12O6])"
   ]
  },
  {
   "cell_type": "code",
   "execution_count": null,
   "id": "b08e2c6f-d11e-4d13-9490-df8e60097664",
   "metadata": {},
   "outputs": [],
   "source": [
    "r.balance()"
   ]
  },
  {
   "cell_type": "code",
   "execution_count": null,
   "id": "332e5f28-8ddf-4efb-9a32-f6e38523825b",
   "metadata": {},
   "outputs": [
    {
     "data": {
      "text/plain": [
       "{'reaction': <chemlib.chemistry.Reaction>,\n",
       " 'system': <exex.system.System>,\n",
       " 'environment': <exex.environment.OpenContainer>}"
      ]
     },
     "execution_count": null,
     "metadata": {},
     "output_type": "execute_result"
    }
   ],
   "source": [
    "r.__dict__"
   ]
  },
  {
   "cell_type": "code",
   "execution_count": null,
   "id": "d21f3f6f-19f1-4a55-b56d-3030a795c315",
   "metadata": {},
   "outputs": [
    {
     "data": {
      "text/plain": [
       "'6C₁O₂ + 6H₂O₁ --> 6O₂ + 1C₆H₁₂O₆'"
      ]
     },
     "execution_count": null,
     "metadata": {},
     "output_type": "execute_result"
    }
   ],
   "source": [
    "r.formula"
   ]
  },
  {
   "cell_type": "code",
   "execution_count": null,
   "id": "ed50e099-bb5a-4cb9-a78b-258c3c793f97",
   "metadata": {},
   "outputs": [],
   "source": [
    "CO2.set_prop('mass', 37.8, t=1)"
   ]
  },
  {
   "cell_type": "code",
   "execution_count": null,
   "id": "f49a4a7e-d875-4d2d-a01f-da0bcc30638e",
   "metadata": {},
   "outputs": [
    {
     "data": {
      "text/latex": [
       "$\\displaystyle m_{1}$"
      ],
      "text/plain": [
       "m_1"
      ]
     },
     "execution_count": null,
     "metadata": {},
     "output_type": "execute_result"
    }
   ],
   "source": [
    "CO2.get_prop('mass', t=1)"
   ]
  },
  {
   "cell_type": "code",
   "execution_count": null,
   "id": "b1c26a91-80b4-4b26-85fb-1577a3dc0375",
   "metadata": {},
   "outputs": [
    {
     "data": {
      "text/latex": [
       "$\\displaystyle n_{1}$"
      ],
      "text/plain": [
       "n_1"
      ]
     },
     "execution_count": null,
     "metadata": {},
     "output_type": "execute_result"
    }
   ],
   "source": [
    "CO2.get_prop('mole', t=1)"
   ]
  },
  {
   "cell_type": "code",
   "execution_count": null,
   "id": "b5d80ea4-c9d4-4e91-9c03-3a367f5f33ca",
   "metadata": {},
   "outputs": [
    {
     "data": {
      "text/plain": [
       "{'mass_mole_ratio': <exex.compound.core.MassMoleRatio>,\n",
       " 'boyle_law': <exex.gas.core.BoyleLaw>,\n",
       " 'charles_law': <exex.gas.core.CharlesLaw>,\n",
       " 'avogadro_law': <exex.gas.core.AvogadroLaw>,\n",
       " 'ideal_gas_law': <exex.gas.core.IdealGasLaw>}"
      ]
     },
     "execution_count": null,
     "metadata": {},
     "output_type": "execute_result"
    }
   ],
   "source": [
    "CO2.laws"
   ]
  },
  {
   "cell_type": "code",
   "execution_count": null,
   "id": "158668c1-96d4-4895-aadf-1180e34375cf",
   "metadata": {},
   "outputs": [
    {
     "data": {
      "text/plain": [
       "{'compound': exex.gas.core.Gas(formula='C₁O₂'),\n",
       " 'properties': [{'object': exex.core.Mass}, {'object': exex.core.Mole}]}"
      ]
     },
     "execution_count": null,
     "metadata": {},
     "output_type": "execute_result"
    }
   ],
   "source": [
    "CO2.laws['mass_mole_ratio'].__dict__"
   ]
  },
  {
   "cell_type": "code",
   "execution_count": null,
   "id": "657eb88a-24bf-4945-9486-80f880ceb6ab",
   "metadata": {},
   "outputs": [],
   "source": [
    "import sympy as smp"
   ]
  },
  {
   "cell_type": "code",
   "execution_count": null,
   "id": "9ddab4cc-2291-4dfd-805f-1dd663550b91",
   "metadata": {},
   "outputs": [],
   "source": [
    "x1, x2, x3 = smp.symbols('x_1, x_2, x_3')"
   ]
  },
  {
   "cell_type": "code",
   "execution_count": null,
   "id": "e59fbd77-77b5-478b-a81e-e8264c83cb1b",
   "metadata": {},
   "outputs": [],
   "source": [
    "x_tot = smp.symbols('x_{tot}')"
   ]
  },
  {
   "cell_type": "code",
   "execution_count": null,
   "id": "2ad77624-62c6-43c1-85a4-2ba2fb11918e",
   "metadata": {},
   "outputs": [
    {
     "data": {
      "text/latex": [
       "$\\displaystyle x_{tot}$"
      ],
      "text/plain": [
       "x_{tot}"
      ]
     },
     "execution_count": null,
     "metadata": {},
     "output_type": "execute_result"
    }
   ],
   "source": [
    "x_tot"
   ]
  },
  {
   "cell_type": "code",
   "execution_count": null,
   "id": "8479ec2a-3c59-4cfc-bc81-6f2ed4f844dd",
   "metadata": {},
   "outputs": [
    {
     "data": {
      "text/latex": [
       "$\\displaystyle x_{1} + x_{2} + x_{3} = x_{tot}$"
      ],
      "text/plain": [
       "Eq(x_1 + x_2 + x_3, x_{tot})"
      ]
     },
     "execution_count": null,
     "metadata": {},
     "output_type": "execute_result"
    }
   ],
   "source": [
    "smp.Eq(x1 + x2 + x3, x_tot)"
   ]
  },
  {
   "cell_type": "code",
   "execution_count": null,
   "id": "d6268872-12cb-4c52-8a19-24cfb7f26843",
   "metadata": {},
   "outputs": [],
   "source": [
    "x_tot = x1 + x2 + x3"
   ]
  },
  {
   "cell_type": "code",
   "execution_count": null,
   "id": "98993a2a-24da-4668-83ee-f282405a27a4",
   "metadata": {},
   "outputs": [
    {
     "data": {
      "text/plain": [
       "True"
      ]
     },
     "execution_count": null,
     "metadata": {},
     "output_type": "execute_result"
    }
   ],
   "source": [
    "x_tot == (x3 + x2 + x1) "
   ]
  },
  {
   "cell_type": "code",
   "execution_count": null,
   "id": "b8b0c66e-2aa9-4dcd-b776-6c3fee54a7e7",
   "metadata": {},
   "outputs": [],
   "source": [
    "a = smp.symbols('x_5')"
   ]
  },
  {
   "cell_type": "code",
   "execution_count": null,
   "id": "e9bc6486-d839-40a8-ba84-6b282e7eaea9",
   "metadata": {},
   "outputs": [],
   "source": [
    "b = smp.symbols('x_5')"
   ]
  },
  {
   "cell_type": "code",
   "execution_count": null,
   "id": "0949d076-75d6-4ea2-b4f1-5687b8f369d1",
   "metadata": {},
   "outputs": [
    {
     "data": {
      "text/plain": [
       "True"
      ]
     },
     "execution_count": null,
     "metadata": {},
     "output_type": "execute_result"
    }
   ],
   "source": [
    "a == b"
   ]
  },
  {
   "cell_type": "code",
   "execution_count": null,
   "id": "2acde92f-186a-4b23-a908-d3ea6bd344a4",
   "metadata": {},
   "outputs": [],
   "source": []
  }
 ],
 "metadata": {
  "kernelspec": {
   "display_name": "Python 3 (ipykernel)",
   "language": "python",
   "name": "python3"
  }
 },
 "nbformat": 4,
 "nbformat_minor": 5
}
