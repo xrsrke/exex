{
 "cells": [
  {
   "cell_type": "code",
   "execution_count": null,
   "id": "6befce4b-6846-436c-b883-69e5c3552086",
   "metadata": {},
   "outputs": [],
   "source": [
    "from exex.basics import *"
   ]
  },
  {
   "cell_type": "code",
   "execution_count": null,
   "id": "4677b31a",
   "metadata": {},
   "outputs": [],
   "source": [
    "H2O = Compound(\"H2O\")"
   ]
  },
  {
   "cell_type": "code",
   "execution_count": null,
   "id": "8b1a17a5",
   "metadata": {},
   "outputs": [
    {
     "data": {
      "text/plain": [
       "{'mass': <exex.compound.property.Mass>,\n",
       " 'mole': <exex.compound.property.Mole>,\n",
       " 'molar_mass': <exex.compound.property.MolarMass>}"
      ]
     },
     "execution_count": null,
     "metadata": {},
     "output_type": "execute_result"
    }
   ],
   "source": [
    "H2O.properties"
   ]
  },
  {
   "cell_type": "markdown",
   "id": "8bc0dc31-2caf-48a9-9123-c6115821479c",
   "metadata": {},
   "source": [
    "##### Example 1"
   ]
  },
  {
   "cell_type": "code",
   "execution_count": null,
   "id": "526671a4-1a84-4980-8752-bc3d3f55cec4",
   "metadata": {},
   "outputs": [],
   "source": [
    "H2 = Gas('H2')"
   ]
  },
  {
   "cell_type": "code",
   "execution_count": null,
   "id": "d6ae9cf1-9d03-4f3b-8d28-eb786ccb09c1",
   "metadata": {},
   "outputs": [],
   "source": [
    "H2.set_prop('mole', val=(2.1 * u.mole), t=2)"
   ]
  },
  {
   "cell_type": "code",
   "execution_count": null,
   "id": "a23f3d66",
   "metadata": {},
   "outputs": [
    {
     "ename": "NameError",
     "evalue": "name 'H2' is not defined",
     "output_type": "error",
     "traceback": [
      "\u001b[0;31m---------------------------------------------------------------------------\u001b[0m",
      "\u001b[0;31mNameError\u001b[0m                                 Traceback (most recent call last)",
      "Input \u001b[0;32mIn [2]\u001b[0m, in \u001b[0;36m<cell line: 1>\u001b[0;34m()\u001b[0m\n\u001b[0;32m----> 1\u001b[0m \u001b[43mH2\u001b[49m\u001b[38;5;241m.\u001b[39mget_prop(\u001b[38;5;124m'\u001b[39m\u001b[38;5;124mmolar_mass\u001b[39m\u001b[38;5;124m'\u001b[39m, t\u001b[38;5;241m=\u001b[39m\u001b[38;5;241m2\u001b[39m, \u001b[38;5;28meval\u001b[39m\u001b[38;5;241m=\u001b[39m\u001b[38;5;28;01mTrue\u001b[39;00m)\n",
      "\u001b[0;31mNameError\u001b[0m: name 'H2' is not defined"
     ]
    }
   ],
   "source": [
    "H2.get_prop('molar_mass', t=2, eval=True)"
   ]
  },
  {
   "cell_type": "code",
   "execution_count": null,
   "id": "ca359d17",
   "metadata": {},
   "outputs": [
    {
     "data": {
      "text/plain": [
       "sympy.core.symbol.Symbol"
      ]
     },
     "execution_count": null,
     "metadata": {},
     "output_type": "execute_result"
    }
   ],
   "source": [
    "H2.properties['mole'].is_empty(t=3)"
   ]
  },
  {
   "cell_type": "code",
   "execution_count": null,
   "id": "fd9b4cae",
   "metadata": {},
   "outputs": [
    {
     "data": {
      "text/plain": [
       "True"
      ]
     },
     "execution_count": null,
     "metadata": {},
     "output_type": "execute_result"
    }
   ],
   "source": [
    "isinstance(H2.get_prop('mole', t=3), sympy.core.symbol.Symbol)"
   ]
  },
  {
   "cell_type": "code",
   "execution_count": null,
   "id": "8c19aff0",
   "metadata": {},
   "outputs": [
    {
     "data": {
      "text/plain": [
       "sympy.core.assumptions.ManagedProperties"
      ]
     },
     "execution_count": null,
     "metadata": {},
     "output_type": "execute_result"
    }
   ],
   "source": [
    "type(H2.properties['mole'].is_empty(t=3))"
   ]
  },
  {
   "cell_type": "code",
   "execution_count": null,
   "id": "26dc65c6",
   "metadata": {},
   "outputs": [
    {
     "data": {
      "text/latex": [
       "$\\displaystyle n_{H₂, 3}$"
      ],
      "text/plain": [
       "n_H₂, 3"
      ]
     },
     "execution_count": null,
     "metadata": {},
     "output_type": "execute_result"
    }
   ],
   "source": [
    "H2.get_prop('mole', t=3)"
   ]
  },
  {
   "cell_type": "code",
   "execution_count": null,
   "id": "080bd7ab-9316-4c6d-8cfc-bb9a338bc41d",
   "metadata": {},
   "outputs": [
    {
     "data": {
      "text/latex": [
       "$\\displaystyle 4.2336 \\text{g} = m_{H₂, 2}$"
      ],
      "text/plain": [
       "Eq(4.2336*gram, m_H₂, 2)"
      ]
     },
     "execution_count": null,
     "metadata": {},
     "output_type": "execute_result"
    }
   ],
   "source": [
    "H2.get_law('mass_mole_ratio', t=2, eval=True)"
   ]
  },
  {
   "cell_type": "markdown",
   "id": "dcb77cf1-05f5-46ce-ab44-d50b0f08cb18",
   "metadata": {},
   "source": [
    "##### Example 2"
   ]
  },
  {
   "cell_type": "markdown",
   "id": "3d15b6b8-8269-4e63-a80f-d48e0592ad99",
   "metadata": {},
   "source": [
    "In photosynthesis, plants convert carbon dioxide and water into glucose $\\left(\\mathrm{C}_6 \\mathrm{H}_{12} \\mathrm{O}_6\\right)$ according to the reaction:\n",
    "$$\n",
    "6 \\mathrm{CO}_2(g)+6 \\mathrm{H}_2 \\mathrm{O}(l) \\stackrel{\\text { sunlight }}{\\longrightarrow} 6 \\mathrm{O}_2(g)+\\mathrm{C}_6 \\mathrm{H}_{12} \\mathrm{O}_6(a q)\n",
    "$$\n",
    "Suppose you determine that a particular plant consumes $37.8 \\mathrm{~g}$ of $\\mathrm{CO}_2$ in one week. Assuming that there is more than enough water present to react with all of the $\\mathrm{CO}_2$, what mass of glucose (in grams) can the plant synthesize from the $\\mathrm{CO}_2$ ?"
   ]
  },
  {
   "cell_type": "code",
   "execution_count": null,
   "id": "0635aa6a-af95-474b-95b9-43a31d4ed156",
   "metadata": {},
   "outputs": [],
   "source": [
    "CO2 = Gas('CO2')"
   ]
  },
  {
   "cell_type": "code",
   "execution_count": null,
   "id": "4ab197a5-4947-4583-ae32-ccafc93b988c",
   "metadata": {},
   "outputs": [],
   "source": [
    "H2O = Gas('H2O')"
   ]
  },
  {
   "cell_type": "code",
   "execution_count": null,
   "id": "58650ebb-d385-4971-a503-569fdf903ee7",
   "metadata": {},
   "outputs": [],
   "source": [
    "O2 = Gas('O2')"
   ]
  },
  {
   "cell_type": "code",
   "execution_count": null,
   "id": "2c0d7e47-3b5d-44c3-bf96-67f409375f1c",
   "metadata": {},
   "outputs": [],
   "source": [
    "C6H12O6 = Gas('C6H12O6')"
   ]
  },
  {
   "cell_type": "code",
   "execution_count": null,
   "id": "7fc043ec-4884-4551-b47d-cab754b0f317",
   "metadata": {},
   "outputs": [],
   "source": [
    "r = Reaction(reactants=[CO2, H2O], products=[O2, C6H12O6])"
   ]
  },
  {
   "cell_type": "code",
   "execution_count": null,
   "id": "04b16b7e",
   "metadata": {},
   "outputs": [
    {
     "data": {
      "text/plain": [
       "Reaction(1C₁O₂ + 1H₂O₁ --> 1O₂ + 1C₆H₁₂O₆)"
      ]
     },
     "execution_count": null,
     "metadata": {},
     "output_type": "execute_result"
    }
   ],
   "source": [
    "r"
   ]
  },
  {
   "cell_type": "code",
   "execution_count": null,
   "id": "16bbb269",
   "metadata": {},
   "outputs": [
    {
     "data": {
      "text/plain": [
       "[Compound(C₁O₂), Compound(H₂O₁)]"
      ]
     },
     "execution_count": null,
     "metadata": {},
     "output_type": "execute_result"
    }
   ],
   "source": [
    "r.reaction.reactants"
   ]
  },
  {
   "cell_type": "code",
   "execution_count": null,
   "id": "c61c0553",
   "metadata": {},
   "outputs": [
    {
     "data": {
      "text/plain": [
       "[Compound(O₂), Compound(C₆H₁₂O₆)]"
      ]
     },
     "execution_count": null,
     "metadata": {},
     "output_type": "execute_result"
    }
   ],
   "source": [
    "r.reaction.products"
   ]
  },
  {
   "cell_type": "code",
   "execution_count": null,
   "id": "4d011c75",
   "metadata": {},
   "outputs": [
    {
     "data": {
      "text/plain": [
       "{'reaction': <chemlib.chemistry.Reaction>,\n",
       " '_reactants': [Compound(C₁O₂), Compound(H₂O₁)],\n",
       " '_products': [Compound(O₂), Compound(C₆H₁₂O₆)],\n",
       " 'system': <exex.system.System>,\n",
       " 'environment': <exex.environment.OpenContainer>}"
      ]
     },
     "execution_count": null,
     "metadata": {},
     "output_type": "execute_result"
    }
   ],
   "source": [
    "r.__dict__"
   ]
  },
  {
   "cell_type": "code",
   "execution_count": null,
   "id": "362326aa",
   "metadata": {},
   "outputs": [
    {
     "data": {
      "text/plain": [
       "{'C1O2': 1, 'H2O1': 1, 'O2': 1, 'C6H12O6': 1}"
      ]
     },
     "execution_count": null,
     "metadata": {},
     "output_type": "execute_result"
    }
   ],
   "source": [
    "r.coeffs"
   ]
  },
  {
   "cell_type": "code",
   "execution_count": null,
   "id": "5a874550-9f8c-4d63-bcdf-e9b9ea5d5cac",
   "metadata": {},
   "outputs": [
    {
     "data": {
      "text/plain": [
       "1"
      ]
     },
     "execution_count": null,
     "metadata": {},
     "output_type": "execute_result"
    }
   ],
   "source": [
    "r.reaction.coefficients['C₁O₂']"
   ]
  },
  {
   "cell_type": "code",
   "execution_count": null,
   "id": "b08e2c6f-d11e-4d13-9490-df8e60097664",
   "metadata": {},
   "outputs": [],
   "source": [
    "r.balance()"
   ]
  },
  {
   "cell_type": "code",
   "execution_count": null,
   "id": "ed50e099-bb5a-4cb9-a78b-258c3c793f97",
   "metadata": {},
   "outputs": [],
   "source": [
    "CO2.set_prop('mass', val=37.8*u.g, t=1)"
   ]
  },
  {
   "cell_type": "code",
   "execution_count": null,
   "id": "f49a4a7e-d875-4d2d-a01f-da0bcc30638e",
   "metadata": {},
   "outputs": [
    {
     "data": {
      "text/latex": [
       "$\\displaystyle 37.8 \\text{g}$"
      ],
      "text/plain": [
       "37.8*gram"
      ]
     },
     "execution_count": null,
     "metadata": {},
     "output_type": "execute_result"
    }
   ],
   "source": [
    "CO2.get_prop('mass', t=1, eval=True)"
   ]
  },
  {
   "cell_type": "code",
   "execution_count": null,
   "id": "69d015fa",
   "metadata": {},
   "outputs": [
    {
     "data": {
      "text/latex": [
       "$\\displaystyle M_{C₁O₂, 2} n_{C₁O₂, 2} = m_{C₁O₂, 2}$"
      ],
      "text/plain": [
       "Eq(M_C₁O₂, 2*n_C₁O₂, 2, m_C₁O₂, 2)"
      ]
     },
     "execution_count": null,
     "metadata": {},
     "output_type": "execute_result"
    }
   ],
   "source": [
    "CO2.get_law('mass_mole_ratio', t=2)"
   ]
  },
  {
   "cell_type": "code",
   "execution_count": null,
   "id": "b5d80ea4-c9d4-4e91-9c03-3a367f5f33ca",
   "metadata": {},
   "outputs": [
    {
     "data": {
      "text/plain": [
       "{'mass_mole_ratio': Law(mass_mole_ratio),\n",
       " 'boyle_law': Law(boyle_law),\n",
       " 'charles_law': Law(charles_law),\n",
       " 'avogadro_law': Law(avogadro_law),\n",
       " 'ideal_gas_law': Law(ideal_gas_law)}"
      ]
     },
     "execution_count": null,
     "metadata": {},
     "output_type": "execute_result"
    }
   ],
   "source": [
    "CO2.laws"
   ]
  },
  {
   "cell_type": "code",
   "execution_count": null,
   "id": "158668c1-96d4-4895-aadf-1180e34375cf",
   "metadata": {},
   "outputs": [],
   "source": [
    "eq1 = CO2.laws['mass_mole_ratio'](t=1, eval=True)"
   ]
  },
  {
   "cell_type": "code",
   "execution_count": null,
   "id": "a3f9f77c",
   "metadata": {},
   "outputs": [
    {
     "data": {
      "text/latex": [
       "$\\displaystyle \\frac{44.009 n_{C₁O₂, 1} \\text{g}}{\\text{mol}} = 37.8 \\text{g}$"
      ],
      "text/plain": [
       "Eq(44.009*gram*n_C₁O₂, 1/mole, 37.8*gram)"
      ]
     },
     "execution_count": null,
     "metadata": {},
     "output_type": "execute_result"
    }
   ],
   "source": [
    "eq1"
   ]
  },
  {
   "cell_type": "code",
   "execution_count": null,
   "id": "76cbd2af",
   "metadata": {},
   "outputs": [],
   "source": [
    "from sympy.solvers import solve"
   ]
  },
  {
   "cell_type": "code",
   "execution_count": null,
   "id": "675f6da1",
   "metadata": {},
   "outputs": [
    {
     "data": {
      "text/latex": [
       "$\\displaystyle n_{C₁O₂, 1}$"
      ],
      "text/plain": [
       "n_C₁O₂, 1"
      ]
     },
     "execution_count": null,
     "metadata": {},
     "output_type": "execute_result"
    }
   ],
   "source": [
    "CO2.get_prop('mole', t=1)"
   ]
  },
  {
   "cell_type": "code",
   "execution_count": null,
   "id": "e00ab279",
   "metadata": {},
   "outputs": [
    {
     "data": {
      "text/latex": [
       "$\\displaystyle 0.858915221886432 \\text{mol}$"
      ],
      "text/plain": [
       "0.858915221886432*mole"
      ]
     },
     "execution_count": null,
     "metadata": {},
     "output_type": "execute_result"
    }
   ],
   "source": [
    "solve(eq1, CO2.get_prop('mole', t=1))[0]"
   ]
  },
  {
   "cell_type": "code",
   "execution_count": null,
   "id": "7e375eab",
   "metadata": {},
   "outputs": [],
   "source": []
  }
 ],
 "metadata": {
  "kernelspec": {
   "display_name": "Python 3 (ipykernel)",
   "language": "python",
   "name": "python3"
  }
 },
 "nbformat": 4,
 "nbformat_minor": 5
}
