{
 "cells": [
  {
   "cell_type": "code",
   "execution_count": null,
   "id": "6befce4b-6846-436c-b883-69e5c3552086",
   "metadata": {},
   "outputs": [],
   "source": [
    "from exex.gas.all import *"
   ]
  },
  {
   "cell_type": "markdown",
   "id": "8bc0dc31-2caf-48a9-9123-c6115821479c",
   "metadata": {},
   "source": [
    "##### Example 1"
   ]
  },
  {
   "cell_type": "code",
   "execution_count": null,
   "id": "526671a4-1a84-4980-8752-bc3d3f55cec4",
   "metadata": {},
   "outputs": [],
   "source": [
    "H2 = Gas('H2')"
   ]
  },
  {
   "cell_type": "code",
   "execution_count": null,
   "id": "965e012b-975d-4093-8732-868a2ca7a84a",
   "metadata": {},
   "outputs": [],
   "source": [
    "Cl2 = Gas('Cl2')"
   ]
  },
  {
   "cell_type": "code",
   "execution_count": null,
   "id": "53b87cb9-14ac-42ba-aed0-46b463057862",
   "metadata": {},
   "outputs": [],
   "source": [
    "r = Reaction(reactants=[H2, Cl2])"
   ]
  },
  {
   "cell_type": "code",
   "execution_count": null,
   "id": "0f47e2c3-efca-48d7-89e4-5e85d7864730",
   "metadata": {},
   "outputs": [
    {
     "data": {
      "text/plain": [
       "{'reaction': <chemlib.chemistry.Reaction>,\n",
       " 'reactants': [exex.gas.core.Gas(formula='H₂'),\n",
       "  exex.gas.core.Gas(formula='Cl₂')],\n",
       " 'products': [],\n",
       " 'formula': '1H₂ + 1Cl₂ --> ',\n",
       " 'system': <exex.system.System>,\n",
       " 'environment': <exex.environment.OpenContainer>}"
      ]
     },
     "execution_count": null,
     "metadata": {},
     "output_type": "execute_result"
    }
   ],
   "source": [
    "r.__dict__"
   ]
  },
  {
   "cell_type": "code",
   "execution_count": null,
   "id": "4a305bbf-76fa-4b05-a1a4-e8844b362648",
   "metadata": {},
   "outputs": [
    {
     "data": {
      "text/plain": [
       "{'properties': {'mass': <exex.core.Mass>,\n",
       "  'mole': <exex.core.Mole>,\n",
       "  'pressure': <exex.core.Pressure>,\n",
       "  'volume': <exex.core.Volume>,\n",
       "  'temperature': <exex.core.Temperature>,\n",
       "  'ideal_gas_constant': <exex.gas.core.IdealGasConstant>,\n",
       "  'is_ideal_gas': <exex.gas.core.IsIdealGas>},\n",
       " 'laws': {'mass_mole_ratio': <exex.compound.core.MassMoleRatio>,\n",
       "  'boyle_law': <exex.gas.core.BoyleLaw>,\n",
       "  'charles_law': <exex.gas.core.CharlesLaw>,\n",
       "  'avogadro_law': <exex.gas.core.AvogadroLaw>,\n",
       "  'ideal_gas_law': <exex.gas.core.IdealGasLaw>},\n",
       " 'time': None,\n",
       " 'system': None,\n",
       " 'elements': [<chemlib.chemistry.Element>,\n",
       "  <chemlib.chemistry.Element>],\n",
       " 'formula': 'H₂',\n",
       " 'coefficient': 1,\n",
       " 'occurences': {'H': 2}}"
      ]
     },
     "execution_count": null,
     "metadata": {},
     "output_type": "execute_result"
    }
   ],
   "source": [
    "H2.__dict__"
   ]
  },
  {
   "cell_type": "code",
   "execution_count": null,
   "id": "e585a526-3c6d-4966-a96b-bb5732893abe",
   "metadata": {},
   "outputs": [],
   "source": []
  }
 ],
 "metadata": {
  "kernelspec": {
   "display_name": "Python 3 (ipykernel)",
   "language": "python",
   "name": "python3"
  }
 },
 "nbformat": 4,
 "nbformat_minor": 5
}
